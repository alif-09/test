{
 "cells": [
  {
   "cell_type": "code",
   "execution_count": 1,
   "id": "48b6e704",
   "metadata": {
    "_cell_guid": "b1076dfc-b9ad-4769-8c92-a6c4dae69d19",
    "_uuid": "8f2839f25d086af736a60e9eeb907d3b93b6e0e5",
    "execution": {
     "iopub.execute_input": "2024-06-16T20:54:01.166537Z",
     "iopub.status.busy": "2024-06-16T20:54:01.166213Z",
     "iopub.status.idle": "2024-06-16T20:54:01.172891Z",
     "shell.execute_reply": "2024-06-16T20:54:01.172108Z"
    },
    "papermill": {
     "duration": 0.015865,
     "end_time": "2024-06-16T20:54:01.174807",
     "exception": false,
     "start_time": "2024-06-16T20:54:01.158942",
     "status": "completed"
    },
    "tags": []
   },
   "outputs": [],
   "source": [
    "# import os\n",
    "# import pandas as pd\n",
    "# from shutil import copy2\n",
    "\n",
    "# def convert_to_yolo(row, width, height):\n",
    "#     x1 = row['Roi.X1']\n",
    "#     y1 = row['Roi.Y1']\n",
    "#     x2 = row['Roi.X2']\n",
    "#     y2 = row['Roi.Y2']\n",
    "\n",
    "#     box_width = x2 - x1\n",
    "#     box_height = y2 - y1\n",
    "#     center_x = x1 + box_width / 2\n",
    "#     center_y = y1 + box_height / 2\n",
    "\n",
    "#     center_x /= width\n",
    "#     center_y /= height\n",
    "#     box_width /= width\n",
    "#     box_height /= height\n",
    "\n",
    "#     return center_x, center_y, box_width, box_height\n",
    "\n",
    "# def process_csv(csv_path, images_root_dir, output_images_dir, output_labels_dir):\n",
    "#     data_csv = pd.read_csv(csv_path)\n",
    "#     for index, row in data_csv.iterrows():\n",
    "#         image_path = row['Path']\n",
    "#         image_name = os.path.basename(image_path)\n",
    "#         txt_name = image_name.replace('.png', '.txt')\n",
    "\n",
    "#         width, height = row['Width'], row['Height']\n",
    "#         center_x, center_y, box_width, box_height = convert_to_yolo(row, width, height)\n",
    "#         cls = row['ClassId']\n",
    "\n",
    "#         src = os.path.join(images_root_dir, image_path)\n",
    "#         dst = os.path.join(output_images_dir, image_name)\n",
    "\n",
    "#         os.makedirs(output_images_dir, exist_ok=True)\n",
    "\n",
    "#         if os.path.exists(src):\n",
    "#             copy2(src, dst)\n",
    "#         else:\n",
    "#             continue\n",
    "\n",
    "#         label_path = os.path.join(output_labels_dir, txt_name)\n",
    "#         os.makedirs(output_labels_dir, exist_ok=True)\n",
    "#         with open(label_path, 'w') as f:\n",
    "#             f.write(f'{cls} {center_x} {center_y} {box_width} {box_height}\\n')\n",
    "\n",
    "# train_csv_path = '../input/gtsrb-german-traffic-sign/Train.csv'\n",
    "# test_csv_path = '../input/gtsrb-german-traffic-sign/Test.csv'\n",
    "# images_root_dir = '../input/gtsrb-german-traffic-sign'  \n",
    "# output_train_images_dir = 'datasets/train/images'\n",
    "# output_train_labels_dir = 'datasets/train/labels'\n",
    "# output_test_images_dir = 'datasets/val/images'\n",
    "# output_test_labels_dir = 'datasets/val/labels'\n",
    "\n",
    "# process_csv(train_csv_path, images_root_dir, output_train_images_dir, output_train_labels_dir)\n",
    "# process_csv(test_csv_path, images_root_dir, output_test_images_dir, output_test_labels_dir)\n"
   ]
  },
  {
   "cell_type": "code",
   "execution_count": 2,
   "id": "21333641",
   "metadata": {
    "execution": {
     "iopub.execute_input": "2024-06-16T20:54:01.186150Z",
     "iopub.status.busy": "2024-06-16T20:54:01.185859Z",
     "iopub.status.idle": "2024-06-16T20:54:01.189744Z",
     "shell.execute_reply": "2024-06-16T20:54:01.188796Z"
    },
    "papermill": {
     "duration": 0.011627,
     "end_time": "2024-06-16T20:54:01.191605",
     "exception": false,
     "start_time": "2024-06-16T20:54:01.179978",
     "status": "completed"
    },
    "tags": []
   },
   "outputs": [],
   "source": [
    "# !pip install ultralytics==8.0.196\n",
    "\n",
    "# from IPython import display\n",
    "# display.clear_output()\n",
    "\n",
    "# import ultralytics\n",
    "# ultralytics.checks()"
   ]
  },
  {
   "cell_type": "code",
   "execution_count": 3,
   "id": "9edf5afe",
   "metadata": {
    "execution": {
     "iopub.execute_input": "2024-06-16T20:54:01.202046Z",
     "iopub.status.busy": "2024-06-16T20:54:01.201812Z",
     "iopub.status.idle": "2024-06-16T20:54:01.205157Z",
     "shell.execute_reply": "2024-06-16T20:54:01.204404Z"
    },
    "papermill": {
     "duration": 0.010782,
     "end_time": "2024-06-16T20:54:01.207106",
     "exception": false,
     "start_time": "2024-06-16T20:54:01.196324",
     "status": "completed"
    },
    "tags": []
   },
   "outputs": [],
   "source": [
    "# !nvidia-smi"
   ]
  },
  {
   "cell_type": "code",
   "execution_count": 4,
   "id": "5dc50114",
   "metadata": {
    "execution": {
     "iopub.execute_input": "2024-06-16T20:54:01.217566Z",
     "iopub.status.busy": "2024-06-16T20:54:01.217280Z",
     "iopub.status.idle": "2024-06-16T20:54:01.221135Z",
     "shell.execute_reply": "2024-06-16T20:54:01.220292Z"
    },
    "papermill": {
     "duration": 0.011236,
     "end_time": "2024-06-16T20:54:01.223042",
     "exception": false,
     "start_time": "2024-06-16T20:54:01.211806",
     "status": "completed"
    },
    "tags": []
   },
   "outputs": [],
   "source": [
    "# !yolo detect mode=train data=/kaggle/input/data-yaml/data.yaml model=yolov8s.yaml epochs=20 imgsz=512 batch=64"
   ]
  },
  {
   "cell_type": "code",
   "execution_count": 5,
   "id": "64cdf9f9",
   "metadata": {
    "execution": {
     "iopub.execute_input": "2024-06-16T20:54:01.232937Z",
     "iopub.status.busy": "2024-06-16T20:54:01.232688Z",
     "iopub.status.idle": "2024-06-16T20:54:01.236182Z",
     "shell.execute_reply": "2024-06-16T20:54:01.235420Z"
    },
    "papermill": {
     "duration": 0.010744,
     "end_time": "2024-06-16T20:54:01.238136",
     "exception": false,
     "start_time": "2024-06-16T20:54:01.227392",
     "status": "completed"
    },
    "tags": []
   },
   "outputs": [],
   "source": [
    "# !yolo detect train data=/kaggle/input/data-yaml/data.yaml model=yolov8n.pt epochs=20 imgsz=800 batch=64\n"
   ]
  },
  {
   "cell_type": "code",
   "execution_count": 6,
   "id": "6b1bcbe5",
   "metadata": {
    "execution": {
     "iopub.execute_input": "2024-06-16T20:54:01.248799Z",
     "iopub.status.busy": "2024-06-16T20:54:01.248503Z",
     "iopub.status.idle": "2024-06-16T20:54:01.252443Z",
     "shell.execute_reply": "2024-06-16T20:54:01.251680Z"
    },
    "papermill": {
     "duration": 0.011263,
     "end_time": "2024-06-16T20:54:01.254258",
     "exception": false,
     "start_time": "2024-06-16T20:54:01.242995",
     "status": "completed"
    },
    "tags": []
   },
   "outputs": [],
   "source": [
    "# import os\n",
    "# from ultralytics import YOLO\n",
    "\n",
    "# data_path = '/kaggle/input/data-yaml/data.yaml'\n",
    "# model_path = 'yolov8s.pt'\n",
    "\n",
    "# model = YOLO(model_path)\n",
    "\n",
    "# model.train(\n",
    "#     data=data_path,\n",
    "#     epochs=40,\n",
    "#     imgsz=640,\n",
    "#     batch=64,\n",
    "#     fliplr=0.0,    # Hindari flipping horizontal (mirroring)\n",
    "#     flipud=0.0,    # Hindari flipping vertikal (mirroring)\n",
    "#     degrees=0.0,   # Hindari rotasi\n",
    "# )\n"
   ]
  },
  {
   "cell_type": "markdown",
   "id": "87997528",
   "metadata": {
    "papermill": {
     "duration": 0.004646,
     "end_time": "2024-06-16T20:54:01.263598",
     "exception": false,
     "start_time": "2024-06-16T20:54:01.258952",
     "status": "completed"
    },
    "tags": []
   },
   "source": [
    "# Bagian II"
   ]
  },
  {
   "cell_type": "markdown",
   "id": "14b5c3bb",
   "metadata": {
    "papermill": {
     "duration": 0.004522,
     "end_time": "2024-06-16T20:54:01.272548",
     "exception": false,
     "start_time": "2024-06-16T20:54:01.268026",
     "status": "completed"
    },
    "tags": []
   },
   "source": [
    "## Latih Model dengan Dataset yg Beragam (Dataset dengan Jarak Jauh dan lebih dari 1 Kelas pada 1 Gambar)"
   ]
  },
  {
   "cell_type": "code",
   "execution_count": 7,
   "id": "32612d41",
   "metadata": {
    "execution": {
     "iopub.execute_input": "2024-06-16T20:54:01.283065Z",
     "iopub.status.busy": "2024-06-16T20:54:01.282818Z",
     "iopub.status.idle": "2024-06-16T20:54:39.149883Z",
     "shell.execute_reply": "2024-06-16T20:54:39.148958Z"
    },
    "papermill": {
     "duration": 37.874885,
     "end_time": "2024-06-16T20:54:39.152135",
     "exception": false,
     "start_time": "2024-06-16T20:54:01.277250",
     "status": "completed"
    },
    "tags": []
   },
   "outputs": [
    {
     "name": "stdout",
     "output_type": "stream",
     "text": [
      "Ultralytics YOLOv8.2.33 🚀 Python-3.10.13 torch-2.1.2 CUDA:0 (Tesla T4, 15102MiB)\n",
      "Setup complete ✅ (4 CPUs, 31.4 GB RAM, 5689.3/8062.4 GB disk)\n"
     ]
    }
   ],
   "source": [
    "!pip install ultralytics\n",
    "\n",
    "from IPython import display\n",
    "display.clear_output()\n",
    "\n",
    "import ultralytics\n",
    "ultralytics.checks()"
   ]
  },
  {
   "cell_type": "code",
   "execution_count": 8,
   "id": "0a348049",
   "metadata": {
    "execution": {
     "iopub.execute_input": "2024-06-16T20:54:39.163796Z",
     "iopub.status.busy": "2024-06-16T20:54:39.163394Z",
     "iopub.status.idle": "2024-06-16T20:55:28.805969Z",
     "shell.execute_reply": "2024-06-16T20:55:28.804964Z"
    },
    "papermill": {
     "duration": 49.651012,
     "end_time": "2024-06-16T20:55:28.808059",
     "exception": false,
     "start_time": "2024-06-16T20:54:39.157047",
     "status": "completed"
    },
    "tags": []
   },
   "outputs": [
    {
     "name": "stdout",
     "output_type": "stream",
     "text": [
      "\n",
      "0: 640x640 1 class_18, 16.5ms\n",
      "Speed: 14.4ms preprocess, 16.5ms inference, 633.3ms postprocess per image at shape (1, 3, 640, 640)\n",
      "\n",
      "0: 544x640 1 class_11, 74.5ms\n",
      "Speed: 1.9ms preprocess, 74.5ms inference, 1.8ms postprocess per image at shape (1, 3, 544, 640)\n",
      "\n",
      "0: 608x640 1 class_13, 74.1ms\n",
      "Speed: 3.0ms preprocess, 74.1ms inference, 1.4ms postprocess per image at shape (1, 3, 608, 640)\n",
      "\n",
      "0: 608x640 1 class_13, 16.4ms\n",
      "Speed: 3.0ms preprocess, 16.4ms inference, 1.3ms postprocess per image at shape (1, 3, 608, 640)\n",
      "\n",
      "0: 608x640 1 class_13, 16.3ms\n",
      "Speed: 2.4ms preprocess, 16.3ms inference, 1.1ms postprocess per image at shape (1, 3, 608, 640)\n",
      "\n",
      "0: 640x640 1 class_2, 17.3ms\n",
      "Speed: 2.1ms preprocess, 17.3ms inference, 1.4ms postprocess per image at shape (1, 3, 640, 640)\n",
      "\n",
      "0: 640x640 1 class_2, 16.4ms\n",
      "Speed: 1.9ms preprocess, 16.4ms inference, 1.3ms postprocess per image at shape (1, 3, 640, 640)\n",
      "\n",
      "0: 640x640 1 class_7, 16.5ms\n",
      "Speed: 3.0ms preprocess, 16.5ms inference, 1.3ms postprocess per image at shape (1, 3, 640, 640)\n",
      "\n",
      "0: 640x640 1 class_7, 15.1ms\n",
      "Speed: 1.9ms preprocess, 15.1ms inference, 1.1ms postprocess per image at shape (1, 3, 640, 640)\n",
      "\n",
      "0: 608x640 1 class_13, 15.8ms\n",
      "Speed: 1.9ms preprocess, 15.8ms inference, 1.3ms postprocess per image at shape (1, 3, 608, 640)\n",
      "\n",
      "0: 640x640 1 class_33, 15.9ms\n",
      "Speed: 2.0ms preprocess, 15.9ms inference, 1.1ms postprocess per image at shape (1, 3, 640, 640)\n",
      "\n",
      "0: 640x640 1 class_1, 15.1ms\n",
      "Speed: 2.0ms preprocess, 15.1ms inference, 1.3ms postprocess per image at shape (1, 3, 640, 640)\n",
      "\n",
      "0: 640x640 1 class_1, 15.1ms\n",
      "Speed: 2.0ms preprocess, 15.1ms inference, 1.2ms postprocess per image at shape (1, 3, 640, 640)\n",
      "\n",
      "0: 640x640 1 class_18, 15.2ms\n",
      "Speed: 2.5ms preprocess, 15.2ms inference, 1.1ms postprocess per image at shape (1, 3, 640, 640)\n",
      "\n",
      "0: 608x640 1 class_12, 13.8ms\n",
      "Speed: 2.0ms preprocess, 13.8ms inference, 1.2ms postprocess per image at shape (1, 3, 608, 640)\n",
      "\n",
      "0: 640x640 1 class_33, 13.9ms\n",
      "Speed: 2.3ms preprocess, 13.9ms inference, 1.2ms postprocess per image at shape (1, 3, 640, 640)\n",
      "\n",
      "0: 640x640 1 class_2, 13.2ms\n",
      "Speed: 2.6ms preprocess, 13.2ms inference, 1.1ms postprocess per image at shape (1, 3, 640, 640)\n",
      "\n",
      "0: 608x640 1 class_23, 13.7ms\n",
      "Speed: 1.9ms preprocess, 13.7ms inference, 1.1ms postprocess per image at shape (1, 3, 608, 640)\n",
      "\n",
      "0: 640x640 1 class_4, 13.9ms\n",
      "Speed: 2.3ms preprocess, 13.9ms inference, 1.1ms postprocess per image at shape (1, 3, 640, 640)\n",
      "\n",
      "0: 640x640 1 class_10, 13.1ms\n",
      "Speed: 1.9ms preprocess, 13.1ms inference, 1.3ms postprocess per image at shape (1, 3, 640, 640)\n",
      "\n",
      "0: 608x640 1 class_1, 13.6ms\n",
      "Speed: 2.4ms preprocess, 13.6ms inference, 1.1ms postprocess per image at shape (1, 3, 608, 640)\n",
      "\n",
      "0: 640x640 1 class_15, 13.9ms\n",
      "Speed: 2.0ms preprocess, 13.9ms inference, 1.3ms postprocess per image at shape (1, 3, 640, 640)\n",
      "\n",
      "0: 608x640 1 class_25, 13.5ms\n",
      "Speed: 2.5ms preprocess, 13.5ms inference, 1.2ms postprocess per image at shape (1, 3, 608, 640)\n",
      "\n",
      "0: 608x640 1 class_3, 12.8ms\n",
      "Speed: 1.8ms preprocess, 12.8ms inference, 1.2ms postprocess per image at shape (1, 3, 608, 640)\n",
      "\n",
      "0: 640x640 1 class_3, 13.6ms\n",
      "Speed: 2.4ms preprocess, 13.6ms inference, 1.2ms postprocess per image at shape (1, 3, 640, 640)\n",
      "\n",
      "0: 640x640 1 class_3, 12.9ms\n",
      "Speed: 2.0ms preprocess, 12.9ms inference, 1.3ms postprocess per image at shape (1, 3, 640, 640)\n",
      "\n",
      "0: 640x640 1 class_1, 13.0ms\n",
      "Speed: 2.3ms preprocess, 13.0ms inference, 1.4ms postprocess per image at shape (1, 3, 640, 640)\n",
      "\n",
      "0: 640x640 1 class_38, 13.0ms\n",
      "Speed: 2.5ms preprocess, 13.0ms inference, 1.1ms postprocess per image at shape (1, 3, 640, 640)\n",
      "\n",
      "0: 640x640 1 class_1, 13.0ms\n",
      "Speed: 2.0ms preprocess, 13.0ms inference, 1.1ms postprocess per image at shape (1, 3, 640, 640)\n",
      "\n",
      "0: 640x640 1 class_35, 12.9ms\n",
      "Speed: 1.8ms preprocess, 12.9ms inference, 1.2ms postprocess per image at shape (1, 3, 640, 640)\n",
      "\n",
      "0: 640x608 1 class_17, 70.9ms\n",
      "Speed: 2.5ms preprocess, 70.9ms inference, 1.1ms postprocess per image at shape (1, 3, 640, 608)\n",
      "\n",
      "0: 640x640 1 class_38, 13.7ms\n",
      "Speed: 2.2ms preprocess, 13.7ms inference, 1.2ms postprocess per image at shape (1, 3, 640, 640)\n",
      "\n",
      "0: 576x640 1 class_28, 72.3ms\n",
      "Speed: 2.3ms preprocess, 72.3ms inference, 1.3ms postprocess per image at shape (1, 3, 576, 640)\n",
      "\n",
      "0: 640x640 1 class_14, 13.8ms\n",
      "Speed: 2.0ms preprocess, 13.8ms inference, 1.2ms postprocess per image at shape (1, 3, 640, 640)\n",
      "\n",
      "0: 640x640 1 class_33, 12.9ms\n",
      "Speed: 2.6ms preprocess, 12.9ms inference, 1.1ms postprocess per image at shape (1, 3, 640, 640)\n",
      "\n",
      "0: 640x640 1 class_14, 12.9ms\n",
      "Speed: 1.8ms preprocess, 12.9ms inference, 1.0ms postprocess per image at shape (1, 3, 640, 640)\n",
      "\n",
      "0: 640x576 1 class_38, 73.3ms\n",
      "Speed: 2.6ms preprocess, 73.3ms inference, 1.3ms postprocess per image at shape (1, 3, 640, 576)\n",
      "\n",
      "0: 640x608 1 class_14, 13.5ms\n",
      "Speed: 3.0ms preprocess, 13.5ms inference, 1.0ms postprocess per image at shape (1, 3, 640, 608)\n",
      "\n",
      "0: 640x640 1 class_14, 13.5ms\n",
      "Speed: 2.1ms preprocess, 13.5ms inference, 1.0ms postprocess per image at shape (1, 3, 640, 640)\n",
      "\n",
      "0: 640x640 1 class_4, 12.9ms\n",
      "Speed: 1.9ms preprocess, 12.9ms inference, 1.3ms postprocess per image at shape (1, 3, 640, 640)\n",
      "\n",
      "0: 640x640 1 class_10, 13.0ms\n",
      "Speed: 2.8ms preprocess, 13.0ms inference, 1.2ms postprocess per image at shape (1, 3, 640, 640)\n",
      "\n",
      "0: 640x640 1 class_10, 12.9ms\n",
      "Speed: 2.2ms preprocess, 12.9ms inference, 1.1ms postprocess per image at shape (1, 3, 640, 640)\n",
      "\n",
      "0: 640x608 1 class_8, 13.5ms\n",
      "Speed: 2.4ms preprocess, 13.5ms inference, 1.1ms postprocess per image at shape (1, 3, 640, 608)\n",
      "\n",
      "0: 640x640 1 class_34, 13.7ms\n",
      "Speed: 2.8ms preprocess, 13.7ms inference, 1.3ms postprocess per image at shape (1, 3, 640, 640)\n",
      "\n",
      "0: 640x640 1 class_8, 13.0ms\n",
      "Speed: 2.1ms preprocess, 13.0ms inference, 1.4ms postprocess per image at shape (1, 3, 640, 640)\n",
      "\n",
      "0: 640x608 1 class_8, 13.6ms\n",
      "Speed: 2.7ms preprocess, 13.6ms inference, 1.3ms postprocess per image at shape (1, 3, 640, 608)\n",
      "\n",
      "0: 640x640 1 class_10, 13.8ms\n",
      "Speed: 2.2ms preprocess, 13.8ms inference, 1.4ms postprocess per image at shape (1, 3, 640, 640)\n",
      "\n",
      "0: 640x640 1 class_10, 13.0ms\n",
      "Speed: 2.2ms preprocess, 13.0ms inference, 1.3ms postprocess per image at shape (1, 3, 640, 640)\n",
      "\n",
      "0: 576x640 1 class_28, 13.3ms\n",
      "Speed: 2.6ms preprocess, 13.3ms inference, 1.1ms postprocess per image at shape (1, 3, 576, 640)\n",
      "\n",
      "0: 608x640 1 class_1, 13.6ms\n",
      "Speed: 1.9ms preprocess, 13.6ms inference, 1.1ms postprocess per image at shape (1, 3, 608, 640)\n",
      "\n",
      "0: 640x640 1 class_39, 13.7ms\n",
      "Speed: 2.3ms preprocess, 13.7ms inference, 1.2ms postprocess per image at shape (1, 3, 640, 640)\n",
      "\n",
      "0: 640x640 1 class_35, 12.9ms\n",
      "Speed: 1.8ms preprocess, 12.9ms inference, 1.1ms postprocess per image at shape (1, 3, 640, 640)\n",
      "\n",
      "0: 640x384 1 class_17, 86.3ms\n",
      "Speed: 1.7ms preprocess, 86.3ms inference, 1.4ms postprocess per image at shape (1, 3, 640, 384)\n",
      "\n",
      "0: 640x640 1 class_1, 13.6ms\n",
      "Speed: 2.5ms preprocess, 13.6ms inference, 1.1ms postprocess per image at shape (1, 3, 640, 640)\n",
      "\n",
      "0: 608x640 1 class_13, 13.6ms\n",
      "Speed: 2.7ms preprocess, 13.6ms inference, 1.2ms postprocess per image at shape (1, 3, 608, 640)\n",
      "\n",
      "0: 640x480 1 class_38, 74.2ms\n",
      "Speed: 1.7ms preprocess, 74.2ms inference, 1.3ms postprocess per image at shape (1, 3, 640, 480)\n",
      "\n",
      "0: 640x608 1 class_2, 13.5ms\n",
      "Speed: 2.6ms preprocess, 13.5ms inference, 1.1ms postprocess per image at shape (1, 3, 640, 608)\n",
      "\n",
      "0: 640x640 1 class_12, 13.6ms\n",
      "Speed: 2.1ms preprocess, 13.6ms inference, 1.2ms postprocess per image at shape (1, 3, 640, 640)\n",
      "\n",
      "0: 640x640 1 class_7, 12.9ms\n",
      "Speed: 1.8ms preprocess, 12.9ms inference, 1.2ms postprocess per image at shape (1, 3, 640, 640)\n",
      "\n",
      "0: 640x640 1 class_7, 12.9ms\n",
      "Speed: 2.2ms preprocess, 12.9ms inference, 1.1ms postprocess per image at shape (1, 3, 640, 640)\n",
      "\n",
      "0: 640x640 1 class_3, 14.0ms\n",
      "Speed: 2.1ms preprocess, 14.0ms inference, 1.1ms postprocess per image at shape (1, 3, 640, 640)\n",
      "\n",
      "0: 640x640 1 class_12, 14.0ms\n",
      "Speed: 1.8ms preprocess, 14.0ms inference, 1.2ms postprocess per image at shape (1, 3, 640, 640)\n",
      "\n",
      "0: 576x640 1 class_11, 14.5ms\n",
      "Speed: 1.9ms preprocess, 14.5ms inference, 1.1ms postprocess per image at shape (1, 3, 576, 640)\n",
      "\n",
      "0: 640x608 1 class_18, 14.7ms\n",
      "Speed: 1.9ms preprocess, 14.7ms inference, 1.0ms postprocess per image at shape (1, 3, 640, 608)\n",
      "\n",
      "0: 640x640 1 class_32, 14.7ms\n",
      "Speed: 1.9ms preprocess, 14.7ms inference, 1.1ms postprocess per image at shape (1, 3, 640, 640)\n",
      "\n",
      "0: 640x640 1 class_32, 14.3ms\n",
      "Speed: 1.7ms preprocess, 14.3ms inference, 1.1ms postprocess per image at shape (1, 3, 640, 640)\n",
      "\n",
      "0: 608x640 1 class_20, 14.8ms\n",
      "Speed: 2.1ms preprocess, 14.8ms inference, 1.2ms postprocess per image at shape (1, 3, 608, 640)\n",
      "\n",
      "0: 640x640 1 class_3, 14.9ms\n",
      "Speed: 2.0ms preprocess, 14.9ms inference, 1.2ms postprocess per image at shape (1, 3, 640, 640)\n",
      "\n",
      "0: 608x640 1 class_20, 15.2ms\n",
      "Speed: 2.3ms preprocess, 15.2ms inference, 1.1ms postprocess per image at shape (1, 3, 608, 640)\n",
      "\n",
      "0: 640x640 1 class_3, 15.3ms\n",
      "Speed: 2.2ms preprocess, 15.3ms inference, 1.2ms postprocess per image at shape (1, 3, 640, 640)\n",
      "\n",
      "0: 640x640 1 class_9, 14.3ms\n",
      "Speed: 2.4ms preprocess, 14.3ms inference, 1.4ms postprocess per image at shape (1, 3, 640, 640)\n",
      "\n",
      "0: 640x640 1 class_42, 13.2ms\n",
      "Speed: 2.2ms preprocess, 13.2ms inference, 1.3ms postprocess per image at shape (1, 3, 640, 640)\n",
      "\n",
      "0: 640x640 1 class_38, 13.1ms\n",
      "Speed: 1.9ms preprocess, 13.1ms inference, 1.3ms postprocess per image at shape (1, 3, 640, 640)\n",
      "\n",
      "0: 640x640 1 class_10, 13.2ms\n",
      "Speed: 1.8ms preprocess, 13.2ms inference, 1.3ms postprocess per image at shape (1, 3, 640, 640)\n",
      "\n",
      "0: 640x640 1 class_10, 13.1ms\n",
      "Speed: 2.2ms preprocess, 13.1ms inference, 1.1ms postprocess per image at shape (1, 3, 640, 640)\n",
      "\n",
      "0: 640x640 1 class_3, 13.2ms\n",
      "Speed: 2.5ms preprocess, 13.2ms inference, 1.2ms postprocess per image at shape (1, 3, 640, 640)\n",
      "\n",
      "0: 640x640 1 class_10, 13.1ms\n",
      "Speed: 2.3ms preprocess, 13.1ms inference, 1.2ms postprocess per image at shape (1, 3, 640, 640)\n",
      "\n",
      "0: 640x640 1 class_10, 13.1ms\n",
      "Speed: 2.0ms preprocess, 13.1ms inference, 1.2ms postprocess per image at shape (1, 3, 640, 640)\n",
      "\n",
      "0: 640x640 1 class_38, 13.2ms\n",
      "Speed: 2.5ms preprocess, 13.2ms inference, 1.2ms postprocess per image at shape (1, 3, 640, 640)\n",
      "\n",
      "0: 640x640 1 class_17, 13.1ms\n",
      "Speed: 2.4ms preprocess, 13.1ms inference, 1.0ms postprocess per image at shape (1, 3, 640, 640)\n",
      "\n",
      "0: 640x608 1 class_38, 13.7ms\n",
      "Speed: 1.7ms preprocess, 13.7ms inference, 1.1ms postprocess per image at shape (1, 3, 640, 608)\n",
      "\n",
      "0: 640x640 1 class_38, 13.9ms\n",
      "Speed: 1.9ms preprocess, 13.9ms inference, 1.2ms postprocess per image at shape (1, 3, 640, 640)\n",
      "\n",
      "0: 640x640 1 class_34, 13.1ms\n",
      "Speed: 1.8ms preprocess, 13.1ms inference, 1.2ms postprocess per image at shape (1, 3, 640, 640)\n",
      "\n",
      "0: 640x640 1 class_34, 13.2ms\n",
      "Speed: 2.6ms preprocess, 13.2ms inference, 1.3ms postprocess per image at shape (1, 3, 640, 640)\n",
      "\n",
      "0: 544x640 1 class_13, 13.3ms\n",
      "Speed: 1.7ms preprocess, 13.3ms inference, 1.2ms postprocess per image at shape (1, 3, 544, 640)\n",
      "\n",
      "0: 640x640 1 class_13, 13.8ms\n",
      "Speed: 2.3ms preprocess, 13.8ms inference, 1.1ms postprocess per image at shape (1, 3, 640, 640)\n",
      "\n",
      "0: 640x640 1 class_34, 13.2ms\n",
      "Speed: 1.8ms preprocess, 13.2ms inference, 1.2ms postprocess per image at shape (1, 3, 640, 640)\n",
      "\n",
      "0: 640x640 1 class_8, 13.2ms\n",
      "Speed: 2.0ms preprocess, 13.2ms inference, 1.4ms postprocess per image at shape (1, 3, 640, 640)\n",
      "\n",
      "0: 640x640 1 class_10, 13.2ms\n",
      "Speed: 2.6ms preprocess, 13.2ms inference, 1.3ms postprocess per image at shape (1, 3, 640, 640)\n",
      "\n",
      "0: 640x608 1 class_3, 13.9ms\n",
      "Speed: 2.2ms preprocess, 13.9ms inference, 1.4ms postprocess per image at shape (1, 3, 640, 608)\n",
      "\n",
      "0: 640x640 1 class_12, 14.0ms\n",
      "Speed: 1.8ms preprocess, 14.0ms inference, 1.4ms postprocess per image at shape (1, 3, 640, 640)\n",
      "\n",
      "0: 640x640 1 class_14, 13.2ms\n",
      "Speed: 1.9ms preprocess, 13.2ms inference, 1.4ms postprocess per image at shape (1, 3, 640, 640)\n",
      "\n",
      "0: 640x640 1 class_14, 13.1ms\n",
      "Speed: 2.6ms preprocess, 13.1ms inference, 1.2ms postprocess per image at shape (1, 3, 640, 640)\n",
      "\n",
      "0: 640x640 1 class_8, 13.3ms\n",
      "Speed: 2.0ms preprocess, 13.3ms inference, 1.3ms postprocess per image at shape (1, 3, 640, 640)\n",
      "\n",
      "0: 640x640 1 class_8, 13.1ms\n",
      "Speed: 2.6ms preprocess, 13.1ms inference, 1.1ms postprocess per image at shape (1, 3, 640, 640)\n",
      "\n",
      "0: 640x576 1 class_38, 13.7ms\n",
      "Speed: 1.8ms preprocess, 13.7ms inference, 1.3ms postprocess per image at shape (1, 3, 640, 576)\n",
      "\n",
      "0: 640x576 1 class_17, 12.9ms\n",
      "Speed: 2.3ms preprocess, 12.9ms inference, 1.1ms postprocess per image at shape (1, 3, 640, 576)\n",
      "\n",
      "0: 640x640 1 class_17, 13.8ms\n",
      "Speed: 1.9ms preprocess, 13.8ms inference, 1.0ms postprocess per image at shape (1, 3, 640, 640)\n",
      "\n",
      "0: 640x640 1 class_1, 13.1ms\n",
      "Speed: 2.4ms preprocess, 13.1ms inference, 1.3ms postprocess per image at shape (1, 3, 640, 640)\n",
      "\n",
      "0: 640x640 1 class_23, 13.2ms\n",
      "Speed: 2.2ms preprocess, 13.2ms inference, 1.1ms postprocess per image at shape (1, 3, 640, 640)\n",
      "\n",
      "0: 608x640 1 class_23, 13.6ms\n",
      "Speed: 2.0ms preprocess, 13.6ms inference, 1.1ms postprocess per image at shape (1, 3, 608, 640)\n",
      "\n",
      "0: 640x640 1 class_36, 13.8ms\n",
      "Speed: 1.9ms preprocess, 13.8ms inference, 1.3ms postprocess per image at shape (1, 3, 640, 640)\n",
      "\n",
      "0: 640x640 1 class_30, 13.1ms\n",
      "Speed: 2.1ms preprocess, 13.1ms inference, 1.2ms postprocess per image at shape (1, 3, 640, 640)\n",
      "\n",
      "0: 640x640 1 class_30, 13.1ms\n",
      "Speed: 2.2ms preprocess, 13.1ms inference, 1.4ms postprocess per image at shape (1, 3, 640, 640)\n",
      "\n",
      "0: 640x640 1 class_13, 12.9ms\n",
      "Speed: 2.0ms preprocess, 12.9ms inference, 1.1ms postprocess per image at shape (1, 3, 640, 640)\n",
      "\n",
      "0: 640x640 1 class_10, 13.0ms\n",
      "Speed: 2.1ms preprocess, 13.0ms inference, 1.5ms postprocess per image at shape (1, 3, 640, 640)\n",
      "\n",
      "0: 640x640 1 class_10, 12.9ms\n",
      "Speed: 2.0ms preprocess, 12.9ms inference, 1.2ms postprocess per image at shape (1, 3, 640, 640)\n",
      "\n",
      "0: 640x640 1 class_8, 12.9ms\n",
      "Speed: 2.4ms preprocess, 12.9ms inference, 1.1ms postprocess per image at shape (1, 3, 640, 640)\n",
      "\n",
      "0: 640x640 1 class_8, 12.9ms\n",
      "Speed: 2.0ms preprocess, 12.9ms inference, 1.1ms postprocess per image at shape (1, 3, 640, 640)\n",
      "\n",
      "0: 640x640 1 class_25, 12.9ms\n",
      "Speed: 2.2ms preprocess, 12.9ms inference, 1.2ms postprocess per image at shape (1, 3, 640, 640)\n",
      "\n",
      "0: 640x640 1 class_1, 12.9ms\n",
      "Speed: 2.0ms preprocess, 12.9ms inference, 1.2ms postprocess per image at shape (1, 3, 640, 640)\n",
      "\n",
      "0: 640x640 1 class_10, 11.6ms\n",
      "Speed: 2.2ms preprocess, 11.6ms inference, 1.1ms postprocess per image at shape (1, 3, 640, 640)\n",
      "\n",
      "0: 640x640 1 class_10, 11.6ms\n",
      "Speed: 2.5ms preprocess, 11.6ms inference, 1.3ms postprocess per image at shape (1, 3, 640, 640)\n",
      "\n",
      "0: 640x640 1 class_38, 11.6ms\n",
      "Speed: 2.1ms preprocess, 11.6ms inference, 1.3ms postprocess per image at shape (1, 3, 640, 640)\n",
      "\n",
      "0: 640x640 1 class_2, 11.6ms\n",
      "Speed: 2.2ms preprocess, 11.6ms inference, 1.2ms postprocess per image at shape (1, 3, 640, 640)\n",
      "\n",
      "0: 640x640 1 class_2, 11.5ms\n",
      "Speed: 2.0ms preprocess, 11.5ms inference, 1.4ms postprocess per image at shape (1, 3, 640, 640)\n",
      "\n",
      "0: 576x640 1 class_13, 12.1ms\n",
      "Speed: 2.3ms preprocess, 12.1ms inference, 1.2ms postprocess per image at shape (1, 3, 576, 640)\n",
      "\n",
      "0: 576x640 1 class_18, 11.3ms\n",
      "Speed: 2.1ms preprocess, 11.3ms inference, 1.4ms postprocess per image at shape (1, 3, 576, 640)\n",
      "\n",
      "0: 544x640 1 class_12, 11.9ms\n",
      "Speed: 2.2ms preprocess, 11.9ms inference, 1.4ms postprocess per image at shape (1, 3, 544, 640)\n",
      "\n",
      "0: 640x640 1 class_9, 12.4ms\n",
      "Speed: 2.0ms preprocess, 12.4ms inference, 1.2ms postprocess per image at shape (1, 3, 640, 640)\n",
      "\n",
      "0: 576x640 1 class_24, 12.1ms\n",
      "Speed: 2.2ms preprocess, 12.1ms inference, 1.2ms postprocess per image at shape (1, 3, 576, 640)\n",
      "\n",
      "0: 608x640 1 class_10, 12.2ms\n",
      "Speed: 2.0ms preprocess, 12.2ms inference, 1.3ms postprocess per image at shape (1, 3, 608, 640)\n",
      "\n",
      "0: 640x640 1 class_10, 13.1ms\n",
      "Speed: 2.3ms preprocess, 13.1ms inference, 2.1ms postprocess per image at shape (1, 3, 640, 640)\n",
      "\n",
      "0: 640x640 1 class_9, 11.6ms\n",
      "Speed: 2.5ms preprocess, 11.6ms inference, 1.3ms postprocess per image at shape (1, 3, 640, 640)\n",
      "\n",
      "0: 640x640 1 class_1, 11.6ms\n",
      "Speed: 2.2ms preprocess, 11.6ms inference, 1.1ms postprocess per image at shape (1, 3, 640, 640)\n",
      "\n",
      "0: 576x640 1 class_13, 12.0ms\n",
      "Speed: 2.4ms preprocess, 12.0ms inference, 1.1ms postprocess per image at shape (1, 3, 576, 640)\n",
      "\n",
      "0: 640x640 1 class_33, 12.2ms\n",
      "Speed: 2.1ms preprocess, 12.2ms inference, 1.0ms postprocess per image at shape (1, 3, 640, 640)\n",
      "\n",
      "0: 640x640 1 class_38, 11.5ms\n",
      "Speed: 2.0ms preprocess, 11.5ms inference, 1.1ms postprocess per image at shape (1, 3, 640, 640)\n",
      "\n",
      "0: 608x640 1 class_21, 12.1ms\n",
      "Speed: 2.7ms preprocess, 12.1ms inference, 1.1ms postprocess per image at shape (1, 3, 608, 640)\n",
      "\n",
      "0: 608x640 1 class_2, 11.4ms\n",
      "Speed: 1.8ms preprocess, 11.4ms inference, 1.1ms postprocess per image at shape (1, 3, 608, 640)\n",
      "\n",
      "0: 640x640 1 class_1, 12.3ms\n",
      "Speed: 2.5ms preprocess, 12.3ms inference, 1.2ms postprocess per image at shape (1, 3, 640, 640)\n",
      "\n",
      "0: 640x640 1 class_16, 11.6ms\n",
      "Speed: 2.2ms preprocess, 11.6ms inference, 1.2ms postprocess per image at shape (1, 3, 640, 640)\n",
      "\n",
      "0: 640x640 1 class_38, 11.6ms\n",
      "Speed: 2.0ms preprocess, 11.6ms inference, 1.3ms postprocess per image at shape (1, 3, 640, 640)\n",
      "\n",
      "0: 576x640 1 class_13, 12.1ms\n",
      "Speed: 2.1ms preprocess, 12.1ms inference, 1.4ms postprocess per image at shape (1, 3, 576, 640)\n",
      "\n",
      "0: 640x640 1 class_40, 12.2ms\n",
      "Speed: 2.5ms preprocess, 12.2ms inference, 1.2ms postprocess per image at shape (1, 3, 640, 640)\n",
      "\n",
      "0: 640x640 1 class_38, 11.5ms\n",
      "Speed: 1.7ms preprocess, 11.5ms inference, 1.1ms postprocess per image at shape (1, 3, 640, 640)\n",
      "\n",
      "0: 608x640 1 class_13, 12.1ms\n",
      "Speed: 2.2ms preprocess, 12.1ms inference, 1.1ms postprocess per image at shape (1, 3, 608, 640)\n",
      "\n",
      "0: 640x640 1 class_36, 12.3ms\n",
      "Speed: 2.7ms preprocess, 12.3ms inference, 1.1ms postprocess per image at shape (1, 3, 640, 640)\n",
      "\n",
      "0: 640x640 1 class_14, 11.6ms\n",
      "Speed: 2.5ms preprocess, 11.6ms inference, 1.2ms postprocess per image at shape (1, 3, 640, 640)\n",
      "\n",
      "0: 640x640 1 class_5, 11.7ms\n",
      "Speed: 2.2ms preprocess, 11.7ms inference, 1.4ms postprocess per image at shape (1, 3, 640, 640)\n",
      "\n",
      "0: 640x640 1 class_5, 11.6ms\n",
      "Speed: 2.3ms preprocess, 11.6ms inference, 1.2ms postprocess per image at shape (1, 3, 640, 640)\n",
      "\n",
      "0: 576x640 1 class_5, 11.9ms\n",
      "Speed: 2.1ms preprocess, 11.9ms inference, 1.1ms postprocess per image at shape (1, 3, 576, 640)\n",
      "\n",
      "0: 640x640 1 class_5, 12.3ms\n",
      "Speed: 2.6ms preprocess, 12.3ms inference, 1.0ms postprocess per image at shape (1, 3, 640, 640)\n",
      "\n",
      "0: 608x640 1 class_11, 12.2ms\n",
      "Speed: 2.0ms preprocess, 12.2ms inference, 1.2ms postprocess per image at shape (1, 3, 608, 640)\n",
      "\n",
      "0: 608x640 1 class_18, 11.4ms\n",
      "Speed: 2.3ms preprocess, 11.4ms inference, 1.2ms postprocess per image at shape (1, 3, 608, 640)\n",
      "\n",
      "0: 640x640 1 class_29, 12.2ms\n",
      "Speed: 1.9ms preprocess, 12.2ms inference, 1.1ms postprocess per image at shape (1, 3, 640, 640)\n",
      "\n",
      "0: 640x640 1 class_12, 11.6ms\n",
      "Speed: 1.9ms preprocess, 11.6ms inference, 1.1ms postprocess per image at shape (1, 3, 640, 640)\n",
      "\n",
      "0: 640x640 1 class_35, 11.6ms\n",
      "Speed: 2.4ms preprocess, 11.6ms inference, 1.1ms postprocess per image at shape (1, 3, 640, 640)\n",
      "\n",
      "0: 640x640 1 class_12, 11.6ms\n",
      "Speed: 1.8ms preprocess, 11.6ms inference, 1.1ms postprocess per image at shape (1, 3, 640, 640)\n",
      "\n",
      "0: 640x640 1 class_10, 11.6ms\n",
      "Speed: 2.3ms preprocess, 11.6ms inference, 1.1ms postprocess per image at shape (1, 3, 640, 640)\n",
      "\n",
      "0: 640x640 1 class_4, 11.5ms\n",
      "Speed: 1.7ms preprocess, 11.5ms inference, 1.0ms postprocess per image at shape (1, 3, 640, 640)\n",
      "\n",
      "0: 640x640 1 class_0, 11.6ms\n",
      "Speed: 2.4ms preprocess, 11.6ms inference, 1.4ms postprocess per image at shape (1, 3, 640, 640)\n",
      "\n",
      "0: 640x608 1 class_40, 12.2ms\n",
      "Speed: 2.0ms preprocess, 12.2ms inference, 1.1ms postprocess per image at shape (1, 3, 640, 608)\n",
      "\n",
      "0: 576x640 1 class_13, 12.1ms\n",
      "Speed: 1.7ms preprocess, 12.1ms inference, 1.0ms postprocess per image at shape (1, 3, 576, 640)\n",
      "\n",
      "0: 640x640 1 class_37, 12.4ms\n",
      "Speed: 2.3ms preprocess, 12.4ms inference, 1.2ms postprocess per image at shape (1, 3, 640, 640)\n",
      "\n",
      "0: 640x640 1 class_12, 11.6ms\n",
      "Speed: 2.2ms preprocess, 11.6ms inference, 1.2ms postprocess per image at shape (1, 3, 640, 640)\n",
      "\n",
      "0: 640x640 1 class_14, 11.6ms\n",
      "Speed: 2.4ms preprocess, 11.6ms inference, 1.5ms postprocess per image at shape (1, 3, 640, 640)\n",
      "\n",
      "0: 640x640 1 class_23, 11.6ms\n",
      "Speed: 2.1ms preprocess, 11.6ms inference, 1.3ms postprocess per image at shape (1, 3, 640, 640)\n",
      "\n",
      "0: 640x640 1 class_12, 11.6ms\n",
      "Speed: 2.5ms preprocess, 11.6ms inference, 1.5ms postprocess per image at shape (1, 3, 640, 640)\n",
      "\n",
      "0: 576x640 1 class_25, 12.1ms\n",
      "Speed: 2.0ms preprocess, 12.1ms inference, 1.2ms postprocess per image at shape (1, 3, 576, 640)\n",
      "\n",
      "0: 576x640 1 class_25, 11.3ms\n",
      "Speed: 2.4ms preprocess, 11.3ms inference, 1.2ms postprocess per image at shape (1, 3, 576, 640)\n",
      "\n",
      "0: 640x640 1 class_21, 13.5ms\n",
      "Speed: 2.1ms preprocess, 13.5ms inference, 1.3ms postprocess per image at shape (1, 3, 640, 640)\n",
      "\n",
      "0: 640x608 1 class_2, 13.4ms\n",
      "Speed: 2.4ms preprocess, 13.4ms inference, 1.2ms postprocess per image at shape (1, 3, 640, 608)\n",
      "\n",
      "0: 640x640 1 class_8, 13.3ms\n",
      "Speed: 2.1ms preprocess, 13.3ms inference, 1.3ms postprocess per image at shape (1, 3, 640, 640)\n",
      "\n",
      "0: 640x640 1 class_10, 12.6ms\n",
      "Speed: 1.9ms preprocess, 12.6ms inference, 1.2ms postprocess per image at shape (1, 3, 640, 640)\n",
      "\n",
      "0: 608x640 1 class_12, 13.3ms\n",
      "Speed: 2.7ms preprocess, 13.3ms inference, 1.3ms postprocess per image at shape (1, 3, 608, 640)\n",
      "\n",
      "0: 640x640 1 class_14, 13.6ms\n",
      "Speed: 1.9ms preprocess, 13.6ms inference, 1.3ms postprocess per image at shape (1, 3, 640, 640)\n",
      "\n",
      "0: 640x640 1 class_14, 12.8ms\n",
      "Speed: 2.1ms preprocess, 12.8ms inference, 1.2ms postprocess per image at shape (1, 3, 640, 640)\n",
      "\n",
      "0: 640x640 1 class_38, 12.8ms\n",
      "Speed: 2.4ms preprocess, 12.8ms inference, 1.2ms postprocess per image at shape (1, 3, 640, 640)\n",
      "\n",
      "0: 640x640 1 class_13, 12.8ms\n",
      "Speed: 2.3ms preprocess, 12.8ms inference, 1.1ms postprocess per image at shape (1, 3, 640, 640)\n",
      "\n",
      "0: 640x640 1 class_7, 12.7ms\n",
      "Speed: 2.2ms preprocess, 12.7ms inference, 1.2ms postprocess per image at shape (1, 3, 640, 640)\n",
      "\n",
      "0: 640x640 1 class_5, 12.7ms\n",
      "Speed: 2.1ms preprocess, 12.7ms inference, 1.3ms postprocess per image at shape (1, 3, 640, 640)\n",
      "\n",
      "0: 640x640 1 class_5, 12.7ms\n",
      "Speed: 2.3ms preprocess, 12.7ms inference, 1.1ms postprocess per image at shape (1, 3, 640, 640)\n",
      "\n",
      "0: 640x640 1 class_10, 11.5ms\n",
      "Speed: 1.9ms preprocess, 11.5ms inference, 1.2ms postprocess per image at shape (1, 3, 640, 640)\n",
      "\n",
      "0: 640x640 1 class_10, 11.4ms\n",
      "Speed: 2.2ms preprocess, 11.4ms inference, 1.2ms postprocess per image at shape (1, 3, 640, 640)\n",
      "\n",
      "0: 640x640 1 class_8, 11.4ms\n",
      "Speed: 1.9ms preprocess, 11.4ms inference, 1.1ms postprocess per image at shape (1, 3, 640, 640)\n",
      "\n",
      "0: 640x608 1 class_8, 11.9ms\n",
      "Speed: 2.3ms preprocess, 11.9ms inference, 1.2ms postprocess per image at shape (1, 3, 640, 608)\n",
      "\n",
      "0: 608x640 1 class_18, 12.0ms\n",
      "Speed: 1.8ms preprocess, 12.0ms inference, 1.1ms postprocess per image at shape (1, 3, 608, 640)\n",
      "\n",
      "0: 640x640 1 class_1, 12.2ms\n",
      "Speed: 2.5ms preprocess, 12.2ms inference, 1.1ms postprocess per image at shape (1, 3, 640, 640)\n",
      "\n",
      "0: 640x640 1 class_27, 11.4ms\n",
      "Speed: 1.8ms preprocess, 11.4ms inference, 1.2ms postprocess per image at shape (1, 3, 640, 640)\n",
      "\n",
      "0: 640x640 1 class_2, 11.4ms\n",
      "Speed: 2.1ms preprocess, 11.4ms inference, 1.2ms postprocess per image at shape (1, 3, 640, 640)\n",
      "\n",
      "0: 576x640 1 class_25, 12.0ms\n",
      "Speed: 1.9ms preprocess, 12.0ms inference, 1.1ms postprocess per image at shape (1, 3, 576, 640)\n",
      "\n",
      "0: 640x640 1 class_1, 12.0ms\n",
      "Speed: 2.3ms preprocess, 12.0ms inference, 1.0ms postprocess per image at shape (1, 3, 640, 640)\n",
      "\n",
      "0: 640x640 1 class_12, 11.4ms\n",
      "Speed: 2.2ms preprocess, 11.4ms inference, 1.1ms postprocess per image at shape (1, 3, 640, 640)\n",
      "\n",
      "0: 640x640 1 class_38, 11.4ms\n",
      "Speed: 1.9ms preprocess, 11.4ms inference, 1.0ms postprocess per image at shape (1, 3, 640, 640)\n",
      "\n",
      "0: 576x640 1 class_18, 1 class_26, 11.8ms\n",
      "Speed: 2.3ms preprocess, 11.8ms inference, 1.3ms postprocess per image at shape (1, 3, 576, 640)\n",
      "\n",
      "0: 640x608 1 class_14, 12.1ms\n",
      "Speed: 2.1ms preprocess, 12.1ms inference, 1.2ms postprocess per image at shape (1, 3, 640, 608)\n",
      "\n",
      "0: 640x640 1 class_14, 12.0ms\n",
      "Speed: 2.6ms preprocess, 12.0ms inference, 1.0ms postprocess per image at shape (1, 3, 640, 640)\n",
      "\n",
      "0: 640x640 1 class_17, 11.5ms\n",
      "Speed: 1.9ms preprocess, 11.5ms inference, 1.3ms postprocess per image at shape (1, 3, 640, 640)\n",
      "\n",
      "0: 640x640 1 class_41, 11.4ms\n",
      "Speed: 2.6ms preprocess, 11.4ms inference, 1.3ms postprocess per image at shape (1, 3, 640, 640)\n",
      "\n",
      "0: 640x640 1 class_2, 11.5ms\n",
      "Speed: 2.0ms preprocess, 11.5ms inference, 1.1ms postprocess per image at shape (1, 3, 640, 640)\n",
      "\n",
      "0: 640x640 1 class_2, 11.4ms\n",
      "Speed: 1.9ms preprocess, 11.4ms inference, 1.1ms postprocess per image at shape (1, 3, 640, 640)\n",
      "\n",
      "0: 608x640 1 class_13, 12.1ms\n",
      "Speed: 1.9ms preprocess, 12.1ms inference, 1.2ms postprocess per image at shape (1, 3, 608, 640)\n",
      "\n",
      "0: 576x640 1 class_13, 12.0ms\n",
      "Speed: 1.8ms preprocess, 12.0ms inference, 1.2ms postprocess per image at shape (1, 3, 576, 640)\n",
      "\n",
      "0: 640x640 1 class_16, 12.1ms\n",
      "Speed: 1.8ms preprocess, 12.1ms inference, 1.1ms postprocess per image at shape (1, 3, 640, 640)\n",
      "\n",
      "0: 608x640 1 class_25, 12.0ms\n",
      "Speed: 2.3ms preprocess, 12.0ms inference, 1.1ms postprocess per image at shape (1, 3, 608, 640)\n",
      "\n",
      "0: 640x640 1 class_35, 12.2ms\n",
      "Speed: 1.7ms preprocess, 12.2ms inference, 1.1ms postprocess per image at shape (1, 3, 640, 640)\n",
      "\n",
      "0: 608x640 1 class_18, 12.0ms\n",
      "Speed: 2.5ms preprocess, 12.0ms inference, 1.1ms postprocess per image at shape (1, 3, 608, 640)\n",
      "\n",
      "0: 640x640 1 class_5, 12.1ms\n",
      "Speed: 1.8ms preprocess, 12.1ms inference, 1.1ms postprocess per image at shape (1, 3, 640, 640)\n",
      "\n",
      "0: 640x640 1 class_5, 11.4ms\n",
      "Speed: 1.9ms preprocess, 11.4ms inference, 1.1ms postprocess per image at shape (1, 3, 640, 640)\n",
      "\n",
      "0: 640x640 1 class_13, 11.4ms\n",
      "Speed: 2.3ms preprocess, 11.4ms inference, 1.1ms postprocess per image at shape (1, 3, 640, 640)\n",
      "\n",
      "0: 640x640 1 class_2, 11.5ms\n",
      "Speed: 2.0ms preprocess, 11.5ms inference, 1.1ms postprocess per image at shape (1, 3, 640, 640)\n",
      "\n",
      "0: 640x640 1 class_5, 11.4ms\n",
      "Speed: 2.0ms preprocess, 11.4ms inference, 1.1ms postprocess per image at shape (1, 3, 640, 640)\n",
      "\n",
      "0: 640x640 1 class_5, 11.4ms\n",
      "Speed: 1.9ms preprocess, 11.4ms inference, 1.1ms postprocess per image at shape (1, 3, 640, 640)\n",
      "\n",
      "0: 640x640 1 class_25, 11.5ms\n",
      "Speed: 2.1ms preprocess, 11.5ms inference, 1.3ms postprocess per image at shape (1, 3, 640, 640)\n",
      "\n",
      "0: 640x640 1 class_1, 11.4ms\n",
      "Speed: 2.5ms preprocess, 11.4ms inference, 1.3ms postprocess per image at shape (1, 3, 640, 640)\n",
      "\n",
      "0: 576x640 1 class_12, 12.0ms\n",
      "Speed: 2.2ms preprocess, 12.0ms inference, 1.2ms postprocess per image at shape (1, 3, 576, 640)\n",
      "\n",
      "0: 640x640 1 class_36, 12.1ms\n",
      "Speed: 2.1ms preprocess, 12.1ms inference, 1.2ms postprocess per image at shape (1, 3, 640, 640)\n",
      "\n",
      "0: 640x640 1 class_12, 11.4ms\n",
      "Speed: 2.1ms preprocess, 11.4ms inference, 1.2ms postprocess per image at shape (1, 3, 640, 640)\n",
      "\n",
      "0: 640x640 1 class_9, 11.5ms\n",
      "Speed: 2.9ms preprocess, 11.5ms inference, 1.3ms postprocess per image at shape (1, 3, 640, 640)\n",
      "\n",
      "0: 640x640 1 class_26, 11.4ms\n",
      "Speed: 1.9ms preprocess, 11.4ms inference, 1.1ms postprocess per image at shape (1, 3, 640, 640)\n",
      "\n",
      "0: 576x640 1 class_28, 11.9ms\n",
      "Speed: 2.4ms preprocess, 11.9ms inference, 1.2ms postprocess per image at shape (1, 3, 576, 640)\n",
      "\n",
      "0: 640x640 1 class_11, 12.1ms\n",
      "Speed: 2.1ms preprocess, 12.1ms inference, 1.1ms postprocess per image at shape (1, 3, 640, 640)\n",
      "\n",
      "0: 608x640 1 class_28, 1 class_30, 12.0ms\n",
      "Speed: 2.2ms preprocess, 12.0ms inference, 1.1ms postprocess per image at shape (1, 3, 608, 640)\n",
      "\n",
      "0: 608x640 1 class_20, 11.1ms\n",
      "Speed: 1.9ms preprocess, 11.1ms inference, 1.2ms postprocess per image at shape (1, 3, 608, 640)\n",
      "\n",
      "0: 608x640 1 class_20, 11.0ms\n",
      "Speed: 2.4ms preprocess, 11.0ms inference, 1.1ms postprocess per image at shape (1, 3, 608, 640)\n",
      "\n",
      "0: 640x608 1 class_7, 11.9ms\n",
      "Speed: 1.9ms preprocess, 11.9ms inference, 1.3ms postprocess per image at shape (1, 3, 640, 608)\n",
      "\n",
      "0: 640x640 1 class_7, 12.0ms\n",
      "Speed: 1.9ms preprocess, 12.0ms inference, 1.2ms postprocess per image at shape (1, 3, 640, 640)\n",
      "\n",
      "0: 576x640 1 class_11, 11.6ms\n",
      "Speed: 1.9ms preprocess, 11.6ms inference, 1.3ms postprocess per image at shape (1, 3, 576, 640)\n",
      "\n",
      "0: 640x640 1 class_8, 12.0ms\n",
      "Speed: 2.0ms preprocess, 12.0ms inference, 1.6ms postprocess per image at shape (1, 3, 640, 640)\n",
      "\n",
      "0: 640x640 1 class_8, 11.2ms\n",
      "Speed: 2.6ms preprocess, 11.2ms inference, 1.1ms postprocess per image at shape (1, 3, 640, 640)\n",
      "\n",
      "0: 640x640 1 class_12, 11.2ms\n",
      "Speed: 2.4ms preprocess, 11.2ms inference, 1.3ms postprocess per image at shape (1, 3, 640, 640)\n",
      "\n",
      "0: 640x640 1 class_2, 11.1ms\n",
      "Speed: 2.4ms preprocess, 11.1ms inference, 1.2ms postprocess per image at shape (1, 3, 640, 640)\n",
      "\n",
      "0: 640x640 1 class_2, 11.1ms\n",
      "Speed: 1.8ms preprocess, 11.1ms inference, 1.2ms postprocess per image at shape (1, 3, 640, 640)\n",
      "\n",
      "0: 640x640 1 class_12, 11.2ms\n",
      "Speed: 2.2ms preprocess, 11.2ms inference, 1.2ms postprocess per image at shape (1, 3, 640, 640)\n",
      "\n",
      "0: 640x640 1 class_5, 11.3ms\n",
      "Speed: 2.1ms preprocess, 11.3ms inference, 1.3ms postprocess per image at shape (1, 3, 640, 640)\n",
      "\n",
      "0: 608x640 1 class_13, 11.8ms\n",
      "Speed: 2.0ms preprocess, 11.8ms inference, 1.3ms postprocess per image at shape (1, 3, 608, 640)\n",
      "\n",
      "0: 640x640 1 class_8, 11.9ms\n",
      "Speed: 2.1ms preprocess, 11.9ms inference, 1.1ms postprocess per image at shape (1, 3, 640, 640)\n",
      "\n",
      "0: 640x640 1 class_8, 11.1ms\n",
      "Speed: 2.0ms preprocess, 11.1ms inference, 1.0ms postprocess per image at shape (1, 3, 640, 640)\n",
      "\n",
      "0: 640x640 1 class_10, 11.1ms\n",
      "Speed: 2.2ms preprocess, 11.1ms inference, 1.2ms postprocess per image at shape (1, 3, 640, 640)\n",
      "\n",
      "0: 640x640 1 class_10, 11.1ms\n",
      "Speed: 2.6ms preprocess, 11.1ms inference, 1.1ms postprocess per image at shape (1, 3, 640, 640)\n",
      "\n",
      "0: 576x640 1 class_11, 11.7ms\n",
      "Speed: 2.1ms preprocess, 11.7ms inference, 1.2ms postprocess per image at shape (1, 3, 576, 640)\n",
      "\n",
      "0: 640x640 1 class_14, 11.8ms\n",
      "Speed: 2.5ms preprocess, 11.8ms inference, 1.1ms postprocess per image at shape (1, 3, 640, 640)\n",
      "\n",
      "0: 640x640 1 class_8, 11.1ms\n",
      "Speed: 2.0ms preprocess, 11.1ms inference, 1.1ms postprocess per image at shape (1, 3, 640, 640)\n",
      "\n",
      "0: 640x640 1 class_8, 11.2ms\n",
      "Speed: 2.1ms preprocess, 11.2ms inference, 1.1ms postprocess per image at shape (1, 3, 640, 640)\n",
      "\n",
      "0: 640x640 1 class_12, 11.2ms\n",
      "Speed: 2.1ms preprocess, 11.2ms inference, 1.4ms postprocess per image at shape (1, 3, 640, 640)\n",
      "\n",
      "0: 608x640 1 class_23, 11.7ms\n",
      "Speed: 2.1ms preprocess, 11.7ms inference, 1.2ms postprocess per image at shape (1, 3, 608, 640)\n",
      "\n",
      "0: 608x640 1 class_2, 11.0ms\n",
      "Speed: 2.2ms preprocess, 11.0ms inference, 1.1ms postprocess per image at shape (1, 3, 608, 640)\n",
      "\n",
      "0: 640x640 1 class_9, 11.8ms\n",
      "Speed: 1.9ms preprocess, 11.8ms inference, 1.0ms postprocess per image at shape (1, 3, 640, 640)\n",
      "\n",
      "0: 544x640 1 class_23, 11.2ms\n",
      "Speed: 2.1ms preprocess, 11.2ms inference, 1.1ms postprocess per image at shape (1, 3, 544, 640)\n",
      "\n",
      "0: 640x640 1 class_2, 11.8ms\n",
      "Speed: 1.7ms preprocess, 11.8ms inference, 1.1ms postprocess per image at shape (1, 3, 640, 640)\n",
      "\n",
      "0: 640x640 1 class_9, 13.2ms\n",
      "Speed: 2.3ms preprocess, 13.2ms inference, 1.9ms postprocess per image at shape (1, 3, 640, 640)\n",
      "\n",
      "0: 640x640 1 class_33, 11.2ms\n",
      "Speed: 2.2ms preprocess, 11.2ms inference, 1.2ms postprocess per image at shape (1, 3, 640, 640)\n",
      "\n",
      "0: 640x608 1 class_33, 11.7ms\n",
      "Speed: 2.4ms preprocess, 11.7ms inference, 1.1ms postprocess per image at shape (1, 3, 640, 608)\n",
      "\n",
      "0: 640x640 1 class_39, 11.8ms\n",
      "Speed: 1.9ms preprocess, 11.8ms inference, 1.2ms postprocess per image at shape (1, 3, 640, 640)\n",
      "\n",
      "0: 640x640 1 class_2, 12.5ms\n",
      "Speed: 4.5ms preprocess, 12.5ms inference, 1.4ms postprocess per image at shape (1, 3, 640, 640)\n",
      "\n",
      "0: 640x640 1 class_9, 12.4ms\n",
      "Speed: 2.7ms preprocess, 12.4ms inference, 1.2ms postprocess per image at shape (1, 3, 640, 640)\n",
      "\n",
      "0: 640x608 1 class_6, 11.7ms\n",
      "Speed: 2.5ms preprocess, 11.7ms inference, 1.4ms postprocess per image at shape (1, 3, 640, 608)\n",
      "\n",
      "0: 640x576 1 class_6, 11.4ms\n",
      "Speed: 1.8ms preprocess, 11.4ms inference, 1.2ms postprocess per image at shape (1, 3, 640, 576)\n",
      "\n",
      "0: 640x640 1 class_32, 11.7ms\n",
      "Speed: 2.6ms preprocess, 11.7ms inference, 1.3ms postprocess per image at shape (1, 3, 640, 640)\n",
      "\n",
      "0: 640x608 1 class_32, 11.8ms\n",
      "Speed: 1.8ms preprocess, 11.8ms inference, 1.1ms postprocess per image at shape (1, 3, 640, 608)\n",
      "\n",
      "0: 640x640 1 class_7, 11.8ms\n",
      "Speed: 2.5ms preprocess, 11.8ms inference, 1.2ms postprocess per image at shape (1, 3, 640, 640)\n",
      "\n",
      "0: 640x640 1 class_18, 11.1ms\n",
      "Speed: 2.1ms preprocess, 11.1ms inference, 1.3ms postprocess per image at shape (1, 3, 640, 640)\n",
      "\n",
      "0: 640x640 1 class_38, 11.0ms\n",
      "Speed: 1.8ms preprocess, 11.0ms inference, 1.4ms postprocess per image at shape (1, 3, 640, 640)\n",
      "\n",
      "0: 640x640 1 class_2, 11.0ms\n",
      "Speed: 2.6ms preprocess, 11.0ms inference, 1.2ms postprocess per image at shape (1, 3, 640, 640)\n",
      "\n",
      "0: 640x640 1 class_41, 11.0ms\n",
      "Speed: 2.2ms preprocess, 11.0ms inference, 1.1ms postprocess per image at shape (1, 3, 640, 640)\n",
      "\n",
      "0: 640x640 1 class_4, 11.1ms\n",
      "Speed: 2.6ms preprocess, 11.1ms inference, 1.3ms postprocess per image at shape (1, 3, 640, 640)\n",
      "\n",
      "0: 640x640 1 class_4, 11.1ms\n",
      "Speed: 2.3ms preprocess, 11.1ms inference, 1.2ms postprocess per image at shape (1, 3, 640, 640)\n",
      "\n",
      "0: 640x640 1 class_12, 11.0ms\n",
      "Speed: 2.4ms preprocess, 11.0ms inference, 1.4ms postprocess per image at shape (1, 3, 640, 640)\n",
      "\n",
      "0: 640x640 1 class_2, 11.1ms\n",
      "Speed: 2.0ms preprocess, 11.1ms inference, 1.3ms postprocess per image at shape (1, 3, 640, 640)\n",
      "\n",
      "0: 640x640 1 class_1, 11.1ms\n",
      "Speed: 2.4ms preprocess, 11.1ms inference, 1.3ms postprocess per image at shape (1, 3, 640, 640)\n",
      "\n",
      "0: 640x640 1 class_6, 11.1ms\n",
      "Speed: 2.7ms preprocess, 11.1ms inference, 1.2ms postprocess per image at shape (1, 3, 640, 640)\n",
      "\n",
      "0: 640x640 1 class_6, 11.0ms\n",
      "Speed: 2.1ms preprocess, 11.0ms inference, 1.2ms postprocess per image at shape (1, 3, 640, 640)\n",
      "\n",
      "0: 640x640 1 class_4, 11.1ms\n",
      "Speed: 2.8ms preprocess, 11.1ms inference, 1.4ms postprocess per image at shape (1, 3, 640, 640)\n",
      "\n",
      "0: 640x640 1 class_9, 11.0ms\n",
      "Speed: 2.5ms preprocess, 11.0ms inference, 1.3ms postprocess per image at shape (1, 3, 640, 640)\n",
      "\n",
      "0: 640x640 1 class_21, 11.0ms\n",
      "Speed: 1.8ms preprocess, 11.0ms inference, 1.3ms postprocess per image at shape (1, 3, 640, 640)\n",
      "\n",
      "0: 608x640 1 class_11, 12.4ms\n",
      "Speed: 1.9ms preprocess, 12.4ms inference, 1.1ms postprocess per image at shape (1, 3, 608, 640)\n",
      "\n",
      "0: 576x640 1 class_11, 12.4ms\n",
      "Speed: 2.0ms preprocess, 12.4ms inference, 1.2ms postprocess per image at shape (1, 3, 576, 640)\n",
      "\n",
      "0: 640x640 1 class_2, 12.5ms\n",
      "Speed: 2.2ms preprocess, 12.5ms inference, 1.1ms postprocess per image at shape (1, 3, 640, 640)\n",
      "\n",
      "0: 640x608 1 class_1, 12.7ms\n",
      "Speed: 2.7ms preprocess, 12.7ms inference, 1.2ms postprocess per image at shape (1, 3, 640, 608)\n",
      "\n",
      "0: 608x640 1 class_26, 12.8ms\n",
      "Speed: 2.0ms preprocess, 12.8ms inference, 1.2ms postprocess per image at shape (1, 3, 608, 640)\n",
      "\n",
      "0: 640x640 1 class_13, 13.0ms\n",
      "Speed: 2.0ms preprocess, 13.0ms inference, 1.3ms postprocess per image at shape (1, 3, 640, 640)\n",
      "\n",
      "0: 640x640 1 class_12, 12.2ms\n",
      "Speed: 2.0ms preprocess, 12.2ms inference, 1.1ms postprocess per image at shape (1, 3, 640, 640)\n",
      "\n",
      "0: 640x640 1 class_35, 12.2ms\n",
      "Speed: 1.9ms preprocess, 12.2ms inference, 1.5ms postprocess per image at shape (1, 3, 640, 640)\n",
      "\n",
      "0: 640x640 1 class_9, 12.2ms\n",
      "Speed: 2.0ms preprocess, 12.2ms inference, 1.2ms postprocess per image at shape (1, 3, 640, 640)\n",
      "\n",
      "0: 640x640 1 class_4, 12.2ms\n",
      "Speed: 1.8ms preprocess, 12.2ms inference, 1.2ms postprocess per image at shape (1, 3, 640, 640)\n",
      "\n",
      "0: 640x608 1 class_5, 12.9ms\n",
      "Speed: 2.4ms preprocess, 12.9ms inference, 1.1ms postprocess per image at shape (1, 3, 640, 608)\n",
      "\n",
      "0: 640x640 1 class_22, 12.8ms\n",
      "Speed: 2.1ms preprocess, 12.8ms inference, 1.1ms postprocess per image at shape (1, 3, 640, 640)\n",
      "\n",
      "0: 544x640 1 class_22, 12.6ms\n",
      "Speed: 2.4ms preprocess, 12.6ms inference, 1.2ms postprocess per image at shape (1, 3, 544, 640)\n",
      "\n",
      "0: 640x640 1 class_2, 13.0ms\n",
      "Speed: 2.5ms preprocess, 13.0ms inference, 1.3ms postprocess per image at shape (1, 3, 640, 640)\n",
      "\n",
      "0: 640x640 1 class_5, 12.3ms\n",
      "Speed: 2.1ms preprocess, 12.3ms inference, 1.3ms postprocess per image at shape (1, 3, 640, 640)\n",
      "\n",
      "0: 640x640 1 class_5, 12.2ms\n",
      "Speed: 2.1ms preprocess, 12.2ms inference, 1.1ms postprocess per image at shape (1, 3, 640, 640)\n",
      "\n",
      "0: 640x640 1 class_10, 12.2ms\n",
      "Speed: 2.3ms preprocess, 12.2ms inference, 1.2ms postprocess per image at shape (1, 3, 640, 640)\n",
      "\n",
      "0: 640x640 1 class_10, 12.2ms\n",
      "Speed: 1.9ms preprocess, 12.2ms inference, 1.1ms postprocess per image at shape (1, 3, 640, 640)\n",
      "\n",
      "0: 640x640 1 class_12, 12.3ms\n",
      "Speed: 2.2ms preprocess, 12.3ms inference, 1.4ms postprocess per image at shape (1, 3, 640, 640)\n",
      "\n",
      "0: 640x640 1 class_38, 12.2ms\n",
      "Speed: 2.5ms preprocess, 12.2ms inference, 1.2ms postprocess per image at shape (1, 3, 640, 640)\n",
      "\n",
      "0: 640x640 1 class_9, 12.2ms\n",
      "Speed: 2.0ms preprocess, 12.2ms inference, 1.3ms postprocess per image at shape (1, 3, 640, 640)\n",
      "\n",
      "0: 640x640 1 class_1, 12.3ms\n",
      "Speed: 2.6ms preprocess, 12.3ms inference, 1.3ms postprocess per image at shape (1, 3, 640, 640)\n",
      "\n",
      "0: 576x640 1 class_25, 12.9ms\n",
      "Speed: 2.2ms preprocess, 12.9ms inference, 1.2ms postprocess per image at shape (1, 3, 576, 640)\n",
      "\n",
      "0: 640x640 1 class_3, 13.1ms\n",
      "Speed: 2.7ms preprocess, 13.1ms inference, 1.1ms postprocess per image at shape (1, 3, 640, 640)\n",
      "\n",
      "0: 608x640 1 class_25, 13.0ms\n",
      "Speed: 1.9ms preprocess, 13.0ms inference, 1.1ms postprocess per image at shape (1, 3, 608, 640)\n",
      "\n",
      "0: 640x640 1 class_3, 13.2ms\n",
      "Speed: 2.0ms preprocess, 13.2ms inference, 1.1ms postprocess per image at shape (1, 3, 640, 640)\n",
      "\n",
      "0: 640x640 1 class_3, 12.4ms\n",
      "Speed: 2.0ms preprocess, 12.4ms inference, 1.1ms postprocess per image at shape (1, 3, 640, 640)\n",
      "\n",
      "0: 640x640 1 class_3, 12.4ms\n",
      "Speed: 1.9ms preprocess, 12.4ms inference, 1.0ms postprocess per image at shape (1, 3, 640, 640)\n",
      "\n",
      "0: 608x640 1 class_11, 13.0ms\n",
      "Speed: 2.2ms preprocess, 13.0ms inference, 1.3ms postprocess per image at shape (1, 3, 608, 640)\n",
      "\n",
      "0: 640x640 1 class_10, 13.2ms\n",
      "Speed: 2.0ms preprocess, 13.2ms inference, 1.2ms postprocess per image at shape (1, 3, 640, 640)\n",
      "\n",
      "0: 640x640 1 class_10, 12.4ms\n",
      "Speed: 2.6ms preprocess, 12.4ms inference, 1.2ms postprocess per image at shape (1, 3, 640, 640)\n",
      "\n",
      "0: 608x640 1 class_21, 13.0ms\n",
      "Speed: 2.2ms preprocess, 13.0ms inference, 1.1ms postprocess per image at shape (1, 3, 608, 640)\n",
      "\n",
      "0: 640x640 1 class_18, 13.1ms\n",
      "Speed: 2.7ms preprocess, 13.1ms inference, 1.3ms postprocess per image at shape (1, 3, 640, 640)\n",
      "\n",
      "0: 608x640 1 class_26, 13.0ms\n",
      "Speed: 2.2ms preprocess, 13.0ms inference, 1.4ms postprocess per image at shape (1, 3, 608, 640)\n",
      "\n",
      "0: 640x640 1 class_1, 13.3ms\n",
      "Speed: 2.5ms preprocess, 13.3ms inference, 1.2ms postprocess per image at shape (1, 3, 640, 640)\n",
      "\n",
      "0: 608x640 1 class_1, 13.3ms\n",
      "Speed: 2.2ms preprocess, 13.3ms inference, 1.2ms postprocess per image at shape (1, 3, 608, 640)\n",
      "\n",
      "0: 576x640 1 class_19, 13.1ms\n",
      "Speed: 2.4ms preprocess, 13.1ms inference, 1.2ms postprocess per image at shape (1, 3, 576, 640)\n",
      "\n",
      "0: 640x640 1 class_38, 13.5ms\n",
      "Speed: 1.9ms preprocess, 13.5ms inference, 1.4ms postprocess per image at shape (1, 3, 640, 640)\n",
      "\n",
      "0: 640x608 1 class_7, 13.5ms\n",
      "Speed: 2.0ms preprocess, 13.5ms inference, 1.3ms postprocess per image at shape (1, 3, 640, 608)\n",
      "\n",
      "0: 640x640 1 class_7, 13.4ms\n",
      "Speed: 2.6ms preprocess, 13.4ms inference, 1.2ms postprocess per image at shape (1, 3, 640, 640)\n",
      "\n",
      "0: 640x640 1 class_10, 12.8ms\n",
      "Speed: 2.2ms preprocess, 12.8ms inference, 1.4ms postprocess per image at shape (1, 3, 640, 640)\n",
      "\n",
      "0: 640x640 1 class_10, 12.8ms\n",
      "Speed: 2.3ms preprocess, 12.8ms inference, 1.3ms postprocess per image at shape (1, 3, 640, 640)\n",
      "\n",
      "0: 640x640 1 class_2, 12.8ms\n",
      "Speed: 2.5ms preprocess, 12.8ms inference, 1.4ms postprocess per image at shape (1, 3, 640, 640)\n",
      "\n",
      "0: 640x640 1 class_1, 12.8ms\n",
      "Speed: 2.1ms preprocess, 12.8ms inference, 1.3ms postprocess per image at shape (1, 3, 640, 640)\n",
      "\n",
      "0: 640x640 1 class_4, 12.8ms\n",
      "Speed: 2.5ms preprocess, 12.8ms inference, 1.4ms postprocess per image at shape (1, 3, 640, 640)\n",
      "\n",
      "0: 640x640 1 class_5, 12.8ms\n",
      "Speed: 2.2ms preprocess, 12.8ms inference, 1.4ms postprocess per image at shape (1, 3, 640, 640)\n",
      "\n",
      "0: 640x640 1 class_5, 12.8ms\n",
      "Speed: 2.5ms preprocess, 12.8ms inference, 1.2ms postprocess per image at shape (1, 3, 640, 640)\n",
      "\n",
      "0: 608x640 1 class_18, 13.4ms\n",
      "Speed: 2.0ms preprocess, 13.4ms inference, 1.2ms postprocess per image at shape (1, 3, 608, 640)\n",
      "\n",
      "0: 640x640 1 class_2, 13.5ms\n",
      "Speed: 1.9ms preprocess, 13.5ms inference, 1.3ms postprocess per image at shape (1, 3, 640, 640)\n",
      "\n",
      "0: 608x640 1 class_11, 13.6ms\n",
      "Speed: 2.1ms preprocess, 13.6ms inference, 1.2ms postprocess per image at shape (1, 3, 608, 640)\n",
      "\n",
      "0: 544x640 1 class_22, 13.3ms\n",
      "Speed: 1.9ms preprocess, 13.3ms inference, 1.3ms postprocess per image at shape (1, 3, 544, 640)\n",
      "\n",
      "0: 640x640 1 class_8, 13.7ms\n",
      "Speed: 2.5ms preprocess, 13.7ms inference, 1.3ms postprocess per image at shape (1, 3, 640, 640)\n",
      "\n",
      "0: 640x640 1 class_38, 13.0ms\n",
      "Speed: 2.1ms preprocess, 13.0ms inference, 1.4ms postprocess per image at shape (1, 3, 640, 640)\n",
      "\n",
      "0: 640x640 1 class_2, 12.9ms\n",
      "Speed: 2.1ms preprocess, 12.9ms inference, 1.1ms postprocess per image at shape (1, 3, 640, 640)\n",
      "\n",
      "0: 608x640 1 class_11, 13.6ms\n",
      "Speed: 2.0ms preprocess, 13.6ms inference, 1.1ms postprocess per image at shape (1, 3, 608, 640)\n",
      "\n",
      "0: 640x608 1 class_38, 13.5ms\n",
      "Speed: 2.3ms preprocess, 13.5ms inference, 1.1ms postprocess per image at shape (1, 3, 640, 608)\n",
      "\n",
      "0: 576x640 1 class_29, 13.5ms\n",
      "Speed: 1.9ms preprocess, 13.5ms inference, 1.3ms postprocess per image at shape (1, 3, 576, 640)\n",
      "\n",
      "0: 640x640 1 class_26, 13.7ms\n",
      "Speed: 2.1ms preprocess, 13.7ms inference, 1.3ms postprocess per image at shape (1, 3, 640, 640)\n",
      "\n",
      "0: 640x640 1 class_26, 12.9ms\n",
      "Speed: 2.1ms preprocess, 12.9ms inference, 1.1ms postprocess per image at shape (1, 3, 640, 640)\n",
      "\n",
      "0: 576x640 1 class_23, 13.7ms\n",
      "Speed: 2.0ms preprocess, 13.7ms inference, 1.3ms postprocess per image at shape (1, 3, 576, 640)\n",
      "\n",
      "0: 640x640 1 class_12, 14.0ms\n",
      "Speed: 2.0ms preprocess, 14.0ms inference, 1.3ms postprocess per image at shape (1, 3, 640, 640)\n",
      "\n",
      "0: 576x640 1 class_22, 13.7ms\n",
      "Speed: 2.1ms preprocess, 13.7ms inference, 1.2ms postprocess per image at shape (1, 3, 576, 640)\n",
      "\n",
      "0: 640x640 1 class_2, 13.9ms\n",
      "Speed: 2.8ms preprocess, 13.9ms inference, 1.3ms postprocess per image at shape (1, 3, 640, 640)\n",
      "\n",
      "0: 512x640 1 class_11, 79.2ms\n",
      "Speed: 1.8ms preprocess, 79.2ms inference, 1.6ms postprocess per image at shape (1, 3, 512, 640)\n",
      "\n",
      "0: 576x640 1 class_18, 13.9ms\n",
      "Speed: 2.2ms preprocess, 13.9ms inference, 1.2ms postprocess per image at shape (1, 3, 576, 640)\n",
      "\n",
      "0: 640x640 1 class_33, 14.1ms\n",
      "Speed: 2.3ms preprocess, 14.1ms inference, 1.1ms postprocess per image at shape (1, 3, 640, 640)\n",
      "\n",
      "0: 640x640 1 class_13, 13.3ms\n",
      "Speed: 2.0ms preprocess, 13.3ms inference, 1.4ms postprocess per image at shape (1, 3, 640, 640)\n",
      "\n",
      "0: 640x640 1 class_1, 13.4ms\n",
      "Speed: 2.3ms preprocess, 13.4ms inference, 1.3ms postprocess per image at shape (1, 3, 640, 640)\n",
      "\n",
      "0: 576x640 1 class_25, 14.0ms\n",
      "Speed: 2.2ms preprocess, 14.0ms inference, 1.2ms postprocess per image at shape (1, 3, 576, 640)\n",
      "\n",
      "0: 640x608 1 class_5, 14.3ms\n",
      "Speed: 2.3ms preprocess, 14.3ms inference, 1.2ms postprocess per image at shape (1, 3, 640, 608)\n",
      "\n",
      "0: 640x640 1 class_5, 14.2ms\n",
      "Speed: 2.5ms preprocess, 14.2ms inference, 1.1ms postprocess per image at shape (1, 3, 640, 640)\n",
      "\n",
      "0: 640x640 1 class_28, 13.6ms\n",
      "Speed: 2.2ms preprocess, 13.6ms inference, 1.3ms postprocess per image at shape (1, 3, 640, 640)\n",
      "\n",
      "0: 640x640 1 class_12, 13.6ms\n",
      "Speed: 2.8ms preprocess, 13.6ms inference, 1.3ms postprocess per image at shape (1, 3, 640, 640)\n",
      "\n",
      "0: 640x640 1 class_12, 13.9ms\n",
      "Speed: 2.3ms preprocess, 13.9ms inference, 1.4ms postprocess per image at shape (1, 3, 640, 640)\n",
      "\n",
      "0: 640x640 1 class_2, 13.9ms\n",
      "Speed: 2.6ms preprocess, 13.9ms inference, 1.3ms postprocess per image at shape (1, 3, 640, 640)\n",
      "\n",
      "0: 608x640 1 class_30, 14.5ms\n",
      "Speed: 2.0ms preprocess, 14.5ms inference, 1.2ms postprocess per image at shape (1, 3, 608, 640)\n",
      "\n",
      "0: 640x640 1 class_15, 14.7ms\n",
      "Speed: 2.1ms preprocess, 14.7ms inference, 1.3ms postprocess per image at shape (1, 3, 640, 640)\n",
      "\n",
      "0: 640x640 1 class_2, 13.8ms\n",
      "Speed: 1.9ms preprocess, 13.8ms inference, 1.1ms postprocess per image at shape (1, 3, 640, 640)\n",
      "\n",
      "0: 640x640 1 class_2, 13.8ms\n",
      "Speed: 2.4ms preprocess, 13.8ms inference, 1.4ms postprocess per image at shape (1, 3, 640, 640)\n",
      "\n",
      "0: 640x640 1 class_38, 13.4ms\n",
      "Speed: 2.1ms preprocess, 13.4ms inference, 1.5ms postprocess per image at shape (1, 3, 640, 640)\n",
      "\n",
      "0: 640x640 1 class_15, 13.5ms\n",
      "Speed: 2.2ms preprocess, 13.5ms inference, 1.4ms postprocess per image at shape (1, 3, 640, 640)\n",
      "\n",
      "0: 640x640 1 class_1, 13.4ms\n",
      "Speed: 2.0ms preprocess, 13.4ms inference, 1.2ms postprocess per image at shape (1, 3, 640, 640)\n",
      "\n",
      "0: 640x640 1 class_41, 13.4ms\n",
      "Speed: 2.5ms preprocess, 13.4ms inference, 1.5ms postprocess per image at shape (1, 3, 640, 640)\n",
      "\n",
      "0: 640x640 1 class_3, 13.4ms\n",
      "Speed: 1.9ms preprocess, 13.4ms inference, 1.3ms postprocess per image at shape (1, 3, 640, 640)\n",
      "\n",
      "0: 608x640 1 class_27, 14.3ms\n",
      "Speed: 2.7ms preprocess, 14.3ms inference, 1.2ms postprocess per image at shape (1, 3, 608, 640)\n",
      "\n",
      "0: 640x640 1 class_4, 14.4ms\n",
      "Speed: 2.4ms preprocess, 14.4ms inference, 1.3ms postprocess per image at shape (1, 3, 640, 640)\n",
      "\n",
      "0: 608x640 1 class_28, 14.2ms\n",
      "Speed: 2.4ms preprocess, 14.2ms inference, 1.3ms postprocess per image at shape (1, 3, 608, 640)\n",
      "\n",
      "0: 640x640 1 class_2, 14.0ms\n",
      "Speed: 2.0ms preprocess, 14.0ms inference, 1.2ms postprocess per image at shape (1, 3, 640, 640)\n",
      "\n",
      "0: 608x640 1 class_13, 14.2ms\n",
      "Speed: 2.2ms preprocess, 14.2ms inference, 1.3ms postprocess per image at shape (1, 3, 608, 640)\n",
      "\n",
      "0: 608x640 1 class_11, 13.3ms\n",
      "Speed: 2.4ms preprocess, 13.3ms inference, 1.3ms postprocess per image at shape (1, 3, 608, 640)\n",
      "\n",
      "0: 608x640 1 class_18, 13.2ms\n",
      "Speed: 2.5ms preprocess, 13.2ms inference, 1.2ms postprocess per image at shape (1, 3, 608, 640)\n",
      "\n",
      "0: 576x640 1 class_13, 13.8ms\n",
      "Speed: 2.1ms preprocess, 13.8ms inference, 1.3ms postprocess per image at shape (1, 3, 576, 640)\n",
      "\n",
      "0: 576x640 1 class_13, 13.1ms\n",
      "Speed: 2.2ms preprocess, 13.1ms inference, 1.1ms postprocess per image at shape (1, 3, 576, 640)\n",
      "\n",
      "0: 640x608 1 class_38, 14.0ms\n",
      "Speed: 2.0ms preprocess, 14.0ms inference, 1.2ms postprocess per image at shape (1, 3, 640, 608)\n",
      "\n",
      "0: 640x640 1 class_12, 14.1ms\n",
      "Speed: 2.3ms preprocess, 14.1ms inference, 1.2ms postprocess per image at shape (1, 3, 640, 640)\n",
      "\n",
      "0: 608x640 1 class_13, 14.0ms\n",
      "Speed: 2.5ms preprocess, 14.0ms inference, 1.3ms postprocess per image at shape (1, 3, 608, 640)\n",
      "\n",
      "0: 640x640 1 class_15, 14.1ms\n",
      "Speed: 2.7ms preprocess, 14.1ms inference, 1.3ms postprocess per image at shape (1, 3, 640, 640)\n",
      "\n",
      "0: 640x640 1 class_12, 13.4ms\n",
      "Speed: 2.3ms preprocess, 13.4ms inference, 1.5ms postprocess per image at shape (1, 3, 640, 640)\n",
      "\n",
      "0: 640x640 1 class_12, 13.5ms\n",
      "Speed: 2.5ms preprocess, 13.5ms inference, 1.7ms postprocess per image at shape (1, 3, 640, 640)\n",
      "\n",
      "0: 640x544 1 class_17, 80.4ms\n",
      "Speed: 2.0ms preprocess, 80.4ms inference, 1.3ms postprocess per image at shape (1, 3, 640, 544)\n",
      "\n",
      "0: 640x512 1 class_17, 73.7ms\n",
      "Speed: 2.3ms preprocess, 73.7ms inference, 1.2ms postprocess per image at shape (1, 3, 640, 512)\n",
      "\n",
      "0: 640x480 1 class_13, 10.6ms\n",
      "Speed: 3.1ms preprocess, 10.6ms inference, 1.2ms postprocess per image at shape (1, 3, 640, 480)\n",
      "\n",
      "0: 608x640 1 class_13, 14.0ms\n",
      "Speed: 2.8ms preprocess, 14.0ms inference, 1.3ms postprocess per image at shape (1, 3, 608, 640)\n",
      "\n",
      "0: 576x640 1 class_13, 14.0ms\n",
      "Speed: 2.3ms preprocess, 14.0ms inference, 1.3ms postprocess per image at shape (1, 3, 576, 640)\n",
      "\n",
      "0: 640x640 1 class_9, 14.2ms\n",
      "Speed: 2.2ms preprocess, 14.2ms inference, 1.2ms postprocess per image at shape (1, 3, 640, 640)\n",
      "\n",
      "0: 640x640 1 class_35, 13.4ms\n",
      "Speed: 2.4ms preprocess, 13.4ms inference, 1.3ms postprocess per image at shape (1, 3, 640, 640)\n",
      "\n",
      "0: 640x640 1 class_35, 13.4ms\n",
      "Speed: 2.3ms preprocess, 13.4ms inference, 1.2ms postprocess per image at shape (1, 3, 640, 640)\n",
      "\n",
      "0: 640x640 1 class_38, 13.3ms\n",
      "Speed: 1.8ms preprocess, 13.3ms inference, 1.2ms postprocess per image at shape (1, 3, 640, 640)\n",
      "\n",
      "0: 640x640 1 class_1, 13.4ms\n",
      "Speed: 2.6ms preprocess, 13.4ms inference, 1.5ms postprocess per image at shape (1, 3, 640, 640)\n",
      "\n",
      "0: 576x640 1 class_11, 14.0ms\n",
      "Speed: 2.5ms preprocess, 14.0ms inference, 1.2ms postprocess per image at shape (1, 3, 576, 640)\n",
      "\n",
      "0: 608x640 1 class_18, 14.1ms\n",
      "Speed: 1.8ms preprocess, 14.1ms inference, 1.3ms postprocess per image at shape (1, 3, 608, 640)\n",
      "\n",
      "0: 608x640 1 class_25, 13.3ms\n",
      "Speed: 1.9ms preprocess, 13.3ms inference, 1.4ms postprocess per image at shape (1, 3, 608, 640)\n",
      "\n",
      "0: 608x640 1 class_22, 13.3ms\n",
      "Speed: 1.8ms preprocess, 13.3ms inference, 1.2ms postprocess per image at shape (1, 3, 608, 640)\n",
      "\n",
      "0: 640x640 1 class_22, 14.1ms\n",
      "Speed: 2.5ms preprocess, 14.1ms inference, 1.0ms postprocess per image at shape (1, 3, 640, 640)\n",
      "\n",
      "0: 640x640 1 class_1, 13.3ms\n",
      "Speed: 1.8ms preprocess, 13.3ms inference, 1.2ms postprocess per image at shape (1, 3, 640, 640)\n",
      "\n",
      "0: 640x640 1 class_12, 13.3ms\n",
      "Speed: 2.5ms preprocess, 13.3ms inference, 1.2ms postprocess per image at shape (1, 3, 640, 640)\n",
      "\n",
      "0: 640x640 1 class_10, 13.4ms\n",
      "Speed: 1.9ms preprocess, 13.4ms inference, 1.2ms postprocess per image at shape (1, 3, 640, 640)\n",
      "\n",
      "0: 640x640 1 class_2, 13.3ms\n",
      "Speed: 2.5ms preprocess, 13.3ms inference, 1.2ms postprocess per image at shape (1, 3, 640, 640)\n",
      "\n",
      "0: 640x640 1 class_8, 13.4ms\n",
      "Speed: 1.9ms preprocess, 13.4ms inference, 1.2ms postprocess per image at shape (1, 3, 640, 640)\n",
      "\n",
      "0: 640x640 1 class_8, 13.4ms\n",
      "Speed: 1.8ms preprocess, 13.4ms inference, 1.2ms postprocess per image at shape (1, 3, 640, 640)\n",
      "\n",
      "0: 544x640 1 class_13, 13.8ms\n",
      "Speed: 2.3ms preprocess, 13.8ms inference, 1.1ms postprocess per image at shape (1, 3, 544, 640)\n",
      "\n",
      "0: 544x640 1 class_13, 13.0ms\n",
      "Speed: 1.7ms preprocess, 13.0ms inference, 1.1ms postprocess per image at shape (1, 3, 544, 640)\n",
      "\n",
      "0: 640x640 1 class_35, 14.3ms\n",
      "Speed: 1.7ms preprocess, 14.3ms inference, 1.1ms postprocess per image at shape (1, 3, 640, 640)\n",
      "\n",
      "0: 640x640 1 class_34, 13.6ms\n",
      "Speed: 1.8ms preprocess, 13.6ms inference, 1.2ms postprocess per image at shape (1, 3, 640, 640)\n",
      "\n",
      "0: 640x640 1 class_38, 13.6ms\n",
      "Speed: 2.0ms preprocess, 13.6ms inference, 1.4ms postprocess per image at shape (1, 3, 640, 640)\n",
      "\n",
      "0: 640x640 1 class_2, 13.6ms\n",
      "Speed: 2.5ms preprocess, 13.6ms inference, 1.2ms postprocess per image at shape (1, 3, 640, 640)\n",
      "\n",
      "0: 640x640 1 class_2, 13.6ms\n",
      "Speed: 2.0ms preprocess, 13.6ms inference, 1.2ms postprocess per image at shape (1, 3, 640, 640)\n",
      "\n",
      "0: 640x640 1 class_3, 13.7ms\n",
      "Speed: 2.2ms preprocess, 13.7ms inference, 1.1ms postprocess per image at shape (1, 3, 640, 640)\n",
      "\n",
      "0: 640x608 1 class_1, 14.2ms\n",
      "Speed: 2.0ms preprocess, 14.2ms inference, 1.1ms postprocess per image at shape (1, 3, 640, 608)\n",
      "\n",
      "0: 544x640 1 class_11, 13.8ms\n",
      "Speed: 2.4ms preprocess, 13.8ms inference, 1.2ms postprocess per image at shape (1, 3, 544, 640)\n",
      "\n",
      "0: 640x640 1 class_2, 14.3ms\n",
      "Speed: 2.2ms preprocess, 14.3ms inference, 1.3ms postprocess per image at shape (1, 3, 640, 640)\n",
      "\n",
      "0: 608x640 1 class_25, 14.0ms\n",
      "Speed: 2.8ms preprocess, 14.0ms inference, 1.3ms postprocess per image at shape (1, 3, 608, 640)\n",
      "\n",
      "0: 640x640 1 class_2, 13.9ms\n",
      "Speed: 2.0ms preprocess, 13.9ms inference, 1.2ms postprocess per image at shape (1, 3, 640, 640)\n",
      "\n",
      "0: 640x640 1 class_4, 13.2ms\n",
      "Speed: 2.0ms preprocess, 13.2ms inference, 1.3ms postprocess per image at shape (1, 3, 640, 640)\n",
      "\n",
      "0: 640x640 1 class_10, 13.1ms\n",
      "Speed: 1.9ms preprocess, 13.1ms inference, 1.3ms postprocess per image at shape (1, 3, 640, 640)\n",
      "\n",
      "0: 640x640 1 class_1, 13.2ms\n",
      "Speed: 2.5ms preprocess, 13.2ms inference, 1.5ms postprocess per image at shape (1, 3, 640, 640)\n",
      "\n",
      "0: 640x640 1 class_16, 13.2ms\n",
      "Speed: 2.7ms preprocess, 13.2ms inference, 1.4ms postprocess per image at shape (1, 3, 640, 640)\n",
      "\n",
      "0: 608x640 1 class_7, 13.8ms\n",
      "Speed: 1.9ms preprocess, 13.8ms inference, 1.3ms postprocess per image at shape (1, 3, 608, 640)\n",
      "\n",
      "0: 640x640 1 class_1, 13.9ms\n",
      "Speed: 2.0ms preprocess, 13.9ms inference, 1.3ms postprocess per image at shape (1, 3, 640, 640)\n",
      "\n",
      "0: 608x640 1 class_19, 13.9ms\n",
      "Speed: 1.9ms preprocess, 13.9ms inference, 1.3ms postprocess per image at shape (1, 3, 608, 640)\n",
      "\n",
      "0: 640x640 1 class_5, 13.9ms\n",
      "Speed: 2.6ms preprocess, 13.9ms inference, 1.2ms postprocess per image at shape (1, 3, 640, 640)\n",
      "\n",
      "0: 640x640 1 class_5, 13.2ms\n",
      "Speed: 1.9ms preprocess, 13.2ms inference, 1.2ms postprocess per image at shape (1, 3, 640, 640)\n",
      "\n",
      "0: 640x640 1 class_4, 13.1ms\n",
      "Speed: 2.5ms preprocess, 13.1ms inference, 1.3ms postprocess per image at shape (1, 3, 640, 640)\n",
      "\n",
      "0: 640x640 1 class_10, 13.1ms\n",
      "Speed: 1.9ms preprocess, 13.1ms inference, 1.2ms postprocess per image at shape (1, 3, 640, 640)\n",
      "\n",
      "0: 640x640 1 class_4, 13.1ms\n",
      "Speed: 1.7ms preprocess, 13.1ms inference, 1.1ms postprocess per image at shape (1, 3, 640, 640)\n",
      "\n",
      "0: 640x640 1 class_4, 13.1ms\n",
      "Speed: 1.9ms preprocess, 13.1ms inference, 1.1ms postprocess per image at shape (1, 3, 640, 640)\n",
      "\n",
      "0: 640x640 1 class_12, 13.1ms\n",
      "Speed: 2.0ms preprocess, 13.1ms inference, 1.2ms postprocess per image at shape (1, 3, 640, 640)\n",
      "\n",
      "0: 640x640 1 class_9, 12.1ms\n",
      "Speed: 2.0ms preprocess, 12.1ms inference, 1.3ms postprocess per image at shape (1, 3, 640, 640)\n",
      "\n",
      "0: 608x640 1 class_13, 12.8ms\n",
      "Speed: 2.3ms preprocess, 12.8ms inference, 1.2ms postprocess per image at shape (1, 3, 608, 640)\n",
      "\n",
      "0: 576x640 1 class_26, 12.7ms\n",
      "Speed: 2.3ms preprocess, 12.7ms inference, 1.3ms postprocess per image at shape (1, 3, 576, 640)\n",
      "\n",
      "0: 640x640 1 class_2, 12.8ms\n",
      "Speed: 2.3ms preprocess, 12.8ms inference, 1.3ms postprocess per image at shape (1, 3, 640, 640)\n",
      "\n",
      "0: 640x640 1 class_1, 12.1ms\n",
      "Speed: 2.4ms preprocess, 12.1ms inference, 1.5ms postprocess per image at shape (1, 3, 640, 640)\n",
      "\n",
      "0: 608x640 1 class_12, 12.6ms\n",
      "Speed: 2.2ms preprocess, 12.6ms inference, 1.3ms postprocess per image at shape (1, 3, 608, 640)\n",
      "\n",
      "0: 640x544 1 class_1, 12.7ms\n",
      "Speed: 2.0ms preprocess, 12.7ms inference, 1.4ms postprocess per image at shape (1, 3, 640, 544)\n",
      "\n",
      "0: 640x608 1 class_21, 12.7ms\n",
      "Speed: 2.5ms preprocess, 12.7ms inference, 1.3ms postprocess per image at shape (1, 3, 640, 608)\n",
      "\n",
      "0: 640x640 1 class_9, 12.9ms\n",
      "Speed: 2.2ms preprocess, 12.9ms inference, 1.3ms postprocess per image at shape (1, 3, 640, 640)\n",
      "\n",
      "0: 608x640 1 class_18, 12.8ms\n",
      "Speed: 2.3ms preprocess, 12.8ms inference, 1.4ms postprocess per image at shape (1, 3, 608, 640)\n",
      "\n",
      "0: 640x640 1 class_8, 12.7ms\n",
      "Speed: 2.4ms preprocess, 12.7ms inference, 1.3ms postprocess per image at shape (1, 3, 640, 640)\n",
      "\n",
      "0: 608x640 1 class_18, 12.5ms\n",
      "Speed: 2.3ms preprocess, 12.5ms inference, 1.2ms postprocess per image at shape (1, 3, 608, 640)\n",
      "\n",
      "0: 640x608 1 class_8, 12.6ms\n",
      "Speed: 2.1ms preprocess, 12.6ms inference, 1.1ms postprocess per image at shape (1, 3, 640, 608)\n",
      "\n",
      "0: 640x640 1 class_12, 12.9ms\n",
      "Speed: 2.8ms preprocess, 12.9ms inference, 1.3ms postprocess per image at shape (1, 3, 640, 640)\n",
      "\n",
      "0: 640x640 1 class_8, 12.1ms\n",
      "Speed: 2.4ms preprocess, 12.1ms inference, 1.3ms postprocess per image at shape (1, 3, 640, 640)\n",
      "\n",
      "0: 640x640 1 class_10, 12.1ms\n",
      "Speed: 2.4ms preprocess, 12.1ms inference, 1.2ms postprocess per image at shape (1, 3, 640, 640)\n",
      "\n",
      "0: 608x640 1 class_23, 12.8ms\n",
      "Speed: 2.4ms preprocess, 12.8ms inference, 1.3ms postprocess per image at shape (1, 3, 608, 640)\n",
      "\n",
      "0: 608x640 1 class_23, 12.0ms\n",
      "Speed: 1.8ms preprocess, 12.0ms inference, 1.3ms postprocess per image at shape (1, 3, 608, 640)\n",
      "\n",
      "0: 640x640 1 class_4, 12.8ms\n",
      "Speed: 2.1ms preprocess, 12.8ms inference, 1.2ms postprocess per image at shape (1, 3, 640, 640)\n",
      "\n",
      "0: 640x640 1 class_10, 12.1ms\n",
      "Speed: 2.1ms preprocess, 12.1ms inference, 1.4ms postprocess per image at shape (1, 3, 640, 640)\n",
      "\n",
      "0: 640x640 1 class_10, 12.1ms\n",
      "Speed: 2.6ms preprocess, 12.1ms inference, 1.2ms postprocess per image at shape (1, 3, 640, 640)\n",
      "\n",
      "0: 640x640 1 class_4, 12.2ms\n",
      "Speed: 2.2ms preprocess, 12.2ms inference, 1.5ms postprocess per image at shape (1, 3, 640, 640)\n",
      "\n",
      "0: 640x640 1 class_9, 12.1ms\n",
      "Speed: 2.3ms preprocess, 12.1ms inference, 1.3ms postprocess per image at shape (1, 3, 640, 640)\n",
      "\n",
      "0: 640x608 1 class_33, 12.8ms\n",
      "Speed: 2.1ms preprocess, 12.8ms inference, 1.2ms postprocess per image at shape (1, 3, 640, 608)\n",
      "\n",
      "0: 640x640 1 class_14, 12.8ms\n",
      "Speed: 2.5ms preprocess, 12.8ms inference, 1.2ms postprocess per image at shape (1, 3, 640, 640)\n",
      "\n",
      "0: 640x544 1 class_12, 12.3ms\n",
      "Speed: 1.8ms preprocess, 12.3ms inference, 1.2ms postprocess per image at shape (1, 3, 640, 544)\n",
      "\n",
      "0: 640x640 1 class_4, 12.8ms\n",
      "Speed: 2.1ms preprocess, 12.8ms inference, 1.2ms postprocess per image at shape (1, 3, 640, 640)\n",
      "\n",
      "0: 640x640 1 class_4, 12.1ms\n",
      "Speed: 2.5ms preprocess, 12.1ms inference, 1.5ms postprocess per image at shape (1, 3, 640, 640)\n",
      "\n",
      "0: 640x576 1 class_15, 12.5ms\n",
      "Speed: 2.0ms preprocess, 12.5ms inference, 1.2ms postprocess per image at shape (1, 3, 640, 576)\n",
      "\n",
      "0: 608x640 1 class_13, 12.6ms\n",
      "Speed: 2.7ms preprocess, 12.6ms inference, 1.2ms postprocess per image at shape (1, 3, 608, 640)\n",
      "\n",
      "0: 640x640 1 class_9, 12.9ms\n",
      "Speed: 2.2ms preprocess, 12.9ms inference, 1.4ms postprocess per image at shape (1, 3, 640, 640)\n",
      "\n",
      "0: 640x640 1 class_32, 12.1ms\n",
      "Speed: 2.5ms preprocess, 12.1ms inference, 1.4ms postprocess per image at shape (1, 3, 640, 640)\n",
      "\n",
      "0: 640x640 1 class_42, 12.2ms\n",
      "Speed: 2.3ms preprocess, 12.2ms inference, 1.5ms postprocess per image at shape (1, 3, 640, 640)\n",
      "\n",
      "0: 640x576 1 class_39, 12.8ms\n",
      "Speed: 2.2ms preprocess, 12.8ms inference, 1.3ms postprocess per image at shape (1, 3, 640, 576)\n",
      "\n",
      "0: 640x640 1 class_39, 12.9ms\n",
      "Speed: 2.3ms preprocess, 12.9ms inference, 1.3ms postprocess per image at shape (1, 3, 640, 640)\n",
      "\n",
      "0: 640x640 1 class_38, 12.1ms\n",
      "Speed: 2.3ms preprocess, 12.1ms inference, 1.1ms postprocess per image at shape (1, 3, 640, 640)\n",
      "\n",
      "0: 640x448 1 class_38, 79.1ms\n",
      "Speed: 1.5ms preprocess, 79.1ms inference, 1.3ms postprocess per image at shape (1, 3, 640, 448)\n",
      "\n",
      "0: 640x640 1 class_9, 13.0ms\n",
      "Speed: 2.0ms preprocess, 13.0ms inference, 1.4ms postprocess per image at shape (1, 3, 640, 640)\n",
      "\n",
      "0: 640x640 1 class_2, 12.1ms\n",
      "Speed: 2.4ms preprocess, 12.1ms inference, 1.3ms postprocess per image at shape (1, 3, 640, 640)\n",
      "\n",
      "0: 640x640 1 class_2, 12.1ms\n",
      "Speed: 2.5ms preprocess, 12.1ms inference, 1.3ms postprocess per image at shape (1, 3, 640, 640)\n",
      "\n",
      "0: 640x640 1 class_12, 12.0ms\n",
      "Speed: 1.9ms preprocess, 12.0ms inference, 1.1ms postprocess per image at shape (1, 3, 640, 640)\n",
      "\n",
      "0: 640x640 1 class_7, 12.1ms\n",
      "Speed: 2.2ms preprocess, 12.1ms inference, 1.3ms postprocess per image at shape (1, 3, 640, 640)\n",
      "\n",
      "0: 640x640 1 class_15, 12.1ms\n",
      "Speed: 2.2ms preprocess, 12.1ms inference, 1.4ms postprocess per image at shape (1, 3, 640, 640)\n",
      "\n",
      "0: 640x640 1 class_15, 12.1ms\n",
      "Speed: 2.5ms preprocess, 12.1ms inference, 1.3ms postprocess per image at shape (1, 3, 640, 640)\n",
      "\n",
      "0: 576x640 1 class_25, 12.7ms\n",
      "Speed: 2.0ms preprocess, 12.7ms inference, 1.3ms postprocess per image at shape (1, 3, 576, 640)\n",
      "\n",
      "0: 608x640 1 class_13, 12.8ms\n",
      "Speed: 2.3ms preprocess, 12.8ms inference, 1.3ms postprocess per image at shape (1, 3, 608, 640)\n",
      "\n",
      "0: 640x640 1 class_12, 12.9ms\n",
      "Speed: 2.3ms preprocess, 12.9ms inference, 1.3ms postprocess per image at shape (1, 3, 640, 640)\n",
      "\n",
      "0: 640x640 1 class_5, 13.6ms\n",
      "Speed: 2.2ms preprocess, 13.6ms inference, 1.3ms postprocess per image at shape (1, 3, 640, 640)\n",
      "\n",
      "0: 640x640 1 class_9, 13.6ms\n",
      "Speed: 1.9ms preprocess, 13.6ms inference, 1.5ms postprocess per image at shape (1, 3, 640, 640)\n",
      "\n",
      "0: 640x608 1 class_7, 14.3ms\n",
      "Speed: 2.2ms preprocess, 14.3ms inference, 1.3ms postprocess per image at shape (1, 3, 640, 608)\n",
      "\n",
      "0: 640x640 1 class_7, 14.3ms\n",
      "Speed: 2.3ms preprocess, 14.3ms inference, 1.2ms postprocess per image at shape (1, 3, 640, 640)\n",
      "\n",
      "0: 640x640 1 class_38, 13.7ms\n",
      "Speed: 2.4ms preprocess, 13.7ms inference, 1.2ms postprocess per image at shape (1, 3, 640, 640)\n",
      "\n",
      "0: 640x640 1 class_1, 13.6ms\n",
      "Speed: 2.1ms preprocess, 13.6ms inference, 1.2ms postprocess per image at shape (1, 3, 640, 640)\n",
      "\n",
      "0: 640x640 1 class_1, 13.6ms\n",
      "Speed: 2.3ms preprocess, 13.6ms inference, 1.4ms postprocess per image at shape (1, 3, 640, 640)\n",
      "\n",
      "0: 640x640 1 class_3, 13.6ms\n",
      "Speed: 2.5ms preprocess, 13.6ms inference, 1.5ms postprocess per image at shape (1, 3, 640, 640)\n",
      "\n",
      "0: 640x640 1 class_3, 13.6ms\n",
      "Speed: 2.3ms preprocess, 13.6ms inference, 1.4ms postprocess per image at shape (1, 3, 640, 640)\n",
      "\n",
      "0: 640x640 1 class_11, 13.9ms\n",
      "Speed: 2.1ms preprocess, 13.9ms inference, 1.4ms postprocess per image at shape (1, 3, 640, 640)\n",
      "\n",
      "0: 608x640 1 class_11, 14.4ms\n",
      "Speed: 2.2ms preprocess, 14.4ms inference, 1.2ms postprocess per image at shape (1, 3, 608, 640)\n",
      "\n",
      "0: 608x640 1 class_13, 13.9ms\n",
      "Speed: 3.0ms preprocess, 13.9ms inference, 1.4ms postprocess per image at shape (1, 3, 608, 640)\n",
      "\n",
      "0: 640x576 1 class_15, 14.9ms\n",
      "Speed: 3.0ms preprocess, 14.9ms inference, 1.8ms postprocess per image at shape (1, 3, 640, 576)\n",
      "\n",
      "0: 640x640 1 class_10, 15.5ms\n",
      "Speed: 3.1ms preprocess, 15.5ms inference, 1.4ms postprocess per image at shape (1, 3, 640, 640)\n",
      "\n",
      "0: 640x640 1 class_8, 14.3ms\n",
      "Speed: 3.1ms preprocess, 14.3ms inference, 1.5ms postprocess per image at shape (1, 3, 640, 640)\n",
      "\n",
      "0: 640x608 1 class_1, 15.1ms\n",
      "Speed: 2.0ms preprocess, 15.1ms inference, 1.3ms postprocess per image at shape (1, 3, 640, 608)\n",
      "\n",
      "0: 640x640 1 class_7, 15.5ms\n",
      "Speed: 3.1ms preprocess, 15.5ms inference, 1.6ms postprocess per image at shape (1, 3, 640, 640)\n",
      "\n",
      "0: 640x640 1 class_7, 14.4ms\n",
      "Speed: 2.7ms preprocess, 14.4ms inference, 1.2ms postprocess per image at shape (1, 3, 640, 640)\n",
      "\n",
      "0: 640x640 1 class_12, 14.3ms\n",
      "Speed: 3.1ms preprocess, 14.3ms inference, 1.4ms postprocess per image at shape (1, 3, 640, 640)\n",
      "\n",
      "0: 576x640 1 class_13, 15.1ms\n",
      "Speed: 4.4ms preprocess, 15.1ms inference, 1.3ms postprocess per image at shape (1, 3, 576, 640)\n",
      "\n",
      "0: 640x640 1 class_2, 15.1ms\n",
      "Speed: 2.2ms preprocess, 15.1ms inference, 1.3ms postprocess per image at shape (1, 3, 640, 640)\n",
      "\n",
      "0: 640x640 1 class_12, 14.8ms\n",
      "Speed: 2.5ms preprocess, 14.8ms inference, 2.0ms postprocess per image at shape (1, 3, 640, 640)\n",
      "\n",
      "0: 640x640 1 class_36, 14.8ms\n",
      "Speed: 2.6ms preprocess, 14.8ms inference, 1.2ms postprocess per image at shape (1, 3, 640, 640)\n",
      "\n",
      "0: 640x608 1 class_35, 15.4ms\n",
      "Speed: 2.5ms preprocess, 15.4ms inference, 1.1ms postprocess per image at shape (1, 3, 640, 608)\n",
      "\n",
      "0: 576x640 1 class_13, 15.2ms\n",
      "Speed: 2.3ms preprocess, 15.2ms inference, 1.2ms postprocess per image at shape (1, 3, 576, 640)\n",
      "\n",
      "0: 608x640 1 class_13, 15.4ms\n",
      "Speed: 2.4ms preprocess, 15.4ms inference, 1.1ms postprocess per image at shape (1, 3, 608, 640)\n",
      "\n",
      "0: 576x640 1 class_23, 15.4ms\n",
      "Speed: 2.6ms preprocess, 15.4ms inference, 1.3ms postprocess per image at shape (1, 3, 576, 640)\n",
      "\n",
      "0: 576x640 1 class_13, 13.4ms\n",
      "Speed: 2.4ms preprocess, 13.4ms inference, 1.2ms postprocess per image at shape (1, 3, 576, 640)\n",
      "\n",
      "0: 640x640 1 class_7, 14.4ms\n",
      "Speed: 2.6ms preprocess, 14.4ms inference, 1.4ms postprocess per image at shape (1, 3, 640, 640)\n",
      "\n",
      "0: 640x640 1 class_7, 13.6ms\n",
      "Speed: 2.7ms preprocess, 13.6ms inference, 1.3ms postprocess per image at shape (1, 3, 640, 640)\n",
      "\n",
      "0: 640x608 1 class_1, 14.7ms\n",
      "Speed: 3.1ms preprocess, 14.7ms inference, 1.6ms postprocess per image at shape (1, 3, 640, 608)\n",
      "\n",
      "0: 640x640 1 class_5, 14.7ms\n",
      "Speed: 3.0ms preprocess, 14.7ms inference, 1.5ms postprocess per image at shape (1, 3, 640, 640)\n",
      "\n",
      "0: 640x640 1 class_38, 13.6ms\n",
      "Speed: 2.7ms preprocess, 13.6ms inference, 1.3ms postprocess per image at shape (1, 3, 640, 640)\n",
      "\n",
      "0: 640x640 1 class_12, 13.6ms\n",
      "Speed: 2.6ms preprocess, 13.6ms inference, 1.3ms postprocess per image at shape (1, 3, 640, 640)\n",
      "\n",
      "0: 608x640 1 class_18, 14.5ms\n",
      "Speed: 3.1ms preprocess, 14.5ms inference, 2.0ms postprocess per image at shape (1, 3, 608, 640)\n",
      "\n",
      "0: 640x640 1 class_1, 14.5ms\n",
      "Speed: 2.7ms preprocess, 14.5ms inference, 1.5ms postprocess per image at shape (1, 3, 640, 640)\n",
      "\n",
      "0: 640x640 1 class_3, 13.9ms\n",
      "Speed: 2.7ms preprocess, 13.9ms inference, 1.4ms postprocess per image at shape (1, 3, 640, 640)\n",
      "\n",
      "0: 640x640 1 class_12, 13.6ms\n",
      "Speed: 2.8ms preprocess, 13.6ms inference, 2.2ms postprocess per image at shape (1, 3, 640, 640)\n",
      "\n",
      "0: 640x640 1 class_23, 13.6ms\n",
      "Speed: 2.5ms preprocess, 13.6ms inference, 1.4ms postprocess per image at shape (1, 3, 640, 640)\n",
      "\n",
      "0: 640x640 1 class_1, 13.6ms\n",
      "Speed: 2.1ms preprocess, 13.6ms inference, 1.4ms postprocess per image at shape (1, 3, 640, 640)\n",
      "\n",
      "0: 640x640 1 class_2, 13.6ms\n",
      "Speed: 2.4ms preprocess, 13.6ms inference, 1.3ms postprocess per image at shape (1, 3, 640, 640)\n",
      "\n",
      "0: 640x640 1 class_2, 13.7ms\n",
      "Speed: 1.9ms preprocess, 13.7ms inference, 1.2ms postprocess per image at shape (1, 3, 640, 640)\n",
      "\n",
      "0: 640x640 1 class_38, 13.6ms\n",
      "Speed: 2.0ms preprocess, 13.6ms inference, 1.3ms postprocess per image at shape (1, 3, 640, 640)\n",
      "\n",
      "0: 640x640 1 class_9, 13.7ms\n",
      "Speed: 2.2ms preprocess, 13.7ms inference, 1.3ms postprocess per image at shape (1, 3, 640, 640)\n",
      "\n",
      "0: 640x640 1 class_9, 13.6ms\n",
      "Speed: 2.4ms preprocess, 13.6ms inference, 1.4ms postprocess per image at shape (1, 3, 640, 640)\n",
      "\n",
      "0: 640x640 1 class_12, 13.6ms\n",
      "Speed: 1.9ms preprocess, 13.6ms inference, 1.2ms postprocess per image at shape (1, 3, 640, 640)\n",
      "\n",
      "0: 640x640 1 class_2, 13.6ms\n",
      "Speed: 2.7ms preprocess, 13.6ms inference, 1.2ms postprocess per image at shape (1, 3, 640, 640)\n",
      "\n",
      "0: 576x640 1 class_13, 14.1ms\n",
      "Speed: 1.7ms preprocess, 14.1ms inference, 1.2ms postprocess per image at shape (1, 3, 576, 640)\n",
      "\n",
      "0: 576x640 1 class_26, 13.4ms\n",
      "Speed: 1.6ms preprocess, 13.4ms inference, 1.2ms postprocess per image at shape (1, 3, 576, 640)\n",
      "\n",
      "0: 608x640 1 class_26, 14.0ms\n",
      "Speed: 1.8ms preprocess, 14.0ms inference, 1.0ms postprocess per image at shape (1, 3, 608, 640)\n",
      "\n",
      "0: 640x640 1 class_5, 14.3ms\n",
      "Speed: 2.2ms preprocess, 14.3ms inference, 1.2ms postprocess per image at shape (1, 3, 640, 640)\n",
      "\n",
      "0: 608x640 1 class_13, 14.2ms\n",
      "Speed: 2.2ms preprocess, 14.2ms inference, 1.1ms postprocess per image at shape (1, 3, 608, 640)\n",
      "\n",
      "0: 576x640 1 class_13, 14.0ms\n",
      "Speed: 2.3ms preprocess, 14.0ms inference, 1.1ms postprocess per image at shape (1, 3, 576, 640)\n",
      "\n",
      "0: 640x576 1 class_38, 14.0ms\n",
      "Speed: 1.7ms preprocess, 14.0ms inference, 1.2ms postprocess per image at shape (1, 3, 640, 576)\n",
      "\n",
      "0: 608x640 1 class_26, 14.1ms\n",
      "Speed: 2.0ms preprocess, 14.1ms inference, 1.1ms postprocess per image at shape (1, 3, 608, 640)\n",
      "\n",
      "0: 608x640 1 class_26, 13.4ms\n",
      "Speed: 2.0ms preprocess, 13.4ms inference, 1.1ms postprocess per image at shape (1, 3, 608, 640)\n",
      "\n",
      "0: 608x640 1 class_11, 13.5ms\n",
      "Speed: 2.2ms preprocess, 13.5ms inference, 1.1ms postprocess per image at shape (1, 3, 608, 640)\n",
      "\n",
      "0: 640x640 1 class_42, 13.0ms\n",
      "Speed: 2.1ms preprocess, 13.0ms inference, 1.0ms postprocess per image at shape (1, 3, 640, 640)\n",
      "\n",
      "0: 640x640 1 class_42, 12.4ms\n",
      "Speed: 2.1ms preprocess, 12.4ms inference, 1.0ms postprocess per image at shape (1, 3, 640, 640)\n",
      "\n",
      "0: 640x640 1 class_4, 12.4ms\n",
      "Speed: 2.4ms preprocess, 12.4ms inference, 1.0ms postprocess per image at shape (1, 3, 640, 640)\n",
      "\n",
      "0: 640x640 1 class_4, 12.4ms\n",
      "Speed: 2.1ms preprocess, 12.4ms inference, 1.0ms postprocess per image at shape (1, 3, 640, 640)\n",
      "\n",
      "0: 640x640 1 class_17, 12.4ms\n",
      "Speed: 2.0ms preprocess, 12.4ms inference, 1.2ms postprocess per image at shape (1, 3, 640, 640)\n",
      "\n",
      "0: 640x640 1 class_17, 12.4ms\n",
      "Speed: 2.2ms preprocess, 12.4ms inference, 1.2ms postprocess per image at shape (1, 3, 640, 640)\n",
      "\n",
      "0: 640x640 1 class_17, 12.4ms\n",
      "Speed: 1.7ms preprocess, 12.4ms inference, 1.3ms postprocess per image at shape (1, 3, 640, 640)\n",
      "\n",
      "0: 640x640 1 class_0, 12.4ms\n",
      "Speed: 2.1ms preprocess, 12.4ms inference, 1.1ms postprocess per image at shape (1, 3, 640, 640)\n",
      "\n",
      "0: 640x640 1 class_8, 12.4ms\n",
      "Speed: 2.5ms preprocess, 12.4ms inference, 1.2ms postprocess per image at shape (1, 3, 640, 640)\n",
      "\n",
      "0: 640x640 1 class_5, 12.5ms\n",
      "Speed: 2.0ms preprocess, 12.5ms inference, 1.5ms postprocess per image at shape (1, 3, 640, 640)\n",
      "\n",
      "0: 640x640 1 class_5, 12.3ms\n",
      "Speed: 2.5ms preprocess, 12.3ms inference, 1.1ms postprocess per image at shape (1, 3, 640, 640)\n",
      "\n",
      "0: 544x640 1 class_18, 12.2ms\n",
      "Speed: 2.2ms preprocess, 12.2ms inference, 1.2ms postprocess per image at shape (1, 3, 544, 640)\n",
      "\n",
      "0: 608x640 1 class_18, 12.7ms\n",
      "Speed: 2.5ms preprocess, 12.7ms inference, 1.2ms postprocess per image at shape (1, 3, 608, 640)\n",
      "\n",
      "0: 640x640 1 class_2, 12.8ms\n",
      "Speed: 1.8ms preprocess, 12.8ms inference, 1.2ms postprocess per image at shape (1, 3, 640, 640)\n",
      "\n",
      "0: 640x640 1 class_9, 12.0ms\n",
      "Speed: 2.5ms preprocess, 12.0ms inference, 1.1ms postprocess per image at shape (1, 3, 640, 640)\n",
      "\n",
      "0: 640x640 1 class_2, 12.1ms\n",
      "Speed: 2.2ms preprocess, 12.1ms inference, 1.1ms postprocess per image at shape (1, 3, 640, 640)\n",
      "\n",
      "0: 640x640 1 class_9, 12.1ms\n",
      "Speed: 2.4ms preprocess, 12.1ms inference, 1.2ms postprocess per image at shape (1, 3, 640, 640)\n",
      "\n",
      "0: 640x640 1 class_38, 12.1ms\n",
      "Speed: 1.9ms preprocess, 12.1ms inference, 1.2ms postprocess per image at shape (1, 3, 640, 640)\n",
      "\n",
      "0: 576x640 1 class_13, 12.7ms\n",
      "Speed: 2.0ms preprocess, 12.7ms inference, 1.4ms postprocess per image at shape (1, 3, 576, 640)\n",
      "\n",
      "0: 608x640 1 class_23, 12.6ms\n",
      "Speed: 2.7ms preprocess, 12.6ms inference, 1.2ms postprocess per image at shape (1, 3, 608, 640)\n",
      "\n",
      "0: 640x640 1 class_10, 12.8ms\n",
      "Speed: 2.5ms preprocess, 12.8ms inference, 1.2ms postprocess per image at shape (1, 3, 640, 640)\n",
      "\n",
      "0: 640x640 1 class_10, 12.0ms\n",
      "Speed: 1.8ms preprocess, 12.0ms inference, 1.3ms postprocess per image at shape (1, 3, 640, 640)\n",
      "\n",
      "0: 576x640 1 class_28, 12.7ms\n",
      "Speed: 2.3ms preprocess, 12.7ms inference, 1.3ms postprocess per image at shape (1, 3, 576, 640)\n",
      "\n",
      "0: 640x640 1 class_1, 12.7ms\n",
      "Speed: 2.5ms preprocess, 12.7ms inference, 1.1ms postprocess per image at shape (1, 3, 640, 640)\n",
      "\n",
      "0: 608x640 1 class_9, 12.6ms\n",
      "Speed: 1.8ms preprocess, 12.6ms inference, 1.4ms postprocess per image at shape (1, 3, 608, 640)\n",
      "\n",
      "0: 640x608 1 class_4, 12.8ms\n",
      "Speed: 2.1ms preprocess, 12.8ms inference, 1.2ms postprocess per image at shape (1, 3, 640, 608)\n",
      "\n",
      "0: 640x640 1 class_4, 12.7ms\n",
      "Speed: 2.5ms preprocess, 12.7ms inference, 1.2ms postprocess per image at shape (1, 3, 640, 640)\n",
      "\n",
      "0: 640x640 1 class_17, 12.0ms\n",
      "Speed: 2.1ms preprocess, 12.0ms inference, 1.3ms postprocess per image at shape (1, 3, 640, 640)\n",
      "\n",
      "0: 640x640 1 class_38, 12.0ms\n",
      "Speed: 2.0ms preprocess, 12.0ms inference, 1.3ms postprocess per image at shape (1, 3, 640, 640)\n",
      "\n",
      "0: 608x640 1 class_11, 12.2ms\n",
      "Speed: 2.4ms preprocess, 12.2ms inference, 1.4ms postprocess per image at shape (1, 3, 608, 640)\n",
      "\n",
      "0: 640x640 1 class_4, 12.2ms\n",
      "Speed: 2.2ms preprocess, 12.2ms inference, 1.1ms postprocess per image at shape (1, 3, 640, 640)\n",
      "\n",
      "0: 640x640 1 class_12, 11.4ms\n",
      "Speed: 2.1ms preprocess, 11.4ms inference, 1.2ms postprocess per image at shape (1, 3, 640, 640)\n",
      "\n",
      "0: 640x608 1 class_7, 12.1ms\n",
      "Speed: 2.3ms preprocess, 12.1ms inference, 1.2ms postprocess per image at shape (1, 3, 640, 608)\n",
      "\n",
      "0: 640x640 1 class_7, 12.1ms\n",
      "Speed: 2.3ms preprocess, 12.1ms inference, 1.2ms postprocess per image at shape (1, 3, 640, 640)\n",
      "\n",
      "0: 640x640 1 class_1, 11.4ms\n",
      "Speed: 1.9ms preprocess, 11.4ms inference, 1.2ms postprocess per image at shape (1, 3, 640, 640)\n",
      "\n",
      "0: 640x608 1 class_12, 12.1ms\n",
      "Speed: 2.0ms preprocess, 12.1ms inference, 1.2ms postprocess per image at shape (1, 3, 640, 608)\n",
      "\n",
      "0: 640x640 1 class_2, 12.2ms\n",
      "Speed: 2.6ms preprocess, 12.2ms inference, 1.3ms postprocess per image at shape (1, 3, 640, 640)\n",
      "\n",
      "0: 640x640 1 class_14, 11.5ms\n",
      "Speed: 2.3ms preprocess, 11.5ms inference, 1.3ms postprocess per image at shape (1, 3, 640, 640)\n",
      "\n",
      "0: 640x640 1 class_36, 11.4ms\n",
      "Speed: 2.5ms preprocess, 11.4ms inference, 1.3ms postprocess per image at shape (1, 3, 640, 640)\n",
      "\n",
      "0: 640x640 1 class_38, 11.5ms\n",
      "Speed: 2.3ms preprocess, 11.5ms inference, 1.4ms postprocess per image at shape (1, 3, 640, 640)\n",
      "\n",
      "0: 640x640 1 class_35, 11.5ms\n",
      "Speed: 2.2ms preprocess, 11.5ms inference, 1.3ms postprocess per image at shape (1, 3, 640, 640)\n",
      "\n",
      "0: 640x640 1 class_14, 11.5ms\n",
      "Speed: 2.8ms preprocess, 11.5ms inference, 1.4ms postprocess per image at shape (1, 3, 640, 640)\n",
      "\n",
      "0: 640x640 1 class_33, 11.4ms\n",
      "Speed: 2.2ms preprocess, 11.4ms inference, 1.1ms postprocess per image at shape (1, 3, 640, 640)\n",
      "\n",
      "0: 640x640 1 class_10, 11.5ms\n",
      "Speed: 2.6ms preprocess, 11.5ms inference, 1.5ms postprocess per image at shape (1, 3, 640, 640)\n",
      "\n",
      "0: 640x640 1 class_10, 11.5ms\n",
      "Speed: 2.0ms preprocess, 11.5ms inference, 1.2ms postprocess per image at shape (1, 3, 640, 640)\n",
      "\n",
      "0: 640x640 1 class_12, 11.4ms\n",
      "Speed: 1.9ms preprocess, 11.4ms inference, 1.4ms postprocess per image at shape (1, 3, 640, 640)\n",
      "\n",
      "0: 640x608 1 class_38, 12.1ms\n",
      "Speed: 2.0ms preprocess, 12.1ms inference, 1.3ms postprocess per image at shape (1, 3, 640, 608)\n",
      "\n",
      "0: 640x640 1 class_2, 12.2ms\n",
      "Speed: 2.5ms preprocess, 12.2ms inference, 1.2ms postprocess per image at shape (1, 3, 640, 640)\n",
      "\n",
      "0: 640x640 1 class_10, 11.5ms\n",
      "Speed: 1.9ms preprocess, 11.5ms inference, 1.2ms postprocess per image at shape (1, 3, 640, 640)\n",
      "\n",
      "0: 640x640 1 class_10, 11.4ms\n",
      "Speed: 1.8ms preprocess, 11.4ms inference, 1.3ms postprocess per image at shape (1, 3, 640, 640)\n",
      "\n",
      "0: 640x640 1 class_14, 11.5ms\n",
      "Speed: 2.5ms preprocess, 11.5ms inference, 1.3ms postprocess per image at shape (1, 3, 640, 640)\n",
      "\n",
      "0: 608x640 1 class_38, 12.1ms\n",
      "Speed: 2.0ms preprocess, 12.1ms inference, 1.3ms postprocess per image at shape (1, 3, 608, 640)\n",
      "\n",
      "0: 640x640 1 class_8, 12.2ms\n",
      "Speed: 2.6ms preprocess, 12.2ms inference, 1.2ms postprocess per image at shape (1, 3, 640, 640)\n",
      "\n",
      "0: 640x640 1 class_8, 11.4ms\n",
      "Speed: 1.9ms preprocess, 11.4ms inference, 1.2ms postprocess per image at shape (1, 3, 640, 640)\n",
      "\n",
      "0: 640x640 1 class_2, 11.5ms\n",
      "Speed: 2.5ms preprocess, 11.5ms inference, 1.2ms postprocess per image at shape (1, 3, 640, 640)\n",
      "\n",
      "0: 640x640 1 class_4, 11.5ms\n",
      "Speed: 2.0ms preprocess, 11.5ms inference, 1.2ms postprocess per image at shape (1, 3, 640, 640)\n",
      "\n",
      "0: 640x608 1 class_40, 12.1ms\n",
      "Speed: 2.5ms preprocess, 12.1ms inference, 1.2ms postprocess per image at shape (1, 3, 640, 608)\n",
      "\n",
      "0: 640x640 1 class_38, 12.0ms\n",
      "Speed: 2.1ms preprocess, 12.0ms inference, 1.2ms postprocess per image at shape (1, 3, 640, 640)\n",
      "\n",
      "0: 640x640 1 class_13, 11.4ms\n",
      "Speed: 2.4ms preprocess, 11.4ms inference, 1.1ms postprocess per image at shape (1, 3, 640, 640)\n",
      "\n",
      "0: 640x640 1 class_12, 11.5ms\n",
      "Speed: 2.1ms preprocess, 11.5ms inference, 1.5ms postprocess per image at shape (1, 3, 640, 640)\n",
      "\n",
      "0: 608x640 1 class_13, 12.2ms\n",
      "Speed: 2.0ms preprocess, 12.2ms inference, 1.4ms postprocess per image at shape (1, 3, 608, 640)\n",
      "\n",
      "0: 640x640 1 class_5, 12.1ms\n",
      "Speed: 2.7ms preprocess, 12.1ms inference, 1.2ms postprocess per image at shape (1, 3, 640, 640)\n",
      "\n",
      "0: 640x640 1 class_5, 11.4ms\n",
      "Speed: 2.1ms preprocess, 11.4ms inference, 1.1ms postprocess per image at shape (1, 3, 640, 640)\n",
      "\n",
      "0: 640x640 1 class_13, 11.5ms\n",
      "Speed: 2.2ms preprocess, 11.5ms inference, 1.6ms postprocess per image at shape (1, 3, 640, 640)\n",
      "\n",
      "0: 640x640 1 class_40, 11.5ms\n",
      "Speed: 2.0ms preprocess, 11.5ms inference, 1.1ms postprocess per image at shape (1, 3, 640, 640)\n",
      "\n",
      "0: 608x640 1 class_18, 12.1ms\n",
      "Speed: 2.2ms preprocess, 12.1ms inference, 1.4ms postprocess per image at shape (1, 3, 608, 640)\n",
      "\n",
      "0: 608x640 1 class_20, 11.3ms\n",
      "Speed: 2.1ms preprocess, 11.3ms inference, 1.3ms postprocess per image at shape (1, 3, 608, 640)\n",
      "\n",
      "0: 640x640 1 class_9, 12.0ms\n",
      "Speed: 2.1ms preprocess, 12.0ms inference, 1.2ms postprocess per image at shape (1, 3, 640, 640)\n",
      "\n",
      "0: 640x640 1 class_10, 11.4ms\n",
      "Speed: 2.1ms preprocess, 11.4ms inference, 1.1ms postprocess per image at shape (1, 3, 640, 640)\n",
      "\n",
      "0: 640x448 1 class_38, 8.9ms\n",
      "Speed: 1.7ms preprocess, 8.9ms inference, 1.1ms postprocess per image at shape (1, 3, 640, 448)\n",
      "\n",
      "0: 640x640 1 class_4, 12.1ms\n",
      "Speed: 2.1ms preprocess, 12.1ms inference, 1.2ms postprocess per image at shape (1, 3, 640, 640)\n",
      "\n",
      "0: 640x640 1 class_4, 11.5ms\n",
      "Speed: 2.0ms preprocess, 11.5ms inference, 1.1ms postprocess per image at shape (1, 3, 640, 640)\n",
      "\n",
      "0: 576x640 1 class_24, 11.9ms\n",
      "Speed: 2.1ms preprocess, 11.9ms inference, 1.2ms postprocess per image at shape (1, 3, 576, 640)\n",
      "\n",
      "0: 640x640 1 class_1, 12.1ms\n",
      "Speed: 2.3ms preprocess, 12.1ms inference, 1.0ms postprocess per image at shape (1, 3, 640, 640)\n",
      "\n",
      "0: 640x640 1 class_9, 11.4ms\n",
      "Speed: 1.9ms preprocess, 11.4ms inference, 1.1ms postprocess per image at shape (1, 3, 640, 640)\n",
      "\n",
      "0: 576x640 1 class_25, 11.8ms\n",
      "Speed: 2.0ms preprocess, 11.8ms inference, 1.3ms postprocess per image at shape (1, 3, 576, 640)\n",
      "\n",
      "0: 640x640 1 class_1, 12.3ms\n",
      "Speed: 2.1ms preprocess, 12.3ms inference, 1.1ms postprocess per image at shape (1, 3, 640, 640)\n",
      "\n",
      "0: 640x640 1 class_12, 11.4ms\n",
      "Speed: 1.7ms preprocess, 11.4ms inference, 1.2ms postprocess per image at shape (1, 3, 640, 640)\n",
      "\n",
      "0: 640x640 1 class_12, 11.5ms\n",
      "Speed: 2.1ms preprocess, 11.5ms inference, 1.2ms postprocess per image at shape (1, 3, 640, 640)\n",
      "\n",
      "0: 640x640 1 class_38, 11.4ms\n",
      "Speed: 2.0ms preprocess, 11.4ms inference, 1.1ms postprocess per image at shape (1, 3, 640, 640)\n",
      "\n",
      "0: 640x640 1 class_5, 11.5ms\n",
      "Speed: 2.2ms preprocess, 11.5ms inference, 1.1ms postprocess per image at shape (1, 3, 640, 640)\n",
      "\n",
      "0: 576x640 1 class_26, 12.2ms\n",
      "Speed: 2.3ms preprocess, 12.2ms inference, 1.4ms postprocess per image at shape (1, 3, 576, 640)\n",
      "\n",
      "0: 608x640 1 class_4, 12.2ms\n",
      "Speed: 2.3ms preprocess, 12.2ms inference, 1.1ms postprocess per image at shape (1, 3, 608, 640)\n",
      "\n",
      "0: 640x640 1 class_10, 12.2ms\n",
      "Speed: 2.0ms preprocess, 12.2ms inference, 1.0ms postprocess per image at shape (1, 3, 640, 640)\n",
      "\n",
      "0: 640x640 1 class_38, 11.4ms\n",
      "Speed: 2.7ms preprocess, 11.4ms inference, 1.4ms postprocess per image at shape (1, 3, 640, 640)\n",
      "\n",
      "0: 640x640 1 class_3, 11.4ms\n",
      "Speed: 2.6ms preprocess, 11.4ms inference, 1.3ms postprocess per image at shape (1, 3, 640, 640)\n",
      "\n",
      "0: 640x640 1 class_28, 11.6ms\n",
      "Speed: 2.3ms preprocess, 11.6ms inference, 1.3ms postprocess per image at shape (1, 3, 640, 640)\n",
      "\n",
      "0: 640x640 1 class_7, 11.6ms\n",
      "Speed: 2.3ms preprocess, 11.6ms inference, 1.4ms postprocess per image at shape (1, 3, 640, 640)\n",
      "\n",
      "0: 640x640 1 class_14, 11.6ms\n",
      "Speed: 2.3ms preprocess, 11.6ms inference, 1.4ms postprocess per image at shape (1, 3, 640, 640)\n",
      "\n",
      "0: 640x640 1 class_34, 11.6ms\n",
      "Speed: 2.6ms preprocess, 11.6ms inference, 1.2ms postprocess per image at shape (1, 3, 640, 640)\n",
      "\n",
      "0: 640x640 1 class_17, 11.6ms\n",
      "Speed: 1.8ms preprocess, 11.6ms inference, 1.2ms postprocess per image at shape (1, 3, 640, 640)\n",
      "\n",
      "0: 640x640 1 class_17, 11.5ms\n",
      "Speed: 2.1ms preprocess, 11.5ms inference, 1.2ms postprocess per image at shape (1, 3, 640, 640)\n",
      "\n",
      "0: 640x640 1 class_38, 11.6ms\n",
      "Speed: 1.9ms preprocess, 11.6ms inference, 1.2ms postprocess per image at shape (1, 3, 640, 640)\n",
      "\n",
      "0: 640x640 1 class_17, 11.7ms\n",
      "Speed: 2.2ms preprocess, 11.7ms inference, 1.3ms postprocess per image at shape (1, 3, 640, 640)\n",
      "\n",
      "0: 640x640 1 class_17, 11.7ms\n",
      "Speed: 2.0ms preprocess, 11.7ms inference, 1.2ms postprocess per image at shape (1, 3, 640, 640)\n",
      "\n",
      "0: 640x640 1 class_38, 11.7ms\n",
      "Speed: 1.9ms preprocess, 11.7ms inference, 1.1ms postprocess per image at shape (1, 3, 640, 640)\n",
      "\n",
      "0: 640x640 1 class_2, 11.8ms\n",
      "Speed: 2.8ms preprocess, 11.8ms inference, 1.4ms postprocess per image at shape (1, 3, 640, 640)\n",
      "\n",
      "0: 640x640 1 class_1, 12.0ms\n",
      "Speed: 2.2ms preprocess, 12.0ms inference, 1.4ms postprocess per image at shape (1, 3, 640, 640)\n",
      "\n",
      "0: 640x640 1 class_2, 12.0ms\n",
      "Speed: 2.4ms preprocess, 12.0ms inference, 1.4ms postprocess per image at shape (1, 3, 640, 640)\n",
      "\n",
      "0: 640x640 1 class_4, 11.9ms\n",
      "Speed: 2.8ms preprocess, 11.9ms inference, 1.4ms postprocess per image at shape (1, 3, 640, 640)\n",
      "\n",
      "0: 608x640 1 class_12, 12.4ms\n",
      "Speed: 2.3ms preprocess, 12.4ms inference, 1.2ms postprocess per image at shape (1, 3, 608, 640)\n",
      "\n",
      "0: 640x640 1 class_12, 12.7ms\n",
      "Speed: 2.0ms preprocess, 12.7ms inference, 1.2ms postprocess per image at shape (1, 3, 640, 640)\n",
      "\n",
      "0: 640x640 1 class_4, 12.0ms\n",
      "Speed: 1.9ms preprocess, 12.0ms inference, 1.3ms postprocess per image at shape (1, 3, 640, 640)\n",
      "\n",
      "0: 640x640 1 class_4, 12.0ms\n",
      "Speed: 1.8ms preprocess, 12.0ms inference, 1.3ms postprocess per image at shape (1, 3, 640, 640)\n",
      "\n",
      "0: 640x640 1 class_4, 12.0ms\n",
      "Speed: 2.0ms preprocess, 12.0ms inference, 1.2ms postprocess per image at shape (1, 3, 640, 640)\n",
      "\n",
      "0: 640x640 1 class_4, 12.0ms\n",
      "Speed: 2.0ms preprocess, 12.0ms inference, 1.1ms postprocess per image at shape (1, 3, 640, 640)\n",
      "\n",
      "0: 640x640 1 class_15, 12.1ms\n",
      "Speed: 2.2ms preprocess, 12.1ms inference, 1.1ms postprocess per image at shape (1, 3, 640, 640)\n",
      "\n",
      "0: 640x640 1 class_35, 12.1ms\n",
      "Speed: 2.6ms preprocess, 12.1ms inference, 1.2ms postprocess per image at shape (1, 3, 640, 640)\n",
      "\n",
      "0: 640x640 1 class_14, 12.1ms\n",
      "Speed: 2.0ms preprocess, 12.1ms inference, 1.3ms postprocess per image at shape (1, 3, 640, 640)\n",
      "\n",
      "0: 640x640 1 class_14, 12.1ms\n",
      "Speed: 1.8ms preprocess, 12.1ms inference, 1.2ms postprocess per image at shape (1, 3, 640, 640)\n",
      "\n",
      "0: 640x576 1 class_12, 12.9ms\n",
      "Speed: 2.7ms preprocess, 12.9ms inference, 1.7ms postprocess per image at shape (1, 3, 640, 576)\n",
      "\n",
      "0: 640x640 1 class_5, 12.9ms\n",
      "Speed: 2.3ms preprocess, 12.9ms inference, 1.3ms postprocess per image at shape (1, 3, 640, 640)\n",
      "\n",
      "0: 640x640 1 class_5, 12.0ms\n",
      "Speed: 2.2ms preprocess, 12.0ms inference, 1.4ms postprocess per image at shape (1, 3, 640, 640)\n",
      "\n",
      "0: 640x640 1 class_6, 12.1ms\n",
      "Speed: 2.1ms preprocess, 12.1ms inference, 1.7ms postprocess per image at shape (1, 3, 640, 640)\n",
      "\n",
      "0: 640x640 1 class_6, 12.2ms\n",
      "Speed: 2.5ms preprocess, 12.2ms inference, 1.4ms postprocess per image at shape (1, 3, 640, 640)\n",
      "\n",
      "0: 640x640 1 class_9, 12.2ms\n",
      "Speed: 2.2ms preprocess, 12.2ms inference, 1.3ms postprocess per image at shape (1, 3, 640, 640)\n",
      "\n",
      "0: 608x640 1 class_13, 12.9ms\n",
      "Speed: 2.1ms preprocess, 12.9ms inference, 1.3ms postprocess per image at shape (1, 3, 608, 640)\n",
      "\n",
      "0: 576x640 1 class_13, 12.7ms\n",
      "Speed: 2.4ms preprocess, 12.7ms inference, 1.3ms postprocess per image at shape (1, 3, 576, 640)\n",
      "\n",
      "0: 640x640 1 class_1, 14.7ms\n",
      "Speed: 2.2ms preprocess, 14.7ms inference, 1.2ms postprocess per image at shape (1, 3, 640, 640)\n",
      "\n",
      "0: 544x640 1 class_30, 12.5ms\n",
      "Speed: 2.2ms preprocess, 12.5ms inference, 1.1ms postprocess per image at shape (1, 3, 544, 640)\n",
      "\n",
      "0: 544x640 1 class_30, 11.8ms\n",
      "Speed: 1.6ms preprocess, 11.8ms inference, 1.2ms postprocess per image at shape (1, 3, 544, 640)\n",
      "\n",
      "0: 640x640 1 class_36, 13.1ms\n",
      "Speed: 1.8ms preprocess, 13.1ms inference, 1.1ms postprocess per image at shape (1, 3, 640, 640)\n",
      "\n",
      "0: 640x640 1 class_12, 12.4ms\n",
      "Speed: 1.8ms preprocess, 12.4ms inference, 1.2ms postprocess per image at shape (1, 3, 640, 640)\n",
      "\n",
      "0: 608x640 1 class_11, 13.1ms\n",
      "Speed: 2.8ms preprocess, 13.1ms inference, 1.3ms postprocess per image at shape (1, 3, 608, 640)\n",
      "\n",
      "0: 608x640 1 class_25, 12.3ms\n",
      "Speed: 2.5ms preprocess, 12.3ms inference, 1.1ms postprocess per image at shape (1, 3, 608, 640)\n",
      "\n",
      "0: 640x576 1 class_1, 12.8ms\n",
      "Speed: 1.8ms preprocess, 12.8ms inference, 1.0ms postprocess per image at shape (1, 3, 640, 576)\n",
      "\n",
      "0: 640x640 1 class_7, 12.3ms\n",
      "Speed: 1.9ms preprocess, 12.3ms inference, 1.1ms postprocess per image at shape (1, 3, 640, 640)\n",
      "\n",
      "0: 640x640 1 class_7, 11.6ms\n",
      "Speed: 1.8ms preprocess, 11.6ms inference, 1.0ms postprocess per image at shape (1, 3, 640, 640)\n",
      "\n",
      "0: 640x640 1 class_10, 11.6ms\n",
      "Speed: 2.3ms preprocess, 11.6ms inference, 1.4ms postprocess per image at shape (1, 3, 640, 640)\n",
      "\n",
      "0: 640x640 1 class_10, 11.6ms\n",
      "Speed: 2.0ms preprocess, 11.6ms inference, 1.2ms postprocess per image at shape (1, 3, 640, 640)\n",
      "\n",
      "0: 640x640 1 class_34, 11.6ms\n",
      "Speed: 2.2ms preprocess, 11.6ms inference, 1.3ms postprocess per image at shape (1, 3, 640, 640)\n",
      "\n",
      "0: 640x640 1 class_12, 11.6ms\n",
      "Speed: 2.1ms preprocess, 11.6ms inference, 1.1ms postprocess per image at shape (1, 3, 640, 640)\n",
      "\n",
      "0: 640x608 1 class_33, 12.2ms\n",
      "Speed: 1.9ms preprocess, 12.2ms inference, 1.0ms postprocess per image at shape (1, 3, 640, 608)\n",
      "\n",
      "0: 640x576 1 class_7, 12.1ms\n",
      "Speed: 2.1ms preprocess, 12.1ms inference, 1.2ms postprocess per image at shape (1, 3, 640, 576)\n",
      "\n",
      "0: 640x608 1 class_2, 12.4ms\n",
      "Speed: 2.6ms preprocess, 12.4ms inference, 1.3ms postprocess per image at shape (1, 3, 640, 608)\n",
      "\n",
      "0: 640x640 1 class_2, 12.2ms\n",
      "Speed: 1.8ms preprocess, 12.2ms inference, 1.1ms postprocess per image at shape (1, 3, 640, 640)\n",
      "\n",
      "0: 544x640 1 class_11, 11.7ms\n",
      "Speed: 1.7ms preprocess, 11.7ms inference, 1.1ms postprocess per image at shape (1, 3, 544, 640)\n",
      "\n",
      "0: 640x640 1 class_5, 12.7ms\n",
      "Speed: 2.6ms preprocess, 12.7ms inference, 1.7ms postprocess per image at shape (1, 3, 640, 640)\n",
      "\n",
      "0: 640x640 1 class_5, 11.6ms\n",
      "Speed: 1.8ms preprocess, 11.6ms inference, 1.1ms postprocess per image at shape (1, 3, 640, 640)\n",
      "\n",
      "0: 640x640 1 class_2, 11.6ms\n",
      "Speed: 2.2ms preprocess, 11.6ms inference, 1.1ms postprocess per image at shape (1, 3, 640, 640)\n",
      "\n",
      "0: 640x640 1 class_41, 11.6ms\n",
      "Speed: 2.1ms preprocess, 11.6ms inference, 1.6ms postprocess per image at shape (1, 3, 640, 640)\n",
      "\n",
      "0: 640x640 1 class_41, 11.6ms\n",
      "Speed: 2.0ms preprocess, 11.6ms inference, 1.1ms postprocess per image at shape (1, 3, 640, 640)\n",
      "\n",
      "0: 608x640 1 class_29, 12.1ms\n",
      "Speed: 2.3ms preprocess, 12.1ms inference, 1.1ms postprocess per image at shape (1, 3, 608, 640)\n",
      "\n",
      "0: 608x640 1 class_1, 11.5ms\n",
      "Speed: 1.9ms preprocess, 11.5ms inference, 1.1ms postprocess per image at shape (1, 3, 608, 640)\n",
      "\n",
      "0: 640x640 1 class_14, 12.2ms\n",
      "Speed: 1.9ms preprocess, 12.2ms inference, 1.1ms postprocess per image at shape (1, 3, 640, 640)\n",
      "\n",
      "0: 640x640 1 class_14, 11.6ms\n",
      "Speed: 2.2ms preprocess, 11.6ms inference, 1.0ms postprocess per image at shape (1, 3, 640, 640)\n",
      "\n",
      "0: 640x640 1 class_1, 11.6ms\n",
      "Speed: 1.8ms preprocess, 11.6ms inference, 1.1ms postprocess per image at shape (1, 3, 640, 640)\n",
      "\n",
      "0: 640x640 1 class_6, 11.6ms\n",
      "Speed: 2.4ms preprocess, 11.6ms inference, 1.1ms postprocess per image at shape (1, 3, 640, 640)\n",
      "\n",
      "0: 640x640 1 class_6, 11.6ms\n",
      "Speed: 1.9ms preprocess, 11.6ms inference, 1.0ms postprocess per image at shape (1, 3, 640, 640)\n",
      "\n",
      "0: 640x640 1 class_9, 11.6ms\n",
      "Speed: 2.4ms preprocess, 11.6ms inference, 1.3ms postprocess per image at shape (1, 3, 640, 640)\n",
      "\n",
      "0: 544x640 1 class_18, 11.8ms\n",
      "Speed: 1.6ms preprocess, 11.8ms inference, 1.2ms postprocess per image at shape (1, 3, 544, 640)\n",
      "\n",
      "0: 640x640 1 class_18, 12.2ms\n",
      "Speed: 2.3ms preprocess, 12.2ms inference, 1.0ms postprocess per image at shape (1, 3, 640, 640)\n",
      "\n",
      "0: 608x640 1 class_30, 12.3ms\n",
      "Speed: 1.9ms preprocess, 12.3ms inference, 1.2ms postprocess per image at shape (1, 3, 608, 640)\n",
      "\n",
      "0: 608x640 1 class_30, 11.5ms\n",
      "Speed: 2.6ms preprocess, 11.5ms inference, 1.2ms postprocess per image at shape (1, 3, 608, 640)\n",
      "\n",
      "0: 608x640 1 class_28, 11.5ms\n",
      "Speed: 2.3ms preprocess, 11.5ms inference, 1.1ms postprocess per image at shape (1, 3, 608, 640)\n",
      "\n",
      "0: 640x640 1 class_1, 12.2ms\n",
      "Speed: 2.5ms preprocess, 12.2ms inference, 1.0ms postprocess per image at shape (1, 3, 640, 640)\n",
      "\n",
      "0: 640x576 1 class_14, 12.0ms\n",
      "Speed: 2.0ms preprocess, 12.0ms inference, 1.1ms postprocess per image at shape (1, 3, 640, 576)\n",
      "\n",
      "0: 640x576 1 class_38, 11.3ms\n",
      "Speed: 1.9ms preprocess, 11.3ms inference, 1.1ms postprocess per image at shape (1, 3, 640, 576)\n",
      "\n",
      "0: 608x640 1 class_25, 12.2ms\n",
      "Speed: 2.2ms preprocess, 12.2ms inference, 1.3ms postprocess per image at shape (1, 3, 608, 640)\n",
      "\n",
      "0: 640x640 1 class_14, 12.3ms\n",
      "Speed: 2.3ms preprocess, 12.3ms inference, 1.2ms postprocess per image at shape (1, 3, 640, 640)\n",
      "\n",
      "0: 640x640 1 class_9, 11.6ms\n",
      "Speed: 2.1ms preprocess, 11.6ms inference, 1.3ms postprocess per image at shape (1, 3, 640, 640)\n",
      "\n",
      "0: 640x640 1 class_40, 11.6ms\n",
      "Speed: 2.2ms preprocess, 11.6ms inference, 1.3ms postprocess per image at shape (1, 3, 640, 640)\n",
      "\n",
      "0: 544x640 1 class_13, 11.8ms\n",
      "Speed: 2.1ms preprocess, 11.8ms inference, 1.1ms postprocess per image at shape (1, 3, 544, 640)\n",
      "\n",
      "0: 640x640 1 class_38, 12.2ms\n",
      "Speed: 2.6ms preprocess, 12.2ms inference, 1.1ms postprocess per image at shape (1, 3, 640, 640)\n",
      "\n",
      "0: 640x640 1 class_41, 11.6ms\n",
      "Speed: 2.5ms preprocess, 11.6ms inference, 1.3ms postprocess per image at shape (1, 3, 640, 640)\n",
      "\n",
      "0: 576x640 1 class_28, 12.0ms\n",
      "Speed: 1.8ms preprocess, 12.0ms inference, 1.1ms postprocess per image at shape (1, 3, 576, 640)\n",
      "\n",
      "0: 640x640 1 class_15, 12.2ms\n",
      "Speed: 2.3ms preprocess, 12.2ms inference, 1.0ms postprocess per image at shape (1, 3, 640, 640)\n",
      "\n",
      "0: 608x640 1 class_12, 12.3ms\n",
      "Speed: 2.3ms preprocess, 12.3ms inference, 1.2ms postprocess per image at shape (1, 3, 608, 640)\n",
      "\n",
      "0: 608x640 1 class_25, 11.5ms\n",
      "Speed: 2.2ms preprocess, 11.5ms inference, 1.2ms postprocess per image at shape (1, 3, 608, 640)\n",
      "\n",
      "0: 608x640 1 class_11, 11.5ms\n",
      "Speed: 2.3ms preprocess, 11.5ms inference, 1.2ms postprocess per image at shape (1, 3, 608, 640)\n",
      "\n",
      "0: 640x640 1 class_4, 12.3ms\n",
      "Speed: 2.1ms preprocess, 12.3ms inference, 1.1ms postprocess per image at shape (1, 3, 640, 640)\n",
      "\n",
      "0: 640x640 1 class_4, 11.6ms\n",
      "Speed: 2.0ms preprocess, 11.6ms inference, 1.1ms postprocess per image at shape (1, 3, 640, 640)\n",
      "\n",
      "0: 576x640 1 class_13, 12.1ms\n",
      "Speed: 1.9ms preprocess, 12.1ms inference, 1.1ms postprocess per image at shape (1, 3, 576, 640)\n",
      "\n",
      "0: 640x640 1 class_40, 12.2ms\n",
      "Speed: 2.3ms preprocess, 12.2ms inference, 1.0ms postprocess per image at shape (1, 3, 640, 640)\n",
      "\n",
      "0: 640x640 1 class_10, 11.6ms\n",
      "Speed: 2.1ms preprocess, 11.6ms inference, 1.2ms postprocess per image at shape (1, 3, 640, 640)\n",
      "\n",
      "0: 608x640 1 class_11, 12.3ms\n",
      "Speed: 2.1ms preprocess, 12.3ms inference, 1.2ms postprocess per image at shape (1, 3, 608, 640)\n",
      "\n",
      "0: 640x640 1 class_7, 12.4ms\n",
      "Speed: 2.1ms preprocess, 12.4ms inference, 1.2ms postprocess per image at shape (1, 3, 640, 640)\n",
      "\n",
      "0: 640x640 1 class_7, 11.6ms\n",
      "Speed: 2.5ms preprocess, 11.6ms inference, 1.1ms postprocess per image at shape (1, 3, 640, 640)\n",
      "\n",
      "0: 640x640 1 class_9, 12.2ms\n",
      "Speed: 2.2ms preprocess, 12.2ms inference, 1.2ms postprocess per image at shape (1, 3, 640, 640)\n",
      "\n",
      "0: 640x640 1 class_9, 12.2ms\n",
      "Speed: 1.8ms preprocess, 12.2ms inference, 1.1ms postprocess per image at shape (1, 3, 640, 640)\n",
      "\n",
      "0: 640x640 1 class_38, 12.3ms\n",
      "Speed: 1.7ms preprocess, 12.3ms inference, 1.2ms postprocess per image at shape (1, 3, 640, 640)\n",
      "\n",
      "0: 640x640 1 class_1, 12.2ms\n",
      "Speed: 2.2ms preprocess, 12.2ms inference, 1.2ms postprocess per image at shape (1, 3, 640, 640)\n",
      "\n",
      "0: 608x640 1 class_18, 12.9ms\n",
      "Speed: 2.0ms preprocess, 12.9ms inference, 1.3ms postprocess per image at shape (1, 3, 608, 640)\n",
      "\n",
      "0: 608x640 1 class_18, 12.1ms\n",
      "Speed: 2.1ms preprocess, 12.1ms inference, 1.2ms postprocess per image at shape (1, 3, 608, 640)\n",
      "\n",
      "0: 640x640 1 class_38, 13.0ms\n",
      "Speed: 1.8ms preprocess, 13.0ms inference, 1.1ms postprocess per image at shape (1, 3, 640, 640)\n",
      "\n",
      "0: 640x640 1 class_36, 12.2ms\n",
      "Speed: 1.9ms preprocess, 12.2ms inference, 1.3ms postprocess per image at shape (1, 3, 640, 640)\n",
      "\n",
      "0: 608x640 1 class_12, 12.8ms\n",
      "Speed: 2.5ms preprocess, 12.8ms inference, 1.1ms postprocess per image at shape (1, 3, 608, 640)\n",
      "\n",
      "0: 640x640 1 class_1, 12.9ms\n",
      "Speed: 2.3ms preprocess, 12.9ms inference, 1.2ms postprocess per image at shape (1, 3, 640, 640)\n",
      "\n",
      "0: 640x640 1 class_2, 12.2ms\n",
      "Speed: 2.1ms preprocess, 12.2ms inference, 1.2ms postprocess per image at shape (1, 3, 640, 640)\n",
      "\n",
      "0: 640x640 1 class_2, 12.2ms\n",
      "Speed: 2.0ms preprocess, 12.2ms inference, 1.1ms postprocess per image at shape (1, 3, 640, 640)\n",
      "\n",
      "0: 640x640 1 class_38, 12.2ms\n",
      "Speed: 2.5ms preprocess, 12.2ms inference, 1.1ms postprocess per image at shape (1, 3, 640, 640)\n",
      "\n",
      "0: 640x640 1 class_38, 12.2ms\n",
      "Speed: 1.8ms preprocess, 12.2ms inference, 1.2ms postprocess per image at shape (1, 3, 640, 640)\n",
      "\n",
      "0: 640x640 1 class_17, 12.2ms\n",
      "Speed: 1.8ms preprocess, 12.2ms inference, 1.2ms postprocess per image at shape (1, 3, 640, 640)\n",
      "\n",
      "0: 640x640 1 class_2, 12.2ms\n",
      "Speed: 2.0ms preprocess, 12.2ms inference, 1.3ms postprocess per image at shape (1, 3, 640, 640)\n",
      "\n",
      "0: 640x544 1 class_14, 12.8ms\n",
      "Speed: 2.4ms preprocess, 12.8ms inference, 1.2ms postprocess per image at shape (1, 3, 640, 544)\n",
      "\n",
      "0: 640x640 1 class_33, 13.0ms\n",
      "Speed: 1.9ms preprocess, 13.0ms inference, 1.2ms postprocess per image at shape (1, 3, 640, 640)\n",
      "\n",
      "0: 608x640 1 class_11, 13.0ms\n",
      "Speed: 2.7ms preprocess, 13.0ms inference, 1.2ms postprocess per image at shape (1, 3, 608, 640)\n",
      "\n",
      "0: 640x608 1 class_4, 13.1ms\n",
      "Speed: 1.9ms preprocess, 13.1ms inference, 1.2ms postprocess per image at shape (1, 3, 640, 608)\n",
      "\n",
      "0: 640x608 1 class_6, 12.4ms\n",
      "Speed: 2.2ms preprocess, 12.4ms inference, 1.3ms postprocess per image at shape (1, 3, 640, 608)\n",
      "\n",
      "0: 640x640 1 class_6, 13.0ms\n",
      "Speed: 2.2ms preprocess, 13.0ms inference, 1.1ms postprocess per image at shape (1, 3, 640, 640)\n",
      "\n",
      "0: 640x640 1 class_15, 12.6ms\n",
      "Speed: 2.0ms preprocess, 12.6ms inference, 1.3ms postprocess per image at shape (1, 3, 640, 640)\n",
      "\n",
      "0: 608x640 1 class_30, 13.1ms\n",
      "Speed: 2.0ms preprocess, 13.1ms inference, 1.2ms postprocess per image at shape (1, 3, 608, 640)\n",
      "\n",
      "0: 608x640 1 class_30, 12.4ms\n",
      "Speed: 2.5ms preprocess, 12.4ms inference, 1.1ms postprocess per image at shape (1, 3, 608, 640)\n",
      "\n",
      "0: 640x640 1 class_12, 13.3ms\n",
      "Speed: 1.9ms preprocess, 13.3ms inference, 1.1ms postprocess per image at shape (1, 3, 640, 640)\n",
      "\n",
      "0: 640x640 1 class_34, 12.6ms\n",
      "Speed: 2.5ms preprocess, 12.6ms inference, 1.2ms postprocess per image at shape (1, 3, 640, 640)\n",
      "\n",
      "0: 640x640 1 class_33, 12.6ms\n",
      "Speed: 2.1ms preprocess, 12.6ms inference, 1.1ms postprocess per image at shape (1, 3, 640, 640)\n",
      "\n",
      "0: 640x576 1 class_38, 12.9ms\n",
      "Speed: 2.0ms preprocess, 12.9ms inference, 1.1ms postprocess per image at shape (1, 3, 640, 576)\n",
      "\n",
      "0: 576x640 1 class_13, 13.0ms\n",
      "Speed: 2.3ms preprocess, 13.0ms inference, 1.1ms postprocess per image at shape (1, 3, 576, 640)\n",
      "\n",
      "0: 544x640 1 class_13, 12.7ms\n",
      "Speed: 1.8ms preprocess, 12.7ms inference, 1.1ms postprocess per image at shape (1, 3, 544, 640)\n",
      "\n",
      "0: 640x640 1 class_4, 13.2ms\n",
      "Speed: 2.6ms preprocess, 13.2ms inference, 1.1ms postprocess per image at shape (1, 3, 640, 640)\n",
      "\n",
      "0: 640x576 1 class_15, 13.0ms\n",
      "Speed: 2.0ms preprocess, 13.0ms inference, 1.1ms postprocess per image at shape (1, 3, 640, 576)\n",
      "\n",
      "0: 640x640 1 class_14, 13.2ms\n",
      "Speed: 2.0ms preprocess, 13.2ms inference, 1.1ms postprocess per image at shape (1, 3, 640, 640)\n",
      "\n",
      "0: 640x640 1 class_38, 12.5ms\n",
      "Speed: 1.7ms preprocess, 12.5ms inference, 1.0ms postprocess per image at shape (1, 3, 640, 640)\n",
      "\n",
      "0: 640x640 1 class_4, 12.6ms\n",
      "Speed: 2.4ms preprocess, 12.6ms inference, 1.3ms postprocess per image at shape (1, 3, 640, 640)\n",
      "\n",
      "0: 608x640 1 class_11, 13.1ms\n",
      "Speed: 2.0ms preprocess, 13.1ms inference, 1.2ms postprocess per image at shape (1, 3, 608, 640)\n",
      "\n",
      "0: 640x608 1 class_6, 13.3ms\n",
      "Speed: 2.0ms preprocess, 13.3ms inference, 1.1ms postprocess per image at shape (1, 3, 640, 608)\n",
      "\n",
      "0: 640x640 1 class_6, 13.3ms\n",
      "Speed: 2.0ms preprocess, 13.3ms inference, 1.2ms postprocess per image at shape (1, 3, 640, 640)\n",
      "\n",
      "0: 640x640 1 class_5, 12.8ms\n",
      "Speed: 2.7ms preprocess, 12.8ms inference, 1.2ms postprocess per image at shape (1, 3, 640, 640)\n",
      "\n",
      "0: 640x640 1 class_4, 12.8ms\n",
      "Speed: 1.9ms preprocess, 12.8ms inference, 1.3ms postprocess per image at shape (1, 3, 640, 640)\n",
      "\n",
      "0: 640x640 1 class_4, 12.7ms\n",
      "Speed: 2.5ms preprocess, 12.7ms inference, 1.0ms postprocess per image at shape (1, 3, 640, 640)\n",
      "\n",
      "0: 640x640 1 class_12, 12.7ms\n",
      "Speed: 1.7ms preprocess, 12.7ms inference, 1.1ms postprocess per image at shape (1, 3, 640, 640)\n",
      "\n",
      "0: 640x640 1 class_4, 12.8ms\n",
      "Speed: 2.1ms preprocess, 12.8ms inference, 1.3ms postprocess per image at shape (1, 3, 640, 640)\n",
      "\n",
      "0: 640x640 1 class_4, 12.8ms\n",
      "Speed: 1.9ms preprocess, 12.8ms inference, 1.1ms postprocess per image at shape (1, 3, 640, 640)\n",
      "\n",
      "0: 640x608 1 class_12, 13.5ms\n",
      "Speed: 2.5ms preprocess, 13.5ms inference, 1.3ms postprocess per image at shape (1, 3, 640, 608)\n",
      "\n",
      "0: 608x640 1 class_22, 12.1ms\n",
      "Speed: 2.2ms preprocess, 12.1ms inference, 1.2ms postprocess per image at shape (1, 3, 608, 640)\n",
      "\n",
      "0: 640x640 1 class_2, 12.1ms\n",
      "Speed: 2.1ms preprocess, 12.1ms inference, 1.1ms postprocess per image at shape (1, 3, 640, 640)\n",
      "\n",
      "0: 576x640 1 class_23, 11.9ms\n",
      "Speed: 1.9ms preprocess, 11.9ms inference, 1.3ms postprocess per image at shape (1, 3, 576, 640)\n",
      "\n",
      "0: 544x640 1 class_23, 11.6ms\n",
      "Speed: 1.8ms preprocess, 11.6ms inference, 1.2ms postprocess per image at shape (1, 3, 544, 640)\n",
      "\n",
      "0: 640x640 1 class_4, 12.1ms\n",
      "Speed: 1.9ms preprocess, 12.1ms inference, 1.2ms postprocess per image at shape (1, 3, 640, 640)\n",
      "\n",
      "0: 640x640 1 class_6, 11.4ms\n",
      "Speed: 1.9ms preprocess, 11.4ms inference, 1.1ms postprocess per image at shape (1, 3, 640, 640)\n",
      "\n",
      "0: 640x640 1 class_6, 11.4ms\n",
      "Speed: 1.9ms preprocess, 11.4ms inference, 1.1ms postprocess per image at shape (1, 3, 640, 640)\n",
      "\n",
      "0: 576x640 1 class_22, 11.8ms\n",
      "Speed: 2.1ms preprocess, 11.8ms inference, 1.0ms postprocess per image at shape (1, 3, 576, 640)\n",
      "\n",
      "0: 640x640 1 class_20, 12.2ms\n",
      "Speed: 2.1ms preprocess, 12.2ms inference, 1.2ms postprocess per image at shape (1, 3, 640, 640)\n",
      "\n",
      "0: 640x640 1 class_20, 11.4ms\n",
      "Speed: 2.3ms preprocess, 11.4ms inference, 1.0ms postprocess per image at shape (1, 3, 640, 640)\n",
      "\n",
      "0: 640x640 1 class_7, 11.5ms\n",
      "Speed: 2.1ms preprocess, 11.5ms inference, 1.1ms postprocess per image at shape (1, 3, 640, 640)\n",
      "\n",
      "0: 640x640 1 class_7, 11.4ms\n",
      "Speed: 2.4ms preprocess, 11.4ms inference, 1.1ms postprocess per image at shape (1, 3, 640, 640)\n",
      "\n",
      "0: 640x640 1 class_17, 11.4ms\n",
      "Speed: 1.9ms preprocess, 11.4ms inference, 1.2ms postprocess per image at shape (1, 3, 640, 640)\n",
      "\n",
      "0: 640x608 1 class_1, 12.0ms\n",
      "Speed: 2.3ms preprocess, 12.0ms inference, 1.1ms postprocess per image at shape (1, 3, 640, 608)\n",
      "\n",
      "0: 640x640 1 class_12, 12.1ms\n",
      "Speed: 2.0ms preprocess, 12.1ms inference, 1.3ms postprocess per image at shape (1, 3, 640, 640)\n",
      "\n",
      "0: 640x640 1 class_8, 11.4ms\n",
      "Speed: 1.8ms preprocess, 11.4ms inference, 1.3ms postprocess per image at shape (1, 3, 640, 640)\n",
      "\n",
      "0: 640x640 1 class_8, 11.4ms\n",
      "Speed: 2.0ms preprocess, 11.4ms inference, 1.2ms postprocess per image at shape (1, 3, 640, 640)\n",
      "\n",
      "0: 640x640 1 class_0, 11.5ms\n",
      "Speed: 2.3ms preprocess, 11.5ms inference, 1.4ms postprocess per image at shape (1, 3, 640, 640)\n",
      "\n",
      "0: 640x640 1 class_1, 11.4ms\n",
      "Speed: 2.2ms preprocess, 11.4ms inference, 1.3ms postprocess per image at shape (1, 3, 640, 640)\n",
      "\n",
      "0: 640x608 1 class_4, 12.1ms\n",
      "Speed: 2.2ms preprocess, 12.1ms inference, 1.3ms postprocess per image at shape (1, 3, 640, 608)\n",
      "\n",
      "0: 640x640 1 class_26, 12.2ms\n",
      "Speed: 2.0ms preprocess, 12.2ms inference, 1.2ms postprocess per image at shape (1, 3, 640, 640)\n",
      "\n",
      "0: 640x608 1 class_5, 12.2ms\n",
      "Speed: 2.2ms preprocess, 12.2ms inference, 1.5ms postprocess per image at shape (1, 3, 640, 608)\n",
      "\n",
      "0: 640x640 1 class_5, 12.2ms\n",
      "Speed: 2.4ms preprocess, 12.2ms inference, 1.1ms postprocess per image at shape (1, 3, 640, 640)\n",
      "\n",
      "0: 576x640 1 class_30, 11.9ms\n",
      "Speed: 2.1ms preprocess, 11.9ms inference, 1.3ms postprocess per image at shape (1, 3, 576, 640)\n",
      "\n",
      "0: 576x640 1 class_11, 11.2ms\n",
      "Speed: 2.3ms preprocess, 11.2ms inference, 1.2ms postprocess per image at shape (1, 3, 576, 640)\n",
      "\n",
      "0: 608x640 1 class_24, 12.1ms\n",
      "Speed: 2.1ms preprocess, 12.1ms inference, 1.3ms postprocess per image at shape (1, 3, 608, 640)\n",
      "\n",
      "0: 544x640 1 class_18, 11.5ms\n",
      "Speed: 2.3ms preprocess, 11.5ms inference, 1.1ms postprocess per image at shape (1, 3, 544, 640)\n",
      "\n",
      "0: 640x640 1 class_1, 12.1ms\n",
      "Speed: 2.0ms preprocess, 12.1ms inference, 1.2ms postprocess per image at shape (1, 3, 640, 640)\n",
      "\n",
      "0: 640x640 1 class_12, 11.4ms\n",
      "Speed: 2.3ms preprocess, 11.4ms inference, 1.1ms postprocess per image at shape (1, 3, 640, 640)\n",
      "\n",
      "0: 640x640 1 class_42, 11.4ms\n",
      "Speed: 2.1ms preprocess, 11.4ms inference, 1.2ms postprocess per image at shape (1, 3, 640, 640)\n",
      "\n",
      "0: 640x640 1 class_42, 11.4ms\n",
      "Speed: 2.0ms preprocess, 11.4ms inference, 1.2ms postprocess per image at shape (1, 3, 640, 640)\n",
      "\n",
      "0: 640x640 1 class_14, 11.4ms\n",
      "Speed: 2.5ms preprocess, 11.4ms inference, 1.2ms postprocess per image at shape (1, 3, 640, 640)\n",
      "\n",
      "0: 640x640 1 class_38, 11.4ms\n",
      "Speed: 1.9ms preprocess, 11.4ms inference, 1.3ms postprocess per image at shape (1, 3, 640, 640)\n",
      "\n",
      "0: 640x608 1 class_14, 12.1ms\n",
      "Speed: 2.0ms preprocess, 12.1ms inference, 1.3ms postprocess per image at shape (1, 3, 640, 608)\n",
      "\n",
      "0: 640x640 1 class_4, 12.6ms\n",
      "Speed: 2.6ms preprocess, 12.6ms inference, 1.8ms postprocess per image at shape (1, 3, 640, 640)\n",
      "\n",
      "0: 640x640 1 class_12, 11.4ms\n",
      "Speed: 2.2ms preprocess, 11.4ms inference, 1.1ms postprocess per image at shape (1, 3, 640, 640)\n",
      "\n",
      "0: 544x640 1 class_13, 11.6ms\n",
      "Speed: 1.6ms preprocess, 11.6ms inference, 1.1ms postprocess per image at shape (1, 3, 544, 640)\n",
      "\n",
      "0: 640x640 1 class_38, 12.1ms\n",
      "Speed: 1.7ms preprocess, 12.1ms inference, 1.0ms postprocess per image at shape (1, 3, 640, 640)\n",
      "\n",
      "0: 640x640 1 class_40, 11.4ms\n",
      "Speed: 1.9ms preprocess, 11.4ms inference, 1.1ms postprocess per image at shape (1, 3, 640, 640)\n",
      "\n",
      "0: 640x640 1 class_1, 11.5ms\n",
      "Speed: 2.3ms preprocess, 11.5ms inference, 1.3ms postprocess per image at shape (1, 3, 640, 640)\n",
      "\n",
      "0: 640x640 1 class_34, 11.4ms\n",
      "Speed: 2.6ms preprocess, 11.4ms inference, 1.4ms postprocess per image at shape (1, 3, 640, 640)\n",
      "\n",
      "0: 640x640 1 class_1, 13.6ms\n",
      "Speed: 3.4ms preprocess, 13.6ms inference, 1.5ms postprocess per image at shape (1, 3, 640, 640)\n",
      "\n",
      "0: 576x640 1 class_30, 12.0ms\n",
      "Speed: 2.2ms preprocess, 12.0ms inference, 1.3ms postprocess per image at shape (1, 3, 576, 640)\n",
      "\n",
      "0: 640x640 1 class_9, 12.2ms\n",
      "Speed: 2.4ms preprocess, 12.2ms inference, 1.3ms postprocess per image at shape (1, 3, 640, 640)\n",
      "\n",
      "0: 640x640 1 class_1, 11.4ms\n",
      "Speed: 1.9ms preprocess, 11.4ms inference, 1.1ms postprocess per image at shape (1, 3, 640, 640)\n",
      "\n",
      "0: 640x608 1 class_35, 12.0ms\n",
      "Speed: 1.9ms preprocess, 12.0ms inference, 1.1ms postprocess per image at shape (1, 3, 640, 608)\n",
      "\n",
      "0: 608x640 1 class_24, 12.1ms\n",
      "Speed: 2.3ms preprocess, 12.1ms inference, 1.2ms postprocess per image at shape (1, 3, 608, 640)\n",
      "\n",
      "0: 640x640 1 class_13, 12.1ms\n",
      "Speed: 1.7ms preprocess, 12.1ms inference, 1.1ms postprocess per image at shape (1, 3, 640, 640)\n",
      "\n",
      "0: 640x640 1 class_28, 11.4ms\n",
      "Speed: 2.0ms preprocess, 11.4ms inference, 1.4ms postprocess per image at shape (1, 3, 640, 640)\n",
      "\n",
      "0: 640x544 1 class_1, 11.7ms\n",
      "Speed: 1.8ms preprocess, 11.7ms inference, 1.2ms postprocess per image at shape (1, 3, 640, 544)\n",
      "\n",
      "0: 640x608 1 class_9, 11.9ms\n",
      "Speed: 1.9ms preprocess, 11.9ms inference, 1.1ms postprocess per image at shape (1, 3, 640, 608)\n",
      "\n",
      "0: 640x640 1 class_9, 12.1ms\n",
      "Speed: 1.9ms preprocess, 12.1ms inference, 1.1ms postprocess per image at shape (1, 3, 640, 640)\n",
      "\n",
      "0: 640x640 1 class_7, 12.3ms\n",
      "Speed: 2.5ms preprocess, 12.3ms inference, 1.1ms postprocess per image at shape (1, 3, 640, 640)\n",
      "\n",
      "0: 640x640 1 class_1, 12.4ms\n",
      "Speed: 1.9ms preprocess, 12.4ms inference, 1.3ms postprocess per image at shape (1, 3, 640, 640)\n",
      "\n",
      "0: 576x640 1 class_25, 12.9ms\n",
      "Speed: 2.3ms preprocess, 12.9ms inference, 1.2ms postprocess per image at shape (1, 3, 576, 640)\n",
      "\n",
      "0: 640x640 1 class_1, 13.0ms\n",
      "Speed: 2.4ms preprocess, 13.0ms inference, 1.1ms postprocess per image at shape (1, 3, 640, 640)\n",
      "\n",
      "0: 640x640 1 class_12, 12.4ms\n",
      "Speed: 2.3ms preprocess, 12.4ms inference, 1.2ms postprocess per image at shape (1, 3, 640, 640)\n",
      "\n",
      "0: 640x640 1 class_39, 12.6ms\n",
      "Speed: 2.2ms preprocess, 12.6ms inference, 1.4ms postprocess per image at shape (1, 3, 640, 640)\n",
      "\n",
      "0: 640x640 1 class_38, 12.6ms\n",
      "Speed: 2.1ms preprocess, 12.6ms inference, 1.3ms postprocess per image at shape (1, 3, 640, 640)\n",
      "\n",
      "0: 640x640 1 class_7, 12.6ms\n",
      "Speed: 2.5ms preprocess, 12.6ms inference, 1.2ms postprocess per image at shape (1, 3, 640, 640)\n",
      "\n",
      "0: 640x640 1 class_5, 12.6ms\n",
      "Speed: 2.0ms preprocess, 12.6ms inference, 1.1ms postprocess per image at shape (1, 3, 640, 640)\n",
      "\n",
      "0: 576x640 1 class_18, 13.0ms\n",
      "Speed: 2.1ms preprocess, 13.0ms inference, 1.1ms postprocess per image at shape (1, 3, 576, 640)\n",
      "\n",
      "0: 640x640 1 class_42, 13.4ms\n",
      "Speed: 2.1ms preprocess, 13.4ms inference, 1.1ms postprocess per image at shape (1, 3, 640, 640)\n",
      "\n",
      "0: 608x640 1 class_18, 13.3ms\n",
      "Speed: 2.0ms preprocess, 13.3ms inference, 1.1ms postprocess per image at shape (1, 3, 608, 640)\n",
      "\n",
      "0: 640x640 1 class_15, 13.4ms\n",
      "Speed: 2.4ms preprocess, 13.4ms inference, 1.2ms postprocess per image at shape (1, 3, 640, 640)\n",
      "\n",
      "0: 640x640 1 class_4, 12.8ms\n",
      "Speed: 2.1ms preprocess, 12.8ms inference, 1.4ms postprocess per image at shape (1, 3, 640, 640)\n",
      "\n",
      "0: 640x640 1 class_10, 13.0ms\n",
      "Speed: 2.0ms preprocess, 13.0ms inference, 1.2ms postprocess per image at shape (1, 3, 640, 640)\n",
      "\n",
      "0: 640x640 1 class_10, 13.0ms\n",
      "Speed: 2.2ms preprocess, 13.0ms inference, 1.3ms postprocess per image at shape (1, 3, 640, 640)\n",
      "\n",
      "0: 640x640 1 class_12, 12.9ms\n",
      "Speed: 2.0ms preprocess, 12.9ms inference, 1.3ms postprocess per image at shape (1, 3, 640, 640)\n",
      "\n",
      "0: 640x640 1 class_35, 12.9ms\n",
      "Speed: 2.0ms preprocess, 12.9ms inference, 1.1ms postprocess per image at shape (1, 3, 640, 640)\n",
      "\n",
      "0: 640x640 1 class_12, 13.0ms\n",
      "Speed: 2.3ms preprocess, 13.0ms inference, 1.4ms postprocess per image at shape (1, 3, 640, 640)\n",
      "\n",
      "0: 640x640 1 class_4, 13.0ms\n",
      "Speed: 2.2ms preprocess, 13.0ms inference, 1.2ms postprocess per image at shape (1, 3, 640, 640)\n",
      "\n",
      "0: 640x640 1 class_1, 12.9ms\n",
      "Speed: 1.9ms preprocess, 12.9ms inference, 1.2ms postprocess per image at shape (1, 3, 640, 640)\n",
      "\n",
      "0: 640x640 1 class_28, 12.9ms\n",
      "Speed: 2.0ms preprocess, 12.9ms inference, 1.2ms postprocess per image at shape (1, 3, 640, 640)\n",
      "\n",
      "0: 640x640 1 class_4, 12.9ms\n",
      "Speed: 2.1ms preprocess, 12.9ms inference, 1.2ms postprocess per image at shape (1, 3, 640, 640)\n",
      "\n",
      "0: 640x640 1 class_4, 12.9ms\n",
      "Speed: 2.4ms preprocess, 12.9ms inference, 1.0ms postprocess per image at shape (1, 3, 640, 640)\n",
      "\n",
      "0: 544x640 1 class_22, 13.1ms\n",
      "Speed: 1.7ms preprocess, 13.1ms inference, 1.2ms postprocess per image at shape (1, 3, 544, 640)\n",
      "\n",
      "0: 640x640 1 class_2, 13.6ms\n",
      "Speed: 2.3ms preprocess, 13.6ms inference, 1.1ms postprocess per image at shape (1, 3, 640, 640)\n",
      "\n",
      "0: 640x640 1 class_12, 12.9ms\n",
      "Speed: 2.2ms preprocess, 12.9ms inference, 1.2ms postprocess per image at shape (1, 3, 640, 640)\n",
      "\n",
      "0: 640x640 1 class_8, 13.0ms\n",
      "Speed: 2.2ms preprocess, 13.0ms inference, 1.3ms postprocess per image at shape (1, 3, 640, 640)\n",
      "\n",
      "0: 640x640 1 class_10, 12.9ms\n",
      "Speed: 2.3ms preprocess, 12.9ms inference, 1.2ms postprocess per image at shape (1, 3, 640, 640)\n",
      "\n",
      "0: 576x640 1 class_8, 13.3ms\n",
      "Speed: 1.6ms preprocess, 13.3ms inference, 1.0ms postprocess per image at shape (1, 3, 576, 640)\n",
      "\n",
      "0: 640x640 1 class_10, 13.5ms\n",
      "Speed: 2.3ms preprocess, 13.5ms inference, 1.1ms postprocess per image at shape (1, 3, 640, 640)\n",
      "\n",
      "0: 640x640 1 class_1, 12.9ms\n",
      "Speed: 2.0ms preprocess, 12.9ms inference, 1.2ms postprocess per image at shape (1, 3, 640, 640)\n",
      "\n",
      "0: 640x640 1 class_35, 12.9ms\n",
      "Speed: 1.9ms preprocess, 12.9ms inference, 1.2ms postprocess per image at shape (1, 3, 640, 640)\n",
      "\n",
      "0: 640x640 1 class_7, 13.0ms\n",
      "Speed: 2.0ms preprocess, 13.0ms inference, 1.3ms postprocess per image at shape (1, 3, 640, 640)\n",
      "\n",
      "0: 640x640 1 class_7, 12.9ms\n",
      "Speed: 2.1ms preprocess, 12.9ms inference, 1.3ms postprocess per image at shape (1, 3, 640, 640)\n",
      "\n",
      "0: 640x544 1 class_34, 13.3ms\n",
      "Speed: 1.9ms preprocess, 13.3ms inference, 1.2ms postprocess per image at shape (1, 3, 640, 544)\n",
      "\n",
      "0: 640x608 1 class_13, 13.5ms\n",
      "Speed: 1.9ms preprocess, 13.5ms inference, 1.1ms postprocess per image at shape (1, 3, 640, 608)\n",
      "\n",
      "0: 608x640 1 class_25, 13.7ms\n",
      "Speed: 2.3ms preprocess, 13.7ms inference, 1.2ms postprocess per image at shape (1, 3, 608, 640)\n",
      "\n",
      "0: 608x640 1 class_11, 12.8ms\n",
      "Speed: 1.9ms preprocess, 12.8ms inference, 1.2ms postprocess per image at shape (1, 3, 608, 640)\n",
      "\n",
      "0: 640x640 1 class_31, 13.7ms\n",
      "Speed: 2.2ms preprocess, 13.7ms inference, 1.2ms postprocess per image at shape (1, 3, 640, 640)\n",
      "\n",
      "0: 640x640 1 class_12, 12.9ms\n",
      "Speed: 2.2ms preprocess, 12.9ms inference, 1.3ms postprocess per image at shape (1, 3, 640, 640)\n",
      "\n",
      "0: 640x640 1 class_1, 12.9ms\n",
      "Speed: 2.3ms preprocess, 12.9ms inference, 1.1ms postprocess per image at shape (1, 3, 640, 640)\n",
      "\n",
      "0: 640x640 1 class_38, 12.9ms\n",
      "Speed: 2.3ms preprocess, 12.9ms inference, 1.1ms postprocess per image at shape (1, 3, 640, 640)\n",
      "\n",
      "0: 640x640 1 class_33, 13.2ms\n",
      "Speed: 1.8ms preprocess, 13.2ms inference, 1.2ms postprocess per image at shape (1, 3, 640, 640)\n",
      "\n",
      "0: 640x640 1 class_2, 13.2ms\n",
      "Speed: 2.1ms preprocess, 13.2ms inference, 1.2ms postprocess per image at shape (1, 3, 640, 640)\n",
      "\n",
      "0: 640x544 1 class_35, 13.5ms\n",
      "Speed: 1.9ms preprocess, 13.5ms inference, 1.2ms postprocess per image at shape (1, 3, 640, 544)\n",
      "\n",
      "0: 640x640 1 class_7, 13.9ms\n",
      "Speed: 2.1ms preprocess, 13.9ms inference, 1.2ms postprocess per image at shape (1, 3, 640, 640)\n",
      "\n",
      "0: 640x640 1 class_7, 13.1ms\n",
      "Speed: 2.4ms preprocess, 13.1ms inference, 1.2ms postprocess per image at shape (1, 3, 640, 640)\n",
      "\n",
      "0: 576x640 1 class_23, 13.9ms\n",
      "Speed: 2.5ms preprocess, 13.9ms inference, 1.3ms postprocess per image at shape (1, 3, 576, 640)\n",
      "\n",
      "0: 640x640 1 class_4, 13.9ms\n",
      "Speed: 2.0ms preprocess, 13.9ms inference, 1.1ms postprocess per image at shape (1, 3, 640, 640)\n",
      "\n",
      "0: 576x640 1 class_20, 13.8ms\n",
      "Speed: 2.5ms preprocess, 13.8ms inference, 1.3ms postprocess per image at shape (1, 3, 576, 640)\n",
      "\n",
      "0: 640x640 1 class_12, 14.0ms\n",
      "Speed: 2.1ms preprocess, 14.0ms inference, 1.1ms postprocess per image at shape (1, 3, 640, 640)\n",
      "\n",
      "0: 608x640 1 class_23, 14.0ms\n",
      "Speed: 2.2ms preprocess, 14.0ms inference, 1.2ms postprocess per image at shape (1, 3, 608, 640)\n",
      "\n",
      "0: 640x640 1 class_33, 14.0ms\n",
      "Speed: 2.5ms preprocess, 14.0ms inference, 1.1ms postprocess per image at shape (1, 3, 640, 640)\n",
      "\n",
      "0: 576x640 1 class_13, 13.7ms\n",
      "Speed: 2.0ms preprocess, 13.7ms inference, 1.1ms postprocess per image at shape (1, 3, 576, 640)\n",
      "\n",
      "0: 640x608 1 class_38, 14.0ms\n",
      "Speed: 2.1ms preprocess, 14.0ms inference, 1.3ms postprocess per image at shape (1, 3, 640, 608)\n",
      "\n",
      "0: 576x640 1 class_13, 13.9ms\n",
      "Speed: 2.0ms preprocess, 13.9ms inference, 1.1ms postprocess per image at shape (1, 3, 576, 640)\n",
      "\n",
      "0: 576x640 1 class_13, 13.1ms\n",
      "Speed: 2.2ms preprocess, 13.1ms inference, 1.2ms postprocess per image at shape (1, 3, 576, 640)\n",
      "\n",
      "0: 640x640 1 class_36, 14.2ms\n",
      "Speed: 2.1ms preprocess, 14.2ms inference, 1.1ms postprocess per image at shape (1, 3, 640, 640)\n",
      "\n",
      "0: 640x640 1 class_12, 13.6ms\n",
      "Speed: 2.5ms preprocess, 13.6ms inference, 1.2ms postprocess per image at shape (1, 3, 640, 640)\n",
      "\n",
      "0: 640x640 1 class_1, 13.6ms\n",
      "Speed: 2.2ms preprocess, 13.6ms inference, 1.2ms postprocess per image at shape (1, 3, 640, 640)\n",
      "\n",
      "0: 640x640 1 class_9, 13.6ms\n",
      "Speed: 2.0ms preprocess, 13.6ms inference, 1.3ms postprocess per image at shape (1, 3, 640, 640)\n",
      "\n",
      "0: 640x640 1 class_5, 13.6ms\n",
      "Speed: 2.6ms preprocess, 13.6ms inference, 1.2ms postprocess per image at shape (1, 3, 640, 640)\n",
      "\n",
      "0: 640x640 1 class_5, 13.6ms\n",
      "Speed: 1.9ms preprocess, 13.6ms inference, 1.2ms postprocess per image at shape (1, 3, 640, 640)\n",
      "\n",
      "0: 640x640 1 class_10, 13.6ms\n",
      "Speed: 2.0ms preprocess, 13.6ms inference, 1.3ms postprocess per image at shape (1, 3, 640, 640)\n",
      "\n",
      "0: 640x640 1 class_10, 12.4ms\n",
      "Speed: 2.5ms preprocess, 12.4ms inference, 1.1ms postprocess per image at shape (1, 3, 640, 640)\n",
      "\n",
      "0: 640x640 1 class_11, 12.4ms\n",
      "Speed: 2.2ms preprocess, 12.4ms inference, 1.1ms postprocess per image at shape (1, 3, 640, 640)\n",
      "\n",
      "0: 640x640 1 class_38, 12.4ms\n",
      "Speed: 1.9ms preprocess, 12.4ms inference, 1.2ms postprocess per image at shape (1, 3, 640, 640)\n",
      "\n",
      "0: 608x640 1 class_28, 13.0ms\n",
      "Speed: 2.4ms preprocess, 13.0ms inference, 1.2ms postprocess per image at shape (1, 3, 608, 640)\n",
      "\n",
      "0: 640x640 1 class_2, 13.0ms\n",
      "Speed: 1.9ms preprocess, 13.0ms inference, 1.1ms postprocess per image at shape (1, 3, 640, 640)\n",
      "\n",
      "0: 640x608 1 class_12, 12.9ms\n",
      "Speed: 2.0ms preprocess, 12.9ms inference, 1.1ms postprocess per image at shape (1, 3, 640, 608)\n",
      "\n",
      "0: 640x640 1 class_35, 13.0ms\n",
      "Speed: 2.0ms preprocess, 13.0ms inference, 1.1ms postprocess per image at shape (1, 3, 640, 640)\n",
      "\n",
      "0: 640x640 1 class_12, 12.4ms\n",
      "Speed: 2.4ms preprocess, 12.4ms inference, 1.0ms postprocess per image at shape (1, 3, 640, 640)\n",
      "\n",
      "0: 640x640 1 class_1, 12.4ms\n",
      "Speed: 2.6ms preprocess, 12.4ms inference, 1.2ms postprocess per image at shape (1, 3, 640, 640)\n",
      "\n",
      "0: 640x640 1 class_11, 12.4ms\n",
      "Speed: 2.0ms preprocess, 12.4ms inference, 1.4ms postprocess per image at shape (1, 3, 640, 640)\n",
      "\n",
      "0: 576x640 1 class_31, 12.8ms\n",
      "Speed: 1.9ms preprocess, 12.8ms inference, 1.1ms postprocess per image at shape (1, 3, 576, 640)\n",
      "\n",
      "0: 640x640 1 class_2, 13.0ms\n",
      "Speed: 2.4ms preprocess, 13.0ms inference, 1.0ms postprocess per image at shape (1, 3, 640, 640)\n",
      "\n",
      "0: 640x640 1 class_5, 12.4ms\n",
      "Speed: 2.1ms preprocess, 12.4ms inference, 1.1ms postprocess per image at shape (1, 3, 640, 640)\n",
      "\n",
      "0: 640x640 1 class_38, 12.4ms\n",
      "Speed: 2.1ms preprocess, 12.4ms inference, 1.1ms postprocess per image at shape (1, 3, 640, 640)\n",
      "\n",
      "0: 640x640 1 class_7, 12.4ms\n",
      "Speed: 2.1ms preprocess, 12.4ms inference, 1.3ms postprocess per image at shape (1, 3, 640, 640)\n",
      "\n",
      "0: 640x640 1 class_16, 12.4ms\n",
      "Speed: 2.5ms preprocess, 12.4ms inference, 1.3ms postprocess per image at shape (1, 3, 640, 640)\n",
      "\n",
      "0: 640x640 1 class_16, 12.4ms\n",
      "Speed: 2.6ms preprocess, 12.4ms inference, 1.1ms postprocess per image at shape (1, 3, 640, 640)\n",
      "\n",
      "0: 608x640 1 class_25, 12.9ms\n",
      "Speed: 1.9ms preprocess, 12.9ms inference, 1.1ms postprocess per image at shape (1, 3, 608, 640)\n",
      "\n",
      "0: 640x640 1 class_25, 13.0ms\n",
      "Speed: 2.4ms preprocess, 13.0ms inference, 1.2ms postprocess per image at shape (1, 3, 640, 640)\n",
      "\n",
      "0: 640x640 1 class_3, 12.4ms\n",
      "Speed: 1.9ms preprocess, 12.4ms inference, 1.2ms postprocess per image at shape (1, 3, 640, 640)\n",
      "\n",
      "0: 608x640 1 class_12, 12.9ms\n",
      "Speed: 1.9ms preprocess, 12.9ms inference, 1.1ms postprocess per image at shape (1, 3, 608, 640)\n",
      "\n",
      "0: 576x640 1 class_26, 12.9ms\n",
      "Speed: 2.4ms preprocess, 12.9ms inference, 1.2ms postprocess per image at shape (1, 3, 576, 640)\n",
      "\n",
      "0: 576x640 1 class_2, 12.1ms\n",
      "Speed: 2.0ms preprocess, 12.1ms inference, 1.1ms postprocess per image at shape (1, 3, 576, 640)\n",
      "\n",
      "0: 544x640 1 class_26, 12.5ms\n",
      "Speed: 2.2ms preprocess, 12.5ms inference, 1.3ms postprocess per image at shape (1, 3, 544, 640)\n",
      "\n",
      "0: 608x640 1 class_2, 13.0ms\n",
      "Speed: 2.2ms preprocess, 13.0ms inference, 1.2ms postprocess per image at shape (1, 3, 608, 640)\n",
      "\n",
      "0: 608x640 1 class_18, 12.3ms\n",
      "Speed: 2.5ms preprocess, 12.3ms inference, 1.2ms postprocess per image at shape (1, 3, 608, 640)\n",
      "\n",
      "0: 608x640 1 class_18, 12.3ms\n",
      "Speed: 2.3ms preprocess, 12.3ms inference, 1.2ms postprocess per image at shape (1, 3, 608, 640)\n",
      "\n",
      "0: 640x640 1 class_38, 12.3ms\n",
      "Speed: 2.0ms preprocess, 12.3ms inference, 1.1ms postprocess per image at shape (1, 3, 640, 640)\n",
      "\n",
      "0: 640x640 1 class_38, 11.6ms\n",
      "Speed: 2.3ms preprocess, 11.6ms inference, 1.3ms postprocess per image at shape (1, 3, 640, 640)\n",
      "\n",
      "0: 640x640 1 class_6, 11.6ms\n",
      "Speed: 2.2ms preprocess, 11.6ms inference, 1.2ms postprocess per image at shape (1, 3, 640, 640)\n",
      "\n",
      "0: 640x640 1 class_6, 11.6ms\n",
      "Speed: 1.9ms preprocess, 11.6ms inference, 1.1ms postprocess per image at shape (1, 3, 640, 640)\n",
      "\n",
      "0: 576x640 1 class_11, 12.0ms\n",
      "Speed: 1.8ms preprocess, 12.0ms inference, 1.2ms postprocess per image at shape (1, 3, 576, 640)\n",
      "\n",
      "0: 640x640 1 class_11, 12.4ms\n",
      "Speed: 2.6ms preprocess, 12.4ms inference, 1.2ms postprocess per image at shape (1, 3, 640, 640)\n",
      "\n",
      "0: 640x640 1 class_2, 11.6ms\n",
      "Speed: 2.0ms preprocess, 11.6ms inference, 1.4ms postprocess per image at shape (1, 3, 640, 640)\n",
      "\n",
      "0: 640x640 1 class_12, 11.6ms\n",
      "Speed: 2.2ms preprocess, 11.6ms inference, 1.2ms postprocess per image at shape (1, 3, 640, 640)\n",
      "\n",
      "0: 640x640 1 class_1, 11.6ms\n",
      "Speed: 2.5ms preprocess, 11.6ms inference, 1.3ms postprocess per image at shape (1, 3, 640, 640)\n",
      "\n",
      "0: 640x640 1 class_5, 11.6ms\n",
      "Speed: 2.4ms preprocess, 11.6ms inference, 1.2ms postprocess per image at shape (1, 3, 640, 640)\n",
      "\n",
      "0: 640x640 1 class_5, 11.6ms\n",
      "Speed: 2.2ms preprocess, 11.6ms inference, 1.1ms postprocess per image at shape (1, 3, 640, 640)\n",
      "\n",
      "0: 576x640 1 class_18, 12.0ms\n",
      "Speed: 2.0ms preprocess, 12.0ms inference, 1.1ms postprocess per image at shape (1, 3, 576, 640)\n",
      "\n",
      "0: 640x640 1 class_38, 12.3ms\n",
      "Speed: 2.1ms preprocess, 12.3ms inference, 1.2ms postprocess per image at shape (1, 3, 640, 640)\n",
      "\n",
      "0: 640x640 1 class_13, 11.6ms\n",
      "Speed: 2.4ms preprocess, 11.6ms inference, 1.0ms postprocess per image at shape (1, 3, 640, 640)\n",
      "\n",
      "0: 640x640 1 class_40, 11.6ms\n",
      "Speed: 1.9ms preprocess, 11.6ms inference, 1.1ms postprocess per image at shape (1, 3, 640, 640)\n",
      "\n",
      "0: 640x640 1 class_38, 11.6ms\n",
      "Speed: 2.2ms preprocess, 11.6ms inference, 1.4ms postprocess per image at shape (1, 3, 640, 640)\n",
      "\n",
      "0: 640x640 1 class_8, 11.6ms\n",
      "Speed: 2.4ms preprocess, 11.6ms inference, 1.2ms postprocess per image at shape (1, 3, 640, 640)\n",
      "\n",
      "0: 640x640 1 class_10, 11.6ms\n",
      "Speed: 2.5ms preprocess, 11.6ms inference, 1.1ms postprocess per image at shape (1, 3, 640, 640)\n",
      "\n",
      "0: 640x640 1 class_4, 11.6ms\n",
      "Speed: 2.5ms preprocess, 11.6ms inference, 1.2ms postprocess per image at shape (1, 3, 640, 640)\n",
      "\n",
      "0: 640x640 1 class_12, 11.6ms\n",
      "Speed: 2.5ms preprocess, 11.6ms inference, 1.1ms postprocess per image at shape (1, 3, 640, 640)\n",
      "\n",
      "0: 640x640 1 class_10, 11.6ms\n",
      "Speed: 1.8ms preprocess, 11.6ms inference, 1.1ms postprocess per image at shape (1, 3, 640, 640)\n",
      "\n",
      "0: 608x640 1 class_10, 12.1ms\n",
      "Speed: 1.7ms preprocess, 12.1ms inference, 1.1ms postprocess per image at shape (1, 3, 608, 640)\n",
      "\n",
      "0: 576x640 1 class_18, 12.2ms\n",
      "Speed: 2.1ms preprocess, 12.2ms inference, 1.4ms postprocess per image at shape (1, 3, 576, 640)\n",
      "\n",
      "0: 640x640 1 class_12, 12.1ms\n",
      "Speed: 2.2ms preprocess, 12.1ms inference, 1.3ms postprocess per image at shape (1, 3, 640, 640)\n",
      "\n",
      "0: 608x640 1 class_23, 11.9ms\n",
      "Speed: 1.8ms preprocess, 11.9ms inference, 1.2ms postprocess per image at shape (1, 3, 608, 640)\n",
      "\n",
      "0: 640x640 1 class_12, 11.8ms\n",
      "Speed: 1.7ms preprocess, 11.8ms inference, 1.1ms postprocess per image at shape (1, 3, 640, 640)\n",
      "\n",
      "0: 640x640 1 class_42, 11.3ms\n",
      "Speed: 1.8ms preprocess, 11.3ms inference, 1.2ms postprocess per image at shape (1, 3, 640, 640)\n",
      "\n",
      "0: 640x640 1 class_42, 11.2ms\n",
      "Speed: 2.1ms preprocess, 11.2ms inference, 1.1ms postprocess per image at shape (1, 3, 640, 640)\n",
      "\n",
      "0: 640x640 1 class_32, 11.3ms\n",
      "Speed: 2.4ms preprocess, 11.3ms inference, 1.2ms postprocess per image at shape (1, 3, 640, 640)\n",
      "\n",
      "0: 640x640 1 class_5, 11.3ms\n",
      "Speed: 2.0ms preprocess, 11.3ms inference, 1.1ms postprocess per image at shape (1, 3, 640, 640)\n",
      "\n",
      "0: 640x640 1 class_8, 11.3ms\n",
      "Speed: 2.0ms preprocess, 11.3ms inference, 1.1ms postprocess per image at shape (1, 3, 640, 640)\n",
      "\n",
      "0: 640x640 1 class_8, 11.3ms\n",
      "Speed: 1.9ms preprocess, 11.3ms inference, 1.1ms postprocess per image at shape (1, 3, 640, 640)\n",
      "\n",
      "0: 640x640 1 class_38, 11.3ms\n",
      "Speed: 2.5ms preprocess, 11.3ms inference, 1.2ms postprocess per image at shape (1, 3, 640, 640)\n",
      "\n",
      "0: 640x640 1 class_1, 11.3ms\n",
      "Speed: 2.4ms preprocess, 11.3ms inference, 1.3ms postprocess per image at shape (1, 3, 640, 640)\n",
      "\n",
      "0: 640x640 1 class_25, 11.3ms\n",
      "Speed: 2.4ms preprocess, 11.3ms inference, 1.1ms postprocess per image at shape (1, 3, 640, 640)\n",
      "\n",
      "0: 640x640 1 class_4, 11.4ms\n",
      "Speed: 2.3ms preprocess, 11.4ms inference, 1.6ms postprocess per image at shape (1, 3, 640, 640)\n",
      "\n",
      "0: 640x640 1 class_2, 11.3ms\n",
      "Speed: 2.2ms preprocess, 11.3ms inference, 1.3ms postprocess per image at shape (1, 3, 640, 640)\n",
      "\n",
      "0: 640x640 1 class_2, 11.3ms\n",
      "Speed: 2.0ms preprocess, 11.3ms inference, 1.2ms postprocess per image at shape (1, 3, 640, 640)\n",
      "\n",
      "0: 640x640 1 class_1, 11.3ms\n",
      "Speed: 1.9ms preprocess, 11.3ms inference, 1.2ms postprocess per image at shape (1, 3, 640, 640)\n",
      "\n",
      "0: 640x640 1 class_2, 11.3ms\n",
      "Speed: 2.4ms preprocess, 11.3ms inference, 1.1ms postprocess per image at shape (1, 3, 640, 640)\n",
      "\n",
      "0: 608x640 1 class_13, 11.9ms\n",
      "Speed: 2.1ms preprocess, 11.9ms inference, 1.2ms postprocess per image at shape (1, 3, 608, 640)\n",
      "\n",
      "0: 640x608 1 class_34, 11.9ms\n",
      "Speed: 2.3ms preprocess, 11.9ms inference, 1.1ms postprocess per image at shape (1, 3, 640, 608)\n",
      "\n",
      "0: 608x640 1 class_30, 12.0ms\n",
      "Speed: 2.1ms preprocess, 12.0ms inference, 1.1ms postprocess per image at shape (1, 3, 608, 640)\n",
      "\n",
      "0: 640x640 1 class_4, 11.9ms\n",
      "Speed: 2.6ms preprocess, 11.9ms inference, 1.0ms postprocess per image at shape (1, 3, 640, 640)\n",
      "\n",
      "0: 640x640 1 class_1, 11.3ms\n",
      "Speed: 2.5ms preprocess, 11.3ms inference, 1.1ms postprocess per image at shape (1, 3, 640, 640)\n",
      "\n",
      "0: 640x640 1 class_2, 11.3ms\n",
      "Speed: 2.0ms preprocess, 11.3ms inference, 1.3ms postprocess per image at shape (1, 3, 640, 640)\n",
      "\n",
      "0: 608x640 1 class_18, 11.8ms\n",
      "Speed: 2.1ms preprocess, 11.8ms inference, 1.1ms postprocess per image at shape (1, 3, 608, 640)\n",
      "\n",
      "0: 608x640 1 class_8, 11.1ms\n",
      "Speed: 2.0ms preprocess, 11.1ms inference, 1.1ms postprocess per image at shape (1, 3, 608, 640)\n",
      "\n",
      "0: 544x640 1 class_18, 11.4ms\n",
      "Speed: 1.7ms preprocess, 11.4ms inference, 1.0ms postprocess per image at shape (1, 3, 544, 640)\n",
      "\n",
      "0: 576x640 1 class_8, 11.8ms\n",
      "Speed: 2.2ms preprocess, 11.8ms inference, 1.0ms postprocess per image at shape (1, 3, 576, 640)\n",
      "\n",
      "0: 576x640 1 class_13, 11.0ms\n",
      "Speed: 1.9ms preprocess, 11.0ms inference, 1.2ms postprocess per image at shape (1, 3, 576, 640)\n",
      "\n",
      "0: 640x640 1 class_25, 12.1ms\n",
      "Speed: 2.4ms preprocess, 12.1ms inference, 1.2ms postprocess per image at shape (1, 3, 640, 640)\n",
      "\n",
      "0: 640x640 1 class_38, 11.3ms\n",
      "Speed: 2.0ms preprocess, 11.3ms inference, 1.2ms postprocess per image at shape (1, 3, 640, 640)\n",
      "\n",
      "0: 640x640 1 class_37, 11.3ms\n",
      "Speed: 2.1ms preprocess, 11.3ms inference, 1.2ms postprocess per image at shape (1, 3, 640, 640)\n",
      "\n",
      "0: 640x640 1 class_34, 11.2ms\n",
      "Speed: 2.1ms preprocess, 11.2ms inference, 1.0ms postprocess per image at shape (1, 3, 640, 640)\n",
      "\n",
      "0: 608x640 1 class_13, 11.8ms\n",
      "Speed: 2.3ms preprocess, 11.8ms inference, 1.0ms postprocess per image at shape (1, 3, 608, 640)\n",
      "\n",
      "0: 576x640 1 class_13, 11.7ms\n",
      "Speed: 1.6ms preprocess, 11.7ms inference, 1.1ms postprocess per image at shape (1, 3, 576, 640)\n",
      "\n",
      "0: 608x640 1 class_8, 11.7ms\n",
      "Speed: 2.3ms preprocess, 11.7ms inference, 1.2ms postprocess per image at shape (1, 3, 608, 640)\n",
      "\n",
      "0: 608x640 1 class_10, 11.2ms\n",
      "Speed: 2.1ms preprocess, 11.2ms inference, 1.1ms postprocess per image at shape (1, 3, 608, 640)\n",
      "\n",
      "0: 544x640 1 class_8, 11.4ms\n",
      "Speed: 1.7ms preprocess, 11.4ms inference, 1.1ms postprocess per image at shape (1, 3, 544, 640)\n",
      "\n",
      "0: 640x640 1 class_10, 11.9ms\n",
      "Speed: 2.3ms preprocess, 11.9ms inference, 1.0ms postprocess per image at shape (1, 3, 640, 640)\n",
      "\n",
      "0: 640x640 1 class_4, 11.3ms\n",
      "Speed: 2.1ms preprocess, 11.3ms inference, 1.1ms postprocess per image at shape (1, 3, 640, 640)\n",
      "\n",
      "0: 640x640 1 class_4, 11.2ms\n",
      "Speed: 1.8ms preprocess, 11.2ms inference, 1.0ms postprocess per image at shape (1, 3, 640, 640)\n",
      "\n",
      "0: 608x640 1 class_13, 11.8ms\n",
      "Speed: 2.0ms preprocess, 11.8ms inference, 1.1ms postprocess per image at shape (1, 3, 608, 640)\n",
      "\n",
      "0: 640x640 1 class_12, 11.9ms\n",
      "Speed: 2.2ms preprocess, 11.9ms inference, 1.1ms postprocess per image at shape (1, 3, 640, 640)\n",
      "\n",
      "0: 640x640 1 class_4, 11.3ms\n",
      "Speed: 2.4ms preprocess, 11.3ms inference, 1.2ms postprocess per image at shape (1, 3, 640, 640)\n",
      "\n",
      "0: 640x640 1 class_2, 11.3ms\n",
      "Speed: 2.4ms preprocess, 11.3ms inference, 1.1ms postprocess per image at shape (1, 3, 640, 640)\n",
      "\n",
      "0: 640x640 1 class_25, 11.3ms\n",
      "Speed: 2.1ms preprocess, 11.3ms inference, 1.4ms postprocess per image at shape (1, 3, 640, 640)\n",
      "\n",
      "0: 640x640 1 class_10, 11.3ms\n",
      "Speed: 1.9ms preprocess, 11.3ms inference, 1.2ms postprocess per image at shape (1, 3, 640, 640)\n",
      "\n",
      "0: 640x640 1 class_2, 11.3ms\n",
      "Speed: 2.3ms preprocess, 11.3ms inference, 1.2ms postprocess per image at shape (1, 3, 640, 640)\n",
      "\n",
      "0: 640x640 1 class_2, 11.3ms\n",
      "Speed: 1.9ms preprocess, 11.3ms inference, 1.1ms postprocess per image at shape (1, 3, 640, 640)\n",
      "\n",
      "0: 576x640 1 class_13, 11.8ms\n",
      "Speed: 2.1ms preprocess, 11.8ms inference, 1.1ms postprocess per image at shape (1, 3, 576, 640)\n",
      "\n",
      "0: 640x640 1 class_40, 11.9ms\n",
      "Speed: 1.8ms preprocess, 11.9ms inference, 1.1ms postprocess per image at shape (1, 3, 640, 640)\n",
      "\n",
      "0: 640x640 1 class_38, 11.3ms\n",
      "Speed: 1.9ms preprocess, 11.3ms inference, 1.3ms postprocess per image at shape (1, 3, 640, 640)\n",
      "\n",
      "0: 640x640 1 class_18, 11.3ms\n",
      "Speed: 2.4ms preprocess, 11.3ms inference, 1.1ms postprocess per image at shape (1, 3, 640, 640)\n",
      "\n",
      "0: 608x640 1 class_1, 12.1ms\n",
      "Speed: 1.9ms preprocess, 12.1ms inference, 1.0ms postprocess per image at shape (1, 3, 608, 640)\n",
      "\n",
      "0: 640x640 1 class_12, 11.9ms\n",
      "Speed: 2.2ms preprocess, 11.9ms inference, 1.0ms postprocess per image at shape (1, 3, 640, 640)\n",
      "\n",
      "0: 640x640 1 class_8, 10.9ms\n",
      "Speed: 1.7ms preprocess, 10.9ms inference, 1.3ms postprocess per image at shape (1, 3, 640, 640)\n",
      "\n",
      "0: 640x640 1 class_10, 10.9ms\n",
      "Speed: 1.8ms preprocess, 10.9ms inference, 1.1ms postprocess per image at shape (1, 3, 640, 640)\n",
      "\n",
      "0: 640x640 1 class_8, 10.9ms\n",
      "Speed: 1.7ms preprocess, 10.9ms inference, 1.1ms postprocess per image at shape (1, 3, 640, 640)\n",
      "\n",
      "0: 640x640 1 class_10, 10.9ms\n",
      "Speed: 1.8ms preprocess, 10.9ms inference, 1.1ms postprocess per image at shape (1, 3, 640, 640)\n",
      "\n",
      "0: 640x640 1 class_17, 10.6ms\n",
      "Speed: 1.8ms preprocess, 10.6ms inference, 1.2ms postprocess per image at shape (1, 3, 640, 640)\n",
      "\n",
      "0: 640x640 1 class_17, 10.6ms\n",
      "Speed: 1.9ms preprocess, 10.6ms inference, 1.1ms postprocess per image at shape (1, 3, 640, 640)\n",
      "\n",
      "0: 640x640 1 class_38, 10.6ms\n",
      "Speed: 2.2ms preprocess, 10.6ms inference, 1.0ms postprocess per image at shape (1, 3, 640, 640)\n",
      "\n",
      "0: 608x640 1 class_25, 11.2ms\n",
      "Speed: 2.1ms preprocess, 11.2ms inference, 1.4ms postprocess per image at shape (1, 3, 608, 640)\n",
      "\n",
      "0: 576x640 1 class_25, 11.0ms\n",
      "Speed: 2.4ms preprocess, 11.0ms inference, 1.1ms postprocess per image at shape (1, 3, 576, 640)\n",
      "\n",
      "0: 640x640 1 class_12, 11.4ms\n",
      "Speed: 2.1ms preprocess, 11.4ms inference, 1.2ms postprocess per image at shape (1, 3, 640, 640)\n",
      "\n",
      "0: 576x640 1 class_25, 10.8ms\n",
      "Speed: 1.8ms preprocess, 10.8ms inference, 1.3ms postprocess per image at shape (1, 3, 576, 640)\n",
      "\n",
      "0: 640x640 1 class_1, 11.0ms\n",
      "Speed: 2.0ms preprocess, 11.0ms inference, 1.2ms postprocess per image at shape (1, 3, 640, 640)\n",
      "\n",
      "0: 608x640 1 class_13, 11.0ms\n",
      "Speed: 1.9ms preprocess, 11.0ms inference, 1.3ms postprocess per image at shape (1, 3, 608, 640)\n",
      "\n",
      "0: 640x640 1 class_38, 11.1ms\n",
      "Speed: 2.1ms preprocess, 11.1ms inference, 1.1ms postprocess per image at shape (1, 3, 640, 640)\n",
      "\n",
      "0: 640x640 1 class_17, 10.4ms\n",
      "Speed: 2.2ms preprocess, 10.4ms inference, 1.2ms postprocess per image at shape (1, 3, 640, 640)\n",
      "\n",
      "0: 608x640 1 class_17, 11.0ms\n",
      "Speed: 2.2ms preprocess, 11.0ms inference, 1.2ms postprocess per image at shape (1, 3, 608, 640)\n",
      "\n",
      "0: 608x640 1 class_17, 10.3ms\n",
      "Speed: 2.6ms preprocess, 10.3ms inference, 1.1ms postprocess per image at shape (1, 3, 608, 640)\n",
      "\n",
      "0: 640x640 1 class_38, 11.2ms\n",
      "Speed: 1.9ms preprocess, 11.2ms inference, 1.0ms postprocess per image at shape (1, 3, 640, 640)\n",
      "\n",
      "0: 640x640 1 class_9, 10.4ms\n",
      "Speed: 2.3ms preprocess, 10.4ms inference, 1.2ms postprocess per image at shape (1, 3, 640, 640)\n",
      "\n",
      "0: 640x640 1 class_15, 10.4ms\n",
      "Speed: 1.8ms preprocess, 10.4ms inference, 1.2ms postprocess per image at shape (1, 3, 640, 640)\n",
      "\n",
      "0: 640x640 1 class_38, 10.4ms\n",
      "Speed: 1.7ms preprocess, 10.4ms inference, 1.1ms postprocess per image at shape (1, 3, 640, 640)\n",
      "\n",
      "0: 640x640 1 class_8, 10.4ms\n",
      "Speed: 1.9ms preprocess, 10.4ms inference, 1.2ms postprocess per image at shape (1, 3, 640, 640)\n",
      "\n",
      "0: 640x640 1 class_10, 10.3ms\n",
      "Speed: 2.4ms preprocess, 10.3ms inference, 1.1ms postprocess per image at shape (1, 3, 640, 640)\n",
      "\n",
      "0: 640x640 1 class_8, 10.3ms\n",
      "Speed: 2.1ms preprocess, 10.3ms inference, 1.1ms postprocess per image at shape (1, 3, 640, 640)\n",
      "\n",
      "0: 640x640 1 class_10, 10.4ms\n",
      "Speed: 2.5ms preprocess, 10.4ms inference, 1.1ms postprocess per image at shape (1, 3, 640, 640)\n",
      "\n",
      "0: 640x640 1 class_1, 10.4ms\n",
      "Speed: 2.0ms preprocess, 10.4ms inference, 1.3ms postprocess per image at shape (1, 3, 640, 640)\n",
      "\n",
      "0: 608x640 1 class_11, 11.0ms\n",
      "Speed: 2.5ms preprocess, 11.0ms inference, 1.4ms postprocess per image at shape (1, 3, 608, 640)\n",
      "\n",
      "0: 608x640 1 class_25, 10.2ms\n",
      "Speed: 2.0ms preprocess, 10.2ms inference, 1.3ms postprocess per image at shape (1, 3, 608, 640)\n",
      "\n",
      "0: 576x640 1 class_13, 10.8ms\n",
      "Speed: 2.5ms preprocess, 10.8ms inference, 1.2ms postprocess per image at shape (1, 3, 576, 640)\n",
      "\n",
      "0: 640x640 1 class_40, 11.0ms\n",
      "Speed: 2.1ms preprocess, 11.0ms inference, 1.1ms postprocess per image at shape (1, 3, 640, 640)\n",
      "\n",
      "0: 608x640 1 class_23, 10.9ms\n",
      "Speed: 2.1ms preprocess, 10.9ms inference, 1.1ms postprocess per image at shape (1, 3, 608, 640)\n",
      "\n",
      "0: 576x640 1 class_24, 10.8ms\n",
      "Speed: 2.0ms preprocess, 10.8ms inference, 1.2ms postprocess per image at shape (1, 3, 576, 640)\n",
      "\n",
      "0: 640x640 1 class_8, 11.2ms\n",
      "Speed: 2.0ms preprocess, 11.2ms inference, 1.2ms postprocess per image at shape (1, 3, 640, 640)\n",
      "\n",
      "0: 640x640 1 class_8, 10.4ms\n",
      "Speed: 2.3ms preprocess, 10.4ms inference, 1.1ms postprocess per image at shape (1, 3, 640, 640)\n",
      "\n",
      "0: 640x640 1 class_10, 10.3ms\n",
      "Speed: 2.2ms preprocess, 10.3ms inference, 1.1ms postprocess per image at shape (1, 3, 640, 640)\n",
      "\n",
      "0: 640x640 1 class_10, 10.3ms\n",
      "Speed: 1.8ms preprocess, 10.3ms inference, 1.1ms postprocess per image at shape (1, 3, 640, 640)\n",
      "\n",
      "0: 640x640 1 class_6, 10.3ms\n",
      "Speed: 2.1ms preprocess, 10.3ms inference, 1.3ms postprocess per image at shape (1, 3, 640, 640)\n",
      "\n",
      "0: 640x640 1 class_6, 10.3ms\n",
      "Speed: 2.0ms preprocess, 10.3ms inference, 1.3ms postprocess per image at shape (1, 3, 640, 640)\n",
      "\n",
      "0: 640x640 1 class_5, 10.4ms\n",
      "Speed: 2.0ms preprocess, 10.4ms inference, 1.4ms postprocess per image at shape (1, 3, 640, 640)\n",
      "\n",
      "0: 640x640 1 class_5, 10.3ms\n",
      "Speed: 2.1ms preprocess, 10.3ms inference, 1.1ms postprocess per image at shape (1, 3, 640, 640)\n",
      "\n",
      "0: 640x640 1 class_10, 10.4ms\n",
      "Speed: 1.9ms preprocess, 10.4ms inference, 1.2ms postprocess per image at shape (1, 3, 640, 640)\n",
      "\n",
      "0: 640x640 1 class_10, 10.4ms\n",
      "Speed: 2.3ms preprocess, 10.4ms inference, 1.2ms postprocess per image at shape (1, 3, 640, 640)\n",
      "\n",
      "0: 640x640 1 class_39, 10.4ms\n",
      "Speed: 1.9ms preprocess, 10.4ms inference, 1.3ms postprocess per image at shape (1, 3, 640, 640)\n",
      "\n",
      "0: 640x640 1 class_10, 10.4ms\n",
      "Speed: 1.9ms preprocess, 10.4ms inference, 1.2ms postprocess per image at shape (1, 3, 640, 640)\n",
      "\n",
      "0: 608x640 1 class_25, 10.9ms\n",
      "Speed: 2.1ms preprocess, 10.9ms inference, 1.2ms postprocess per image at shape (1, 3, 608, 640)\n",
      "\n",
      "0: 608x640 1 class_25, 10.2ms\n",
      "Speed: 1.9ms preprocess, 10.2ms inference, 1.3ms postprocess per image at shape (1, 3, 608, 640)\n",
      "\n",
      "0: 640x640 1 class_8, 11.0ms\n",
      "Speed: 1.8ms preprocess, 11.0ms inference, 1.2ms postprocess per image at shape (1, 3, 640, 640)\n",
      "\n",
      "0: 608x640 1 class_8, 10.9ms\n",
      "Speed: 2.4ms preprocess, 10.9ms inference, 1.2ms postprocess per image at shape (1, 3, 608, 640)\n",
      "\n",
      "0: 640x640 1 class_41, 11.4ms\n",
      "Speed: 2.5ms preprocess, 11.4ms inference, 1.2ms postprocess per image at shape (1, 3, 640, 640)\n",
      "\n",
      "0: 640x640 1 class_17, 10.4ms\n",
      "Speed: 2.3ms preprocess, 10.4ms inference, 1.1ms postprocess per image at shape (1, 3, 640, 640)\n",
      "\n",
      "0: 640x640 1 class_38, 10.4ms\n",
      "Speed: 1.7ms preprocess, 10.4ms inference, 1.2ms postprocess per image at shape (1, 3, 640, 640)\n",
      "\n",
      "0: 576x640 1 class_11, 10.9ms\n",
      "Speed: 2.0ms preprocess, 10.9ms inference, 1.3ms postprocess per image at shape (1, 3, 576, 640)\n",
      "\n",
      "0: 640x544 1 class_38, 10.8ms\n",
      "Speed: 2.0ms preprocess, 10.8ms inference, 1.2ms postprocess per image at shape (1, 3, 640, 544)\n",
      "\n",
      "0: 640x640 1 class_1, 11.1ms\n",
      "Speed: 2.0ms preprocess, 11.1ms inference, 1.2ms postprocess per image at shape (1, 3, 640, 640)\n",
      "\n",
      "0: 640x640 1 class_5, 10.4ms\n",
      "Speed: 1.8ms preprocess, 10.4ms inference, 1.4ms postprocess per image at shape (1, 3, 640, 640)\n",
      "\n",
      "0: 640x640 1 class_5, 10.3ms\n",
      "Speed: 2.2ms preprocess, 10.3ms inference, 1.3ms postprocess per image at shape (1, 3, 640, 640)\n",
      "\n",
      "0: 640x640 1 class_38, 10.4ms\n",
      "Speed: 2.0ms preprocess, 10.4ms inference, 1.3ms postprocess per image at shape (1, 3, 640, 640)\n",
      "\n",
      "0: 640x640 1 class_1, 10.4ms\n",
      "Speed: 2.0ms preprocess, 10.4ms inference, 1.2ms postprocess per image at shape (1, 3, 640, 640)\n",
      "\n",
      "0: 640x640 1 class_13, 10.4ms\n",
      "Speed: 2.2ms preprocess, 10.4ms inference, 1.2ms postprocess per image at shape (1, 3, 640, 640)\n",
      "\n",
      "0: 640x640 1 class_12, 10.4ms\n",
      "Speed: 2.2ms preprocess, 10.4ms inference, 1.1ms postprocess per image at shape (1, 3, 640, 640)\n",
      "\n",
      "0: 640x576 1 class_5, 10.9ms\n",
      "Speed: 2.6ms preprocess, 10.9ms inference, 1.2ms postprocess per image at shape (1, 3, 640, 576)\n",
      "\n",
      "0: 640x640 1 class_10, 11.2ms\n",
      "Speed: 2.0ms preprocess, 11.2ms inference, 1.2ms postprocess per image at shape (1, 3, 640, 640)\n",
      "\n",
      "0: 640x640 1 class_12, 11.2ms\n",
      "Speed: 2.3ms preprocess, 11.2ms inference, 1.3ms postprocess per image at shape (1, 3, 640, 640)\n",
      "\n",
      "0: 608x640 1 class_29, 11.8ms\n",
      "Speed: 2.4ms preprocess, 11.8ms inference, 1.2ms postprocess per image at shape (1, 3, 608, 640)\n",
      "\n",
      "0: 640x640 1 class_13, 11.8ms\n",
      "Speed: 1.9ms preprocess, 11.8ms inference, 1.3ms postprocess per image at shape (1, 3, 640, 640)\n",
      "\n",
      "0: 640x608 1 class_38, 11.8ms\n",
      "Speed: 2.3ms preprocess, 11.8ms inference, 1.2ms postprocess per image at shape (1, 3, 640, 608)\n",
      "\n",
      "0: 608x640 1 class_13, 11.7ms\n",
      "Speed: 1.8ms preprocess, 11.7ms inference, 1.3ms postprocess per image at shape (1, 3, 608, 640)\n",
      "\n",
      "0: 640x640 1 class_1, 12.1ms\n",
      "Speed: 2.4ms preprocess, 12.1ms inference, 1.1ms postprocess per image at shape (1, 3, 640, 640)\n",
      "\n",
      "0: 640x640 1 class_5, 11.5ms\n",
      "Speed: 2.0ms preprocess, 11.5ms inference, 1.2ms postprocess per image at shape (1, 3, 640, 640)\n",
      "\n",
      "0: 640x640 1 class_3, 11.4ms\n",
      "Speed: 2.3ms preprocess, 11.4ms inference, 1.3ms postprocess per image at shape (1, 3, 640, 640)\n",
      "\n",
      "0: 640x640 1 class_38, 11.5ms\n",
      "Speed: 2.7ms preprocess, 11.5ms inference, 1.3ms postprocess per image at shape (1, 3, 640, 640)\n",
      "\n",
      "0: 640x640 1 class_11, 11.4ms\n",
      "Speed: 2.4ms preprocess, 11.4ms inference, 1.2ms postprocess per image at shape (1, 3, 640, 640)\n",
      "\n",
      "0: 608x640 1 class_18, 12.2ms\n",
      "Speed: 2.2ms preprocess, 12.2ms inference, 1.2ms postprocess per image at shape (1, 3, 608, 640)\n",
      "\n",
      "0: 640x640 1 class_12, 12.3ms\n",
      "Speed: 2.0ms preprocess, 12.3ms inference, 1.2ms postprocess per image at shape (1, 3, 640, 640)\n",
      "\n",
      "0: 640x640 1 class_35, 11.6ms\n",
      "Speed: 2.0ms preprocess, 11.6ms inference, 1.2ms postprocess per image at shape (1, 3, 640, 640)\n",
      "\n",
      "0: 576x640 1 class_13, 12.0ms\n",
      "Speed: 1.7ms preprocess, 12.0ms inference, 1.1ms postprocess per image at shape (1, 3, 576, 640)\n",
      "\n",
      "0: 608x640 1 class_18, 12.1ms\n",
      "Speed: 2.5ms preprocess, 12.1ms inference, 1.1ms postprocess per image at shape (1, 3, 608, 640)\n",
      "\n",
      "0: 576x640 1 class_13, 12.4ms\n",
      "Speed: 2.0ms preprocess, 12.4ms inference, 1.2ms postprocess per image at shape (1, 3, 576, 640)\n",
      "\n",
      "0: 576x640 1 class_13, 11.6ms\n",
      "Speed: 1.7ms preprocess, 11.6ms inference, 1.1ms postprocess per image at shape (1, 3, 576, 640)\n",
      "\n",
      "0: 640x640 1 class_7, 12.6ms\n",
      "Speed: 2.5ms preprocess, 12.6ms inference, 1.1ms postprocess per image at shape (1, 3, 640, 640)\n",
      "\n",
      "0: 640x640 1 class_7, 11.9ms\n",
      "Speed: 2.1ms preprocess, 11.9ms inference, 1.2ms postprocess per image at shape (1, 3, 640, 640)\n",
      "\n",
      "0: 640x640 1 class_18, 11.9ms\n",
      "Speed: 2.7ms preprocess, 11.9ms inference, 1.2ms postprocess per image at shape (1, 3, 640, 640)\n",
      "\n",
      "0: 640x576 1 class_15, 12.4ms\n",
      "Speed: 1.9ms preprocess, 12.4ms inference, 1.1ms postprocess per image at shape (1, 3, 640, 576)\n",
      "\n",
      "0: 640x640 1 class_9, 12.8ms\n",
      "Speed: 2.3ms preprocess, 12.8ms inference, 1.1ms postprocess per image at shape (1, 3, 640, 640)\n",
      "\n",
      "0: 608x640 1 class_30, 12.6ms\n",
      "Speed: 2.4ms preprocess, 12.6ms inference, 1.1ms postprocess per image at shape (1, 3, 608, 640)\n",
      "\n",
      "0: 608x640 1 class_30, 11.9ms\n",
      "Speed: 1.8ms preprocess, 11.9ms inference, 1.1ms postprocess per image at shape (1, 3, 608, 640)\n",
      "\n",
      "0: 640x640 1 class_4, 12.7ms\n",
      "Speed: 2.4ms preprocess, 12.7ms inference, 1.1ms postprocess per image at shape (1, 3, 640, 640)\n",
      "\n",
      "0: 640x640 1 class_8, 12.0ms\n",
      "Speed: 2.2ms preprocess, 12.0ms inference, 1.2ms postprocess per image at shape (1, 3, 640, 640)\n",
      "\n",
      "0: 640x640 1 class_10, 12.0ms\n",
      "Speed: 2.3ms preprocess, 12.0ms inference, 1.3ms postprocess per image at shape (1, 3, 640, 640)\n",
      "\n",
      "0: 640x640 1 class_8, 11.6ms\n",
      "Speed: 2.1ms preprocess, 11.6ms inference, 1.2ms postprocess per image at shape (1, 3, 640, 640)\n",
      "\n",
      "0: 640x640 1 class_10, 11.6ms\n",
      "Speed: 2.0ms preprocess, 11.6ms inference, 1.1ms postprocess per image at shape (1, 3, 640, 640)\n",
      "\n",
      "0: 640x640 1 class_25, 11.7ms\n",
      "Speed: 2.4ms preprocess, 11.7ms inference, 1.2ms postprocess per image at shape (1, 3, 640, 640)\n",
      "\n",
      "0: 640x640 1 class_12, 11.6ms\n",
      "Speed: 2.0ms preprocess, 11.6ms inference, 1.4ms postprocess per image at shape (1, 3, 640, 640)\n",
      "\n",
      "0: 640x608 1 class_12, 12.2ms\n",
      "Speed: 2.0ms preprocess, 12.2ms inference, 1.2ms postprocess per image at shape (1, 3, 640, 608)\n",
      "\n",
      "0: 640x640 2 class_36s, 12.2ms\n",
      "Speed: 2.3ms preprocess, 12.2ms inference, 1.0ms postprocess per image at shape (1, 3, 640, 640)\n",
      "\n",
      "0: 640x640 1 class_35, 11.6ms\n",
      "Speed: 2.1ms preprocess, 11.6ms inference, 1.0ms postprocess per image at shape (1, 3, 640, 640)\n",
      "\n",
      "0: 640x640 1 class_3, 11.3ms\n",
      "Speed: 2.0ms preprocess, 11.3ms inference, 1.3ms postprocess per image at shape (1, 3, 640, 640)\n",
      "\n",
      "0: 640x640 1 class_3, 11.3ms\n",
      "Speed: 2.4ms preprocess, 11.3ms inference, 1.3ms postprocess per image at shape (1, 3, 640, 640)\n",
      "\n",
      "0: 576x640 1 class_30, 11.8ms\n",
      "Speed: 2.2ms preprocess, 11.8ms inference, 1.3ms postprocess per image at shape (1, 3, 576, 640)\n",
      "\n",
      "0: 640x640 1 class_8, 12.0ms\n",
      "Speed: 2.0ms preprocess, 12.0ms inference, 1.2ms postprocess per image at shape (1, 3, 640, 640)\n",
      "\n",
      "0: 640x640 1 class_10, 11.3ms\n",
      "Speed: 1.8ms preprocess, 11.3ms inference, 1.2ms postprocess per image at shape (1, 3, 640, 640)\n",
      "\n",
      "0: 640x640 1 class_10, 11.3ms\n",
      "Speed: 1.9ms preprocess, 11.3ms inference, 1.1ms postprocess per image at shape (1, 3, 640, 640)\n",
      "\n",
      "0: 640x640 1 class_8, 11.3ms\n",
      "Speed: 1.8ms preprocess, 11.3ms inference, 1.1ms postprocess per image at shape (1, 3, 640, 640)\n",
      "\n",
      "0: 576x640 1 class_11, 11.8ms\n",
      "Speed: 1.8ms preprocess, 11.8ms inference, 1.1ms postprocess per image at shape (1, 3, 576, 640)\n",
      "\n",
      "0: 640x608 1 class_1, 12.5ms\n",
      "Speed: 2.0ms preprocess, 12.5ms inference, 2.0ms postprocess per image at shape (1, 3, 640, 608)\n",
      "\n",
      "0: 640x576 1 class_1, 12.9ms\n",
      "Speed: 2.7ms preprocess, 12.9ms inference, 1.7ms postprocess per image at shape (1, 3, 640, 576)\n",
      "\n",
      "0: 640x640 1 class_9, 12.2ms\n",
      "Speed: 2.4ms preprocess, 12.2ms inference, 1.2ms postprocess per image at shape (1, 3, 640, 640)\n",
      "\n",
      "0: 640x640 1 class_9, 11.3ms\n",
      "Speed: 1.7ms preprocess, 11.3ms inference, 1.3ms postprocess per image at shape (1, 3, 640, 640)\n",
      "\n",
      "0: 608x640 1 class_38, 11.9ms\n",
      "Speed: 1.7ms preprocess, 11.9ms inference, 1.1ms postprocess per image at shape (1, 3, 608, 640)\n",
      "\n",
      "0: 608x640 1 class_2, 11.2ms\n",
      "Speed: 2.1ms preprocess, 11.2ms inference, 1.1ms postprocess per image at shape (1, 3, 608, 640)\n",
      "\n",
      "0: 640x640 1 class_1, 12.1ms\n",
      "Speed: 2.1ms preprocess, 12.1ms inference, 1.0ms postprocess per image at shape (1, 3, 640, 640)\n",
      "\n",
      "0: 608x640 1 class_11, 11.9ms\n",
      "Speed: 2.1ms preprocess, 11.9ms inference, 1.2ms postprocess per image at shape (1, 3, 608, 640)\n",
      "\n",
      "0: 640x640 1 class_2, 12.1ms\n",
      "Speed: 2.3ms preprocess, 12.1ms inference, 1.2ms postprocess per image at shape (1, 3, 640, 640)\n",
      "\n",
      "0: 640x608 1 class_14, 12.0ms\n",
      "Speed: 2.7ms preprocess, 12.0ms inference, 1.1ms postprocess per image at shape (1, 3, 640, 608)\n",
      "\n",
      "0: 608x640 1 class_23, 11.8ms\n",
      "Speed: 1.9ms preprocess, 11.8ms inference, 1.2ms postprocess per image at shape (1, 3, 608, 640)\n",
      "\n",
      "0: 640x640 1 class_13, 11.8ms\n",
      "Speed: 1.9ms preprocess, 11.8ms inference, 1.0ms postprocess per image at shape (1, 3, 640, 640)\n",
      "\n",
      "0: 640x576 1 class_38, 11.7ms\n",
      "Speed: 2.3ms preprocess, 11.7ms inference, 1.1ms postprocess per image at shape (1, 3, 640, 576)\n",
      "\n",
      "0: 640x640 1 class_17, 11.9ms\n",
      "Speed: 1.8ms preprocess, 11.9ms inference, 1.1ms postprocess per image at shape (1, 3, 640, 640)\n",
      "\n",
      "0: 640x640 1 class_17, 11.3ms\n",
      "Speed: 2.4ms preprocess, 11.3ms inference, 1.1ms postprocess per image at shape (1, 3, 640, 640)\n",
      "\n",
      "0: 608x640 1 class_22, 11.9ms\n",
      "Speed: 1.9ms preprocess, 11.9ms inference, 1.1ms postprocess per image at shape (1, 3, 608, 640)\n",
      "\n",
      "0: 640x640 1 class_38, 12.0ms\n",
      "Speed: 2.5ms preprocess, 12.0ms inference, 1.1ms postprocess per image at shape (1, 3, 640, 640)\n",
      "\n",
      "0: 640x640 1 class_10, 11.3ms\n",
      "Speed: 1.8ms preprocess, 11.3ms inference, 1.3ms postprocess per image at shape (1, 3, 640, 640)\n",
      "\n",
      "0: 640x640 1 class_10, 11.3ms\n",
      "Speed: 1.9ms preprocess, 11.3ms inference, 1.4ms postprocess per image at shape (1, 3, 640, 640)\n",
      "\n",
      "0: 640x640 1 class_13, 11.3ms\n",
      "Speed: 2.2ms preprocess, 11.3ms inference, 1.5ms postprocess per image at shape (1, 3, 640, 640)\n",
      "\n",
      "0: 640x640 1 class_12, 11.3ms\n",
      "Speed: 2.0ms preprocess, 11.3ms inference, 1.2ms postprocess per image at shape (1, 3, 640, 640)\n",
      "\n",
      "0: 640x640 1 class_16, 11.3ms\n",
      "Speed: 2.1ms preprocess, 11.3ms inference, 1.4ms postprocess per image at shape (1, 3, 640, 640)\n",
      "\n",
      "0: 640x640 1 class_16, 11.2ms\n",
      "Speed: 2.5ms preprocess, 11.2ms inference, 1.3ms postprocess per image at shape (1, 3, 640, 640)\n",
      "\n",
      "0: 640x576 1 class_12, 11.6ms\n",
      "Speed: 1.8ms preprocess, 11.6ms inference, 1.1ms postprocess per image at shape (1, 3, 640, 576)\n",
      "\n",
      "0: 640x640 1 class_7, 11.8ms\n",
      "Speed: 2.7ms preprocess, 11.8ms inference, 1.1ms postprocess per image at shape (1, 3, 640, 640)\n",
      "\n",
      "0: 640x640 1 class_7, 11.1ms\n",
      "Speed: 1.9ms preprocess, 11.1ms inference, 1.0ms postprocess per image at shape (1, 3, 640, 640)\n",
      "\n",
      "0: 576x640 1 class_30, 11.5ms\n",
      "Speed: 2.4ms preprocess, 11.5ms inference, 1.1ms postprocess per image at shape (1, 3, 576, 640)\n",
      "\n",
      "0: 640x640 1 class_14, 11.8ms\n",
      "Speed: 2.1ms preprocess, 11.8ms inference, 1.1ms postprocess per image at shape (1, 3, 640, 640)\n",
      "\n",
      "0: 640x640 1 class_5, 11.2ms\n",
      "Speed: 1.8ms preprocess, 11.2ms inference, 1.2ms postprocess per image at shape (1, 3, 640, 640)\n",
      "\n",
      "0: 640x640 1 class_5, 11.2ms\n",
      "Speed: 2.5ms preprocess, 11.2ms inference, 1.2ms postprocess per image at shape (1, 3, 640, 640)\n",
      "\n",
      "0: 608x640 1 class_1, 11.9ms\n",
      "Speed: 2.0ms preprocess, 11.9ms inference, 1.2ms postprocess per image at shape (1, 3, 608, 640)\n",
      "\n",
      "0: 640x640 1 class_38, 11.9ms\n",
      "Speed: 2.9ms preprocess, 11.9ms inference, 1.3ms postprocess per image at shape (1, 3, 640, 640)\n",
      "\n",
      "0: 640x640 1 class_4, 11.2ms\n",
      "Speed: 2.0ms preprocess, 11.2ms inference, 1.2ms postprocess per image at shape (1, 3, 640, 640)\n",
      "\n",
      "0: 640x640 1 class_38, 11.2ms\n",
      "Speed: 2.4ms preprocess, 11.2ms inference, 1.2ms postprocess per image at shape (1, 3, 640, 640)\n",
      "\n",
      "0: 640x640 1 class_13, 11.1ms\n",
      "Speed: 2.0ms preprocess, 11.1ms inference, 1.2ms postprocess per image at shape (1, 3, 640, 640)\n",
      "\n",
      "0: 576x640 1 class_2, 11.7ms\n",
      "Speed: 2.5ms preprocess, 11.7ms inference, 1.2ms postprocess per image at shape (1, 3, 576, 640)\n",
      "\n",
      "0: 640x640 1 class_14, 12.1ms\n",
      "Speed: 1.9ms preprocess, 12.1ms inference, 1.3ms postprocess per image at shape (1, 3, 640, 640)\n",
      "\n",
      "0: 608x640 1 class_13, 11.7ms\n",
      "Speed: 1.9ms preprocess, 11.7ms inference, 1.1ms postprocess per image at shape (1, 3, 608, 640)\n",
      "\n",
      "0: 640x640 1 class_4, 11.9ms\n",
      "Speed: 1.8ms preprocess, 11.9ms inference, 1.1ms postprocess per image at shape (1, 3, 640, 640)\n",
      "\n",
      "0: 640x640 1 class_8, 11.2ms\n",
      "Speed: 2.6ms preprocess, 11.2ms inference, 1.2ms postprocess per image at shape (1, 3, 640, 640)\n",
      "\n",
      "0: 640x640 1 class_10, 11.2ms\n",
      "Speed: 2.0ms preprocess, 11.2ms inference, 1.0ms postprocess per image at shape (1, 3, 640, 640)\n",
      "\n",
      "0: 640x640 1 class_8, 11.1ms\n",
      "Speed: 2.3ms preprocess, 11.1ms inference, 1.1ms postprocess per image at shape (1, 3, 640, 640)\n",
      "\n",
      "0: 640x640 1 class_10, 11.1ms\n",
      "Speed: 1.7ms preprocess, 11.1ms inference, 1.2ms postprocess per image at shape (1, 3, 640, 640)\n",
      "\n",
      "0: 640x640 1 class_2, 11.2ms\n",
      "Speed: 2.1ms preprocess, 11.2ms inference, 1.2ms postprocess per image at shape (1, 3, 640, 640)\n",
      "\n",
      "0: 640x640 1 class_14, 11.2ms\n",
      "Speed: 2.1ms preprocess, 11.2ms inference, 1.4ms postprocess per image at shape (1, 3, 640, 640)\n",
      "\n",
      "0: 640x640 1 class_38, 11.2ms\n",
      "Speed: 2.0ms preprocess, 11.2ms inference, 1.8ms postprocess per image at shape (1, 3, 640, 640)\n",
      "\n",
      "0: 640x576 1 class_35, 11.7ms\n",
      "Speed: 1.9ms preprocess, 11.7ms inference, 1.2ms postprocess per image at shape (1, 3, 640, 576)\n",
      "\n",
      "0: 640x640 1 class_12, 11.7ms\n",
      "Speed: 2.5ms preprocess, 11.7ms inference, 1.1ms postprocess per image at shape (1, 3, 640, 640)\n",
      "\n",
      "0: 640x640 1 class_2, 11.2ms\n",
      "Speed: 1.8ms preprocess, 11.2ms inference, 1.3ms postprocess per image at shape (1, 3, 640, 640)\n",
      "\n",
      "0: 640x640 1 class_38, 11.1ms\n",
      "Speed: 2.0ms preprocess, 11.1ms inference, 1.1ms postprocess per image at shape (1, 3, 640, 640)\n",
      "\n",
      "0: 608x640 1 class_26, 11.8ms\n",
      "Speed: 2.4ms preprocess, 11.8ms inference, 1.1ms postprocess per image at shape (1, 3, 608, 640)\n",
      "\n",
      "0: 640x640 1 class_2, 11.8ms\n",
      "Speed: 2.1ms preprocess, 11.8ms inference, 1.1ms postprocess per image at shape (1, 3, 640, 640)\n",
      "\n",
      "0: 640x640 1 class_5, 11.2ms\n",
      "Speed: 2.6ms preprocess, 11.2ms inference, 1.4ms postprocess per image at shape (1, 3, 640, 640)\n",
      "\n",
      "0: 640x640 1 class_38, 11.2ms\n",
      "Speed: 2.3ms preprocess, 11.2ms inference, 1.2ms postprocess per image at shape (1, 3, 640, 640)\n",
      "\n",
      "0: 640x640 1 class_4, 11.1ms\n",
      "Speed: 2.0ms preprocess, 11.1ms inference, 1.1ms postprocess per image at shape (1, 3, 640, 640)\n",
      "\n",
      "0: 640x640 1 class_4, 11.2ms\n",
      "Speed: 2.4ms preprocess, 11.2ms inference, 1.2ms postprocess per image at shape (1, 3, 640, 640)\n",
      "\n",
      "0: 640x640 1 class_5, 11.2ms\n",
      "Speed: 2.0ms preprocess, 11.2ms inference, 1.3ms postprocess per image at shape (1, 3, 640, 640)\n",
      "\n",
      "0: 640x640 1 class_5, 11.1ms\n",
      "Speed: 1.9ms preprocess, 11.1ms inference, 1.2ms postprocess per image at shape (1, 3, 640, 640)\n",
      "\n",
      "0: 640x640 1 class_1, 11.2ms\n",
      "Speed: 2.0ms preprocess, 11.2ms inference, 1.2ms postprocess per image at shape (1, 3, 640, 640)\n",
      "\n",
      "0: 608x640 1 class_26, 11.9ms\n",
      "Speed: 2.0ms preprocess, 11.9ms inference, 1.2ms postprocess per image at shape (1, 3, 608, 640)\n",
      "\n",
      "0: 576x640 1 class_26, 11.6ms\n",
      "Speed: 2.1ms preprocess, 11.6ms inference, 1.1ms postprocess per image at shape (1, 3, 576, 640)\n",
      "\n",
      "0: 640x640 1 class_42, 12.2ms\n",
      "Speed: 1.9ms preprocess, 12.2ms inference, 1.3ms postprocess per image at shape (1, 3, 640, 640)\n",
      "\n",
      "0: 640x640 1 class_4, 11.2ms\n",
      "Speed: 2.2ms preprocess, 11.2ms inference, 1.3ms postprocess per image at shape (1, 3, 640, 640)\n",
      "\n",
      "0: 576x640 1 class_23, 11.5ms\n",
      "Speed: 1.8ms preprocess, 11.5ms inference, 1.2ms postprocess per image at shape (1, 3, 576, 640)\n",
      "\n",
      "0: 640x640 1 class_4, 11.7ms\n",
      "Speed: 2.2ms preprocess, 11.7ms inference, 1.1ms postprocess per image at shape (1, 3, 640, 640)\n",
      "\n",
      "0: 640x544 1 class_38, 11.6ms\n",
      "Speed: 2.1ms preprocess, 11.6ms inference, 1.2ms postprocess per image at shape (1, 3, 640, 544)\n",
      "\n",
      "0: 640x640 1 class_1, 12.0ms\n",
      "Speed: 2.6ms preprocess, 12.0ms inference, 1.3ms postprocess per image at shape (1, 3, 640, 640)\n",
      "\n",
      "0: 640x640 1 class_3, 11.2ms\n",
      "Speed: 2.1ms preprocess, 11.2ms inference, 1.3ms postprocess per image at shape (1, 3, 640, 640)\n",
      "\n",
      "0: 640x640 1 class_27, 11.2ms\n",
      "Speed: 2.4ms preprocess, 11.2ms inference, 1.2ms postprocess per image at shape (1, 3, 640, 640)\n",
      "\n",
      "0: 640x640 1 class_0, 11.2ms\n",
      "Speed: 1.9ms preprocess, 11.2ms inference, 1.2ms postprocess per image at shape (1, 3, 640, 640)\n",
      "\n",
      "0: 640x640 1 class_12, 11.2ms\n",
      "Speed: 1.9ms preprocess, 11.2ms inference, 1.1ms postprocess per image at shape (1, 3, 640, 640)\n",
      "\n",
      "0: 640x640 1 class_38, 11.1ms\n",
      "Speed: 1.7ms preprocess, 11.1ms inference, 1.1ms postprocess per image at shape (1, 3, 640, 640)\n",
      "\n",
      "0: 576x640 1 class_23, 12.1ms\n",
      "Speed: 2.4ms preprocess, 12.1ms inference, 1.2ms postprocess per image at shape (1, 3, 576, 640)\n",
      "\n",
      "0: 608x640 1 class_18, 12.4ms\n",
      "Speed: 2.3ms preprocess, 12.4ms inference, 1.1ms postprocess per image at shape (1, 3, 608, 640)\n",
      "\n",
      "0: 576x640 1 class_13, 12.1ms\n",
      "Speed: 2.4ms preprocess, 12.1ms inference, 1.1ms postprocess per image at shape (1, 3, 576, 640)\n",
      "\n",
      "0: 608x640 1 class_13, 12.5ms\n",
      "Speed: 2.5ms preprocess, 12.5ms inference, 1.2ms postprocess per image at shape (1, 3, 608, 640)\n",
      "\n",
      "0: 640x640 1 class_7, 12.4ms\n",
      "Speed: 1.9ms preprocess, 12.4ms inference, 1.2ms postprocess per image at shape (1, 3, 640, 640)\n",
      "\n",
      "0: 608x640 1 class_29, 12.5ms\n",
      "Speed: 2.0ms preprocess, 12.5ms inference, 1.4ms postprocess per image at shape (1, 3, 608, 640)\n",
      "\n",
      "0: 640x544 1 class_38, 12.0ms\n",
      "Speed: 1.8ms preprocess, 12.0ms inference, 1.2ms postprocess per image at shape (1, 3, 640, 544)\n",
      "\n",
      "0: 640x640 1 class_12, 12.6ms\n",
      "Speed: 2.1ms preprocess, 12.6ms inference, 1.2ms postprocess per image at shape (1, 3, 640, 640)\n",
      "\n",
      "0: 640x640 1 class_38, 11.9ms\n",
      "Speed: 2.1ms preprocess, 11.9ms inference, 1.1ms postprocess per image at shape (1, 3, 640, 640)\n",
      "\n",
      "0: 640x640 1 class_8, 11.9ms\n",
      "Speed: 2.3ms preprocess, 11.9ms inference, 1.1ms postprocess per image at shape (1, 3, 640, 640)\n",
      "\n",
      "0: 640x640 1 class_10, 11.9ms\n",
      "Speed: 2.2ms preprocess, 11.9ms inference, 1.3ms postprocess per image at shape (1, 3, 640, 640)\n",
      "\n",
      "0: 608x640 1 class_8, 12.4ms\n",
      "Speed: 1.7ms preprocess, 12.4ms inference, 1.1ms postprocess per image at shape (1, 3, 608, 640)\n",
      "\n",
      "0: 576x640 1 class_10, 12.4ms\n",
      "Speed: 2.1ms preprocess, 12.4ms inference, 1.1ms postprocess per image at shape (1, 3, 576, 640)\n",
      "\n",
      "0: 640x640 1 class_7, 11.7ms\n",
      "Speed: 2.1ms preprocess, 11.7ms inference, 1.2ms postprocess per image at shape (1, 3, 640, 640)\n",
      "\n",
      "0: 640x640 1 class_9, 11.0ms\n",
      "Speed: 2.1ms preprocess, 11.0ms inference, 1.2ms postprocess per image at shape (1, 3, 640, 640)\n",
      "\n",
      "0: 640x640 1 class_10, 10.9ms\n",
      "Speed: 2.4ms preprocess, 10.9ms inference, 1.2ms postprocess per image at shape (1, 3, 640, 640)\n",
      "\n",
      "0: 640x640 1 class_10, 10.9ms\n",
      "Speed: 1.7ms preprocess, 10.9ms inference, 1.1ms postprocess per image at shape (1, 3, 640, 640)\n",
      "\n",
      "0: 640x640 1 class_8, 10.9ms\n",
      "Speed: 1.8ms preprocess, 10.9ms inference, 1.1ms postprocess per image at shape (1, 3, 640, 640)\n",
      "\n",
      "0: 640x640 1 class_8, 10.9ms\n",
      "Speed: 2.3ms preprocess, 10.9ms inference, 1.3ms postprocess per image at shape (1, 3, 640, 640)\n",
      "\n",
      "0: 640x640 1 class_4, 10.8ms\n",
      "Speed: 2.0ms preprocess, 10.8ms inference, 1.1ms postprocess per image at shape (1, 3, 640, 640)\n",
      "\n",
      "0: 640x640 1 class_4, 10.8ms\n",
      "Speed: 2.3ms preprocess, 10.8ms inference, 1.8ms postprocess per image at shape (1, 3, 640, 640)\n",
      "\n",
      "0: 640x640 1 class_20, 10.8ms\n",
      "Speed: 2.1ms preprocess, 10.8ms inference, 1.2ms postprocess per image at shape (1, 3, 640, 640)\n",
      "\n",
      "0: 608x640 1 class_18, 11.5ms\n",
      "Speed: 2.0ms preprocess, 11.5ms inference, 1.2ms postprocess per image at shape (1, 3, 608, 640)\n",
      "\n",
      "0: 640x640 1 class_2, 11.4ms\n",
      "Speed: 2.1ms preprocess, 11.4ms inference, 1.3ms postprocess per image at shape (1, 3, 640, 640)\n",
      "\n",
      "0: 640x640 1 class_2, 10.8ms\n",
      "Speed: 2.4ms preprocess, 10.8ms inference, 1.1ms postprocess per image at shape (1, 3, 640, 640)\n",
      "\n",
      "0: 640x640 1 class_3, 10.8ms\n",
      "Speed: 2.0ms preprocess, 10.8ms inference, 1.1ms postprocess per image at shape (1, 3, 640, 640)\n",
      "\n",
      "0: 640x640 1 class_1, 10.8ms\n",
      "Speed: 1.9ms preprocess, 10.8ms inference, 1.2ms postprocess per image at shape (1, 3, 640, 640)\n",
      "\n",
      "0: 640x640 1 class_5, 10.8ms\n",
      "Speed: 2.1ms preprocess, 10.8ms inference, 1.1ms postprocess per image at shape (1, 3, 640, 640)\n",
      "\n",
      "0: 640x640 1 class_3, 10.8ms\n",
      "Speed: 2.0ms preprocess, 10.8ms inference, 1.2ms postprocess per image at shape (1, 3, 640, 640)\n",
      "\n",
      "0: 640x640 1 class_3, 10.8ms\n",
      "Speed: 2.4ms preprocess, 10.8ms inference, 1.2ms postprocess per image at shape (1, 3, 640, 640)\n",
      "\n",
      "0: 608x640 1 class_11, 11.4ms\n",
      "Speed: 2.2ms preprocess, 11.4ms inference, 1.4ms postprocess per image at shape (1, 3, 608, 640)\n",
      "\n",
      "0: 576x640 1 class_26, 11.3ms\n",
      "Speed: 2.6ms preprocess, 11.3ms inference, 1.4ms postprocess per image at shape (1, 3, 576, 640)\n",
      "\n",
      "0: 608x640 1 class_22, 11.5ms\n",
      "Speed: 1.8ms preprocess, 11.5ms inference, 1.3ms postprocess per image at shape (1, 3, 608, 640)\n",
      "\n",
      "0: 640x640 1 class_9, 11.7ms\n",
      "Speed: 2.3ms preprocess, 11.7ms inference, 1.3ms postprocess per image at shape (1, 3, 640, 640)\n",
      "\n",
      "0: 640x640 1 class_38, 10.8ms\n",
      "Speed: 2.2ms preprocess, 10.8ms inference, 1.5ms postprocess per image at shape (1, 3, 640, 640)\n",
      "\n",
      "0: 608x640 1 class_13, 11.5ms\n",
      "Speed: 2.1ms preprocess, 11.5ms inference, 1.2ms postprocess per image at shape (1, 3, 608, 640)\n",
      "\n",
      "0: 608x640 1 class_13, 10.7ms\n",
      "Speed: 2.5ms preprocess, 10.7ms inference, 1.1ms postprocess per image at shape (1, 3, 608, 640)\n",
      "\n",
      "0: 640x640 1 class_38, 11.7ms\n",
      "Speed: 2.3ms preprocess, 11.7ms inference, 1.1ms postprocess per image at shape (1, 3, 640, 640)\n",
      "\n",
      "0: 640x640 1 class_2, 10.8ms\n",
      "Speed: 2.0ms preprocess, 10.8ms inference, 1.2ms postprocess per image at shape (1, 3, 640, 640)\n",
      "\n",
      "0: 544x640 1 class_11, 11.1ms\n",
      "Speed: 2.0ms preprocess, 11.1ms inference, 1.3ms postprocess per image at shape (1, 3, 544, 640)\n",
      "\n",
      "0: 640x608 1 class_9, 11.5ms\n",
      "Speed: 2.2ms preprocess, 11.5ms inference, 1.2ms postprocess per image at shape (1, 3, 640, 608)\n",
      "\n",
      "0: 640x640 1 class_16, 11.5ms\n",
      "Speed: 2.7ms preprocess, 11.5ms inference, 1.2ms postprocess per image at shape (1, 3, 640, 640)\n",
      "\n",
      "0: 640x608 1 class_4, 11.6ms\n",
      "Speed: 2.2ms preprocess, 11.6ms inference, 1.2ms postprocess per image at shape (1, 3, 640, 608)\n",
      "\n",
      "0: 640x640 1 class_12, 11.5ms\n",
      "Speed: 2.7ms preprocess, 11.5ms inference, 1.1ms postprocess per image at shape (1, 3, 640, 640)\n",
      "\n",
      "0: 608x640 1 class_13, 11.4ms\n",
      "Speed: 2.2ms preprocess, 11.4ms inference, 1.3ms postprocess per image at shape (1, 3, 608, 640)\n",
      "\n",
      "0: 640x544 1 class_33, 11.0ms\n",
      "Speed: 2.2ms preprocess, 11.0ms inference, 1.2ms postprocess per image at shape (1, 3, 640, 544)\n",
      "\n",
      "0: 640x640 1 class_6, 11.5ms\n",
      "Speed: 2.0ms preprocess, 11.5ms inference, 1.1ms postprocess per image at shape (1, 3, 640, 640)\n",
      "\n",
      "0: 640x640 1 class_38, 10.8ms\n",
      "Speed: 1.9ms preprocess, 10.8ms inference, 1.2ms postprocess per image at shape (1, 3, 640, 640)\n",
      "\n",
      "0: 608x640 1 class_13, 11.4ms\n",
      "Speed: 2.0ms preprocess, 11.4ms inference, 1.2ms postprocess per image at shape (1, 3, 608, 640)\n",
      "\n",
      "0: 576x640 1 class_13, 11.3ms\n",
      "Speed: 2.0ms preprocess, 11.3ms inference, 1.1ms postprocess per image at shape (1, 3, 576, 640)\n",
      "\n",
      "0: 640x640 1 class_32, 11.6ms\n",
      "Speed: 2.1ms preprocess, 11.6ms inference, 1.2ms postprocess per image at shape (1, 3, 640, 640)\n",
      "\n",
      "0: 640x640 1 class_32, 10.8ms\n",
      "Speed: 2.0ms preprocess, 10.8ms inference, 1.2ms postprocess per image at shape (1, 3, 640, 640)\n",
      "\n",
      "0: 640x640 1 class_42, 10.8ms\n",
      "Speed: 2.1ms preprocess, 10.8ms inference, 1.2ms postprocess per image at shape (1, 3, 640, 640)\n",
      "\n",
      "0: 576x640 1 class_22, 11.2ms\n",
      "Speed: 2.2ms preprocess, 11.2ms inference, 1.2ms postprocess per image at shape (1, 3, 576, 640)\n",
      "\n",
      "0: 640x640 1 class_4, 11.7ms\n",
      "Speed: 1.8ms preprocess, 11.7ms inference, 1.3ms postprocess per image at shape (1, 3, 640, 640)\n",
      "\n",
      "0: 640x640 1 class_4, 10.8ms\n",
      "Speed: 2.1ms preprocess, 10.8ms inference, 1.3ms postprocess per image at shape (1, 3, 640, 640)\n",
      "\n",
      "0: 640x640 1 class_2, 10.8ms\n",
      "Speed: 2.2ms preprocess, 10.8ms inference, 1.4ms postprocess per image at shape (1, 3, 640, 640)\n",
      "\n",
      "0: 640x640 1 class_2, 10.8ms\n",
      "Speed: 2.2ms preprocess, 10.8ms inference, 1.2ms postprocess per image at shape (1, 3, 640, 640)\n",
      "\n",
      "0: 640x576 1 class_12, 11.3ms\n",
      "Speed: 2.0ms preprocess, 11.3ms inference, 1.1ms postprocess per image at shape (1, 3, 640, 576)\n",
      "\n",
      "0: 640x640 1 class_35, 11.6ms\n",
      "Speed: 2.2ms preprocess, 11.6ms inference, 1.2ms postprocess per image at shape (1, 3, 640, 640)\n",
      "\n",
      "0: 640x640 1 class_17, 10.8ms\n",
      "Speed: 2.1ms preprocess, 10.8ms inference, 1.2ms postprocess per image at shape (1, 3, 640, 640)\n",
      "\n",
      "0: 640x640 1 class_17, 10.8ms\n",
      "Speed: 2.5ms preprocess, 10.8ms inference, 1.1ms postprocess per image at shape (1, 3, 640, 640)\n",
      "\n",
      "0: 640x640 1 class_3, 11.6ms\n",
      "Speed: 2.6ms preprocess, 11.6ms inference, 1.3ms postprocess per image at shape (1, 3, 640, 640)\n",
      "\n",
      "0: 640x640 1 class_3, 11.6ms\n",
      "Speed: 2.1ms preprocess, 11.6ms inference, 1.2ms postprocess per image at shape (1, 3, 640, 640)\n",
      "\n",
      "0: 640x640 1 class_4, 11.6ms\n",
      "Speed: 2.0ms preprocess, 11.6ms inference, 1.1ms postprocess per image at shape (1, 3, 640, 640)\n",
      "\n",
      "0: 640x640 1 class_9, 11.6ms\n",
      "Speed: 2.2ms preprocess, 11.6ms inference, 1.1ms postprocess per image at shape (1, 3, 640, 640)\n",
      "\n",
      "0: 640x640 1 class_9, 11.6ms\n",
      "Speed: 2.5ms preprocess, 11.6ms inference, 1.1ms postprocess per image at shape (1, 3, 640, 640)\n",
      "\n",
      "0: 640x640 1 class_33, 11.6ms\n",
      "Speed: 2.5ms preprocess, 11.6ms inference, 1.1ms postprocess per image at shape (1, 3, 640, 640)\n",
      "\n",
      "0: 576x640 1 class_13, 12.0ms\n",
      "Speed: 1.9ms preprocess, 12.0ms inference, 1.1ms postprocess per image at shape (1, 3, 576, 640)\n",
      "\n",
      "0: 640x640 1 class_4, 12.6ms\n",
      "Speed: 2.7ms preprocess, 12.6ms inference, 1.3ms postprocess per image at shape (1, 3, 640, 640)\n",
      "\n",
      "0: 640x640 1 class_3, 11.8ms\n",
      "Speed: 2.1ms preprocess, 11.8ms inference, 1.3ms postprocess per image at shape (1, 3, 640, 640)\n",
      "\n",
      "0: 640x640 1 class_3, 11.7ms\n",
      "Speed: 1.9ms preprocess, 11.7ms inference, 1.3ms postprocess per image at shape (1, 3, 640, 640)\n",
      "\n",
      "0: 640x640 1 class_1, 11.7ms\n",
      "Speed: 2.1ms preprocess, 11.7ms inference, 1.3ms postprocess per image at shape (1, 3, 640, 640)\n",
      "\n",
      "0: 640x512 1 class_17, 9.7ms\n",
      "Speed: 1.9ms preprocess, 9.7ms inference, 1.3ms postprocess per image at shape (1, 3, 640, 512)\n",
      "\n",
      "0: 640x640 1 class_38, 12.7ms\n",
      "Speed: 1.9ms preprocess, 12.7ms inference, 1.3ms postprocess per image at shape (1, 3, 640, 640)\n"
     ]
    }
   ],
   "source": [
    "import os\n",
    "import shutil\n",
    "import cv2\n",
    "from ultralytics import YOLO\n",
    "\n",
    "# Muat model YOLOv8 yang sudah dilatih\n",
    "model = YOLO('/kaggle/input/trafficsign/other/yolo/1/best11.pt')\n",
    "\n",
    "# Fungsi untuk memperbesar bounding box\n",
    "def enlarge_bbox(bbox, scale=1.2):\n",
    "    center_x, center_y, width, height = bbox\n",
    "    new_width = width * scale\n",
    "    new_height = height * scale\n",
    "    return [center_x, center_y, new_width, new_height]\n",
    "\n",
    "# Fungsi untuk memprediksi dan memperbarui label\n",
    "def predict_and_update_label(image_path, label_path, model, output_image_path, output_label_path):\n",
    "    image = cv2.imread(image_path)\n",
    "    height, width = image.shape[:2]\n",
    "\n",
    "    # Baca label yang ada\n",
    "    with open(label_path, 'r') as file:\n",
    "        lines = file.readlines()\n",
    "\n",
    "    new_labels = []\n",
    "\n",
    "    for line in lines:\n",
    "        parts = line.strip().split()\n",
    "        class_id = int(parts[0])\n",
    "        center_x = float(parts[1]) * width\n",
    "        center_y = float(parts[2]) * height\n",
    "        bbox_width = float(parts[3]) * width\n",
    "        bbox_height = float(parts[4]) * height\n",
    "\n",
    "        # Perbesar bounding box\n",
    "        bbox = [center_x, center_y, bbox_width, bbox_height]\n",
    "        enlarged_bbox = enlarge_bbox(bbox)\n",
    "\n",
    "        # Crop image sesuai bounding box yang diperbesar\n",
    "        x_min = max(0, int(enlarged_bbox[0] - enlarged_bbox[2] / 2))\n",
    "        y_min = max(0, int(enlarged_bbox[1] - enlarged_bbox[3] / 2))\n",
    "        x_max = min(width, int(enlarged_bbox[0] + enlarged_bbox[2] / 2))\n",
    "        y_max = min(height, int(enlarged_bbox[1] + enlarged_bbox[3] / 2))\n",
    "\n",
    "        cropped_image = image[y_min:y_max, x_min:x_max]\n",
    "\n",
    "        # Prediksi menggunakan YOLOv8 pada gambar yang sudah di-crop\n",
    "        results = model(cropped_image)\n",
    "\n",
    "        for result in results:\n",
    "            for box in result.boxes:\n",
    "                cls = box.cpu().cls.numpy()[0]\n",
    "                conf = box.cpu().conf.numpy()[0]\n",
    "                x_center, y_center, w, h = box.cpu().xywh.numpy()[0]\n",
    "\n",
    "                # Transformasi kembali koordinat ke skala asli gambar\n",
    "                x_center = (x_center + x_min) / width\n",
    "                y_center = (y_center + y_min) / height\n",
    "                w /= width\n",
    "                h /= height\n",
    "\n",
    "                if conf > 0.5:  # Confidence threshold\n",
    "                    new_labels.append(f'{int(cls)} {x_center} {y_center} {w} {h}')\n",
    "\n",
    "    # Simpan hasil prediksi baru\n",
    "    with open(output_label_path, 'w') as out_file:\n",
    "        for label in new_labels:\n",
    "            out_file.write(label + '\\n')\n",
    "\n",
    "    # Simpan gambar asli ke direktori output\n",
    "    cv2.imwrite(output_image_path, image)\n",
    "\n",
    "# Path ke direktori dengan gambar dan label\n",
    "data_dir = '/kaggle/input/traffic-signs-dataset-in-yolo-format/ts/ts'\n",
    "output_dir = '/kaggle/working/dataset2'  # Ganti dengan path ke direktori output\n",
    "\n",
    "# Buat direktori output jika belum ada\n",
    "test_dir = os.path.join(output_dir, 'test')\n",
    "train_dir = os.path.join(output_dir, 'train')\n",
    "os.makedirs(test_dir, exist_ok=True)\n",
    "os.makedirs(train_dir, exist_ok=True)\n",
    "\n",
    "# Baca daftar file test dari test.txt\n",
    "with open('/kaggle/input/traffic-signs-dataset-in-yolo-format/test.txt', 'r') as file:\n",
    "    test_files = {os.path.basename(line.strip()) for line in file.readlines()}\n",
    "\n",
    "# Proses setiap file dalam direktori\n",
    "for filename in os.listdir(data_dir):\n",
    "    if filename.endswith(('.jpg', '.jpeg', '.png')):\n",
    "        image_path = os.path.join(data_dir, filename)\n",
    "        label_path = os.path.join(data_dir, os.path.splitext(filename)[0] + '.txt')\n",
    "        \n",
    "        if filename in test_files:\n",
    "            output_image_path = os.path.join(test_dir, filename)\n",
    "            output_label_path = os.path.join(test_dir, os.path.splitext(filename)[0] + '.txt')\n",
    "        else:\n",
    "            output_image_path = os.path.join(train_dir, filename)\n",
    "            output_label_path = os.path.join(train_dir, os.path.splitext(filename)[0] + '.txt')\n",
    "        \n",
    "        predict_and_update_label(image_path, label_path, model, output_image_path, output_label_path)\n"
   ]
  },
  {
   "cell_type": "code",
   "execution_count": null,
   "id": "e5deff60",
   "metadata": {
    "execution": {
     "iopub.execute_input": "2024-06-16T20:25:58.170166Z",
     "iopub.status.busy": "2024-06-16T20:25:58.169805Z",
     "iopub.status.idle": "2024-06-16T20:27:06.032599Z",
     "shell.execute_reply": "2024-06-16T20:27:06.031676Z",
     "shell.execute_reply.started": "2024-06-16T20:25:58.170141Z"
    },
    "papermill": {
     "duration": 0.295681,
     "end_time": "2024-06-16T20:55:29.450922",
     "exception": false,
     "start_time": "2024-06-16T20:55:29.155241",
     "status": "completed"
    },
    "tags": []
   },
   "outputs": [],
   "source": []
  },
  {
   "cell_type": "code",
   "execution_count": null,
   "id": "886d7e70",
   "metadata": {
    "execution": {
     "iopub.execute_input": "2024-06-16T20:30:20.627887Z",
     "iopub.status.busy": "2024-06-16T20:30:20.627348Z",
     "iopub.status.idle": "2024-06-16T20:30:21.627104Z",
     "shell.execute_reply": "2024-06-16T20:30:21.626218Z",
     "shell.execute_reply.started": "2024-06-16T20:30:20.627855Z"
    },
    "papermill": {
     "duration": 0.300579,
     "end_time": "2024-06-16T20:55:30.048518",
     "exception": false,
     "start_time": "2024-06-16T20:55:29.747939",
     "status": "completed"
    },
    "tags": []
   },
   "outputs": [],
   "source": []
  },
  {
   "cell_type": "code",
   "execution_count": 9,
   "id": "62475b31",
   "metadata": {
    "execution": {
     "iopub.execute_input": "2024-06-16T20:55:30.644576Z",
     "iopub.status.busy": "2024-06-16T20:55:30.643560Z",
     "iopub.status.idle": "2024-06-16T20:55:30.654918Z",
     "shell.execute_reply": "2024-06-16T20:55:30.654031Z"
    },
    "papermill": {
     "duration": 0.310897,
     "end_time": "2024-06-16T20:55:30.656961",
     "exception": false,
     "start_time": "2024-06-16T20:55:30.346064",
     "status": "completed"
    },
    "tags": []
   },
   "outputs": [
    {
     "name": "stdout",
     "output_type": "stream",
     "text": [
      "YAML file created successfully.\n"
     ]
    }
   ],
   "source": [
    "import yaml\n",
    "\n",
    "# Path ke direktori dataset output\n",
    "dataset_dir = '/kaggle/working/dataset2'\n",
    "\n",
    "# Definisikan konfigurasi YAML\n",
    "config = {\n",
    "    'path': dataset_dir,\n",
    "    'train': f'{dataset_dir}/train',\n",
    "    'val': f'{dataset_dir}/test',\n",
    "    'nc': 43,  # Jumlah kelas yang Anda miliki\n",
    "    'names': ['class0', 'class1', 'class2', 'class3', 'class4', 'class5', \n",
    "              'class6', 'class7', 'class8', 'class9', 'class10', 'class11', \n",
    "              'class12', 'class13', 'class14', 'class15', 'class16', 'class17', \n",
    "              'class18', 'class19', 'class20', 'class21', 'class22', 'class23', \n",
    "              'class24', 'class25', 'class26', 'class27', 'class28', 'class29', \n",
    "              'class30', 'class31', 'class32', 'class33', 'class34', 'class35', \n",
    "              'class36', 'class37', 'class38', 'class39', 'class40', 'class41', \n",
    "              'class42']  # Nama kelas sesuai dengan urutan indeks\n",
    "}\n",
    "\n",
    "# Tulis konfigurasi ke dalam file YAML\n",
    "yaml_file = '/kaggle/working/dataset2/dataset.yaml'\n",
    "with open(yaml_file, 'w') as file:\n",
    "    yaml.dump(config, file)\n",
    "\n",
    "print(\"YAML file created successfully.\")\n"
   ]
  },
  {
   "cell_type": "code",
   "execution_count": 10,
   "id": "a51495fc",
   "metadata": {
    "execution": {
     "iopub.execute_input": "2024-06-16T20:55:31.302101Z",
     "iopub.status.busy": "2024-06-16T20:55:31.301339Z",
     "iopub.status.idle": "2024-06-16T21:42:39.496190Z",
     "shell.execute_reply": "2024-06-16T21:42:39.494989Z"
    },
    "papermill": {
     "duration": 2828.543956,
     "end_time": "2024-06-16T21:42:39.502238",
     "exception": false,
     "start_time": "2024-06-16T20:55:30.958282",
     "status": "completed"
    },
    "tags": []
   },
   "outputs": [
    {
     "name": "stdout",
     "output_type": "stream",
     "text": [
      "Downloading https://github.com/ultralytics/assets/releases/download/v8.2.0/yolov8s.pt to 'yolov8s.pt'...\n"
     ]
    },
    {
     "name": "stderr",
     "output_type": "stream",
     "text": [
      "100%|██████████| 21.5M/21.5M [00:00<00:00, 162MB/s]\n"
     ]
    },
    {
     "name": "stdout",
     "output_type": "stream",
     "text": [
      "Ultralytics YOLOv8.2.33 🚀 Python-3.10.13 torch-2.1.2 CUDA:0 (Tesla T4, 15102MiB)\n",
      "\u001b[34m\u001b[1mengine/trainer: \u001b[0mtask=detect, mode=train, model=yolov8s.pt, data=/kaggle/working/dataset2/dataset.yaml, epochs=5000, time=None, patience=100, batch=64, imgsz=640, save=True, save_period=-1, cache=False, device=None, workers=8, project=None, name=train, exist_ok=False, pretrained=True, optimizer=auto, verbose=True, seed=0, deterministic=True, single_cls=False, rect=False, cos_lr=False, close_mosaic=10, resume=False, amp=True, fraction=1.0, profile=False, freeze=None, multi_scale=False, overlap_mask=True, mask_ratio=4, dropout=0.0, val=True, split=val, save_json=False, save_hybrid=False, conf=None, iou=0.7, max_det=300, half=False, dnn=False, plots=True, source=None, vid_stride=1, stream_buffer=False, visualize=False, augment=False, agnostic_nms=False, classes=None, retina_masks=False, embed=None, show=False, save_frames=False, save_txt=False, save_conf=False, save_crop=False, show_labels=True, show_conf=True, show_boxes=True, line_width=None, format=torchscript, keras=False, optimize=False, int8=False, dynamic=False, simplify=False, opset=None, workspace=4, nms=False, lr0=0.01, lrf=0.01, momentum=0.937, weight_decay=0.0005, warmup_epochs=3.0, warmup_momentum=0.8, warmup_bias_lr=0.1, box=7.5, cls=0.5, dfl=1.5, pose=12.0, kobj=1.0, label_smoothing=0.0, nbs=64, hsv_h=0.015, hsv_s=0.7, hsv_v=0.4, degrees=0.0, translate=0.1, scale=0.5, shear=0.0, perspective=0.0, flipud=0.0, fliplr=0.0, bgr=0.0, mosaic=1.0, mixup=0.0, copy_paste=0.0, auto_augment=randaugment, erasing=0.4, crop_fraction=1.0, cfg=None, tracker=botsort.yaml, save_dir=runs/detect/train\n",
      "Downloading https://ultralytics.com/assets/Arial.ttf to '/root/.config/Ultralytics/Arial.ttf'...\n"
     ]
    },
    {
     "name": "stderr",
     "output_type": "stream",
     "text": [
      "100%|██████████| 755k/755k [00:00<00:00, 15.2MB/s]\n",
      "2024-06-16 20:55:34,546\tINFO util.py:124 -- Outdated packages:\n",
      "  ipywidgets==7.7.1 found, needs ipywidgets>=8\n",
      "Run `pip install -U ipywidgets`, then restart the notebook server for rich notebook output.\n",
      "2024-06-16 20:55:35,389\tINFO util.py:124 -- Outdated packages:\n",
      "  ipywidgets==7.7.1 found, needs ipywidgets>=8\n",
      "Run `pip install -U ipywidgets`, then restart the notebook server for rich notebook output.\n"
     ]
    },
    {
     "name": "stdout",
     "output_type": "stream",
     "text": [
      "Overriding model.yaml nc=80 with nc=43\n",
      "\n",
      "                   from  n    params  module                                       arguments                     \n",
      "  0                  -1  1       928  ultralytics.nn.modules.conv.Conv             [3, 32, 3, 2]                 \n",
      "  1                  -1  1     18560  ultralytics.nn.modules.conv.Conv             [32, 64, 3, 2]                \n",
      "  2                  -1  1     29056  ultralytics.nn.modules.block.C2f             [64, 64, 1, True]             \n",
      "  3                  -1  1     73984  ultralytics.nn.modules.conv.Conv             [64, 128, 3, 2]               \n",
      "  4                  -1  2    197632  ultralytics.nn.modules.block.C2f             [128, 128, 2, True]           \n",
      "  5                  -1  1    295424  ultralytics.nn.modules.conv.Conv             [128, 256, 3, 2]              \n",
      "  6                  -1  2    788480  ultralytics.nn.modules.block.C2f             [256, 256, 2, True]           \n",
      "  7                  -1  1   1180672  ultralytics.nn.modules.conv.Conv             [256, 512, 3, 2]              \n",
      "  8                  -1  1   1838080  ultralytics.nn.modules.block.C2f             [512, 512, 1, True]           \n",
      "  9                  -1  1    656896  ultralytics.nn.modules.block.SPPF            [512, 512, 5]                 \n",
      " 10                  -1  1         0  torch.nn.modules.upsampling.Upsample         [None, 2, 'nearest']          \n",
      " 11             [-1, 6]  1         0  ultralytics.nn.modules.conv.Concat           [1]                           \n",
      " 12                  -1  1    591360  ultralytics.nn.modules.block.C2f             [768, 256, 1]                 \n",
      " 13                  -1  1         0  torch.nn.modules.upsampling.Upsample         [None, 2, 'nearest']          \n",
      " 14             [-1, 4]  1         0  ultralytics.nn.modules.conv.Concat           [1]                           \n",
      " 15                  -1  1    148224  ultralytics.nn.modules.block.C2f             [384, 128, 1]                 \n",
      " 16                  -1  1    147712  ultralytics.nn.modules.conv.Conv             [128, 128, 3, 2]              \n",
      " 17            [-1, 12]  1         0  ultralytics.nn.modules.conv.Concat           [1]                           \n",
      " 18                  -1  1    493056  ultralytics.nn.modules.block.C2f             [384, 256, 1]                 \n",
      " 19                  -1  1    590336  ultralytics.nn.modules.conv.Conv             [256, 256, 3, 2]              \n",
      " 20             [-1, 9]  1         0  ultralytics.nn.modules.conv.Concat           [1]                           \n",
      " 21                  -1  1   1969152  ultralytics.nn.modules.block.C2f             [768, 512, 1]                 \n",
      " 22        [15, 18, 21]  1   2132689  ultralytics.nn.modules.head.Detect           [43, [128, 256, 512]]         \n",
      "Model summary: 225 layers, 11152241 parameters, 11152225 gradients, 28.7 GFLOPs\n",
      "\n",
      "Transferred 349/355 items from pretrained weights\n",
      "\u001b[34m\u001b[1mTensorBoard: \u001b[0mStart with 'tensorboard --logdir runs/detect/train', view at http://localhost:6006/\n",
      "Freezing layer 'model.22.dfl.conv.weight'\n",
      "\u001b[34m\u001b[1mAMP: \u001b[0mrunning Automatic Mixed Precision (AMP) checks with YOLOv8n...\n",
      "Downloading https://github.com/ultralytics/assets/releases/download/v8.2.0/yolov8n.pt to 'yolov8n.pt'...\n"
     ]
    },
    {
     "name": "stderr",
     "output_type": "stream",
     "text": [
      "100%|██████████| 6.23M/6.23M [00:00<00:00, 73.5MB/s]\n"
     ]
    },
    {
     "name": "stdout",
     "output_type": "stream",
     "text": [
      "\u001b[34m\u001b[1mAMP: \u001b[0mchecks passed ✅\n"
     ]
    },
    {
     "name": "stderr",
     "output_type": "stream",
     "text": [
      "\u001b[34m\u001b[1mtrain: \u001b[0mScanning /kaggle/working/dataset2/train... 630 images, 0 backgrounds, 0 corrupt: 100%|██████████| 630/630 [00:00<00:00, 1184.46it/s]"
     ]
    },
    {
     "name": "stdout",
     "output_type": "stream",
     "text": [
      "\u001b[34m\u001b[1mtrain: \u001b[0mWARNING ⚠️ /kaggle/working/dataset2/train/00340.jpg: 1 duplicate labels removed\n",
      "\u001b[34m\u001b[1mtrain: \u001b[0mNew cache created: /kaggle/working/dataset2/train.cache\n"
     ]
    },
    {
     "name": "stderr",
     "output_type": "stream",
     "text": [
      "\n"
     ]
    },
    {
     "name": "stdout",
     "output_type": "stream",
     "text": [
      "\u001b[34m\u001b[1malbumentations: \u001b[0mBlur(p=0.01, blur_limit=(3, 7)), MedianBlur(p=0.01, blur_limit=(3, 7)), ToGray(p=0.01), CLAHE(p=0.01, clip_limit=(1, 4.0), tile_grid_size=(8, 8))\n"
     ]
    },
    {
     "name": "stderr",
     "output_type": "stream",
     "text": [
      "/opt/conda/lib/python3.10/multiprocessing/popen_fork.py:66: RuntimeWarning: os.fork() was called. os.fork() is incompatible with multithreaded code, and JAX is multithreaded, so this will likely lead to a deadlock.\n",
      "  self.pid = os.fork()\n",
      "\u001b[34m\u001b[1mval: \u001b[0mScanning /kaggle/working/dataset2/test... 111 images, 0 backgrounds, 0 corrupt: 100%|██████████| 111/111 [00:00<00:00, 1053.34it/s]"
     ]
    },
    {
     "name": "stdout",
     "output_type": "stream",
     "text": [
      "\u001b[34m\u001b[1mval: \u001b[0mNew cache created: /kaggle/working/dataset2/test.cache\n"
     ]
    },
    {
     "name": "stderr",
     "output_type": "stream",
     "text": [
      "\n"
     ]
    },
    {
     "name": "stdout",
     "output_type": "stream",
     "text": [
      "Plotting labels to runs/detect/train/labels.jpg... \n",
      "\u001b[34m\u001b[1moptimizer:\u001b[0m 'optimizer=auto' found, ignoring 'lr0=0.01' and 'momentum=0.937' and determining best 'optimizer', 'lr0' and 'momentum' automatically... \n",
      "\u001b[34m\u001b[1moptimizer:\u001b[0m SGD(lr=0.01, momentum=0.9) with parameter groups 57 weight(decay=0.0), 64 weight(decay=0.0005), 63 bias(decay=0.0)\n",
      "\u001b[34m\u001b[1mTensorBoard: \u001b[0mmodel graph visualization added ✅\n",
      "Image sizes 640 train, 640 val\n",
      "Using 2 dataloader workers\n",
      "Logging results to \u001b[1mruns/detect/train\u001b[0m\n",
      "Starting training for 5000 epochs...\n",
      "\n",
      "      Epoch    GPU_mem   box_loss   cls_loss   dfl_loss  Instances       Size\n"
     ]
    },
    {
     "name": "stderr",
     "output_type": "stream",
     "text": [
      "     1/5000      15.3G      1.516      22.66      1.035        152        640: 100%|██████████| 10/10 [00:10<00:00,  1.10s/it]\n",
      "                 Class     Images  Instances      Box(P          R      mAP50  mAP50-95): 100%|██████████| 1/1 [00:02<00:00,  2.27s/it]"
     ]
    },
    {
     "name": "stdout",
     "output_type": "stream",
     "text": [
      "                   all        111        179     0.0896     0.0432     0.0176     0.0143\n"
     ]
    },
    {
     "name": "stderr",
     "output_type": "stream",
     "text": [
      "\n"
     ]
    },
    {
     "name": "stdout",
     "output_type": "stream",
     "text": [
      "\n",
      "      Epoch    GPU_mem   box_loss   cls_loss   dfl_loss  Instances       Size\n"
     ]
    },
    {
     "name": "stderr",
     "output_type": "stream",
     "text": [
      "     2/5000      14.9G      1.406      13.58     0.9948        135        640: 100%|██████████| 10/10 [00:09<00:00,  1.04it/s]\n",
      "                 Class     Images  Instances      Box(P          R      mAP50  mAP50-95): 100%|██████████| 1/1 [00:01<00:00,  1.39s/it]"
     ]
    },
    {
     "name": "stdout",
     "output_type": "stream",
     "text": [
      "                   all        111        179      0.374     0.0856     0.0394     0.0296\n"
     ]
    },
    {
     "name": "stderr",
     "output_type": "stream",
     "text": [
      "\n"
     ]
    },
    {
     "name": "stdout",
     "output_type": "stream",
     "text": [
      "\n",
      "      Epoch    GPU_mem   box_loss   cls_loss   dfl_loss  Instances       Size\n"
     ]
    },
    {
     "name": "stderr",
     "output_type": "stream",
     "text": [
      "     3/5000      14.9G      1.154      4.719     0.8761        173        640: 100%|██████████| 10/10 [00:09<00:00,  1.03it/s]\n",
      "                 Class     Images  Instances      Box(P          R      mAP50  mAP50-95): 100%|██████████| 1/1 [00:00<00:00,  1.13it/s]"
     ]
    },
    {
     "name": "stdout",
     "output_type": "stream",
     "text": [
      "                   all        111        179       0.72      0.173      0.148      0.111\n"
     ]
    },
    {
     "name": "stderr",
     "output_type": "stream",
     "text": [
      "\n"
     ]
    },
    {
     "name": "stdout",
     "output_type": "stream",
     "text": [
      "\n",
      "      Epoch    GPU_mem   box_loss   cls_loss   dfl_loss  Instances       Size\n"
     ]
    },
    {
     "name": "stderr",
     "output_type": "stream",
     "text": [
      "     4/5000      14.9G      1.051      3.128     0.8522        183        640: 100%|██████████| 10/10 [00:09<00:00,  1.02it/s]\n",
      "                 Class     Images  Instances      Box(P          R      mAP50  mAP50-95): 100%|██████████| 1/1 [00:00<00:00,  1.13it/s]"
     ]
    },
    {
     "name": "stdout",
     "output_type": "stream",
     "text": [
      "                   all        111        179       0.61      0.243       0.21      0.147\n"
     ]
    },
    {
     "name": "stderr",
     "output_type": "stream",
     "text": [
      "\n"
     ]
    },
    {
     "name": "stdout",
     "output_type": "stream",
     "text": [
      "\n",
      "      Epoch    GPU_mem   box_loss   cls_loss   dfl_loss  Instances       Size\n"
     ]
    },
    {
     "name": "stderr",
     "output_type": "stream",
     "text": [
      "     5/5000      15.5G      1.005      2.613     0.8469        162        640: 100%|██████████| 10/10 [00:09<00:00,  1.01it/s]\n",
      "                 Class     Images  Instances      Box(P          R      mAP50  mAP50-95): 100%|██████████| 1/1 [00:00<00:00,  1.17it/s]"
     ]
    },
    {
     "name": "stdout",
     "output_type": "stream",
     "text": [
      "                   all        111        179       0.58      0.256      0.246      0.175\n"
     ]
    },
    {
     "name": "stderr",
     "output_type": "stream",
     "text": [
      "\n"
     ]
    },
    {
     "name": "stdout",
     "output_type": "stream",
     "text": [
      "\n",
      "      Epoch    GPU_mem   box_loss   cls_loss   dfl_loss  Instances       Size\n"
     ]
    },
    {
     "name": "stderr",
     "output_type": "stream",
     "text": [
      "     6/5000      15.5G      1.019      2.246     0.8444        163        640: 100%|██████████| 10/10 [00:10<00:00,  1.01s/it]\n",
      "                 Class     Images  Instances      Box(P          R      mAP50  mAP50-95): 100%|██████████| 1/1 [00:00<00:00,  1.15it/s]"
     ]
    },
    {
     "name": "stdout",
     "output_type": "stream",
     "text": [
      "                   all        111        179      0.436      0.367      0.312      0.228\n"
     ]
    },
    {
     "name": "stderr",
     "output_type": "stream",
     "text": [
      "\n"
     ]
    },
    {
     "name": "stdout",
     "output_type": "stream",
     "text": [
      "\n",
      "      Epoch    GPU_mem   box_loss   cls_loss   dfl_loss  Instances       Size\n"
     ]
    },
    {
     "name": "stderr",
     "output_type": "stream",
     "text": [
      "     7/5000      14.9G      1.089      1.975     0.8531        163        640: 100%|██████████| 10/10 [00:10<00:00,  1.03s/it]\n",
      "                 Class     Images  Instances      Box(P          R      mAP50  mAP50-95): 100%|██████████| 1/1 [00:00<00:00,  1.11it/s]"
     ]
    },
    {
     "name": "stdout",
     "output_type": "stream",
     "text": [
      "                   all        111        179      0.676      0.269       0.29      0.198\n"
     ]
    },
    {
     "name": "stderr",
     "output_type": "stream",
     "text": [
      "\n"
     ]
    },
    {
     "name": "stdout",
     "output_type": "stream",
     "text": [
      "\n",
      "      Epoch    GPU_mem   box_loss   cls_loss   dfl_loss  Instances       Size\n"
     ]
    },
    {
     "name": "stderr",
     "output_type": "stream",
     "text": [
      "     8/5000        15G      1.036      1.906     0.8497        150        640: 100%|██████████| 10/10 [00:10<00:00,  1.04s/it]\n",
      "                 Class     Images  Instances      Box(P          R      mAP50  mAP50-95): 100%|██████████| 1/1 [00:00<00:00,  1.06it/s]"
     ]
    },
    {
     "name": "stdout",
     "output_type": "stream",
     "text": [
      "                   all        111        179      0.402      0.399      0.394      0.296\n"
     ]
    },
    {
     "name": "stderr",
     "output_type": "stream",
     "text": [
      "\n"
     ]
    },
    {
     "name": "stdout",
     "output_type": "stream",
     "text": [
      "\n",
      "      Epoch    GPU_mem   box_loss   cls_loss   dfl_loss  Instances       Size\n"
     ]
    },
    {
     "name": "stderr",
     "output_type": "stream",
     "text": [
      "     9/5000      15.3G      1.013      1.881     0.8469        146        640: 100%|██████████| 10/10 [00:10<00:00,  1.04s/it]\n",
      "                 Class     Images  Instances      Box(P          R      mAP50  mAP50-95): 100%|██████████| 1/1 [00:00<00:00,  1.11it/s]"
     ]
    },
    {
     "name": "stdout",
     "output_type": "stream",
     "text": [
      "                   all        111        179      0.666      0.389      0.431      0.298\n"
     ]
    },
    {
     "name": "stderr",
     "output_type": "stream",
     "text": [
      "\n"
     ]
    },
    {
     "name": "stdout",
     "output_type": "stream",
     "text": [
      "\n",
      "      Epoch    GPU_mem   box_loss   cls_loss   dfl_loss  Instances       Size\n"
     ]
    },
    {
     "name": "stderr",
     "output_type": "stream",
     "text": [
      "    10/5000      15.3G      1.096      1.652     0.8561        156        640: 100%|██████████| 10/10 [00:10<00:00,  1.02s/it]\n",
      "                 Class     Images  Instances      Box(P          R      mAP50  mAP50-95): 100%|██████████| 1/1 [00:00<00:00,  1.15it/s]"
     ]
    },
    {
     "name": "stdout",
     "output_type": "stream",
     "text": [
      "                   all        111        179      0.552      0.345      0.386      0.247\n"
     ]
    },
    {
     "name": "stderr",
     "output_type": "stream",
     "text": [
      "\n"
     ]
    },
    {
     "name": "stdout",
     "output_type": "stream",
     "text": [
      "\n",
      "      Epoch    GPU_mem   box_loss   cls_loss   dfl_loss  Instances       Size\n"
     ]
    },
    {
     "name": "stderr",
     "output_type": "stream",
     "text": [
      "    11/5000      14.9G      1.113      1.479     0.8622        167        640: 100%|██████████| 10/10 [00:10<00:00,  1.00s/it]\n",
      "                 Class     Images  Instances      Box(P          R      mAP50  mAP50-95): 100%|██████████| 1/1 [00:00<00:00,  1.17it/s]"
     ]
    },
    {
     "name": "stdout",
     "output_type": "stream",
     "text": [
      "                   all        111        179      0.489      0.271      0.294      0.195\n"
     ]
    },
    {
     "name": "stderr",
     "output_type": "stream",
     "text": [
      "\n"
     ]
    },
    {
     "name": "stdout",
     "output_type": "stream",
     "text": [
      "\n",
      "      Epoch    GPU_mem   box_loss   cls_loss   dfl_loss  Instances       Size\n"
     ]
    },
    {
     "name": "stderr",
     "output_type": "stream",
     "text": [
      "    12/5000      15.3G      1.114      1.423     0.8689        148        640: 100%|██████████| 10/10 [00:10<00:00,  1.01s/it]\n",
      "                 Class     Images  Instances      Box(P          R      mAP50  mAP50-95): 100%|██████████| 1/1 [00:00<00:00,  1.16it/s]"
     ]
    },
    {
     "name": "stdout",
     "output_type": "stream",
     "text": [
      "                   all        111        179      0.509      0.322      0.311      0.194\n"
     ]
    },
    {
     "name": "stderr",
     "output_type": "stream",
     "text": [
      "\n"
     ]
    },
    {
     "name": "stdout",
     "output_type": "stream",
     "text": [
      "\n",
      "      Epoch    GPU_mem   box_loss   cls_loss   dfl_loss  Instances       Size\n"
     ]
    },
    {
     "name": "stderr",
     "output_type": "stream",
     "text": [
      "    13/5000      15.2G      1.121      1.235       0.87        156        640: 100%|██████████| 10/10 [00:10<00:00,  1.02s/it]\n",
      "                 Class     Images  Instances      Box(P          R      mAP50  mAP50-95): 100%|██████████| 1/1 [00:00<00:00,  1.10it/s]"
     ]
    },
    {
     "name": "stdout",
     "output_type": "stream",
     "text": [
      "                   all        111        179      0.431      0.367      0.338       0.22\n"
     ]
    },
    {
     "name": "stderr",
     "output_type": "stream",
     "text": [
      "\n"
     ]
    },
    {
     "name": "stdout",
     "output_type": "stream",
     "text": [
      "\n",
      "      Epoch    GPU_mem   box_loss   cls_loss   dfl_loss  Instances       Size\n"
     ]
    },
    {
     "name": "stderr",
     "output_type": "stream",
     "text": [
      "    14/5000        15G      1.001      1.163     0.8558        160        640: 100%|██████████| 10/10 [00:10<00:00,  1.02s/it]\n",
      "                 Class     Images  Instances      Box(P          R      mAP50  mAP50-95): 100%|██████████| 1/1 [00:00<00:00,  1.09it/s]"
     ]
    },
    {
     "name": "stdout",
     "output_type": "stream",
     "text": [
      "                   all        111        179      0.498      0.394      0.354       0.26\n"
     ]
    },
    {
     "name": "stderr",
     "output_type": "stream",
     "text": [
      "\n"
     ]
    },
    {
     "name": "stdout",
     "output_type": "stream",
     "text": [
      "\n",
      "      Epoch    GPU_mem   box_loss   cls_loss   dfl_loss  Instances       Size\n"
     ]
    },
    {
     "name": "stderr",
     "output_type": "stream",
     "text": [
      "    15/5000        15G       1.02      1.151      0.861        160        640: 100%|██████████| 10/10 [00:10<00:00,  1.02s/it]\n",
      "                 Class     Images  Instances      Box(P          R      mAP50  mAP50-95): 100%|██████████| 1/1 [00:00<00:00,  1.15it/s]"
     ]
    },
    {
     "name": "stdout",
     "output_type": "stream",
     "text": [
      "                   all        111        179      0.469      0.349       0.32      0.247\n"
     ]
    },
    {
     "name": "stderr",
     "output_type": "stream",
     "text": [
      "\n"
     ]
    },
    {
     "name": "stdout",
     "output_type": "stream",
     "text": [
      "\n",
      "      Epoch    GPU_mem   box_loss   cls_loss   dfl_loss  Instances       Size\n"
     ]
    },
    {
     "name": "stderr",
     "output_type": "stream",
     "text": [
      "    16/5000        15G     0.9724        1.1     0.8508        164        640: 100%|██████████| 10/10 [00:10<00:00,  1.02s/it]\n",
      "                 Class     Images  Instances      Box(P          R      mAP50  mAP50-95): 100%|██████████| 1/1 [00:00<00:00,  1.12it/s]"
     ]
    },
    {
     "name": "stdout",
     "output_type": "stream",
     "text": [
      "                   all        111        179      0.656      0.399      0.458      0.316\n"
     ]
    },
    {
     "name": "stderr",
     "output_type": "stream",
     "text": [
      "\n"
     ]
    },
    {
     "name": "stdout",
     "output_type": "stream",
     "text": [
      "\n",
      "      Epoch    GPU_mem   box_loss   cls_loss   dfl_loss  Instances       Size\n"
     ]
    },
    {
     "name": "stderr",
     "output_type": "stream",
     "text": [
      "    17/5000      14.9G      1.037      1.095       0.86        133        640: 100%|██████████| 10/10 [00:10<00:00,  1.01s/it]\n",
      "                 Class     Images  Instances      Box(P          R      mAP50  mAP50-95): 100%|██████████| 1/1 [00:00<00:00,  1.11it/s]"
     ]
    },
    {
     "name": "stdout",
     "output_type": "stream",
     "text": [
      "                   all        111        179      0.528       0.35       0.36      0.264\n"
     ]
    },
    {
     "name": "stderr",
     "output_type": "stream",
     "text": [
      "\n"
     ]
    },
    {
     "name": "stdout",
     "output_type": "stream",
     "text": [
      "\n",
      "      Epoch    GPU_mem   box_loss   cls_loss   dfl_loss  Instances       Size\n"
     ]
    },
    {
     "name": "stderr",
     "output_type": "stream",
     "text": [
      "    18/5000        15G      0.992      1.013     0.8506        147        640: 100%|██████████| 10/10 [00:10<00:00,  1.00s/it]\n",
      "                 Class     Images  Instances      Box(P          R      mAP50  mAP50-95): 100%|██████████| 1/1 [00:00<00:00,  1.14it/s]"
     ]
    },
    {
     "name": "stdout",
     "output_type": "stream",
     "text": [
      "                   all        111        179      0.559      0.418      0.412       0.29\n"
     ]
    },
    {
     "name": "stderr",
     "output_type": "stream",
     "text": [
      "\n"
     ]
    },
    {
     "name": "stdout",
     "output_type": "stream",
     "text": [
      "\n",
      "      Epoch    GPU_mem   box_loss   cls_loss   dfl_loss  Instances       Size\n"
     ]
    },
    {
     "name": "stderr",
     "output_type": "stream",
     "text": [
      "    19/5000      14.9G     0.9305     0.9384      0.856        167        640: 100%|██████████| 10/10 [00:10<00:00,  1.00s/it]\n",
      "                 Class     Images  Instances      Box(P          R      mAP50  mAP50-95): 100%|██████████| 1/1 [00:00<00:00,  1.13it/s]"
     ]
    },
    {
     "name": "stdout",
     "output_type": "stream",
     "text": [
      "                   all        111        179      0.523      0.351       0.39      0.281\n"
     ]
    },
    {
     "name": "stderr",
     "output_type": "stream",
     "text": [
      "\n"
     ]
    },
    {
     "name": "stdout",
     "output_type": "stream",
     "text": [
      "\n",
      "      Epoch    GPU_mem   box_loss   cls_loss   dfl_loss  Instances       Size\n"
     ]
    },
    {
     "name": "stderr",
     "output_type": "stream",
     "text": [
      "    20/5000        15G     0.9622     0.9245     0.8517        154        640: 100%|██████████| 10/10 [00:10<00:00,  1.00s/it]\n",
      "                 Class     Images  Instances      Box(P          R      mAP50  mAP50-95): 100%|██████████| 1/1 [00:00<00:00,  1.15it/s]"
     ]
    },
    {
     "name": "stdout",
     "output_type": "stream",
     "text": [
      "                   all        111        179      0.551      0.506      0.479      0.333\n"
     ]
    },
    {
     "name": "stderr",
     "output_type": "stream",
     "text": [
      "\n"
     ]
    },
    {
     "name": "stdout",
     "output_type": "stream",
     "text": [
      "\n",
      "      Epoch    GPU_mem   box_loss   cls_loss   dfl_loss  Instances       Size\n"
     ]
    },
    {
     "name": "stderr",
     "output_type": "stream",
     "text": [
      "    21/5000      14.9G      0.943     0.8879     0.8372        126        640: 100%|██████████| 10/10 [00:10<00:00,  1.01s/it]\n",
      "                 Class     Images  Instances      Box(P          R      mAP50  mAP50-95): 100%|██████████| 1/1 [00:00<00:00,  1.17it/s]"
     ]
    },
    {
     "name": "stdout",
     "output_type": "stream",
     "text": [
      "                   all        111        179      0.575      0.456      0.461       0.32\n"
     ]
    },
    {
     "name": "stderr",
     "output_type": "stream",
     "text": [
      "\n"
     ]
    },
    {
     "name": "stdout",
     "output_type": "stream",
     "text": [
      "\n",
      "      Epoch    GPU_mem   box_loss   cls_loss   dfl_loss  Instances       Size\n"
     ]
    },
    {
     "name": "stderr",
     "output_type": "stream",
     "text": [
      "    22/5000      15.3G     0.9397     0.8814     0.8454        168        640: 100%|██████████| 10/10 [00:10<00:00,  1.03s/it]\n",
      "                 Class     Images  Instances      Box(P          R      mAP50  mAP50-95): 100%|██████████| 1/1 [00:00<00:00,  1.16it/s]"
     ]
    },
    {
     "name": "stdout",
     "output_type": "stream",
     "text": [
      "                   all        111        179      0.544      0.323      0.384      0.271\n"
     ]
    },
    {
     "name": "stderr",
     "output_type": "stream",
     "text": [
      "\n"
     ]
    },
    {
     "name": "stdout",
     "output_type": "stream",
     "text": [
      "\n",
      "      Epoch    GPU_mem   box_loss   cls_loss   dfl_loss  Instances       Size\n"
     ]
    },
    {
     "name": "stderr",
     "output_type": "stream",
     "text": [
      "    23/5000        15G     0.8863     0.8665     0.8362        166        640: 100%|██████████| 10/10 [00:10<00:00,  1.01s/it]\n",
      "                 Class     Images  Instances      Box(P          R      mAP50  mAP50-95): 100%|██████████| 1/1 [00:00<00:00,  1.15it/s]"
     ]
    },
    {
     "name": "stdout",
     "output_type": "stream",
     "text": [
      "                   all        111        179      0.514      0.385      0.413      0.293\n"
     ]
    },
    {
     "name": "stderr",
     "output_type": "stream",
     "text": [
      "\n"
     ]
    },
    {
     "name": "stdout",
     "output_type": "stream",
     "text": [
      "\n",
      "      Epoch    GPU_mem   box_loss   cls_loss   dfl_loss  Instances       Size\n"
     ]
    },
    {
     "name": "stderr",
     "output_type": "stream",
     "text": [
      "    24/5000      15.3G     0.8655     0.8157     0.8413        153        640: 100%|██████████| 10/10 [00:10<00:00,  1.03s/it]\n",
      "                 Class     Images  Instances      Box(P          R      mAP50  mAP50-95): 100%|██████████| 1/1 [00:00<00:00,  1.15it/s]"
     ]
    },
    {
     "name": "stdout",
     "output_type": "stream",
     "text": [
      "                   all        111        179      0.522      0.412      0.445      0.323\n"
     ]
    },
    {
     "name": "stderr",
     "output_type": "stream",
     "text": [
      "\n"
     ]
    },
    {
     "name": "stdout",
     "output_type": "stream",
     "text": [
      "\n",
      "      Epoch    GPU_mem   box_loss   cls_loss   dfl_loss  Instances       Size\n"
     ]
    },
    {
     "name": "stderr",
     "output_type": "stream",
     "text": [
      "    25/5000      15.3G     0.8795     0.7658     0.8311        155        640: 100%|██████████| 10/10 [00:10<00:00,  1.02s/it]\n",
      "                 Class     Images  Instances      Box(P          R      mAP50  mAP50-95): 100%|██████████| 1/1 [00:00<00:00,  1.18it/s]"
     ]
    },
    {
     "name": "stdout",
     "output_type": "stream",
     "text": [
      "                   all        111        179      0.524      0.319      0.346      0.251\n"
     ]
    },
    {
     "name": "stderr",
     "output_type": "stream",
     "text": [
      "\n"
     ]
    },
    {
     "name": "stdout",
     "output_type": "stream",
     "text": [
      "\n",
      "      Epoch    GPU_mem   box_loss   cls_loss   dfl_loss  Instances       Size\n"
     ]
    },
    {
     "name": "stderr",
     "output_type": "stream",
     "text": [
      "    26/5000        15G     0.8963     0.7944     0.8277        128        640: 100%|██████████| 10/10 [00:10<00:00,  1.00s/it]\n",
      "                 Class     Images  Instances      Box(P          R      mAP50  mAP50-95): 100%|██████████| 1/1 [00:00<00:00,  1.15it/s]"
     ]
    },
    {
     "name": "stdout",
     "output_type": "stream",
     "text": [
      "                   all        111        179      0.549      0.413      0.449      0.345\n"
     ]
    },
    {
     "name": "stderr",
     "output_type": "stream",
     "text": [
      "\n"
     ]
    },
    {
     "name": "stdout",
     "output_type": "stream",
     "text": [
      "\n",
      "      Epoch    GPU_mem   box_loss   cls_loss   dfl_loss  Instances       Size\n"
     ]
    },
    {
     "name": "stderr",
     "output_type": "stream",
     "text": [
      "    27/5000      14.7G     0.8698     0.7271     0.8359        175        640: 100%|██████████| 10/10 [00:10<00:00,  1.01s/it]\n",
      "                 Class     Images  Instances      Box(P          R      mAP50  mAP50-95): 100%|██████████| 1/1 [00:00<00:00,  1.40it/s]"
     ]
    },
    {
     "name": "stdout",
     "output_type": "stream",
     "text": [
      "                   all        111        179      0.527      0.489      0.471      0.362\n"
     ]
    },
    {
     "name": "stderr",
     "output_type": "stream",
     "text": [
      "\n"
     ]
    },
    {
     "name": "stdout",
     "output_type": "stream",
     "text": [
      "\n",
      "      Epoch    GPU_mem   box_loss   cls_loss   dfl_loss  Instances       Size\n"
     ]
    },
    {
     "name": "stderr",
     "output_type": "stream",
     "text": [
      "    28/5000      14.9G     0.8797     0.7583     0.8289        172        640: 100%|██████████| 10/10 [00:10<00:00,  1.01s/it]\n",
      "                 Class     Images  Instances      Box(P          R      mAP50  mAP50-95): 100%|██████████| 1/1 [00:00<00:00,  1.10it/s]"
     ]
    },
    {
     "name": "stdout",
     "output_type": "stream",
     "text": [
      "                   all        111        179      0.733      0.379      0.463      0.354\n"
     ]
    },
    {
     "name": "stderr",
     "output_type": "stream",
     "text": [
      "\n"
     ]
    },
    {
     "name": "stdout",
     "output_type": "stream",
     "text": [
      "\n",
      "      Epoch    GPU_mem   box_loss   cls_loss   dfl_loss  Instances       Size\n"
     ]
    },
    {
     "name": "stderr",
     "output_type": "stream",
     "text": [
      "    29/5000      15.3G     0.8459     0.7385     0.8308        180        640: 100%|██████████| 10/10 [00:10<00:00,  1.02s/it]\n",
      "                 Class     Images  Instances      Box(P          R      mAP50  mAP50-95): 100%|██████████| 1/1 [00:00<00:00,  1.17it/s]"
     ]
    },
    {
     "name": "stdout",
     "output_type": "stream",
     "text": [
      "                   all        111        179      0.806      0.373      0.525      0.405\n"
     ]
    },
    {
     "name": "stderr",
     "output_type": "stream",
     "text": [
      "\n"
     ]
    },
    {
     "name": "stdout",
     "output_type": "stream",
     "text": [
      "\n",
      "      Epoch    GPU_mem   box_loss   cls_loss   dfl_loss  Instances       Size\n"
     ]
    },
    {
     "name": "stderr",
     "output_type": "stream",
     "text": [
      "    30/5000      15.3G     0.8239     0.7222     0.8324        146        640: 100%|██████████| 10/10 [00:10<00:00,  1.03s/it]\n",
      "                 Class     Images  Instances      Box(P          R      mAP50  mAP50-95): 100%|██████████| 1/1 [00:00<00:00,  1.14it/s]"
     ]
    },
    {
     "name": "stdout",
     "output_type": "stream",
     "text": [
      "                   all        111        179      0.623       0.49      0.537      0.412\n"
     ]
    },
    {
     "name": "stderr",
     "output_type": "stream",
     "text": [
      "\n"
     ]
    },
    {
     "name": "stdout",
     "output_type": "stream",
     "text": [
      "\n",
      "      Epoch    GPU_mem   box_loss   cls_loss   dfl_loss  Instances       Size\n"
     ]
    },
    {
     "name": "stderr",
     "output_type": "stream",
     "text": [
      "    31/5000        15G     0.8708      0.738     0.8354        163        640: 100%|██████████| 10/10 [00:10<00:00,  1.01s/it]\n",
      "                 Class     Images  Instances      Box(P          R      mAP50  mAP50-95): 100%|██████████| 1/1 [00:00<00:00,  1.14it/s]"
     ]
    },
    {
     "name": "stdout",
     "output_type": "stream",
     "text": [
      "                   all        111        179      0.733      0.409      0.508      0.372\n"
     ]
    },
    {
     "name": "stderr",
     "output_type": "stream",
     "text": [
      "\n"
     ]
    },
    {
     "name": "stdout",
     "output_type": "stream",
     "text": [
      "\n",
      "      Epoch    GPU_mem   box_loss   cls_loss   dfl_loss  Instances       Size\n"
     ]
    },
    {
     "name": "stderr",
     "output_type": "stream",
     "text": [
      "    32/5000      15.5G     0.8412     0.6966     0.8257        154        640: 100%|██████████| 10/10 [00:10<00:00,  1.01s/it]\n",
      "                 Class     Images  Instances      Box(P          R      mAP50  mAP50-95): 100%|██████████| 1/1 [00:00<00:00,  1.12it/s]"
     ]
    },
    {
     "name": "stdout",
     "output_type": "stream",
     "text": [
      "                   all        111        179      0.466      0.462      0.506      0.382\n"
     ]
    },
    {
     "name": "stderr",
     "output_type": "stream",
     "text": [
      "\n"
     ]
    },
    {
     "name": "stdout",
     "output_type": "stream",
     "text": [
      "\n",
      "      Epoch    GPU_mem   box_loss   cls_loss   dfl_loss  Instances       Size\n"
     ]
    },
    {
     "name": "stderr",
     "output_type": "stream",
     "text": [
      "    33/5000      15.2G     0.8096      0.668     0.8298        183        640: 100%|██████████| 10/10 [00:10<00:00,  1.02s/it]\n",
      "                 Class     Images  Instances      Box(P          R      mAP50  mAP50-95): 100%|██████████| 1/1 [00:00<00:00,  1.12it/s]"
     ]
    },
    {
     "name": "stdout",
     "output_type": "stream",
     "text": [
      "                   all        111        179      0.642      0.444      0.494      0.381\n"
     ]
    },
    {
     "name": "stderr",
     "output_type": "stream",
     "text": [
      "\n"
     ]
    },
    {
     "name": "stdout",
     "output_type": "stream",
     "text": [
      "\n",
      "      Epoch    GPU_mem   box_loss   cls_loss   dfl_loss  Instances       Size\n"
     ]
    },
    {
     "name": "stderr",
     "output_type": "stream",
     "text": [
      "    34/5000      15.2G     0.8213     0.6638     0.8331        139        640: 100%|██████████| 10/10 [00:10<00:00,  1.02s/it]\n",
      "                 Class     Images  Instances      Box(P          R      mAP50  mAP50-95): 100%|██████████| 1/1 [00:00<00:00,  1.14it/s]"
     ]
    },
    {
     "name": "stdout",
     "output_type": "stream",
     "text": [
      "                   all        111        179      0.624      0.489      0.462      0.357\n"
     ]
    },
    {
     "name": "stderr",
     "output_type": "stream",
     "text": [
      "\n"
     ]
    },
    {
     "name": "stdout",
     "output_type": "stream",
     "text": [
      "\n",
      "      Epoch    GPU_mem   box_loss   cls_loss   dfl_loss  Instances       Size\n"
     ]
    },
    {
     "name": "stderr",
     "output_type": "stream",
     "text": [
      "    35/5000      14.9G     0.8293     0.6684     0.8233        133        640: 100%|██████████| 10/10 [00:10<00:00,  1.01s/it]\n",
      "                 Class     Images  Instances      Box(P          R      mAP50  mAP50-95): 100%|██████████| 1/1 [00:00<00:00,  1.18it/s]"
     ]
    },
    {
     "name": "stdout",
     "output_type": "stream",
     "text": [
      "                   all        111        179      0.696       0.42      0.514      0.398\n"
     ]
    },
    {
     "name": "stderr",
     "output_type": "stream",
     "text": [
      "\n"
     ]
    },
    {
     "name": "stdout",
     "output_type": "stream",
     "text": [
      "\n",
      "      Epoch    GPU_mem   box_loss   cls_loss   dfl_loss  Instances       Size\n"
     ]
    },
    {
     "name": "stderr",
     "output_type": "stream",
     "text": [
      "    36/5000      14.9G     0.8233     0.6457     0.8315        145        640: 100%|██████████| 10/10 [00:10<00:00,  1.01s/it]\n",
      "                 Class     Images  Instances      Box(P          R      mAP50  mAP50-95): 100%|██████████| 1/1 [00:00<00:00,  1.17it/s]"
     ]
    },
    {
     "name": "stdout",
     "output_type": "stream",
     "text": [
      "                   all        111        179      0.644        0.4      0.471      0.358\n"
     ]
    },
    {
     "name": "stderr",
     "output_type": "stream",
     "text": [
      "\n"
     ]
    },
    {
     "name": "stdout",
     "output_type": "stream",
     "text": [
      "\n",
      "      Epoch    GPU_mem   box_loss   cls_loss   dfl_loss  Instances       Size\n"
     ]
    },
    {
     "name": "stderr",
     "output_type": "stream",
     "text": [
      "    37/5000      15.6G     0.8141     0.6283     0.8321        132        640: 100%|██████████| 10/10 [00:10<00:00,  1.00s/it]\n",
      "                 Class     Images  Instances      Box(P          R      mAP50  mAP50-95): 100%|██████████| 1/1 [00:00<00:00,  1.15it/s]"
     ]
    },
    {
     "name": "stdout",
     "output_type": "stream",
     "text": [
      "                   all        111        179      0.517      0.503      0.465      0.363\n"
     ]
    },
    {
     "name": "stderr",
     "output_type": "stream",
     "text": [
      "\n"
     ]
    },
    {
     "name": "stdout",
     "output_type": "stream",
     "text": [
      "\n",
      "      Epoch    GPU_mem   box_loss   cls_loss   dfl_loss  Instances       Size\n"
     ]
    },
    {
     "name": "stderr",
     "output_type": "stream",
     "text": [
      "    38/5000      15.3G     0.8047       0.64     0.8193        156        640: 100%|██████████| 10/10 [00:10<00:00,  1.03s/it]\n",
      "                 Class     Images  Instances      Box(P          R      mAP50  mAP50-95): 100%|██████████| 1/1 [00:00<00:00,  1.17it/s]"
     ]
    },
    {
     "name": "stdout",
     "output_type": "stream",
     "text": [
      "                   all        111        179      0.615      0.496      0.543      0.413\n"
     ]
    },
    {
     "name": "stderr",
     "output_type": "stream",
     "text": [
      "\n"
     ]
    },
    {
     "name": "stdout",
     "output_type": "stream",
     "text": [
      "\n",
      "      Epoch    GPU_mem   box_loss   cls_loss   dfl_loss  Instances       Size\n"
     ]
    },
    {
     "name": "stderr",
     "output_type": "stream",
     "text": [
      "    39/5000        15G     0.7842     0.6304     0.8147        133        640: 100%|██████████| 10/10 [00:10<00:00,  1.01s/it]\n",
      "                 Class     Images  Instances      Box(P          R      mAP50  mAP50-95): 100%|██████████| 1/1 [00:00<00:00,  1.18it/s]"
     ]
    },
    {
     "name": "stdout",
     "output_type": "stream",
     "text": [
      "                   all        111        179      0.646       0.41      0.537      0.427\n"
     ]
    },
    {
     "name": "stderr",
     "output_type": "stream",
     "text": [
      "\n"
     ]
    },
    {
     "name": "stdout",
     "output_type": "stream",
     "text": [
      "\n",
      "      Epoch    GPU_mem   box_loss   cls_loss   dfl_loss  Instances       Size\n"
     ]
    },
    {
     "name": "stderr",
     "output_type": "stream",
     "text": [
      "    40/5000      15.3G     0.7845     0.6147     0.8198        141        640: 100%|██████████| 10/10 [00:10<00:00,  1.02s/it]\n",
      "                 Class     Images  Instances      Box(P          R      mAP50  mAP50-95): 100%|██████████| 1/1 [00:00<00:00,  1.14it/s]"
     ]
    },
    {
     "name": "stdout",
     "output_type": "stream",
     "text": [
      "                   all        111        179      0.537       0.47      0.501       0.37\n"
     ]
    },
    {
     "name": "stderr",
     "output_type": "stream",
     "text": [
      "\n"
     ]
    },
    {
     "name": "stdout",
     "output_type": "stream",
     "text": [
      "\n",
      "      Epoch    GPU_mem   box_loss   cls_loss   dfl_loss  Instances       Size\n"
     ]
    },
    {
     "name": "stderr",
     "output_type": "stream",
     "text": [
      "    41/5000      15.3G      0.783     0.6011     0.8183        163        640: 100%|██████████| 10/10 [00:10<00:00,  1.02s/it]\n",
      "                 Class     Images  Instances      Box(P          R      mAP50  mAP50-95): 100%|██████████| 1/1 [00:00<00:00,  1.18it/s]"
     ]
    },
    {
     "name": "stdout",
     "output_type": "stream",
     "text": [
      "                   all        111        179       0.61      0.511      0.535      0.409\n"
     ]
    },
    {
     "name": "stderr",
     "output_type": "stream",
     "text": [
      "\n"
     ]
    },
    {
     "name": "stdout",
     "output_type": "stream",
     "text": [
      "\n",
      "      Epoch    GPU_mem   box_loss   cls_loss   dfl_loss  Instances       Size\n"
     ]
    },
    {
     "name": "stderr",
     "output_type": "stream",
     "text": [
      "    42/5000      15.5G     0.7722     0.6012     0.8155        159        640: 100%|██████████| 10/10 [00:10<00:00,  1.01s/it]\n",
      "                 Class     Images  Instances      Box(P          R      mAP50  mAP50-95): 100%|██████████| 1/1 [00:00<00:00,  1.16it/s]"
     ]
    },
    {
     "name": "stdout",
     "output_type": "stream",
     "text": [
      "                   all        111        179      0.705      0.473      0.519      0.411\n"
     ]
    },
    {
     "name": "stderr",
     "output_type": "stream",
     "text": [
      "\n"
     ]
    },
    {
     "name": "stdout",
     "output_type": "stream",
     "text": [
      "\n",
      "      Epoch    GPU_mem   box_loss   cls_loss   dfl_loss  Instances       Size\n"
     ]
    },
    {
     "name": "stderr",
     "output_type": "stream",
     "text": [
      "    43/5000        15G     0.7611     0.5996     0.8232        161        640: 100%|██████████| 10/10 [00:10<00:00,  1.01s/it]\n",
      "                 Class     Images  Instances      Box(P          R      mAP50  mAP50-95): 100%|██████████| 1/1 [00:00<00:00,  1.15it/s]"
     ]
    },
    {
     "name": "stdout",
     "output_type": "stream",
     "text": [
      "                   all        111        179      0.637      0.497      0.543      0.424\n"
     ]
    },
    {
     "name": "stderr",
     "output_type": "stream",
     "text": [
      "\n"
     ]
    },
    {
     "name": "stdout",
     "output_type": "stream",
     "text": [
      "\n",
      "      Epoch    GPU_mem   box_loss   cls_loss   dfl_loss  Instances       Size\n"
     ]
    },
    {
     "name": "stderr",
     "output_type": "stream",
     "text": [
      "    44/5000        15G     0.7653       0.61     0.8117        172        640: 100%|██████████| 10/10 [00:10<00:00,  1.01s/it]\n",
      "                 Class     Images  Instances      Box(P          R      mAP50  mAP50-95): 100%|██████████| 1/1 [00:00<00:00,  1.16it/s]"
     ]
    },
    {
     "name": "stdout",
     "output_type": "stream",
     "text": [
      "                   all        111        179      0.645      0.456       0.49      0.375\n"
     ]
    },
    {
     "name": "stderr",
     "output_type": "stream",
     "text": [
      "\n"
     ]
    },
    {
     "name": "stdout",
     "output_type": "stream",
     "text": [
      "\n",
      "      Epoch    GPU_mem   box_loss   cls_loss   dfl_loss  Instances       Size\n"
     ]
    },
    {
     "name": "stderr",
     "output_type": "stream",
     "text": [
      "    45/5000      14.9G     0.7343     0.5699       0.82        153        640: 100%|██████████| 10/10 [00:09<00:00,  1.00it/s]\n",
      "                 Class     Images  Instances      Box(P          R      mAP50  mAP50-95): 100%|██████████| 1/1 [00:00<00:00,  1.06it/s]"
     ]
    },
    {
     "name": "stdout",
     "output_type": "stream",
     "text": [
      "                   all        111        179      0.845      0.392      0.496      0.395\n"
     ]
    },
    {
     "name": "stderr",
     "output_type": "stream",
     "text": [
      "\n"
     ]
    },
    {
     "name": "stdout",
     "output_type": "stream",
     "text": [
      "\n",
      "      Epoch    GPU_mem   box_loss   cls_loss   dfl_loss  Instances       Size\n"
     ]
    },
    {
     "name": "stderr",
     "output_type": "stream",
     "text": [
      "    46/5000        15G     0.7761     0.5577      0.822        168        640: 100%|██████████| 10/10 [00:10<00:00,  1.02s/it]\n",
      "                 Class     Images  Instances      Box(P          R      mAP50  mAP50-95): 100%|██████████| 1/1 [00:00<00:00,  1.15it/s]"
     ]
    },
    {
     "name": "stdout",
     "output_type": "stream",
     "text": [
      "                   all        111        179      0.632      0.435      0.504      0.394\n"
     ]
    },
    {
     "name": "stderr",
     "output_type": "stream",
     "text": [
      "\n"
     ]
    },
    {
     "name": "stdout",
     "output_type": "stream",
     "text": [
      "\n",
      "      Epoch    GPU_mem   box_loss   cls_loss   dfl_loss  Instances       Size\n"
     ]
    },
    {
     "name": "stderr",
     "output_type": "stream",
     "text": [
      "    47/5000        15G     0.7752     0.5773     0.8196        148        640: 100%|██████████| 10/10 [00:10<00:00,  1.00s/it]\n",
      "                 Class     Images  Instances      Box(P          R      mAP50  mAP50-95): 100%|██████████| 1/1 [00:00<00:00,  1.14it/s]"
     ]
    },
    {
     "name": "stdout",
     "output_type": "stream",
     "text": [
      "                   all        111        179      0.748      0.506      0.563      0.446\n"
     ]
    },
    {
     "name": "stderr",
     "output_type": "stream",
     "text": [
      "\n"
     ]
    },
    {
     "name": "stdout",
     "output_type": "stream",
     "text": [
      "\n",
      "      Epoch    GPU_mem   box_loss   cls_loss   dfl_loss  Instances       Size\n"
     ]
    },
    {
     "name": "stderr",
     "output_type": "stream",
     "text": [
      "    48/5000      15.3G     0.7591     0.5789      0.815        164        640: 100%|██████████| 10/10 [00:10<00:00,  1.02s/it]\n",
      "                 Class     Images  Instances      Box(P          R      mAP50  mAP50-95): 100%|██████████| 1/1 [00:00<00:00,  1.10it/s]"
     ]
    },
    {
     "name": "stdout",
     "output_type": "stream",
     "text": [
      "                   all        111        179      0.556      0.524      0.501      0.387\n"
     ]
    },
    {
     "name": "stderr",
     "output_type": "stream",
     "text": [
      "\n"
     ]
    },
    {
     "name": "stdout",
     "output_type": "stream",
     "text": [
      "\n",
      "      Epoch    GPU_mem   box_loss   cls_loss   dfl_loss  Instances       Size\n"
     ]
    },
    {
     "name": "stderr",
     "output_type": "stream",
     "text": [
      "    49/5000      15.3G     0.7298      0.577     0.8168        153        640: 100%|██████████| 10/10 [00:10<00:00,  1.02s/it]\n",
      "                 Class     Images  Instances      Box(P          R      mAP50  mAP50-95): 100%|██████████| 1/1 [00:00<00:00,  1.14it/s]"
     ]
    },
    {
     "name": "stdout",
     "output_type": "stream",
     "text": [
      "                   all        111        179      0.596       0.54      0.533      0.427\n"
     ]
    },
    {
     "name": "stderr",
     "output_type": "stream",
     "text": [
      "\n"
     ]
    },
    {
     "name": "stdout",
     "output_type": "stream",
     "text": [
      "\n",
      "      Epoch    GPU_mem   box_loss   cls_loss   dfl_loss  Instances       Size\n"
     ]
    },
    {
     "name": "stderr",
     "output_type": "stream",
     "text": [
      "    50/5000      14.9G     0.7389     0.5301     0.8176        128        640: 100%|██████████| 10/10 [00:10<00:00,  1.01s/it]\n",
      "                 Class     Images  Instances      Box(P          R      mAP50  mAP50-95): 100%|██████████| 1/1 [00:00<00:00,  1.17it/s]"
     ]
    },
    {
     "name": "stdout",
     "output_type": "stream",
     "text": [
      "                   all        111        179      0.684      0.406      0.524      0.409\n"
     ]
    },
    {
     "name": "stderr",
     "output_type": "stream",
     "text": [
      "\n"
     ]
    },
    {
     "name": "stdout",
     "output_type": "stream",
     "text": [
      "\n",
      "      Epoch    GPU_mem   box_loss   cls_loss   dfl_loss  Instances       Size\n"
     ]
    },
    {
     "name": "stderr",
     "output_type": "stream",
     "text": [
      "    51/5000      14.9G     0.7182     0.5548      0.808        166        640: 100%|██████████| 10/10 [00:10<00:00,  1.01s/it]\n",
      "                 Class     Images  Instances      Box(P          R      mAP50  mAP50-95): 100%|██████████| 1/1 [00:00<00:00,  1.17it/s]"
     ]
    },
    {
     "name": "stdout",
     "output_type": "stream",
     "text": [
      "                   all        111        179       0.63      0.464      0.552      0.435\n"
     ]
    },
    {
     "name": "stderr",
     "output_type": "stream",
     "text": [
      "\n"
     ]
    },
    {
     "name": "stdout",
     "output_type": "stream",
     "text": [
      "\n",
      "      Epoch    GPU_mem   box_loss   cls_loss   dfl_loss  Instances       Size\n"
     ]
    },
    {
     "name": "stderr",
     "output_type": "stream",
     "text": [
      "    52/5000        15G     0.7074     0.5453     0.8131        158        640: 100%|██████████| 10/10 [00:10<00:00,  1.00s/it]\n",
      "                 Class     Images  Instances      Box(P          R      mAP50  mAP50-95): 100%|██████████| 1/1 [00:00<00:00,  1.17it/s]"
     ]
    },
    {
     "name": "stdout",
     "output_type": "stream",
     "text": [
      "                   all        111        179       0.58      0.471      0.523      0.399\n"
     ]
    },
    {
     "name": "stderr",
     "output_type": "stream",
     "text": [
      "\n"
     ]
    },
    {
     "name": "stdout",
     "output_type": "stream",
     "text": [
      "\n",
      "      Epoch    GPU_mem   box_loss   cls_loss   dfl_loss  Instances       Size\n"
     ]
    },
    {
     "name": "stderr",
     "output_type": "stream",
     "text": [
      "    53/5000      15.3G     0.7243     0.5665     0.8079        141        640: 100%|██████████| 10/10 [00:10<00:00,  1.02s/it]\n",
      "                 Class     Images  Instances      Box(P          R      mAP50  mAP50-95): 100%|██████████| 1/1 [00:01<00:00,  1.00s/it]"
     ]
    },
    {
     "name": "stdout",
     "output_type": "stream",
     "text": [
      "                   all        111        179      0.658      0.446      0.533      0.428\n"
     ]
    },
    {
     "name": "stderr",
     "output_type": "stream",
     "text": [
      "\n"
     ]
    },
    {
     "name": "stdout",
     "output_type": "stream",
     "text": [
      "\n",
      "      Epoch    GPU_mem   box_loss   cls_loss   dfl_loss  Instances       Size\n"
     ]
    },
    {
     "name": "stderr",
     "output_type": "stream",
     "text": [
      "    54/5000        15G     0.7157     0.5354     0.8102        173        640: 100%|██████████| 10/10 [00:10<00:00,  1.02s/it]\n",
      "                 Class     Images  Instances      Box(P          R      mAP50  mAP50-95): 100%|██████████| 1/1 [00:00<00:00,  1.15it/s]"
     ]
    },
    {
     "name": "stdout",
     "output_type": "stream",
     "text": [
      "                   all        111        179      0.758      0.481      0.559      0.421\n"
     ]
    },
    {
     "name": "stderr",
     "output_type": "stream",
     "text": [
      "\n"
     ]
    },
    {
     "name": "stdout",
     "output_type": "stream",
     "text": [
      "\n",
      "      Epoch    GPU_mem   box_loss   cls_loss   dfl_loss  Instances       Size\n"
     ]
    },
    {
     "name": "stderr",
     "output_type": "stream",
     "text": [
      "    55/5000      15.3G     0.7181     0.5071     0.8183        154        640: 100%|██████████| 10/10 [00:10<00:00,  1.03s/it]\n",
      "                 Class     Images  Instances      Box(P          R      mAP50  mAP50-95): 100%|██████████| 1/1 [00:00<00:00,  1.18it/s]"
     ]
    },
    {
     "name": "stdout",
     "output_type": "stream",
     "text": [
      "                   all        111        179       0.57      0.533      0.536       0.41\n"
     ]
    },
    {
     "name": "stderr",
     "output_type": "stream",
     "text": [
      "\n"
     ]
    },
    {
     "name": "stdout",
     "output_type": "stream",
     "text": [
      "\n",
      "      Epoch    GPU_mem   box_loss   cls_loss   dfl_loss  Instances       Size\n"
     ]
    },
    {
     "name": "stderr",
     "output_type": "stream",
     "text": [
      "    56/5000      15.3G     0.7144     0.4949     0.8074        160        640: 100%|██████████| 10/10 [00:10<00:00,  1.02s/it]\n",
      "                 Class     Images  Instances      Box(P          R      mAP50  mAP50-95): 100%|██████████| 1/1 [00:00<00:00,  1.17it/s]"
     ]
    },
    {
     "name": "stdout",
     "output_type": "stream",
     "text": [
      "                   all        111        179      0.614      0.477      0.501       0.39\n"
     ]
    },
    {
     "name": "stderr",
     "output_type": "stream",
     "text": [
      "\n"
     ]
    },
    {
     "name": "stdout",
     "output_type": "stream",
     "text": [
      "\n",
      "      Epoch    GPU_mem   box_loss   cls_loss   dfl_loss  Instances       Size\n"
     ]
    },
    {
     "name": "stderr",
     "output_type": "stream",
     "text": [
      "    57/5000      15.3G     0.6965     0.5025     0.8084        144        640: 100%|██████████| 10/10 [00:10<00:00,  1.02s/it]\n",
      "                 Class     Images  Instances      Box(P          R      mAP50  mAP50-95): 100%|██████████| 1/1 [00:00<00:00,  1.18it/s]"
     ]
    },
    {
     "name": "stdout",
     "output_type": "stream",
     "text": [
      "                   all        111        179      0.627      0.493      0.551      0.443\n"
     ]
    },
    {
     "name": "stderr",
     "output_type": "stream",
     "text": [
      "\n"
     ]
    },
    {
     "name": "stdout",
     "output_type": "stream",
     "text": [
      "\n",
      "      Epoch    GPU_mem   box_loss   cls_loss   dfl_loss  Instances       Size\n"
     ]
    },
    {
     "name": "stderr",
     "output_type": "stream",
     "text": [
      "    58/5000      15.2G     0.6909     0.4919     0.8086        166        640: 100%|██████████| 10/10 [00:10<00:00,  1.02s/it]\n",
      "                 Class     Images  Instances      Box(P          R      mAP50  mAP50-95): 100%|██████████| 1/1 [00:00<00:00,  1.14it/s]"
     ]
    },
    {
     "name": "stdout",
     "output_type": "stream",
     "text": [
      "                   all        111        179      0.666      0.495      0.554      0.443\n"
     ]
    },
    {
     "name": "stderr",
     "output_type": "stream",
     "text": [
      "\n"
     ]
    },
    {
     "name": "stdout",
     "output_type": "stream",
     "text": [
      "\n",
      "      Epoch    GPU_mem   box_loss   cls_loss   dfl_loss  Instances       Size\n"
     ]
    },
    {
     "name": "stderr",
     "output_type": "stream",
     "text": [
      "    59/5000        15G     0.7257     0.5281     0.8064        163        640: 100%|██████████| 10/10 [00:10<00:00,  1.01s/it]\n",
      "                 Class     Images  Instances      Box(P          R      mAP50  mAP50-95): 100%|██████████| 1/1 [00:00<00:00,  1.14it/s]"
     ]
    },
    {
     "name": "stdout",
     "output_type": "stream",
     "text": [
      "                   all        111        179      0.738       0.45       0.56      0.455\n"
     ]
    },
    {
     "name": "stderr",
     "output_type": "stream",
     "text": [
      "\n"
     ]
    },
    {
     "name": "stdout",
     "output_type": "stream",
     "text": [
      "\n",
      "      Epoch    GPU_mem   box_loss   cls_loss   dfl_loss  Instances       Size\n"
     ]
    },
    {
     "name": "stderr",
     "output_type": "stream",
     "text": [
      "    60/5000      14.9G      0.686     0.5013     0.8053        161        640: 100%|██████████| 10/10 [00:10<00:00,  1.00s/it]\n",
      "                 Class     Images  Instances      Box(P          R      mAP50  mAP50-95): 100%|██████████| 1/1 [00:00<00:00,  1.15it/s]"
     ]
    },
    {
     "name": "stdout",
     "output_type": "stream",
     "text": [
      "                   all        111        179      0.568      0.484      0.508        0.4\n"
     ]
    },
    {
     "name": "stderr",
     "output_type": "stream",
     "text": [
      "\n"
     ]
    },
    {
     "name": "stdout",
     "output_type": "stream",
     "text": [
      "\n",
      "      Epoch    GPU_mem   box_loss   cls_loss   dfl_loss  Instances       Size\n"
     ]
    },
    {
     "name": "stderr",
     "output_type": "stream",
     "text": [
      "    61/5000      15.2G     0.6914     0.5017     0.8068        151        640: 100%|██████████| 10/10 [00:10<00:00,  1.02s/it]\n",
      "                 Class     Images  Instances      Box(P          R      mAP50  mAP50-95): 100%|██████████| 1/1 [00:00<00:00,  1.12it/s]"
     ]
    },
    {
     "name": "stdout",
     "output_type": "stream",
     "text": [
      "                   all        111        179      0.522      0.565      0.532      0.415\n"
     ]
    },
    {
     "name": "stderr",
     "output_type": "stream",
     "text": [
      "\n"
     ]
    },
    {
     "name": "stdout",
     "output_type": "stream",
     "text": [
      "\n",
      "      Epoch    GPU_mem   box_loss   cls_loss   dfl_loss  Instances       Size\n"
     ]
    },
    {
     "name": "stderr",
     "output_type": "stream",
     "text": [
      "    62/5000      15.3G     0.6872     0.5047     0.8066        155        640: 100%|██████████| 10/10 [00:10<00:00,  1.02s/it]\n",
      "                 Class     Images  Instances      Box(P          R      mAP50  mAP50-95): 100%|██████████| 1/1 [00:00<00:00,  1.14it/s]"
     ]
    },
    {
     "name": "stdout",
     "output_type": "stream",
     "text": [
      "                   all        111        179      0.565       0.53      0.529      0.409\n"
     ]
    },
    {
     "name": "stderr",
     "output_type": "stream",
     "text": [
      "\n"
     ]
    },
    {
     "name": "stdout",
     "output_type": "stream",
     "text": [
      "\n",
      "      Epoch    GPU_mem   box_loss   cls_loss   dfl_loss  Instances       Size\n"
     ]
    },
    {
     "name": "stderr",
     "output_type": "stream",
     "text": [
      "    63/5000      15.3G     0.6913     0.4909     0.8021        155        640: 100%|██████████| 10/10 [00:10<00:00,  1.02s/it]\n",
      "                 Class     Images  Instances      Box(P          R      mAP50  mAP50-95): 100%|██████████| 1/1 [00:00<00:00,  1.14it/s]"
     ]
    },
    {
     "name": "stdout",
     "output_type": "stream",
     "text": [
      "                   all        111        179      0.595      0.521      0.522      0.408\n"
     ]
    },
    {
     "name": "stderr",
     "output_type": "stream",
     "text": [
      "\n"
     ]
    },
    {
     "name": "stdout",
     "output_type": "stream",
     "text": [
      "\n",
      "      Epoch    GPU_mem   box_loss   cls_loss   dfl_loss  Instances       Size\n"
     ]
    },
    {
     "name": "stderr",
     "output_type": "stream",
     "text": [
      "    64/5000      15.2G      0.693     0.4973     0.8067        144        640: 100%|██████████| 10/10 [00:10<00:00,  1.03s/it]\n",
      "                 Class     Images  Instances      Box(P          R      mAP50  mAP50-95): 100%|██████████| 1/1 [00:00<00:00,  1.16it/s]"
     ]
    },
    {
     "name": "stdout",
     "output_type": "stream",
     "text": [
      "                   all        111        179      0.616       0.51      0.551      0.443\n"
     ]
    },
    {
     "name": "stderr",
     "output_type": "stream",
     "text": [
      "\n"
     ]
    },
    {
     "name": "stdout",
     "output_type": "stream",
     "text": [
      "\n",
      "      Epoch    GPU_mem   box_loss   cls_loss   dfl_loss  Instances       Size\n"
     ]
    },
    {
     "name": "stderr",
     "output_type": "stream",
     "text": [
      "    65/5000      15.2G     0.6552     0.4845     0.8033        132        640: 100%|██████████| 10/10 [00:10<00:00,  1.02s/it]\n",
      "                 Class     Images  Instances      Box(P          R      mAP50  mAP50-95): 100%|██████████| 1/1 [00:00<00:00,  1.16it/s]"
     ]
    },
    {
     "name": "stdout",
     "output_type": "stream",
     "text": [
      "                   all        111        179      0.732      0.519      0.582      0.469\n"
     ]
    },
    {
     "name": "stderr",
     "output_type": "stream",
     "text": [
      "\n"
     ]
    },
    {
     "name": "stdout",
     "output_type": "stream",
     "text": [
      "\n",
      "      Epoch    GPU_mem   box_loss   cls_loss   dfl_loss  Instances       Size\n"
     ]
    },
    {
     "name": "stderr",
     "output_type": "stream",
     "text": [
      "    66/5000        15G     0.6723     0.5013     0.8072        138        640: 100%|██████████| 10/10 [00:10<00:00,  1.00s/it]\n",
      "                 Class     Images  Instances      Box(P          R      mAP50  mAP50-95): 100%|██████████| 1/1 [00:00<00:00,  1.16it/s]"
     ]
    },
    {
     "name": "stdout",
     "output_type": "stream",
     "text": [
      "                   all        111        179      0.722      0.485      0.596      0.482\n"
     ]
    },
    {
     "name": "stderr",
     "output_type": "stream",
     "text": [
      "\n"
     ]
    },
    {
     "name": "stdout",
     "output_type": "stream",
     "text": [
      "\n",
      "      Epoch    GPU_mem   box_loss   cls_loss   dfl_loss  Instances       Size\n"
     ]
    },
    {
     "name": "stderr",
     "output_type": "stream",
     "text": [
      "    67/5000        15G     0.6685      0.479     0.8104        128        640: 100%|██████████| 10/10 [00:09<00:00,  1.00it/s]\n",
      "                 Class     Images  Instances      Box(P          R      mAP50  mAP50-95): 100%|██████████| 1/1 [00:00<00:00,  1.12it/s]"
     ]
    },
    {
     "name": "stdout",
     "output_type": "stream",
     "text": [
      "                   all        111        179      0.759      0.476      0.538      0.431\n"
     ]
    },
    {
     "name": "stderr",
     "output_type": "stream",
     "text": [
      "\n"
     ]
    },
    {
     "name": "stdout",
     "output_type": "stream",
     "text": [
      "\n",
      "      Epoch    GPU_mem   box_loss   cls_loss   dfl_loss  Instances       Size\n"
     ]
    },
    {
     "name": "stderr",
     "output_type": "stream",
     "text": [
      "    68/5000      14.9G     0.6733     0.4879     0.8006        144        640: 100%|██████████| 10/10 [00:10<00:00,  1.00s/it]\n",
      "                 Class     Images  Instances      Box(P          R      mAP50  mAP50-95): 100%|██████████| 1/1 [00:00<00:00,  1.14it/s]"
     ]
    },
    {
     "name": "stdout",
     "output_type": "stream",
     "text": [
      "                   all        111        179      0.541      0.498      0.551      0.431\n"
     ]
    },
    {
     "name": "stderr",
     "output_type": "stream",
     "text": [
      "\n"
     ]
    },
    {
     "name": "stdout",
     "output_type": "stream",
     "text": [
      "\n",
      "      Epoch    GPU_mem   box_loss   cls_loss   dfl_loss  Instances       Size\n"
     ]
    },
    {
     "name": "stderr",
     "output_type": "stream",
     "text": [
      "    69/5000      15.3G      0.694     0.4827     0.8053        176        640: 100%|██████████| 10/10 [00:10<00:00,  1.02s/it]\n",
      "                 Class     Images  Instances      Box(P          R      mAP50  mAP50-95): 100%|██████████| 1/1 [00:00<00:00,  1.13it/s]"
     ]
    },
    {
     "name": "stdout",
     "output_type": "stream",
     "text": [
      "                   all        111        179      0.674      0.449      0.505        0.4\n"
     ]
    },
    {
     "name": "stderr",
     "output_type": "stream",
     "text": [
      "\n"
     ]
    },
    {
     "name": "stdout",
     "output_type": "stream",
     "text": [
      "\n",
      "      Epoch    GPU_mem   box_loss   cls_loss   dfl_loss  Instances       Size\n"
     ]
    },
    {
     "name": "stderr",
     "output_type": "stream",
     "text": [
      "    70/5000      15.6G     0.6593     0.4849     0.7996        149        640: 100%|██████████| 10/10 [00:10<00:00,  1.01s/it]\n",
      "                 Class     Images  Instances      Box(P          R      mAP50  mAP50-95): 100%|██████████| 1/1 [00:00<00:00,  1.14it/s]"
     ]
    },
    {
     "name": "stdout",
     "output_type": "stream",
     "text": [
      "                   all        111        179      0.571       0.48       0.48      0.376\n"
     ]
    },
    {
     "name": "stderr",
     "output_type": "stream",
     "text": [
      "\n"
     ]
    },
    {
     "name": "stdout",
     "output_type": "stream",
     "text": [
      "\n",
      "      Epoch    GPU_mem   box_loss   cls_loss   dfl_loss  Instances       Size\n"
     ]
    },
    {
     "name": "stderr",
     "output_type": "stream",
     "text": [
      "    71/5000        15G     0.6931     0.4677     0.8023        182        640: 100%|██████████| 10/10 [00:10<00:00,  1.00s/it]\n",
      "                 Class     Images  Instances      Box(P          R      mAP50  mAP50-95): 100%|██████████| 1/1 [00:00<00:00,  1.17it/s]"
     ]
    },
    {
     "name": "stdout",
     "output_type": "stream",
     "text": [
      "                   all        111        179      0.538      0.497      0.491      0.383\n"
     ]
    },
    {
     "name": "stderr",
     "output_type": "stream",
     "text": [
      "\n"
     ]
    },
    {
     "name": "stdout",
     "output_type": "stream",
     "text": [
      "\n",
      "      Epoch    GPU_mem   box_loss   cls_loss   dfl_loss  Instances       Size\n"
     ]
    },
    {
     "name": "stderr",
     "output_type": "stream",
     "text": [
      "    72/5000      15.2G     0.6733     0.4814     0.8031        154        640: 100%|██████████| 10/10 [00:10<00:00,  1.02s/it]\n",
      "                 Class     Images  Instances      Box(P          R      mAP50  mAP50-95): 100%|██████████| 1/1 [00:00<00:00,  1.12it/s]"
     ]
    },
    {
     "name": "stdout",
     "output_type": "stream",
     "text": [
      "                   all        111        179       0.48      0.458      0.488      0.376\n"
     ]
    },
    {
     "name": "stderr",
     "output_type": "stream",
     "text": [
      "\n"
     ]
    },
    {
     "name": "stdout",
     "output_type": "stream",
     "text": [
      "\n",
      "      Epoch    GPU_mem   box_loss   cls_loss   dfl_loss  Instances       Size\n"
     ]
    },
    {
     "name": "stderr",
     "output_type": "stream",
     "text": [
      "    73/5000      15.3G     0.6799     0.4929     0.8039        151        640: 100%|██████████| 10/10 [00:10<00:00,  1.02s/it]\n",
      "                 Class     Images  Instances      Box(P          R      mAP50  mAP50-95): 100%|██████████| 1/1 [00:00<00:00,  1.14it/s]"
     ]
    },
    {
     "name": "stdout",
     "output_type": "stream",
     "text": [
      "                   all        111        179      0.646      0.453      0.518      0.415\n"
     ]
    },
    {
     "name": "stderr",
     "output_type": "stream",
     "text": [
      "\n"
     ]
    },
    {
     "name": "stdout",
     "output_type": "stream",
     "text": [
      "\n",
      "      Epoch    GPU_mem   box_loss   cls_loss   dfl_loss  Instances       Size\n"
     ]
    },
    {
     "name": "stderr",
     "output_type": "stream",
     "text": [
      "    74/5000      14.9G     0.6798     0.4823     0.8097        169        640: 100%|██████████| 10/10 [00:10<00:00,  1.00s/it]\n",
      "                 Class     Images  Instances      Box(P          R      mAP50  mAP50-95): 100%|██████████| 1/1 [00:00<00:00,  1.18it/s]"
     ]
    },
    {
     "name": "stdout",
     "output_type": "stream",
     "text": [
      "                   all        111        179      0.635       0.48      0.556      0.447\n"
     ]
    },
    {
     "name": "stderr",
     "output_type": "stream",
     "text": [
      "\n"
     ]
    },
    {
     "name": "stdout",
     "output_type": "stream",
     "text": [
      "\n",
      "      Epoch    GPU_mem   box_loss   cls_loss   dfl_loss  Instances       Size\n"
     ]
    },
    {
     "name": "stderr",
     "output_type": "stream",
     "text": [
      "    75/5000      15.3G     0.6722     0.4616     0.8095        164        640: 100%|██████████| 10/10 [00:10<00:00,  1.02s/it]\n",
      "                 Class     Images  Instances      Box(P          R      mAP50  mAP50-95): 100%|██████████| 1/1 [00:00<00:00,  1.15it/s]"
     ]
    },
    {
     "name": "stdout",
     "output_type": "stream",
     "text": [
      "                   all        111        179      0.505      0.575       0.54      0.437\n"
     ]
    },
    {
     "name": "stderr",
     "output_type": "stream",
     "text": [
      "\n"
     ]
    },
    {
     "name": "stdout",
     "output_type": "stream",
     "text": [
      "\n",
      "      Epoch    GPU_mem   box_loss   cls_loss   dfl_loss  Instances       Size\n"
     ]
    },
    {
     "name": "stderr",
     "output_type": "stream",
     "text": [
      "    76/5000        15G     0.6328     0.4506     0.8081        137        640: 100%|██████████| 10/10 [00:09<00:00,  1.00it/s]\n",
      "                 Class     Images  Instances      Box(P          R      mAP50  mAP50-95): 100%|██████████| 1/1 [00:00<00:00,  1.15it/s]"
     ]
    },
    {
     "name": "stdout",
     "output_type": "stream",
     "text": [
      "                   all        111        179      0.628      0.447      0.516       0.42\n"
     ]
    },
    {
     "name": "stderr",
     "output_type": "stream",
     "text": [
      "\n"
     ]
    },
    {
     "name": "stdout",
     "output_type": "stream",
     "text": [
      "\n",
      "      Epoch    GPU_mem   box_loss   cls_loss   dfl_loss  Instances       Size\n"
     ]
    },
    {
     "name": "stderr",
     "output_type": "stream",
     "text": [
      "    77/5000      15.5G     0.6407     0.4593     0.8143        155        640: 100%|██████████| 10/10 [00:10<00:00,  1.01s/it]\n",
      "                 Class     Images  Instances      Box(P          R      mAP50  mAP50-95): 100%|██████████| 1/1 [00:00<00:00,  1.10it/s]"
     ]
    },
    {
     "name": "stdout",
     "output_type": "stream",
     "text": [
      "                   all        111        179      0.765      0.361      0.519      0.403\n"
     ]
    },
    {
     "name": "stderr",
     "output_type": "stream",
     "text": [
      "\n"
     ]
    },
    {
     "name": "stdout",
     "output_type": "stream",
     "text": [
      "\n",
      "      Epoch    GPU_mem   box_loss   cls_loss   dfl_loss  Instances       Size\n"
     ]
    },
    {
     "name": "stderr",
     "output_type": "stream",
     "text": [
      "    78/5000      15.3G     0.6519     0.4685     0.8004        162        640: 100%|██████████| 10/10 [00:10<00:00,  1.02s/it]\n",
      "                 Class     Images  Instances      Box(P          R      mAP50  mAP50-95): 100%|██████████| 1/1 [00:00<00:00,  1.12it/s]"
     ]
    },
    {
     "name": "stdout",
     "output_type": "stream",
     "text": [
      "                   all        111        179      0.519      0.508      0.537      0.415\n"
     ]
    },
    {
     "name": "stderr",
     "output_type": "stream",
     "text": [
      "\n"
     ]
    },
    {
     "name": "stdout",
     "output_type": "stream",
     "text": [
      "\n",
      "      Epoch    GPU_mem   box_loss   cls_loss   dfl_loss  Instances       Size\n"
     ]
    },
    {
     "name": "stderr",
     "output_type": "stream",
     "text": [
      "    79/5000      14.9G     0.6192     0.4353     0.7932        150        640: 100%|██████████| 10/10 [00:10<00:00,  1.00s/it]\n",
      "                 Class     Images  Instances      Box(P          R      mAP50  mAP50-95): 100%|██████████| 1/1 [00:00<00:00,  1.17it/s]"
     ]
    },
    {
     "name": "stdout",
     "output_type": "stream",
     "text": [
      "                   all        111        179       0.69      0.443      0.561      0.449\n"
     ]
    },
    {
     "name": "stderr",
     "output_type": "stream",
     "text": [
      "\n"
     ]
    },
    {
     "name": "stdout",
     "output_type": "stream",
     "text": [
      "\n",
      "      Epoch    GPU_mem   box_loss   cls_loss   dfl_loss  Instances       Size\n"
     ]
    },
    {
     "name": "stderr",
     "output_type": "stream",
     "text": [
      "    80/5000      15.6G     0.6462     0.4444     0.8063        153        640: 100%|██████████| 10/10 [00:10<00:00,  1.00s/it]\n",
      "                 Class     Images  Instances      Box(P          R      mAP50  mAP50-95): 100%|██████████| 1/1 [00:00<00:00,  1.11it/s]"
     ]
    },
    {
     "name": "stdout",
     "output_type": "stream",
     "text": [
      "                   all        111        179       0.55      0.534      0.535      0.406\n"
     ]
    },
    {
     "name": "stderr",
     "output_type": "stream",
     "text": [
      "\n"
     ]
    },
    {
     "name": "stdout",
     "output_type": "stream",
     "text": [
      "\n",
      "      Epoch    GPU_mem   box_loss   cls_loss   dfl_loss  Instances       Size\n"
     ]
    },
    {
     "name": "stderr",
     "output_type": "stream",
     "text": [
      "    81/5000      15.5G     0.6261     0.4492     0.7931        143        640: 100%|██████████| 10/10 [00:10<00:00,  1.00s/it]\n",
      "                 Class     Images  Instances      Box(P          R      mAP50  mAP50-95): 100%|██████████| 1/1 [00:00<00:00,  1.13it/s]"
     ]
    },
    {
     "name": "stdout",
     "output_type": "stream",
     "text": [
      "                   all        111        179      0.685      0.416      0.484      0.387\n"
     ]
    },
    {
     "name": "stderr",
     "output_type": "stream",
     "text": [
      "\n"
     ]
    },
    {
     "name": "stdout",
     "output_type": "stream",
     "text": [
      "\n",
      "      Epoch    GPU_mem   box_loss   cls_loss   dfl_loss  Instances       Size\n"
     ]
    },
    {
     "name": "stderr",
     "output_type": "stream",
     "text": [
      "    82/5000      15.3G     0.6406     0.4382     0.8047        165        640: 100%|██████████| 10/10 [00:10<00:00,  1.02s/it]\n",
      "                 Class     Images  Instances      Box(P          R      mAP50  mAP50-95): 100%|██████████| 1/1 [00:00<00:00,  1.17it/s]"
     ]
    },
    {
     "name": "stdout",
     "output_type": "stream",
     "text": [
      "                   all        111        179      0.599      0.472      0.536      0.435\n"
     ]
    },
    {
     "name": "stderr",
     "output_type": "stream",
     "text": [
      "\n"
     ]
    },
    {
     "name": "stdout",
     "output_type": "stream",
     "text": [
      "\n",
      "      Epoch    GPU_mem   box_loss   cls_loss   dfl_loss  Instances       Size\n"
     ]
    },
    {
     "name": "stderr",
     "output_type": "stream",
     "text": [
      "    83/5000      14.9G     0.6359     0.4475      0.805        149        640: 100%|██████████| 10/10 [00:10<00:00,  1.01s/it]\n",
      "                 Class     Images  Instances      Box(P          R      mAP50  mAP50-95): 100%|██████████| 1/1 [00:00<00:00,  1.17it/s]"
     ]
    },
    {
     "name": "stdout",
     "output_type": "stream",
     "text": [
      "                   all        111        179      0.687      0.452      0.524      0.416\n"
     ]
    },
    {
     "name": "stderr",
     "output_type": "stream",
     "text": [
      "\n"
     ]
    },
    {
     "name": "stdout",
     "output_type": "stream",
     "text": [
      "\n",
      "      Epoch    GPU_mem   box_loss   cls_loss   dfl_loss  Instances       Size\n"
     ]
    },
    {
     "name": "stderr",
     "output_type": "stream",
     "text": [
      "    84/5000      14.9G     0.6278     0.4339     0.7972        148        640: 100%|██████████| 10/10 [00:09<00:00,  1.00it/s]\n",
      "                 Class     Images  Instances      Box(P          R      mAP50  mAP50-95): 100%|██████████| 1/1 [00:00<00:00,  1.16it/s]"
     ]
    },
    {
     "name": "stdout",
     "output_type": "stream",
     "text": [
      "                   all        111        179      0.627      0.474      0.509        0.4\n"
     ]
    },
    {
     "name": "stderr",
     "output_type": "stream",
     "text": [
      "\n"
     ]
    },
    {
     "name": "stdout",
     "output_type": "stream",
     "text": [
      "\n",
      "      Epoch    GPU_mem   box_loss   cls_loss   dfl_loss  Instances       Size\n"
     ]
    },
    {
     "name": "stderr",
     "output_type": "stream",
     "text": [
      "    85/5000      15.6G     0.6446     0.4591     0.7953        158        640: 100%|██████████| 10/10 [00:10<00:00,  1.00s/it]\n",
      "                 Class     Images  Instances      Box(P          R      mAP50  mAP50-95): 100%|██████████| 1/1 [00:00<00:00,  1.08it/s]"
     ]
    },
    {
     "name": "stdout",
     "output_type": "stream",
     "text": [
      "                   all        111        179      0.721      0.437      0.545      0.437\n"
     ]
    },
    {
     "name": "stderr",
     "output_type": "stream",
     "text": [
      "\n"
     ]
    },
    {
     "name": "stdout",
     "output_type": "stream",
     "text": [
      "\n",
      "      Epoch    GPU_mem   box_loss   cls_loss   dfl_loss  Instances       Size\n"
     ]
    },
    {
     "name": "stderr",
     "output_type": "stream",
     "text": [
      "    86/5000      14.9G     0.6312     0.4385     0.7941        139        640: 100%|██████████| 10/10 [00:09<00:00,  1.00it/s]\n",
      "                 Class     Images  Instances      Box(P          R      mAP50  mAP50-95): 100%|██████████| 1/1 [00:00<00:00,  1.16it/s]"
     ]
    },
    {
     "name": "stdout",
     "output_type": "stream",
     "text": [
      "                   all        111        179      0.572       0.53      0.501      0.392\n"
     ]
    },
    {
     "name": "stderr",
     "output_type": "stream",
     "text": [
      "\n"
     ]
    },
    {
     "name": "stdout",
     "output_type": "stream",
     "text": [
      "\n",
      "      Epoch    GPU_mem   box_loss   cls_loss   dfl_loss  Instances       Size\n"
     ]
    },
    {
     "name": "stderr",
     "output_type": "stream",
     "text": [
      "    87/5000        15G     0.6345     0.4347     0.8038        162        640: 100%|██████████| 10/10 [00:09<00:00,  1.00it/s]\n",
      "                 Class     Images  Instances      Box(P          R      mAP50  mAP50-95): 100%|██████████| 1/1 [00:00<00:00,  1.18it/s]"
     ]
    },
    {
     "name": "stdout",
     "output_type": "stream",
     "text": [
      "                   all        111        179      0.647       0.45      0.521      0.408\n"
     ]
    },
    {
     "name": "stderr",
     "output_type": "stream",
     "text": [
      "\n"
     ]
    },
    {
     "name": "stdout",
     "output_type": "stream",
     "text": [
      "\n",
      "      Epoch    GPU_mem   box_loss   cls_loss   dfl_loss  Instances       Size\n"
     ]
    },
    {
     "name": "stderr",
     "output_type": "stream",
     "text": [
      "    88/5000      15.3G      0.638     0.4386     0.8029        144        640: 100%|██████████| 10/10 [00:10<00:00,  1.02s/it]\n",
      "                 Class     Images  Instances      Box(P          R      mAP50  mAP50-95): 100%|██████████| 1/1 [00:00<00:00,  1.17it/s]"
     ]
    },
    {
     "name": "stdout",
     "output_type": "stream",
     "text": [
      "                   all        111        179      0.639      0.445      0.496      0.404\n"
     ]
    },
    {
     "name": "stderr",
     "output_type": "stream",
     "text": [
      "\n"
     ]
    },
    {
     "name": "stdout",
     "output_type": "stream",
     "text": [
      "\n",
      "      Epoch    GPU_mem   box_loss   cls_loss   dfl_loss  Instances       Size\n"
     ]
    },
    {
     "name": "stderr",
     "output_type": "stream",
     "text": [
      "    89/5000      15.3G     0.5948      0.422     0.7988        127        640: 100%|██████████| 10/10 [00:10<00:00,  1.01s/it]\n",
      "                 Class     Images  Instances      Box(P          R      mAP50  mAP50-95): 100%|██████████| 1/1 [00:00<00:00,  1.13it/s]"
     ]
    },
    {
     "name": "stdout",
     "output_type": "stream",
     "text": [
      "                   all        111        179      0.574      0.494      0.513      0.409\n"
     ]
    },
    {
     "name": "stderr",
     "output_type": "stream",
     "text": [
      "\n"
     ]
    },
    {
     "name": "stdout",
     "output_type": "stream",
     "text": [
      "\n",
      "      Epoch    GPU_mem   box_loss   cls_loss   dfl_loss  Instances       Size\n"
     ]
    },
    {
     "name": "stderr",
     "output_type": "stream",
     "text": [
      "    90/5000        15G     0.6362     0.4355     0.7968        165        640: 100%|██████████| 10/10 [00:10<00:00,  1.00s/it]\n",
      "                 Class     Images  Instances      Box(P          R      mAP50  mAP50-95): 100%|██████████| 1/1 [00:00<00:00,  1.18it/s]"
     ]
    },
    {
     "name": "stdout",
     "output_type": "stream",
     "text": [
      "                   all        111        179      0.481      0.537      0.497      0.399\n"
     ]
    },
    {
     "name": "stderr",
     "output_type": "stream",
     "text": [
      "\n"
     ]
    },
    {
     "name": "stdout",
     "output_type": "stream",
     "text": [
      "\n",
      "      Epoch    GPU_mem   box_loss   cls_loss   dfl_loss  Instances       Size\n"
     ]
    },
    {
     "name": "stderr",
     "output_type": "stream",
     "text": [
      "    91/5000      14.9G     0.6084     0.4259     0.8053        131        640: 100%|██████████| 10/10 [00:10<00:00,  1.00s/it]\n",
      "                 Class     Images  Instances      Box(P          R      mAP50  mAP50-95): 100%|██████████| 1/1 [00:00<00:00,  1.18it/s]"
     ]
    },
    {
     "name": "stdout",
     "output_type": "stream",
     "text": [
      "                   all        111        179      0.469      0.497      0.495      0.404\n"
     ]
    },
    {
     "name": "stderr",
     "output_type": "stream",
     "text": [
      "\n"
     ]
    },
    {
     "name": "stdout",
     "output_type": "stream",
     "text": [
      "\n",
      "      Epoch    GPU_mem   box_loss   cls_loss   dfl_loss  Instances       Size\n"
     ]
    },
    {
     "name": "stderr",
     "output_type": "stream",
     "text": [
      "    92/5000        15G     0.6288     0.4302     0.8032        152        640: 100%|██████████| 10/10 [00:10<00:00,  1.00s/it]\n",
      "                 Class     Images  Instances      Box(P          R      mAP50  mAP50-95): 100%|██████████| 1/1 [00:00<00:00,  1.17it/s]"
     ]
    },
    {
     "name": "stdout",
     "output_type": "stream",
     "text": [
      "                   all        111        179      0.531       0.48      0.519      0.411\n"
     ]
    },
    {
     "name": "stderr",
     "output_type": "stream",
     "text": [
      "\n"
     ]
    },
    {
     "name": "stdout",
     "output_type": "stream",
     "text": [
      "\n",
      "      Epoch    GPU_mem   box_loss   cls_loss   dfl_loss  Instances       Size\n"
     ]
    },
    {
     "name": "stderr",
     "output_type": "stream",
     "text": [
      "    93/5000      14.9G     0.6163     0.4305     0.8055        147        640: 100%|██████████| 10/10 [00:10<00:00,  1.00s/it]\n",
      "                 Class     Images  Instances      Box(P          R      mAP50  mAP50-95): 100%|██████████| 1/1 [00:00<00:00,  1.04it/s]"
     ]
    },
    {
     "name": "stdout",
     "output_type": "stream",
     "text": [
      "                   all        111        179      0.531      0.452      0.504      0.409\n"
     ]
    },
    {
     "name": "stderr",
     "output_type": "stream",
     "text": [
      "\n"
     ]
    },
    {
     "name": "stdout",
     "output_type": "stream",
     "text": [
      "\n",
      "      Epoch    GPU_mem   box_loss   cls_loss   dfl_loss  Instances       Size\n"
     ]
    },
    {
     "name": "stderr",
     "output_type": "stream",
     "text": [
      "    94/5000      15.2G     0.6005     0.4123     0.7929        153        640: 100%|██████████| 10/10 [00:10<00:00,  1.02s/it]\n",
      "                 Class     Images  Instances      Box(P          R      mAP50  mAP50-95): 100%|██████████| 1/1 [00:00<00:00,  1.13it/s]"
     ]
    },
    {
     "name": "stdout",
     "output_type": "stream",
     "text": [
      "                   all        111        179      0.574      0.493      0.547      0.448\n"
     ]
    },
    {
     "name": "stderr",
     "output_type": "stream",
     "text": [
      "\n"
     ]
    },
    {
     "name": "stdout",
     "output_type": "stream",
     "text": [
      "\n",
      "      Epoch    GPU_mem   box_loss   cls_loss   dfl_loss  Instances       Size\n"
     ]
    },
    {
     "name": "stderr",
     "output_type": "stream",
     "text": [
      "    95/5000      14.9G     0.6051     0.4238     0.7974        140        640: 100%|██████████| 10/10 [00:10<00:00,  1.01s/it]\n",
      "                 Class     Images  Instances      Box(P          R      mAP50  mAP50-95): 100%|██████████| 1/1 [00:00<00:00,  1.18it/s]"
     ]
    },
    {
     "name": "stdout",
     "output_type": "stream",
     "text": [
      "                   all        111        179      0.606      0.462       0.54      0.444\n"
     ]
    },
    {
     "name": "stderr",
     "output_type": "stream",
     "text": [
      "\n"
     ]
    },
    {
     "name": "stdout",
     "output_type": "stream",
     "text": [
      "\n",
      "      Epoch    GPU_mem   box_loss   cls_loss   dfl_loss  Instances       Size\n"
     ]
    },
    {
     "name": "stderr",
     "output_type": "stream",
     "text": [
      "    96/5000      15.3G     0.6139     0.4333     0.7948        140        640: 100%|██████████| 10/10 [00:10<00:00,  1.02s/it]\n",
      "                 Class     Images  Instances      Box(P          R      mAP50  mAP50-95): 100%|██████████| 1/1 [00:00<00:00,  1.10it/s]"
     ]
    },
    {
     "name": "stdout",
     "output_type": "stream",
     "text": [
      "                   all        111        179      0.638      0.499      0.537       0.44\n"
     ]
    },
    {
     "name": "stderr",
     "output_type": "stream",
     "text": [
      "\n"
     ]
    },
    {
     "name": "stdout",
     "output_type": "stream",
     "text": [
      "\n",
      "      Epoch    GPU_mem   box_loss   cls_loss   dfl_loss  Instances       Size\n"
     ]
    },
    {
     "name": "stderr",
     "output_type": "stream",
     "text": [
      "    97/5000      15.3G     0.6161     0.4282     0.8058        163        640: 100%|██████████| 10/10 [00:10<00:00,  1.02s/it]\n",
      "                 Class     Images  Instances      Box(P          R      mAP50  mAP50-95): 100%|██████████| 1/1 [00:00<00:00,  1.17it/s]"
     ]
    },
    {
     "name": "stdout",
     "output_type": "stream",
     "text": [
      "                   all        111        179      0.675      0.458      0.525      0.428\n"
     ]
    },
    {
     "name": "stderr",
     "output_type": "stream",
     "text": [
      "\n"
     ]
    },
    {
     "name": "stdout",
     "output_type": "stream",
     "text": [
      "\n",
      "      Epoch    GPU_mem   box_loss   cls_loss   dfl_loss  Instances       Size\n"
     ]
    },
    {
     "name": "stderr",
     "output_type": "stream",
     "text": [
      "    98/5000      14.9G     0.6059     0.4227     0.7921        133        640: 100%|██████████| 10/10 [00:10<00:00,  1.01s/it]\n",
      "                 Class     Images  Instances      Box(P          R      mAP50  mAP50-95): 100%|██████████| 1/1 [00:00<00:00,  1.18it/s]"
     ]
    },
    {
     "name": "stdout",
     "output_type": "stream",
     "text": [
      "                   all        111        179       0.58      0.431      0.518      0.426\n"
     ]
    },
    {
     "name": "stderr",
     "output_type": "stream",
     "text": [
      "\n"
     ]
    },
    {
     "name": "stdout",
     "output_type": "stream",
     "text": [
      "\n",
      "      Epoch    GPU_mem   box_loss   cls_loss   dfl_loss  Instances       Size\n"
     ]
    },
    {
     "name": "stderr",
     "output_type": "stream",
     "text": [
      "    99/5000      14.9G     0.5889     0.4094     0.7941        147        640: 100%|██████████| 10/10 [00:10<00:00,  1.01s/it]\n",
      "                 Class     Images  Instances      Box(P          R      mAP50  mAP50-95): 100%|██████████| 1/1 [00:00<00:00,  1.15it/s]"
     ]
    },
    {
     "name": "stdout",
     "output_type": "stream",
     "text": [
      "                   all        111        179      0.618      0.471      0.562      0.455\n"
     ]
    },
    {
     "name": "stderr",
     "output_type": "stream",
     "text": [
      "\n"
     ]
    },
    {
     "name": "stdout",
     "output_type": "stream",
     "text": [
      "\n",
      "      Epoch    GPU_mem   box_loss   cls_loss   dfl_loss  Instances       Size\n"
     ]
    },
    {
     "name": "stderr",
     "output_type": "stream",
     "text": [
      "   100/5000      14.9G        0.6     0.4119     0.7964        171        640: 100%|██████████| 10/10 [00:10<00:00,  1.01s/it]\n",
      "                 Class     Images  Instances      Box(P          R      mAP50  mAP50-95): 100%|██████████| 1/1 [00:00<00:00,  1.14it/s]"
     ]
    },
    {
     "name": "stdout",
     "output_type": "stream",
     "text": [
      "                   all        111        179      0.505      0.542      0.493      0.399\n"
     ]
    },
    {
     "name": "stderr",
     "output_type": "stream",
     "text": [
      "\n"
     ]
    },
    {
     "name": "stdout",
     "output_type": "stream",
     "text": [
      "\n",
      "      Epoch    GPU_mem   box_loss   cls_loss   dfl_loss  Instances       Size\n"
     ]
    },
    {
     "name": "stderr",
     "output_type": "stream",
     "text": [
      "   101/5000      14.9G     0.6246      0.419     0.7941        155        640: 100%|██████████| 10/10 [00:10<00:00,  1.00s/it]\n",
      "                 Class     Images  Instances      Box(P          R      mAP50  mAP50-95): 100%|██████████| 1/1 [00:00<00:00,  1.10it/s]"
     ]
    },
    {
     "name": "stdout",
     "output_type": "stream",
     "text": [
      "                   all        111        179      0.431      0.505      0.456      0.363\n"
     ]
    },
    {
     "name": "stderr",
     "output_type": "stream",
     "text": [
      "\n"
     ]
    },
    {
     "name": "stdout",
     "output_type": "stream",
     "text": [
      "\n",
      "      Epoch    GPU_mem   box_loss   cls_loss   dfl_loss  Instances       Size\n"
     ]
    },
    {
     "name": "stderr",
     "output_type": "stream",
     "text": [
      "   102/5000      15.3G     0.6062     0.4161     0.7936        145        640: 100%|██████████| 10/10 [00:10<00:00,  1.02s/it]\n",
      "                 Class     Images  Instances      Box(P          R      mAP50  mAP50-95): 100%|██████████| 1/1 [00:00<00:00,  1.17it/s]"
     ]
    },
    {
     "name": "stdout",
     "output_type": "stream",
     "text": [
      "                   all        111        179      0.742      0.368      0.485      0.385\n"
     ]
    },
    {
     "name": "stderr",
     "output_type": "stream",
     "text": [
      "\n"
     ]
    },
    {
     "name": "stdout",
     "output_type": "stream",
     "text": [
      "\n",
      "      Epoch    GPU_mem   box_loss   cls_loss   dfl_loss  Instances       Size\n"
     ]
    },
    {
     "name": "stderr",
     "output_type": "stream",
     "text": [
      "   103/5000      15.3G     0.5856     0.4117     0.7959        149        640: 100%|██████████| 10/10 [00:10<00:00,  1.02s/it]\n",
      "                 Class     Images  Instances      Box(P          R      mAP50  mAP50-95): 100%|██████████| 1/1 [00:00<00:00,  1.13it/s]"
     ]
    },
    {
     "name": "stdout",
     "output_type": "stream",
     "text": [
      "                   all        111        179      0.528      0.499      0.529      0.423\n"
     ]
    },
    {
     "name": "stderr",
     "output_type": "stream",
     "text": [
      "\n"
     ]
    },
    {
     "name": "stdout",
     "output_type": "stream",
     "text": [
      "\n",
      "      Epoch    GPU_mem   box_loss   cls_loss   dfl_loss  Instances       Size\n"
     ]
    },
    {
     "name": "stderr",
     "output_type": "stream",
     "text": [
      "   104/5000      15.3G     0.5898     0.4089     0.7969        156        640: 100%|██████████| 10/10 [00:10<00:00,  1.02s/it]\n",
      "                 Class     Images  Instances      Box(P          R      mAP50  mAP50-95): 100%|██████████| 1/1 [00:00<00:00,  1.18it/s]"
     ]
    },
    {
     "name": "stdout",
     "output_type": "stream",
     "text": [
      "                   all        111        179      0.534      0.458      0.512      0.411\n"
     ]
    },
    {
     "name": "stderr",
     "output_type": "stream",
     "text": [
      "\n"
     ]
    },
    {
     "name": "stdout",
     "output_type": "stream",
     "text": [
      "\n",
      "      Epoch    GPU_mem   box_loss   cls_loss   dfl_loss  Instances       Size\n"
     ]
    },
    {
     "name": "stderr",
     "output_type": "stream",
     "text": [
      "   105/5000      15.3G     0.6041     0.4142     0.8066        160        640: 100%|██████████| 10/10 [00:10<00:00,  1.02s/it]\n",
      "                 Class     Images  Instances      Box(P          R      mAP50  mAP50-95): 100%|██████████| 1/1 [00:00<00:00,  1.18it/s]"
     ]
    },
    {
     "name": "stdout",
     "output_type": "stream",
     "text": [
      "                   all        111        179      0.575      0.498      0.527      0.424\n"
     ]
    },
    {
     "name": "stderr",
     "output_type": "stream",
     "text": [
      "\n"
     ]
    },
    {
     "name": "stdout",
     "output_type": "stream",
     "text": [
      "\n",
      "      Epoch    GPU_mem   box_loss   cls_loss   dfl_loss  Instances       Size\n"
     ]
    },
    {
     "name": "stderr",
     "output_type": "stream",
     "text": [
      "   106/5000        15G     0.5752      0.406     0.7991        129        640: 100%|██████████| 10/10 [00:09<00:00,  1.00it/s]\n",
      "                 Class     Images  Instances      Box(P          R      mAP50  mAP50-95): 100%|██████████| 1/1 [00:00<00:00,  1.15it/s]"
     ]
    },
    {
     "name": "stdout",
     "output_type": "stream",
     "text": [
      "                   all        111        179      0.529      0.539       0.51      0.419\n"
     ]
    },
    {
     "name": "stderr",
     "output_type": "stream",
     "text": [
      "\n"
     ]
    },
    {
     "name": "stdout",
     "output_type": "stream",
     "text": [
      "\n",
      "      Epoch    GPU_mem   box_loss   cls_loss   dfl_loss  Instances       Size\n"
     ]
    },
    {
     "name": "stderr",
     "output_type": "stream",
     "text": [
      "   107/5000        15G     0.6057     0.4296     0.8035        182        640: 100%|██████████| 10/10 [00:10<00:00,  1.01s/it]\n",
      "                 Class     Images  Instances      Box(P          R      mAP50  mAP50-95): 100%|██████████| 1/1 [00:00<00:00,  1.16it/s]"
     ]
    },
    {
     "name": "stdout",
     "output_type": "stream",
     "text": [
      "                   all        111        179      0.611      0.504      0.537      0.435\n"
     ]
    },
    {
     "name": "stderr",
     "output_type": "stream",
     "text": [
      "\n"
     ]
    },
    {
     "name": "stdout",
     "output_type": "stream",
     "text": [
      "\n",
      "      Epoch    GPU_mem   box_loss   cls_loss   dfl_loss  Instances       Size\n"
     ]
    },
    {
     "name": "stderr",
     "output_type": "stream",
     "text": [
      "   108/5000      14.9G     0.5981     0.4047     0.7918        152        640: 100%|██████████| 10/10 [00:09<00:00,  1.00it/s]\n",
      "                 Class     Images  Instances      Box(P          R      mAP50  mAP50-95): 100%|██████████| 1/1 [00:00<00:00,  1.18it/s]"
     ]
    },
    {
     "name": "stdout",
     "output_type": "stream",
     "text": [
      "                   all        111        179      0.594      0.487      0.522      0.428\n"
     ]
    },
    {
     "name": "stderr",
     "output_type": "stream",
     "text": [
      "\n"
     ]
    },
    {
     "name": "stdout",
     "output_type": "stream",
     "text": [
      "\n",
      "      Epoch    GPU_mem   box_loss   cls_loss   dfl_loss  Instances       Size\n"
     ]
    },
    {
     "name": "stderr",
     "output_type": "stream",
     "text": [
      "   109/5000      15.6G     0.5891     0.4053     0.8048        151        640: 100%|██████████| 10/10 [00:10<00:00,  1.00s/it]\n",
      "                 Class     Images  Instances      Box(P          R      mAP50  mAP50-95): 100%|██████████| 1/1 [00:00<00:00,  1.04it/s]"
     ]
    },
    {
     "name": "stdout",
     "output_type": "stream",
     "text": [
      "                   all        111        179      0.479      0.561      0.532      0.428\n"
     ]
    },
    {
     "name": "stderr",
     "output_type": "stream",
     "text": [
      "\n"
     ]
    },
    {
     "name": "stdout",
     "output_type": "stream",
     "text": [
      "\n",
      "      Epoch    GPU_mem   box_loss   cls_loss   dfl_loss  Instances       Size\n"
     ]
    },
    {
     "name": "stderr",
     "output_type": "stream",
     "text": [
      "   110/5000      15.5G     0.5852     0.4161     0.7941        175        640: 100%|██████████| 10/10 [00:10<00:00,  1.00s/it]\n",
      "                 Class     Images  Instances      Box(P          R      mAP50  mAP50-95): 100%|██████████| 1/1 [00:00<00:00,  1.14it/s]"
     ]
    },
    {
     "name": "stdout",
     "output_type": "stream",
     "text": [
      "                   all        111        179      0.675      0.486      0.539      0.432\n"
     ]
    },
    {
     "name": "stderr",
     "output_type": "stream",
     "text": [
      "\n"
     ]
    },
    {
     "name": "stdout",
     "output_type": "stream",
     "text": [
      "\n",
      "      Epoch    GPU_mem   box_loss   cls_loss   dfl_loss  Instances       Size\n"
     ]
    },
    {
     "name": "stderr",
     "output_type": "stream",
     "text": [
      "   111/5000      15.2G       0.57     0.4003     0.7974        161        640: 100%|██████████| 10/10 [00:10<00:00,  1.02s/it]\n",
      "                 Class     Images  Instances      Box(P          R      mAP50  mAP50-95): 100%|██████████| 1/1 [00:00<00:00,  1.17it/s]"
     ]
    },
    {
     "name": "stdout",
     "output_type": "stream",
     "text": [
      "                   all        111        179      0.702      0.496      0.543      0.445\n"
     ]
    },
    {
     "name": "stderr",
     "output_type": "stream",
     "text": [
      "\n"
     ]
    },
    {
     "name": "stdout",
     "output_type": "stream",
     "text": [
      "\n",
      "      Epoch    GPU_mem   box_loss   cls_loss   dfl_loss  Instances       Size\n"
     ]
    },
    {
     "name": "stderr",
     "output_type": "stream",
     "text": [
      "   112/5000      15.4G     0.5906     0.4041     0.8014        158        640: 100%|██████████| 10/10 [00:10<00:00,  1.02s/it]\n",
      "                 Class     Images  Instances      Box(P          R      mAP50  mAP50-95): 100%|██████████| 1/1 [00:00<00:00,  1.16it/s]"
     ]
    },
    {
     "name": "stdout",
     "output_type": "stream",
     "text": [
      "                   all        111        179      0.559      0.516      0.526      0.419\n"
     ]
    },
    {
     "name": "stderr",
     "output_type": "stream",
     "text": [
      "\n"
     ]
    },
    {
     "name": "stdout",
     "output_type": "stream",
     "text": [
      "\n",
      "      Epoch    GPU_mem   box_loss   cls_loss   dfl_loss  Instances       Size\n"
     ]
    },
    {
     "name": "stderr",
     "output_type": "stream",
     "text": [
      "   113/5000      15.3G     0.5731     0.3946     0.7933        152        640: 100%|██████████| 10/10 [00:10<00:00,  1.01s/it]\n",
      "                 Class     Images  Instances      Box(P          R      mAP50  mAP50-95): 100%|██████████| 1/1 [00:00<00:00,  1.15it/s]"
     ]
    },
    {
     "name": "stdout",
     "output_type": "stream",
     "text": [
      "                   all        111        179      0.569      0.488      0.531      0.436\n"
     ]
    },
    {
     "name": "stderr",
     "output_type": "stream",
     "text": [
      "\n"
     ]
    },
    {
     "name": "stdout",
     "output_type": "stream",
     "text": [
      "\n",
      "      Epoch    GPU_mem   box_loss   cls_loss   dfl_loss  Instances       Size\n"
     ]
    },
    {
     "name": "stderr",
     "output_type": "stream",
     "text": [
      "   114/5000      15.2G     0.5669     0.3962     0.7954        168        640: 100%|██████████| 10/10 [00:10<00:00,  1.02s/it]\n",
      "                 Class     Images  Instances      Box(P          R      mAP50  mAP50-95): 100%|██████████| 1/1 [00:00<00:00,  1.18it/s]"
     ]
    },
    {
     "name": "stdout",
     "output_type": "stream",
     "text": [
      "                   all        111        179      0.545      0.532      0.517       0.41\n"
     ]
    },
    {
     "name": "stderr",
     "output_type": "stream",
     "text": [
      "\n"
     ]
    },
    {
     "name": "stdout",
     "output_type": "stream",
     "text": [
      "\n",
      "      Epoch    GPU_mem   box_loss   cls_loss   dfl_loss  Instances       Size\n"
     ]
    },
    {
     "name": "stderr",
     "output_type": "stream",
     "text": [
      "   115/5000      14.9G     0.5655     0.3972     0.7913        180        640: 100%|██████████| 10/10 [00:09<00:00,  1.00it/s]\n",
      "                 Class     Images  Instances      Box(P          R      mAP50  mAP50-95): 100%|██████████| 1/1 [00:00<00:00,  1.17it/s]"
     ]
    },
    {
     "name": "stdout",
     "output_type": "stream",
     "text": [
      "                   all        111        179      0.526      0.558      0.545      0.437\n"
     ]
    },
    {
     "name": "stderr",
     "output_type": "stream",
     "text": [
      "\n"
     ]
    },
    {
     "name": "stdout",
     "output_type": "stream",
     "text": [
      "\n",
      "      Epoch    GPU_mem   box_loss   cls_loss   dfl_loss  Instances       Size\n"
     ]
    },
    {
     "name": "stderr",
     "output_type": "stream",
     "text": [
      "   116/5000        15G       0.57     0.3874     0.7921        142        640: 100%|██████████| 10/10 [00:09<00:00,  1.00it/s]\n",
      "                 Class     Images  Instances      Box(P          R      mAP50  mAP50-95): 100%|██████████| 1/1 [00:00<00:00,  1.17it/s]"
     ]
    },
    {
     "name": "stdout",
     "output_type": "stream",
     "text": [
      "                   all        111        179      0.783      0.425      0.576      0.464\n"
     ]
    },
    {
     "name": "stderr",
     "output_type": "stream",
     "text": [
      "\n"
     ]
    },
    {
     "name": "stdout",
     "output_type": "stream",
     "text": [
      "\n",
      "      Epoch    GPU_mem   box_loss   cls_loss   dfl_loss  Instances       Size\n"
     ]
    },
    {
     "name": "stderr",
     "output_type": "stream",
     "text": [
      "   117/5000      15.6G     0.5765     0.3864     0.7995        141        640: 100%|██████████| 10/10 [00:09<00:00,  1.00it/s]\n",
      "                 Class     Images  Instances      Box(P          R      mAP50  mAP50-95): 100%|██████████| 1/1 [00:01<00:00,  1.07s/it]"
     ]
    },
    {
     "name": "stdout",
     "output_type": "stream",
     "text": [
      "                   all        111        179      0.737      0.425      0.527      0.424\n"
     ]
    },
    {
     "name": "stderr",
     "output_type": "stream",
     "text": [
      "\n"
     ]
    },
    {
     "name": "stdout",
     "output_type": "stream",
     "text": [
      "\n",
      "      Epoch    GPU_mem   box_loss   cls_loss   dfl_loss  Instances       Size\n"
     ]
    },
    {
     "name": "stderr",
     "output_type": "stream",
     "text": [
      "   118/5000        15G     0.5541     0.3886     0.7876        143        640: 100%|██████████| 10/10 [00:09<00:00,  1.00it/s]\n",
      "                 Class     Images  Instances      Box(P          R      mAP50  mAP50-95): 100%|██████████| 1/1 [00:00<00:00,  1.16it/s]"
     ]
    },
    {
     "name": "stdout",
     "output_type": "stream",
     "text": [
      "                   all        111        179       0.73      0.433      0.496      0.397\n"
     ]
    },
    {
     "name": "stderr",
     "output_type": "stream",
     "text": [
      "\n"
     ]
    },
    {
     "name": "stdout",
     "output_type": "stream",
     "text": [
      "\n",
      "      Epoch    GPU_mem   box_loss   cls_loss   dfl_loss  Instances       Size\n"
     ]
    },
    {
     "name": "stderr",
     "output_type": "stream",
     "text": [
      "   119/5000      15.3G     0.5473     0.3793     0.7951        164        640: 100%|██████████| 10/10 [00:10<00:00,  1.02s/it]\n",
      "                 Class     Images  Instances      Box(P          R      mAP50  mAP50-95): 100%|██████████| 1/1 [00:00<00:00,  1.13it/s]"
     ]
    },
    {
     "name": "stdout",
     "output_type": "stream",
     "text": [
      "                   all        111        179       0.69      0.455       0.53       0.43\n"
     ]
    },
    {
     "name": "stderr",
     "output_type": "stream",
     "text": [
      "\n"
     ]
    },
    {
     "name": "stdout",
     "output_type": "stream",
     "text": [
      "\n",
      "      Epoch    GPU_mem   box_loss   cls_loss   dfl_loss  Instances       Size\n"
     ]
    },
    {
     "name": "stderr",
     "output_type": "stream",
     "text": [
      "   120/5000      15.3G     0.5589     0.3796     0.7935        145        640: 100%|██████████| 10/10 [00:10<00:00,  1.02s/it]\n",
      "                 Class     Images  Instances      Box(P          R      mAP50  mAP50-95): 100%|██████████| 1/1 [00:00<00:00,  1.13it/s]"
     ]
    },
    {
     "name": "stdout",
     "output_type": "stream",
     "text": [
      "                   all        111        179      0.738      0.483      0.548      0.457\n"
     ]
    },
    {
     "name": "stderr",
     "output_type": "stream",
     "text": [
      "\n"
     ]
    },
    {
     "name": "stdout",
     "output_type": "stream",
     "text": [
      "\n",
      "      Epoch    GPU_mem   box_loss   cls_loss   dfl_loss  Instances       Size\n"
     ]
    },
    {
     "name": "stderr",
     "output_type": "stream",
     "text": [
      "   121/5000      15.3G     0.5543     0.3843     0.8013        176        640: 100%|██████████| 10/10 [00:10<00:00,  1.02s/it]\n",
      "                 Class     Images  Instances      Box(P          R      mAP50  mAP50-95): 100%|██████████| 1/1 [00:00<00:00,  1.13it/s]"
     ]
    },
    {
     "name": "stdout",
     "output_type": "stream",
     "text": [
      "                   all        111        179      0.535      0.551       0.57      0.465\n"
     ]
    },
    {
     "name": "stderr",
     "output_type": "stream",
     "text": [
      "\n"
     ]
    },
    {
     "name": "stdout",
     "output_type": "stream",
     "text": [
      "\n",
      "      Epoch    GPU_mem   box_loss   cls_loss   dfl_loss  Instances       Size\n"
     ]
    },
    {
     "name": "stderr",
     "output_type": "stream",
     "text": [
      "   122/5000      14.9G     0.5327     0.3716     0.7926        140        640: 100%|██████████| 10/10 [00:10<00:00,  1.00s/it]\n",
      "                 Class     Images  Instances      Box(P          R      mAP50  mAP50-95): 100%|██████████| 1/1 [00:00<00:00,  1.14it/s]"
     ]
    },
    {
     "name": "stdout",
     "output_type": "stream",
     "text": [
      "                   all        111        179      0.589      0.561      0.565       0.46\n"
     ]
    },
    {
     "name": "stderr",
     "output_type": "stream",
     "text": [
      "\n"
     ]
    },
    {
     "name": "stdout",
     "output_type": "stream",
     "text": [
      "\n",
      "      Epoch    GPU_mem   box_loss   cls_loss   dfl_loss  Instances       Size\n"
     ]
    },
    {
     "name": "stderr",
     "output_type": "stream",
     "text": [
      "   123/5000      14.9G     0.5232     0.3741     0.7955        154        640: 100%|██████████| 10/10 [00:10<00:00,  1.00s/it]\n",
      "                 Class     Images  Instances      Box(P          R      mAP50  mAP50-95): 100%|██████████| 1/1 [00:00<00:00,  1.17it/s]"
     ]
    },
    {
     "name": "stdout",
     "output_type": "stream",
     "text": [
      "                   all        111        179        0.7      0.486      0.556      0.446\n"
     ]
    },
    {
     "name": "stderr",
     "output_type": "stream",
     "text": [
      "\n"
     ]
    },
    {
     "name": "stdout",
     "output_type": "stream",
     "text": [
      "\n",
      "      Epoch    GPU_mem   box_loss   cls_loss   dfl_loss  Instances       Size\n"
     ]
    },
    {
     "name": "stderr",
     "output_type": "stream",
     "text": [
      "   124/5000        15G     0.5343      0.369     0.7955        133        640: 100%|██████████| 10/10 [00:10<00:00,  1.00s/it]\n",
      "                 Class     Images  Instances      Box(P          R      mAP50  mAP50-95): 100%|██████████| 1/1 [00:00<00:00,  1.16it/s]"
     ]
    },
    {
     "name": "stdout",
     "output_type": "stream",
     "text": [
      "                   all        111        179      0.779      0.502      0.559      0.447\n"
     ]
    },
    {
     "name": "stderr",
     "output_type": "stream",
     "text": [
      "\n"
     ]
    },
    {
     "name": "stdout",
     "output_type": "stream",
     "text": [
      "\n",
      "      Epoch    GPU_mem   box_loss   cls_loss   dfl_loss  Instances       Size\n"
     ]
    },
    {
     "name": "stderr",
     "output_type": "stream",
     "text": [
      "   125/5000      14.9G     0.5324     0.3675     0.7971        137        640: 100%|██████████| 10/10 [00:09<00:00,  1.00it/s]\n",
      "                 Class     Images  Instances      Box(P          R      mAP50  mAP50-95): 100%|██████████| 1/1 [00:00<00:00,  1.02it/s]"
     ]
    },
    {
     "name": "stdout",
     "output_type": "stream",
     "text": [
      "                   all        111        179       0.56       0.56      0.544      0.447\n"
     ]
    },
    {
     "name": "stderr",
     "output_type": "stream",
     "text": [
      "\n"
     ]
    },
    {
     "name": "stdout",
     "output_type": "stream",
     "text": [
      "\n",
      "      Epoch    GPU_mem   box_loss   cls_loss   dfl_loss  Instances       Size\n"
     ]
    },
    {
     "name": "stderr",
     "output_type": "stream",
     "text": [
      "   126/5000      15.3G       0.54     0.3838     0.7923        176        640: 100%|██████████| 10/10 [00:10<00:00,  1.02s/it]\n",
      "                 Class     Images  Instances      Box(P          R      mAP50  mAP50-95): 100%|██████████| 1/1 [00:00<00:00,  1.17it/s]"
     ]
    },
    {
     "name": "stdout",
     "output_type": "stream",
     "text": [
      "                   all        111        179      0.549      0.549      0.518      0.427\n"
     ]
    },
    {
     "name": "stderr",
     "output_type": "stream",
     "text": [
      "\n"
     ]
    },
    {
     "name": "stdout",
     "output_type": "stream",
     "text": [
      "\n",
      "      Epoch    GPU_mem   box_loss   cls_loss   dfl_loss  Instances       Size\n"
     ]
    },
    {
     "name": "stderr",
     "output_type": "stream",
     "text": [
      "   127/5000        15G     0.5383     0.3794     0.8008        148        640: 100%|██████████| 10/10 [00:10<00:00,  1.00s/it]\n",
      "                 Class     Images  Instances      Box(P          R      mAP50  mAP50-95): 100%|██████████| 1/1 [00:00<00:00,  1.18it/s]"
     ]
    },
    {
     "name": "stdout",
     "output_type": "stream",
     "text": [
      "                   all        111        179      0.543      0.543      0.537      0.436\n"
     ]
    },
    {
     "name": "stderr",
     "output_type": "stream",
     "text": [
      "\n"
     ]
    },
    {
     "name": "stdout",
     "output_type": "stream",
     "text": [
      "\n",
      "      Epoch    GPU_mem   box_loss   cls_loss   dfl_loss  Instances       Size\n"
     ]
    },
    {
     "name": "stderr",
     "output_type": "stream",
     "text": [
      "   128/5000      15.2G     0.5275     0.3842     0.7924        149        640: 100%|██████████| 10/10 [00:10<00:00,  1.03s/it]\n",
      "                 Class     Images  Instances      Box(P          R      mAP50  mAP50-95): 100%|██████████| 1/1 [00:00<00:00,  1.14it/s]"
     ]
    },
    {
     "name": "stdout",
     "output_type": "stream",
     "text": [
      "                   all        111        179      0.672       0.47      0.527      0.422\n"
     ]
    },
    {
     "name": "stderr",
     "output_type": "stream",
     "text": [
      "\n"
     ]
    },
    {
     "name": "stdout",
     "output_type": "stream",
     "text": [
      "\n",
      "      Epoch    GPU_mem   box_loss   cls_loss   dfl_loss  Instances       Size\n"
     ]
    },
    {
     "name": "stderr",
     "output_type": "stream",
     "text": [
      "   129/5000      15.3G     0.5465     0.3763     0.7907        151        640: 100%|██████████| 10/10 [00:10<00:00,  1.02s/it]\n",
      "                 Class     Images  Instances      Box(P          R      mAP50  mAP50-95): 100%|██████████| 1/1 [00:00<00:00,  1.16it/s]"
     ]
    },
    {
     "name": "stdout",
     "output_type": "stream",
     "text": [
      "                   all        111        179      0.634      0.525      0.515      0.414\n"
     ]
    },
    {
     "name": "stderr",
     "output_type": "stream",
     "text": [
      "\n"
     ]
    },
    {
     "name": "stdout",
     "output_type": "stream",
     "text": [
      "\n",
      "      Epoch    GPU_mem   box_loss   cls_loss   dfl_loss  Instances       Size\n"
     ]
    },
    {
     "name": "stderr",
     "output_type": "stream",
     "text": [
      "   130/5000      15.3G     0.5452     0.3728     0.7974        143        640: 100%|██████████| 10/10 [00:10<00:00,  1.02s/it]\n",
      "                 Class     Images  Instances      Box(P          R      mAP50  mAP50-95): 100%|██████████| 1/1 [00:00<00:00,  1.13it/s]"
     ]
    },
    {
     "name": "stdout",
     "output_type": "stream",
     "text": [
      "                   all        111        179      0.556      0.571      0.547      0.446\n"
     ]
    },
    {
     "name": "stderr",
     "output_type": "stream",
     "text": [
      "\n"
     ]
    },
    {
     "name": "stdout",
     "output_type": "stream",
     "text": [
      "\n",
      "      Epoch    GPU_mem   box_loss   cls_loss   dfl_loss  Instances       Size\n"
     ]
    },
    {
     "name": "stderr",
     "output_type": "stream",
     "text": [
      "   131/5000      14.9G     0.5455     0.3621     0.7911        145        640: 100%|██████████| 10/10 [00:10<00:00,  1.00s/it]\n",
      "                 Class     Images  Instances      Box(P          R      mAP50  mAP50-95): 100%|██████████| 1/1 [00:00<00:00,  1.18it/s]"
     ]
    },
    {
     "name": "stdout",
     "output_type": "stream",
     "text": [
      "                   all        111        179      0.643      0.497      0.513       0.42\n"
     ]
    },
    {
     "name": "stderr",
     "output_type": "stream",
     "text": [
      "\n"
     ]
    },
    {
     "name": "stdout",
     "output_type": "stream",
     "text": [
      "\n",
      "      Epoch    GPU_mem   box_loss   cls_loss   dfl_loss  Instances       Size\n"
     ]
    },
    {
     "name": "stderr",
     "output_type": "stream",
     "text": [
      "   132/5000        15G     0.5474     0.3785     0.7858        177        640: 100%|██████████| 10/10 [00:09<00:00,  1.00it/s]\n",
      "                 Class     Images  Instances      Box(P          R      mAP50  mAP50-95): 100%|██████████| 1/1 [00:00<00:00,  1.17it/s]"
     ]
    },
    {
     "name": "stdout",
     "output_type": "stream",
     "text": [
      "                   all        111        179       0.64      0.544      0.547       0.44\n"
     ]
    },
    {
     "name": "stderr",
     "output_type": "stream",
     "text": [
      "\n"
     ]
    },
    {
     "name": "stdout",
     "output_type": "stream",
     "text": [
      "\n",
      "      Epoch    GPU_mem   box_loss   cls_loss   dfl_loss  Instances       Size\n"
     ]
    },
    {
     "name": "stderr",
     "output_type": "stream",
     "text": [
      "   133/5000      15.3G     0.5458     0.3794     0.7892        177        640: 100%|██████████| 10/10 [00:10<00:00,  1.02s/it]\n",
      "                 Class     Images  Instances      Box(P          R      mAP50  mAP50-95): 100%|██████████| 1/1 [00:00<00:00,  1.14it/s]"
     ]
    },
    {
     "name": "stdout",
     "output_type": "stream",
     "text": [
      "                   all        111        179       0.63      0.574      0.593      0.486\n"
     ]
    },
    {
     "name": "stderr",
     "output_type": "stream",
     "text": [
      "\n"
     ]
    },
    {
     "name": "stdout",
     "output_type": "stream",
     "text": [
      "\n",
      "      Epoch    GPU_mem   box_loss   cls_loss   dfl_loss  Instances       Size\n"
     ]
    },
    {
     "name": "stderr",
     "output_type": "stream",
     "text": [
      "   134/5000      14.9G     0.5244     0.3694     0.7892        132        640: 100%|██████████| 10/10 [00:09<00:00,  1.00it/s]\n",
      "                 Class     Images  Instances      Box(P          R      mAP50  mAP50-95): 100%|██████████| 1/1 [00:00<00:00,  1.16it/s]"
     ]
    },
    {
     "name": "stdout",
     "output_type": "stream",
     "text": [
      "                   all        111        179      0.621      0.524       0.58      0.471\n"
     ]
    },
    {
     "name": "stderr",
     "output_type": "stream",
     "text": [
      "\n"
     ]
    },
    {
     "name": "stdout",
     "output_type": "stream",
     "text": [
      "\n",
      "      Epoch    GPU_mem   box_loss   cls_loss   dfl_loss  Instances       Size\n"
     ]
    },
    {
     "name": "stderr",
     "output_type": "stream",
     "text": [
      "   135/5000      14.9G     0.5359     0.3685      0.789        166        640: 100%|██████████| 10/10 [00:10<00:00,  1.00s/it]\n",
      "                 Class     Images  Instances      Box(P          R      mAP50  mAP50-95): 100%|██████████| 1/1 [00:00<00:00,  1.17it/s]"
     ]
    },
    {
     "name": "stdout",
     "output_type": "stream",
     "text": [
      "                   all        111        179      0.589      0.555      0.558      0.446\n"
     ]
    },
    {
     "name": "stderr",
     "output_type": "stream",
     "text": [
      "\n"
     ]
    },
    {
     "name": "stdout",
     "output_type": "stream",
     "text": [
      "\n",
      "      Epoch    GPU_mem   box_loss   cls_loss   dfl_loss  Instances       Size\n"
     ]
    },
    {
     "name": "stderr",
     "output_type": "stream",
     "text": [
      "   136/5000      15.3G     0.5383     0.3667     0.7875        150        640: 100%|██████████| 10/10 [00:10<00:00,  1.03s/it]\n",
      "                 Class     Images  Instances      Box(P          R      mAP50  mAP50-95): 100%|██████████| 1/1 [00:00<00:00,  1.17it/s]"
     ]
    },
    {
     "name": "stdout",
     "output_type": "stream",
     "text": [
      "                   all        111        179      0.571      0.511      0.541      0.436\n"
     ]
    },
    {
     "name": "stderr",
     "output_type": "stream",
     "text": [
      "\n"
     ]
    },
    {
     "name": "stdout",
     "output_type": "stream",
     "text": [
      "\n",
      "      Epoch    GPU_mem   box_loss   cls_loss   dfl_loss  Instances       Size\n"
     ]
    },
    {
     "name": "stderr",
     "output_type": "stream",
     "text": [
      "   137/5000      15.2G     0.5412     0.3586     0.7878        142        640: 100%|██████████| 10/10 [00:10<00:00,  1.02s/it]\n",
      "                 Class     Images  Instances      Box(P          R      mAP50  mAP50-95): 100%|██████████| 1/1 [00:00<00:00,  1.16it/s]"
     ]
    },
    {
     "name": "stdout",
     "output_type": "stream",
     "text": [
      "                   all        111        179      0.562      0.539      0.532       0.42\n"
     ]
    },
    {
     "name": "stderr",
     "output_type": "stream",
     "text": [
      "\n"
     ]
    },
    {
     "name": "stdout",
     "output_type": "stream",
     "text": [
      "\n",
      "      Epoch    GPU_mem   box_loss   cls_loss   dfl_loss  Instances       Size\n"
     ]
    },
    {
     "name": "stderr",
     "output_type": "stream",
     "text": [
      "   138/5000        15G     0.5476     0.3699     0.7904        149        640: 100%|██████████| 10/10 [00:09<00:00,  1.00it/s]\n",
      "                 Class     Images  Instances      Box(P          R      mAP50  mAP50-95): 100%|██████████| 1/1 [00:00<00:00,  1.13it/s]"
     ]
    },
    {
     "name": "stdout",
     "output_type": "stream",
     "text": [
      "                   all        111        179        0.7      0.441      0.509      0.417\n"
     ]
    },
    {
     "name": "stderr",
     "output_type": "stream",
     "text": [
      "\n"
     ]
    },
    {
     "name": "stdout",
     "output_type": "stream",
     "text": [
      "\n",
      "      Epoch    GPU_mem   box_loss   cls_loss   dfl_loss  Instances       Size\n"
     ]
    },
    {
     "name": "stderr",
     "output_type": "stream",
     "text": [
      "   139/5000      14.9G     0.5127     0.3428     0.7841        147        640: 100%|██████████| 10/10 [00:10<00:00,  1.00s/it]\n",
      "                 Class     Images  Instances      Box(P          R      mAP50  mAP50-95): 100%|██████████| 1/1 [00:00<00:00,  1.18it/s]"
     ]
    },
    {
     "name": "stdout",
     "output_type": "stream",
     "text": [
      "                   all        111        179       0.64      0.431      0.523      0.422\n"
     ]
    },
    {
     "name": "stderr",
     "output_type": "stream",
     "text": [
      "\n"
     ]
    },
    {
     "name": "stdout",
     "output_type": "stream",
     "text": [
      "\n",
      "      Epoch    GPU_mem   box_loss   cls_loss   dfl_loss  Instances       Size\n"
     ]
    },
    {
     "name": "stderr",
     "output_type": "stream",
     "text": [
      "   140/5000      14.9G     0.5342     0.3622     0.7844        152        640: 100%|██████████| 10/10 [00:10<00:00,  1.00s/it]\n",
      "                 Class     Images  Instances      Box(P          R      mAP50  mAP50-95): 100%|██████████| 1/1 [00:00<00:00,  1.15it/s]"
     ]
    },
    {
     "name": "stdout",
     "output_type": "stream",
     "text": [
      "                   all        111        179      0.612      0.522      0.538      0.432\n"
     ]
    },
    {
     "name": "stderr",
     "output_type": "stream",
     "text": [
      "\n"
     ]
    },
    {
     "name": "stdout",
     "output_type": "stream",
     "text": [
      "\n",
      "      Epoch    GPU_mem   box_loss   cls_loss   dfl_loss  Instances       Size\n"
     ]
    },
    {
     "name": "stderr",
     "output_type": "stream",
     "text": [
      "   141/5000      14.9G     0.5265     0.3694     0.7901        150        640: 100%|██████████| 10/10 [00:10<00:00,  1.00s/it]\n",
      "                 Class     Images  Instances      Box(P          R      mAP50  mAP50-95): 100%|██████████| 1/1 [00:00<00:00,  1.02it/s]"
     ]
    },
    {
     "name": "stdout",
     "output_type": "stream",
     "text": [
      "                   all        111        179      0.591      0.519      0.524      0.418\n"
     ]
    },
    {
     "name": "stderr",
     "output_type": "stream",
     "text": [
      "\n"
     ]
    },
    {
     "name": "stdout",
     "output_type": "stream",
     "text": [
      "\n",
      "      Epoch    GPU_mem   box_loss   cls_loss   dfl_loss  Instances       Size\n"
     ]
    },
    {
     "name": "stderr",
     "output_type": "stream",
     "text": [
      "   142/5000      15.3G     0.5194     0.3541     0.7918        104        640: 100%|██████████| 10/10 [00:10<00:00,  1.02s/it]\n",
      "                 Class     Images  Instances      Box(P          R      mAP50  mAP50-95): 100%|██████████| 1/1 [00:00<00:00,  1.15it/s]"
     ]
    },
    {
     "name": "stdout",
     "output_type": "stream",
     "text": [
      "                   all        111        179      0.552      0.531      0.557      0.452\n"
     ]
    },
    {
     "name": "stderr",
     "output_type": "stream",
     "text": [
      "\n"
     ]
    },
    {
     "name": "stdout",
     "output_type": "stream",
     "text": [
      "\n",
      "      Epoch    GPU_mem   box_loss   cls_loss   dfl_loss  Instances       Size\n"
     ]
    },
    {
     "name": "stderr",
     "output_type": "stream",
     "text": [
      "   143/5000      15.2G      0.546     0.3671     0.7885        146        640: 100%|██████████| 10/10 [00:10<00:00,  1.01s/it]\n",
      "                 Class     Images  Instances      Box(P          R      mAP50  mAP50-95): 100%|██████████| 1/1 [00:00<00:00,  1.14it/s]"
     ]
    },
    {
     "name": "stdout",
     "output_type": "stream",
     "text": [
      "                   all        111        179      0.614      0.524      0.547      0.439\n"
     ]
    },
    {
     "name": "stderr",
     "output_type": "stream",
     "text": [
      "\n"
     ]
    },
    {
     "name": "stdout",
     "output_type": "stream",
     "text": [
      "\n",
      "      Epoch    GPU_mem   box_loss   cls_loss   dfl_loss  Instances       Size\n"
     ]
    },
    {
     "name": "stderr",
     "output_type": "stream",
     "text": [
      "   144/5000      15.3G     0.5289     0.3534     0.7892        163        640: 100%|██████████| 10/10 [00:10<00:00,  1.03s/it]\n",
      "                 Class     Images  Instances      Box(P          R      mAP50  mAP50-95): 100%|██████████| 1/1 [00:00<00:00,  1.13it/s]"
     ]
    },
    {
     "name": "stdout",
     "output_type": "stream",
     "text": [
      "                   all        111        179      0.512      0.537      0.515      0.415\n"
     ]
    },
    {
     "name": "stderr",
     "output_type": "stream",
     "text": [
      "\n"
     ]
    },
    {
     "name": "stdout",
     "output_type": "stream",
     "text": [
      "\n",
      "      Epoch    GPU_mem   box_loss   cls_loss   dfl_loss  Instances       Size\n"
     ]
    },
    {
     "name": "stderr",
     "output_type": "stream",
     "text": [
      "   145/5000      15.3G     0.5414     0.3625     0.7902        156        640: 100%|██████████| 10/10 [00:10<00:00,  1.02s/it]\n",
      "                 Class     Images  Instances      Box(P          R      mAP50  mAP50-95): 100%|██████████| 1/1 [00:00<00:00,  1.14it/s]"
     ]
    },
    {
     "name": "stdout",
     "output_type": "stream",
     "text": [
      "                   all        111        179      0.578      0.552      0.546      0.442\n"
     ]
    },
    {
     "name": "stderr",
     "output_type": "stream",
     "text": [
      "\n"
     ]
    },
    {
     "name": "stdout",
     "output_type": "stream",
     "text": [
      "\n",
      "      Epoch    GPU_mem   box_loss   cls_loss   dfl_loss  Instances       Size\n"
     ]
    },
    {
     "name": "stderr",
     "output_type": "stream",
     "text": [
      "   146/5000        15G     0.5389     0.3611     0.7926        145        640: 100%|██████████| 10/10 [00:10<00:00,  1.00s/it]\n",
      "                 Class     Images  Instances      Box(P          R      mAP50  mAP50-95): 100%|██████████| 1/1 [00:00<00:00,  1.15it/s]"
     ]
    },
    {
     "name": "stdout",
     "output_type": "stream",
     "text": [
      "                   all        111        179      0.673       0.51      0.554      0.443\n"
     ]
    },
    {
     "name": "stderr",
     "output_type": "stream",
     "text": [
      "\n"
     ]
    },
    {
     "name": "stdout",
     "output_type": "stream",
     "text": [
      "\n",
      "      Epoch    GPU_mem   box_loss   cls_loss   dfl_loss  Instances       Size\n"
     ]
    },
    {
     "name": "stderr",
     "output_type": "stream",
     "text": [
      "   147/5000      14.9G     0.5113     0.3583      0.786        163        640: 100%|██████████| 10/10 [00:09<00:00,  1.00it/s]\n",
      "                 Class     Images  Instances      Box(P          R      mAP50  mAP50-95): 100%|██████████| 1/1 [00:00<00:00,  1.18it/s]"
     ]
    },
    {
     "name": "stdout",
     "output_type": "stream",
     "text": [
      "                   all        111        179      0.529      0.586       0.54      0.441\n"
     ]
    },
    {
     "name": "stderr",
     "output_type": "stream",
     "text": [
      "\n"
     ]
    },
    {
     "name": "stdout",
     "output_type": "stream",
     "text": [
      "\n",
      "      Epoch    GPU_mem   box_loss   cls_loss   dfl_loss  Instances       Size\n"
     ]
    },
    {
     "name": "stderr",
     "output_type": "stream",
     "text": [
      "   148/5000      14.9G     0.5052     0.3467      0.796        135        640: 100%|██████████| 10/10 [00:10<00:00,  1.00s/it]\n",
      "                 Class     Images  Instances      Box(P          R      mAP50  mAP50-95): 100%|██████████| 1/1 [00:00<00:00,  1.09it/s]"
     ]
    },
    {
     "name": "stdout",
     "output_type": "stream",
     "text": [
      "                   all        111        179      0.576      0.567      0.548      0.438\n"
     ]
    },
    {
     "name": "stderr",
     "output_type": "stream",
     "text": [
      "\n"
     ]
    },
    {
     "name": "stdout",
     "output_type": "stream",
     "text": [
      "\n",
      "      Epoch    GPU_mem   box_loss   cls_loss   dfl_loss  Instances       Size\n"
     ]
    },
    {
     "name": "stderr",
     "output_type": "stream",
     "text": [
      "   149/5000        15G     0.5175     0.3507     0.7861        181        640: 100%|██████████| 10/10 [00:10<00:00,  1.00s/it]\n",
      "                 Class     Images  Instances      Box(P          R      mAP50  mAP50-95): 100%|██████████| 1/1 [00:00<00:00,  1.01it/s]"
     ]
    },
    {
     "name": "stdout",
     "output_type": "stream",
     "text": [
      "                   all        111        179      0.593       0.53      0.542      0.438\n"
     ]
    },
    {
     "name": "stderr",
     "output_type": "stream",
     "text": [
      "\n"
     ]
    },
    {
     "name": "stdout",
     "output_type": "stream",
     "text": [
      "\n",
      "      Epoch    GPU_mem   box_loss   cls_loss   dfl_loss  Instances       Size\n"
     ]
    },
    {
     "name": "stderr",
     "output_type": "stream",
     "text": [
      "   150/5000      15.3G     0.5284      0.348     0.7815        159        640: 100%|██████████| 10/10 [00:10<00:00,  1.02s/it]\n",
      "                 Class     Images  Instances      Box(P          R      mAP50  mAP50-95): 100%|██████████| 1/1 [00:00<00:00,  1.18it/s]"
     ]
    },
    {
     "name": "stdout",
     "output_type": "stream",
     "text": [
      "                   all        111        179      0.697      0.478      0.523      0.427\n"
     ]
    },
    {
     "name": "stderr",
     "output_type": "stream",
     "text": [
      "\n"
     ]
    },
    {
     "name": "stdout",
     "output_type": "stream",
     "text": [
      "\n",
      "      Epoch    GPU_mem   box_loss   cls_loss   dfl_loss  Instances       Size\n"
     ]
    },
    {
     "name": "stderr",
     "output_type": "stream",
     "text": [
      "   151/5000      15.3G     0.5174     0.3585     0.7953        171        640: 100%|██████████| 10/10 [00:10<00:00,  1.02s/it]\n",
      "                 Class     Images  Instances      Box(P          R      mAP50  mAP50-95): 100%|██████████| 1/1 [00:00<00:00,  1.12it/s]"
     ]
    },
    {
     "name": "stdout",
     "output_type": "stream",
     "text": [
      "                   all        111        179      0.513      0.554      0.532      0.429\n"
     ]
    },
    {
     "name": "stderr",
     "output_type": "stream",
     "text": [
      "\n"
     ]
    },
    {
     "name": "stdout",
     "output_type": "stream",
     "text": [
      "\n",
      "      Epoch    GPU_mem   box_loss   cls_loss   dfl_loss  Instances       Size\n"
     ]
    },
    {
     "name": "stderr",
     "output_type": "stream",
     "text": [
      "   152/5000      15.5G     0.5152     0.3486     0.7907        136        640: 100%|██████████| 10/10 [00:10<00:00,  1.01s/it]\n",
      "                 Class     Images  Instances      Box(P          R      mAP50  mAP50-95): 100%|██████████| 1/1 [00:00<00:00,  1.17it/s]"
     ]
    },
    {
     "name": "stdout",
     "output_type": "stream",
     "text": [
      "                   all        111        179      0.664      0.459      0.562      0.451\n"
     ]
    },
    {
     "name": "stderr",
     "output_type": "stream",
     "text": [
      "\n"
     ]
    },
    {
     "name": "stdout",
     "output_type": "stream",
     "text": [
      "\n",
      "      Epoch    GPU_mem   box_loss   cls_loss   dfl_loss  Instances       Size\n"
     ]
    },
    {
     "name": "stderr",
     "output_type": "stream",
     "text": [
      "   153/5000      15.2G     0.5263     0.3587     0.7853        159        640: 100%|██████████| 10/10 [00:10<00:00,  1.02s/it]\n",
      "                 Class     Images  Instances      Box(P          R      mAP50  mAP50-95): 100%|██████████| 1/1 [00:00<00:00,  1.13it/s]"
     ]
    },
    {
     "name": "stdout",
     "output_type": "stream",
     "text": [
      "                   all        111        179      0.488      0.533      0.537      0.436\n"
     ]
    },
    {
     "name": "stderr",
     "output_type": "stream",
     "text": [
      "\n"
     ]
    },
    {
     "name": "stdout",
     "output_type": "stream",
     "text": [
      "\n",
      "      Epoch    GPU_mem   box_loss   cls_loss   dfl_loss  Instances       Size\n"
     ]
    },
    {
     "name": "stderr",
     "output_type": "stream",
     "text": [
      "   154/5000      15.6G     0.5182     0.3544     0.7881        159        640: 100%|██████████| 10/10 [00:10<00:00,  1.00s/it]\n",
      "                 Class     Images  Instances      Box(P          R      mAP50  mAP50-95): 100%|██████████| 1/1 [00:00<00:00,  1.17it/s]"
     ]
    },
    {
     "name": "stdout",
     "output_type": "stream",
     "text": [
      "                   all        111        179       0.56      0.544      0.538      0.442\n"
     ]
    },
    {
     "name": "stderr",
     "output_type": "stream",
     "text": [
      "\n"
     ]
    },
    {
     "name": "stdout",
     "output_type": "stream",
     "text": [
      "\n",
      "      Epoch    GPU_mem   box_loss   cls_loss   dfl_loss  Instances       Size\n"
     ]
    },
    {
     "name": "stderr",
     "output_type": "stream",
     "text": [
      "   155/5000      14.9G     0.5318      0.358     0.7861        163        640: 100%|██████████| 10/10 [00:09<00:00,  1.00it/s]\n",
      "                 Class     Images  Instances      Box(P          R      mAP50  mAP50-95): 100%|██████████| 1/1 [00:00<00:00,  1.15it/s]"
     ]
    },
    {
     "name": "stdout",
     "output_type": "stream",
     "text": [
      "                   all        111        179      0.558       0.52      0.568       0.46\n"
     ]
    },
    {
     "name": "stderr",
     "output_type": "stream",
     "text": [
      "\n"
     ]
    },
    {
     "name": "stdout",
     "output_type": "stream",
     "text": [
      "\n",
      "      Epoch    GPU_mem   box_loss   cls_loss   dfl_loss  Instances       Size\n"
     ]
    },
    {
     "name": "stderr",
     "output_type": "stream",
     "text": [
      "   156/5000        15G     0.5096     0.3465     0.7902        158        640: 100%|██████████| 10/10 [00:09<00:00,  1.00it/s]\n",
      "                 Class     Images  Instances      Box(P          R      mAP50  mAP50-95): 100%|██████████| 1/1 [00:00<00:00,  1.16it/s]"
     ]
    },
    {
     "name": "stdout",
     "output_type": "stream",
     "text": [
      "                   all        111        179      0.576      0.536      0.527      0.428\n"
     ]
    },
    {
     "name": "stderr",
     "output_type": "stream",
     "text": [
      "\n"
     ]
    },
    {
     "name": "stdout",
     "output_type": "stream",
     "text": [
      "\n",
      "      Epoch    GPU_mem   box_loss   cls_loss   dfl_loss  Instances       Size\n"
     ]
    },
    {
     "name": "stderr",
     "output_type": "stream",
     "text": [
      "   157/5000      15.6G     0.4945     0.3467     0.7905        136        640: 100%|██████████| 10/10 [00:10<00:00,  1.01s/it]\n",
      "                 Class     Images  Instances      Box(P          R      mAP50  mAP50-95): 100%|██████████| 1/1 [00:00<00:00,  1.11it/s]"
     ]
    },
    {
     "name": "stdout",
     "output_type": "stream",
     "text": [
      "                   all        111        179      0.695      0.485      0.554      0.438\n"
     ]
    },
    {
     "name": "stderr",
     "output_type": "stream",
     "text": [
      "\n"
     ]
    },
    {
     "name": "stdout",
     "output_type": "stream",
     "text": [
      "\n",
      "      Epoch    GPU_mem   box_loss   cls_loss   dfl_loss  Instances       Size\n"
     ]
    },
    {
     "name": "stderr",
     "output_type": "stream",
     "text": [
      "   158/5000      15.3G     0.5181     0.3634     0.7869        158        640: 100%|██████████| 10/10 [00:10<00:00,  1.02s/it]\n",
      "                 Class     Images  Instances      Box(P          R      mAP50  mAP50-95): 100%|██████████| 1/1 [00:00<00:00,  1.17it/s]"
     ]
    },
    {
     "name": "stdout",
     "output_type": "stream",
     "text": [
      "                   all        111        179      0.548      0.509      0.526      0.415\n"
     ]
    },
    {
     "name": "stderr",
     "output_type": "stream",
     "text": [
      "\n"
     ]
    },
    {
     "name": "stdout",
     "output_type": "stream",
     "text": [
      "\n",
      "      Epoch    GPU_mem   box_loss   cls_loss   dfl_loss  Instances       Size\n"
     ]
    },
    {
     "name": "stderr",
     "output_type": "stream",
     "text": [
      "   159/5000      15.6G     0.5168      0.358     0.7887        140        640: 100%|██████████| 10/10 [00:10<00:00,  1.00s/it]\n",
      "                 Class     Images  Instances      Box(P          R      mAP50  mAP50-95): 100%|██████████| 1/1 [00:00<00:00,  1.15it/s]"
     ]
    },
    {
     "name": "stdout",
     "output_type": "stream",
     "text": [
      "                   all        111        179      0.558      0.486      0.518      0.405\n"
     ]
    },
    {
     "name": "stderr",
     "output_type": "stream",
     "text": [
      "\n"
     ]
    },
    {
     "name": "stdout",
     "output_type": "stream",
     "text": [
      "\n",
      "      Epoch    GPU_mem   box_loss   cls_loss   dfl_loss  Instances       Size\n"
     ]
    },
    {
     "name": "stderr",
     "output_type": "stream",
     "text": [
      "   160/5000      15.3G     0.5247     0.3589     0.7932        163        640: 100%|██████████| 10/10 [00:10<00:00,  1.02s/it]\n",
      "                 Class     Images  Instances      Box(P          R      mAP50  mAP50-95): 100%|██████████| 1/1 [00:00<00:00,  1.15it/s]"
     ]
    },
    {
     "name": "stdout",
     "output_type": "stream",
     "text": [
      "                   all        111        179      0.703      0.453      0.529      0.425\n"
     ]
    },
    {
     "name": "stderr",
     "output_type": "stream",
     "text": [
      "\n"
     ]
    },
    {
     "name": "stdout",
     "output_type": "stream",
     "text": [
      "\n",
      "      Epoch    GPU_mem   box_loss   cls_loss   dfl_loss  Instances       Size\n"
     ]
    },
    {
     "name": "stderr",
     "output_type": "stream",
     "text": [
      "   161/5000      15.3G      0.506      0.347     0.7894        140        640: 100%|██████████| 10/10 [00:10<00:00,  1.02s/it]\n",
      "                 Class     Images  Instances      Box(P          R      mAP50  mAP50-95): 100%|██████████| 1/1 [00:00<00:00,  1.15it/s]"
     ]
    },
    {
     "name": "stdout",
     "output_type": "stream",
     "text": [
      "                   all        111        179      0.517      0.543      0.531      0.428\n"
     ]
    },
    {
     "name": "stderr",
     "output_type": "stream",
     "text": [
      "\n"
     ]
    },
    {
     "name": "stdout",
     "output_type": "stream",
     "text": [
      "\n",
      "      Epoch    GPU_mem   box_loss   cls_loss   dfl_loss  Instances       Size\n"
     ]
    },
    {
     "name": "stderr",
     "output_type": "stream",
     "text": [
      "   162/5000        15G      0.492      0.347     0.7882        156        640: 100%|██████████| 10/10 [00:10<00:00,  1.00s/it]\n",
      "                 Class     Images  Instances      Box(P          R      mAP50  mAP50-95): 100%|██████████| 1/1 [00:00<00:00,  1.18it/s]"
     ]
    },
    {
     "name": "stdout",
     "output_type": "stream",
     "text": [
      "                   all        111        179      0.595      0.516      0.548      0.444\n"
     ]
    },
    {
     "name": "stderr",
     "output_type": "stream",
     "text": [
      "\n"
     ]
    },
    {
     "name": "stdout",
     "output_type": "stream",
     "text": [
      "\n",
      "      Epoch    GPU_mem   box_loss   cls_loss   dfl_loss  Instances       Size\n"
     ]
    },
    {
     "name": "stderr",
     "output_type": "stream",
     "text": [
      "   163/5000      14.9G     0.5053     0.3524     0.7854        170        640: 100%|██████████| 10/10 [00:10<00:00,  1.00s/it]\n",
      "                 Class     Images  Instances      Box(P          R      mAP50  mAP50-95): 100%|██████████| 1/1 [00:00<00:00,  1.18it/s]"
     ]
    },
    {
     "name": "stdout",
     "output_type": "stream",
     "text": [
      "                   all        111        179      0.462      0.606      0.562      0.456\n"
     ]
    },
    {
     "name": "stderr",
     "output_type": "stream",
     "text": [
      "\n"
     ]
    },
    {
     "name": "stdout",
     "output_type": "stream",
     "text": [
      "\n",
      "      Epoch    GPU_mem   box_loss   cls_loss   dfl_loss  Instances       Size\n"
     ]
    },
    {
     "name": "stderr",
     "output_type": "stream",
     "text": [
      "   164/5000      14.9G     0.5065     0.3473     0.7902        152        640: 100%|██████████| 10/10 [00:09<00:00,  1.00it/s]\n",
      "                 Class     Images  Instances      Box(P          R      mAP50  mAP50-95): 100%|██████████| 1/1 [00:00<00:00,  1.15it/s]"
     ]
    },
    {
     "name": "stdout",
     "output_type": "stream",
     "text": [
      "                   all        111        179      0.627      0.546      0.597      0.475\n"
     ]
    },
    {
     "name": "stderr",
     "output_type": "stream",
     "text": [
      "\n"
     ]
    },
    {
     "name": "stdout",
     "output_type": "stream",
     "text": [
      "\n",
      "      Epoch    GPU_mem   box_loss   cls_loss   dfl_loss  Instances       Size\n"
     ]
    },
    {
     "name": "stderr",
     "output_type": "stream",
     "text": [
      "   165/5000        15G     0.4893     0.3464     0.7845        153        640: 100%|██████████| 10/10 [00:10<00:00,  1.00s/it]\n",
      "                 Class     Images  Instances      Box(P          R      mAP50  mAP50-95): 100%|██████████| 1/1 [00:00<00:00,  1.15it/s]"
     ]
    },
    {
     "name": "stdout",
     "output_type": "stream",
     "text": [
      "                   all        111        179      0.624      0.602       0.58      0.471\n"
     ]
    },
    {
     "name": "stderr",
     "output_type": "stream",
     "text": [
      "\n"
     ]
    },
    {
     "name": "stdout",
     "output_type": "stream",
     "text": [
      "\n",
      "      Epoch    GPU_mem   box_loss   cls_loss   dfl_loss  Instances       Size\n"
     ]
    },
    {
     "name": "stderr",
     "output_type": "stream",
     "text": [
      "   166/5000      14.9G     0.5116     0.3586     0.7847        161        640: 100%|██████████| 10/10 [00:09<00:00,  1.00it/s]\n",
      "                 Class     Images  Instances      Box(P          R      mAP50  mAP50-95): 100%|██████████| 1/1 [00:00<00:00,  1.14it/s]"
     ]
    },
    {
     "name": "stdout",
     "output_type": "stream",
     "text": [
      "                   all        111        179      0.566      0.596      0.544      0.449\n"
     ]
    },
    {
     "name": "stderr",
     "output_type": "stream",
     "text": [
      "\n"
     ]
    },
    {
     "name": "stdout",
     "output_type": "stream",
     "text": [
      "\n",
      "      Epoch    GPU_mem   box_loss   cls_loss   dfl_loss  Instances       Size\n"
     ]
    },
    {
     "name": "stderr",
     "output_type": "stream",
     "text": [
      "   167/5000      15.3G     0.5041     0.3451     0.7765        171        640: 100%|██████████| 10/10 [00:10<00:00,  1.02s/it]\n",
      "                 Class     Images  Instances      Box(P          R      mAP50  mAP50-95): 100%|██████████| 1/1 [00:00<00:00,  1.18it/s]"
     ]
    },
    {
     "name": "stdout",
     "output_type": "stream",
     "text": [
      "                   all        111        179      0.789      0.388       0.53      0.432\n"
     ]
    },
    {
     "name": "stderr",
     "output_type": "stream",
     "text": [
      "\n"
     ]
    },
    {
     "name": "stdout",
     "output_type": "stream",
     "text": [
      "\n",
      "      Epoch    GPU_mem   box_loss   cls_loss   dfl_loss  Instances       Size\n"
     ]
    },
    {
     "name": "stderr",
     "output_type": "stream",
     "text": [
      "   168/5000      15.5G     0.4974     0.3385     0.7913        163        640: 100%|██████████| 10/10 [00:10<00:00,  1.00s/it]\n",
      "                 Class     Images  Instances      Box(P          R      mAP50  mAP50-95): 100%|██████████| 1/1 [00:00<00:00,  1.13it/s]"
     ]
    },
    {
     "name": "stdout",
     "output_type": "stream",
     "text": [
      "                   all        111        179      0.663      0.453      0.502      0.407\n"
     ]
    },
    {
     "name": "stderr",
     "output_type": "stream",
     "text": [
      "\n"
     ]
    },
    {
     "name": "stdout",
     "output_type": "stream",
     "text": [
      "\n",
      "      Epoch    GPU_mem   box_loss   cls_loss   dfl_loss  Instances       Size\n"
     ]
    },
    {
     "name": "stderr",
     "output_type": "stream",
     "text": [
      "   169/5000      15.3G     0.5247     0.3528      0.791        140        640: 100%|██████████| 10/10 [00:10<00:00,  1.02s/it]\n",
      "                 Class     Images  Instances      Box(P          R      mAP50  mAP50-95): 100%|██████████| 1/1 [00:00<00:00,  1.11it/s]"
     ]
    },
    {
     "name": "stdout",
     "output_type": "stream",
     "text": [
      "                   all        111        179      0.626      0.509      0.543      0.444\n"
     ]
    },
    {
     "name": "stderr",
     "output_type": "stream",
     "text": [
      "\n"
     ]
    },
    {
     "name": "stdout",
     "output_type": "stream",
     "text": [
      "\n",
      "      Epoch    GPU_mem   box_loss   cls_loss   dfl_loss  Instances       Size\n"
     ]
    },
    {
     "name": "stderr",
     "output_type": "stream",
     "text": [
      "   170/5000      14.9G     0.5203     0.3487     0.7815        137        640: 100%|██████████| 10/10 [00:10<00:00,  1.00s/it]\n",
      "                 Class     Images  Instances      Box(P          R      mAP50  mAP50-95): 100%|██████████| 1/1 [00:00<00:00,  1.17it/s]"
     ]
    },
    {
     "name": "stdout",
     "output_type": "stream",
     "text": [
      "                   all        111        179      0.708      0.461      0.523      0.419\n"
     ]
    },
    {
     "name": "stderr",
     "output_type": "stream",
     "text": [
      "\n"
     ]
    },
    {
     "name": "stdout",
     "output_type": "stream",
     "text": [
      "\n",
      "      Epoch    GPU_mem   box_loss   cls_loss   dfl_loss  Instances       Size\n"
     ]
    },
    {
     "name": "stderr",
     "output_type": "stream",
     "text": [
      "   171/5000      14.9G     0.5042     0.3479     0.7883        146        640: 100%|██████████| 10/10 [00:10<00:00,  1.00s/it]\n",
      "                 Class     Images  Instances      Box(P          R      mAP50  mAP50-95): 100%|██████████| 1/1 [00:00<00:00,  1.18it/s]"
     ]
    },
    {
     "name": "stdout",
     "output_type": "stream",
     "text": [
      "                   all        111        179      0.791      0.414      0.529      0.417\n"
     ]
    },
    {
     "name": "stderr",
     "output_type": "stream",
     "text": [
      "\n"
     ]
    },
    {
     "name": "stdout",
     "output_type": "stream",
     "text": [
      "\n",
      "      Epoch    GPU_mem   box_loss   cls_loss   dfl_loss  Instances       Size\n"
     ]
    },
    {
     "name": "stderr",
     "output_type": "stream",
     "text": [
      "   172/5000        15G     0.4935     0.3466     0.7902        150        640: 100%|██████████| 10/10 [00:09<00:00,  1.01it/s]\n",
      "                 Class     Images  Instances      Box(P          R      mAP50  mAP50-95): 100%|██████████| 1/1 [00:00<00:00,  1.12it/s]"
     ]
    },
    {
     "name": "stdout",
     "output_type": "stream",
     "text": [
      "                   all        111        179      0.614      0.479      0.532      0.426\n"
     ]
    },
    {
     "name": "stderr",
     "output_type": "stream",
     "text": [
      "\n"
     ]
    },
    {
     "name": "stdout",
     "output_type": "stream",
     "text": [
      "\n",
      "      Epoch    GPU_mem   box_loss   cls_loss   dfl_loss  Instances       Size\n"
     ]
    },
    {
     "name": "stderr",
     "output_type": "stream",
     "text": [
      "   173/5000      14.9G      0.492     0.3324     0.7824        142        640: 100%|██████████| 10/10 [00:10<00:00,  1.00s/it]\n",
      "                 Class     Images  Instances      Box(P          R      mAP50  mAP50-95): 100%|██████████| 1/1 [00:00<00:00,  1.03it/s]"
     ]
    },
    {
     "name": "stdout",
     "output_type": "stream",
     "text": [
      "                   all        111        179      0.635      0.487      0.548      0.443\n"
     ]
    },
    {
     "name": "stderr",
     "output_type": "stream",
     "text": [
      "\n"
     ]
    },
    {
     "name": "stdout",
     "output_type": "stream",
     "text": [
      "\n",
      "      Epoch    GPU_mem   box_loss   cls_loss   dfl_loss  Instances       Size\n"
     ]
    },
    {
     "name": "stderr",
     "output_type": "stream",
     "text": [
      "   174/5000        15G     0.5162     0.3439     0.7866        159        640: 100%|██████████| 10/10 [00:10<00:00,  1.02s/it]\n",
      "                 Class     Images  Instances      Box(P          R      mAP50  mAP50-95): 100%|██████████| 1/1 [00:00<00:00,  1.15it/s]"
     ]
    },
    {
     "name": "stdout",
     "output_type": "stream",
     "text": [
      "                   all        111        179      0.689      0.489      0.555      0.441\n"
     ]
    },
    {
     "name": "stderr",
     "output_type": "stream",
     "text": [
      "\n"
     ]
    },
    {
     "name": "stdout",
     "output_type": "stream",
     "text": [
      "\n",
      "      Epoch    GPU_mem   box_loss   cls_loss   dfl_loss  Instances       Size\n"
     ]
    },
    {
     "name": "stderr",
     "output_type": "stream",
     "text": [
      "   175/5000      14.9G     0.5119     0.3445     0.7904        192        640: 100%|██████████| 10/10 [00:10<00:00,  1.00s/it]\n",
      "                 Class     Images  Instances      Box(P          R      mAP50  mAP50-95): 100%|██████████| 1/1 [00:00<00:00,  1.15it/s]"
     ]
    },
    {
     "name": "stdout",
     "output_type": "stream",
     "text": [
      "                   all        111        179      0.708      0.481      0.563      0.457\n"
     ]
    },
    {
     "name": "stderr",
     "output_type": "stream",
     "text": [
      "\n"
     ]
    },
    {
     "name": "stdout",
     "output_type": "stream",
     "text": [
      "\n",
      "      Epoch    GPU_mem   box_loss   cls_loss   dfl_loss  Instances       Size\n"
     ]
    },
    {
     "name": "stderr",
     "output_type": "stream",
     "text": [
      "   176/5000      15.5G     0.4834      0.335      0.795        141        640: 100%|██████████| 10/10 [00:10<00:00,  1.00s/it]\n",
      "                 Class     Images  Instances      Box(P          R      mAP50  mAP50-95): 100%|██████████| 1/1 [00:00<00:00,  1.12it/s]"
     ]
    },
    {
     "name": "stdout",
     "output_type": "stream",
     "text": [
      "                   all        111        179      0.639      0.504      0.544      0.435\n"
     ]
    },
    {
     "name": "stderr",
     "output_type": "stream",
     "text": [
      "\n"
     ]
    },
    {
     "name": "stdout",
     "output_type": "stream",
     "text": [
      "\n",
      "      Epoch    GPU_mem   box_loss   cls_loss   dfl_loss  Instances       Size\n"
     ]
    },
    {
     "name": "stderr",
     "output_type": "stream",
     "text": [
      "   177/5000      15.3G     0.4911     0.3295     0.7897        156        640: 100%|██████████| 10/10 [00:10<00:00,  1.02s/it]\n",
      "                 Class     Images  Instances      Box(P          R      mAP50  mAP50-95): 100%|██████████| 1/1 [00:00<00:00,  1.18it/s]"
     ]
    },
    {
     "name": "stdout",
     "output_type": "stream",
     "text": [
      "                   all        111        179      0.533      0.556      0.527      0.427\n"
     ]
    },
    {
     "name": "stderr",
     "output_type": "stream",
     "text": [
      "\n"
     ]
    },
    {
     "name": "stdout",
     "output_type": "stream",
     "text": [
      "\n",
      "      Epoch    GPU_mem   box_loss   cls_loss   dfl_loss  Instances       Size\n"
     ]
    },
    {
     "name": "stderr",
     "output_type": "stream",
     "text": [
      "   178/5000      15.3G     0.5008     0.3407     0.7867        140        640: 100%|██████████| 10/10 [00:10<00:00,  1.02s/it]\n",
      "                 Class     Images  Instances      Box(P          R      mAP50  mAP50-95): 100%|██████████| 1/1 [00:00<00:00,  1.19it/s]"
     ]
    },
    {
     "name": "stdout",
     "output_type": "stream",
     "text": [
      "                   all        111        179      0.577      0.524      0.545      0.444\n"
     ]
    },
    {
     "name": "stderr",
     "output_type": "stream",
     "text": [
      "\n"
     ]
    },
    {
     "name": "stdout",
     "output_type": "stream",
     "text": [
      "\n",
      "      Epoch    GPU_mem   box_loss   cls_loss   dfl_loss  Instances       Size\n"
     ]
    },
    {
     "name": "stderr",
     "output_type": "stream",
     "text": [
      "   179/5000      14.9G     0.4661      0.317     0.7924        158        640: 100%|██████████| 10/10 [00:10<00:00,  1.00s/it]\n",
      "                 Class     Images  Instances      Box(P          R      mAP50  mAP50-95): 100%|██████████| 1/1 [00:00<00:00,  1.17it/s]"
     ]
    },
    {
     "name": "stdout",
     "output_type": "stream",
     "text": [
      "                   all        111        179      0.578      0.524      0.541       0.44\n"
     ]
    },
    {
     "name": "stderr",
     "output_type": "stream",
     "text": [
      "\n"
     ]
    },
    {
     "name": "stdout",
     "output_type": "stream",
     "text": [
      "\n",
      "      Epoch    GPU_mem   box_loss   cls_loss   dfl_loss  Instances       Size\n"
     ]
    },
    {
     "name": "stderr",
     "output_type": "stream",
     "text": [
      "   180/5000      14.9G     0.4809     0.3358     0.7878        137        640: 100%|██████████| 10/10 [00:10<00:00,  1.00s/it]\n",
      "                 Class     Images  Instances      Box(P          R      mAP50  mAP50-95): 100%|██████████| 1/1 [00:00<00:00,  1.17it/s]"
     ]
    },
    {
     "name": "stdout",
     "output_type": "stream",
     "text": [
      "                   all        111        179      0.574      0.591      0.583      0.466\n"
     ]
    },
    {
     "name": "stderr",
     "output_type": "stream",
     "text": [
      "\n"
     ]
    },
    {
     "name": "stdout",
     "output_type": "stream",
     "text": [
      "\n",
      "      Epoch    GPU_mem   box_loss   cls_loss   dfl_loss  Instances       Size\n"
     ]
    },
    {
     "name": "stderr",
     "output_type": "stream",
     "text": [
      "   181/5000      15.6G     0.4871      0.333     0.7913        165        640: 100%|██████████| 10/10 [00:10<00:00,  1.00s/it]\n",
      "                 Class     Images  Instances      Box(P          R      mAP50  mAP50-95): 100%|██████████| 1/1 [00:00<00:00,  1.05it/s]"
     ]
    },
    {
     "name": "stdout",
     "output_type": "stream",
     "text": [
      "                   all        111        179      0.593       0.52       0.55      0.446\n"
     ]
    },
    {
     "name": "stderr",
     "output_type": "stream",
     "text": [
      "\n"
     ]
    },
    {
     "name": "stdout",
     "output_type": "stream",
     "text": [
      "\n",
      "      Epoch    GPU_mem   box_loss   cls_loss   dfl_loss  Instances       Size\n"
     ]
    },
    {
     "name": "stderr",
     "output_type": "stream",
     "text": [
      "   182/5000      15.3G      0.479     0.3238     0.7873        134        640: 100%|██████████| 10/10 [00:10<00:00,  1.02s/it]\n",
      "                 Class     Images  Instances      Box(P          R      mAP50  mAP50-95): 100%|██████████| 1/1 [00:00<00:00,  1.17it/s]"
     ]
    },
    {
     "name": "stdout",
     "output_type": "stream",
     "text": [
      "                   all        111        179      0.532      0.568      0.552      0.441\n"
     ]
    },
    {
     "name": "stderr",
     "output_type": "stream",
     "text": [
      "\n"
     ]
    },
    {
     "name": "stdout",
     "output_type": "stream",
     "text": [
      "\n",
      "      Epoch    GPU_mem   box_loss   cls_loss   dfl_loss  Instances       Size\n"
     ]
    },
    {
     "name": "stderr",
     "output_type": "stream",
     "text": [
      "   183/5000        15G     0.4739     0.3325     0.7817        156        640: 100%|██████████| 10/10 [00:10<00:00,  1.00s/it]\n",
      "                 Class     Images  Instances      Box(P          R      mAP50  mAP50-95): 100%|██████████| 1/1 [00:00<00:00,  1.15it/s]"
     ]
    },
    {
     "name": "stdout",
     "output_type": "stream",
     "text": [
      "                   all        111        179      0.504       0.52      0.519      0.417\n"
     ]
    },
    {
     "name": "stderr",
     "output_type": "stream",
     "text": [
      "\n"
     ]
    },
    {
     "name": "stdout",
     "output_type": "stream",
     "text": [
      "\n",
      "      Epoch    GPU_mem   box_loss   cls_loss   dfl_loss  Instances       Size\n"
     ]
    },
    {
     "name": "stderr",
     "output_type": "stream",
     "text": [
      "   184/5000      15.2G     0.4816     0.3251      0.787        154        640: 100%|██████████| 10/10 [00:10<00:00,  1.03s/it]\n",
      "                 Class     Images  Instances      Box(P          R      mAP50  mAP50-95): 100%|██████████| 1/1 [00:00<00:00,  1.16it/s]"
     ]
    },
    {
     "name": "stdout",
     "output_type": "stream",
     "text": [
      "                   all        111        179       0.51      0.555      0.532      0.423\n"
     ]
    },
    {
     "name": "stderr",
     "output_type": "stream",
     "text": [
      "\n"
     ]
    },
    {
     "name": "stdout",
     "output_type": "stream",
     "text": [
      "\n",
      "      Epoch    GPU_mem   box_loss   cls_loss   dfl_loss  Instances       Size\n"
     ]
    },
    {
     "name": "stderr",
     "output_type": "stream",
     "text": [
      "   185/5000      15.3G     0.5007     0.3356     0.7877        125        640: 100%|██████████| 10/10 [00:10<00:00,  1.02s/it]\n",
      "                 Class     Images  Instances      Box(P          R      mAP50  mAP50-95): 100%|██████████| 1/1 [00:00<00:00,  1.13it/s]"
     ]
    },
    {
     "name": "stdout",
     "output_type": "stream",
     "text": [
      "                   all        111        179      0.454      0.534      0.515       0.41\n"
     ]
    },
    {
     "name": "stderr",
     "output_type": "stream",
     "text": [
      "\n"
     ]
    },
    {
     "name": "stdout",
     "output_type": "stream",
     "text": [
      "\n",
      "      Epoch    GPU_mem   box_loss   cls_loss   dfl_loss  Instances       Size\n"
     ]
    },
    {
     "name": "stderr",
     "output_type": "stream",
     "text": [
      "   186/5000      14.9G     0.4932     0.3309     0.7874        184        640: 100%|██████████| 10/10 [00:09<00:00,  1.00it/s]\n",
      "                 Class     Images  Instances      Box(P          R      mAP50  mAP50-95): 100%|██████████| 1/1 [00:00<00:00,  1.17it/s]"
     ]
    },
    {
     "name": "stdout",
     "output_type": "stream",
     "text": [
      "                   all        111        179      0.658      0.422      0.523      0.419\n"
     ]
    },
    {
     "name": "stderr",
     "output_type": "stream",
     "text": [
      "\n"
     ]
    },
    {
     "name": "stdout",
     "output_type": "stream",
     "text": [
      "\n",
      "      Epoch    GPU_mem   box_loss   cls_loss   dfl_loss  Instances       Size\n"
     ]
    },
    {
     "name": "stderr",
     "output_type": "stream",
     "text": [
      "   187/5000      14.9G     0.4864     0.3241     0.7856        154        640: 100%|██████████| 10/10 [00:09<00:00,  1.00it/s]\n",
      "                 Class     Images  Instances      Box(P          R      mAP50  mAP50-95): 100%|██████████| 1/1 [00:00<00:00,  1.17it/s]"
     ]
    },
    {
     "name": "stdout",
     "output_type": "stream",
     "text": [
      "                   all        111        179      0.565      0.524      0.511       0.41\n"
     ]
    },
    {
     "name": "stderr",
     "output_type": "stream",
     "text": [
      "\n"
     ]
    },
    {
     "name": "stdout",
     "output_type": "stream",
     "text": [
      "\n",
      "      Epoch    GPU_mem   box_loss   cls_loss   dfl_loss  Instances       Size\n"
     ]
    },
    {
     "name": "stderr",
     "output_type": "stream",
     "text": [
      "   188/5000      14.9G     0.4794     0.3256     0.7852        150        640: 100%|██████████| 10/10 [00:09<00:00,  1.00it/s]\n",
      "                 Class     Images  Instances      Box(P          R      mAP50  mAP50-95): 100%|██████████| 1/1 [00:00<00:00,  1.15it/s]"
     ]
    },
    {
     "name": "stdout",
     "output_type": "stream",
     "text": [
      "                   all        111        179      0.486      0.581      0.555      0.442\n"
     ]
    },
    {
     "name": "stderr",
     "output_type": "stream",
     "text": [
      "\n"
     ]
    },
    {
     "name": "stdout",
     "output_type": "stream",
     "text": [
      "\n",
      "      Epoch    GPU_mem   box_loss   cls_loss   dfl_loss  Instances       Size\n"
     ]
    },
    {
     "name": "stderr",
     "output_type": "stream",
     "text": [
      "   189/5000      15.3G     0.4755     0.3192     0.7824        167        640: 100%|██████████| 10/10 [00:10<00:00,  1.02s/it]\n",
      "                 Class     Images  Instances      Box(P          R      mAP50  mAP50-95): 100%|██████████| 1/1 [00:00<00:00,  1.07it/s]"
     ]
    },
    {
     "name": "stdout",
     "output_type": "stream",
     "text": [
      "                   all        111        179      0.489      0.592      0.559      0.447\n"
     ]
    },
    {
     "name": "stderr",
     "output_type": "stream",
     "text": [
      "\n"
     ]
    },
    {
     "name": "stdout",
     "output_type": "stream",
     "text": [
      "\n",
      "      Epoch    GPU_mem   box_loss   cls_loss   dfl_loss  Instances       Size\n"
     ]
    },
    {
     "name": "stderr",
     "output_type": "stream",
     "text": [
      "   190/5000      15.3G      0.471     0.3226     0.7776        159        640: 100%|██████████| 10/10 [00:10<00:00,  1.01s/it]\n",
      "                 Class     Images  Instances      Box(P          R      mAP50  mAP50-95): 100%|██████████| 1/1 [00:00<00:00,  1.11it/s]"
     ]
    },
    {
     "name": "stdout",
     "output_type": "stream",
     "text": [
      "                   all        111        179       0.55      0.557      0.584      0.471\n"
     ]
    },
    {
     "name": "stderr",
     "output_type": "stream",
     "text": [
      "\n"
     ]
    },
    {
     "name": "stdout",
     "output_type": "stream",
     "text": [
      "\n",
      "      Epoch    GPU_mem   box_loss   cls_loss   dfl_loss  Instances       Size\n"
     ]
    },
    {
     "name": "stderr",
     "output_type": "stream",
     "text": [
      "   191/5000        15G     0.4896     0.3325     0.7844        131        640: 100%|██████████| 10/10 [00:10<00:00,  1.00s/it]\n",
      "                 Class     Images  Instances      Box(P          R      mAP50  mAP50-95): 100%|██████████| 1/1 [00:00<00:00,  1.16it/s]"
     ]
    },
    {
     "name": "stdout",
     "output_type": "stream",
     "text": [
      "                   all        111        179      0.576      0.522      0.583      0.468\n"
     ]
    },
    {
     "name": "stderr",
     "output_type": "stream",
     "text": [
      "\n"
     ]
    },
    {
     "name": "stdout",
     "output_type": "stream",
     "text": [
      "\n",
      "      Epoch    GPU_mem   box_loss   cls_loss   dfl_loss  Instances       Size\n"
     ]
    },
    {
     "name": "stderr",
     "output_type": "stream",
     "text": [
      "   192/5000      15.3G     0.4756     0.3165     0.7877        146        640: 100%|██████████| 10/10 [00:10<00:00,  1.02s/it]\n",
      "                 Class     Images  Instances      Box(P          R      mAP50  mAP50-95): 100%|██████████| 1/1 [00:00<00:00,  1.13it/s]"
     ]
    },
    {
     "name": "stdout",
     "output_type": "stream",
     "text": [
      "                   all        111        179      0.609       0.55      0.577       0.47\n"
     ]
    },
    {
     "name": "stderr",
     "output_type": "stream",
     "text": [
      "\n"
     ]
    },
    {
     "name": "stdout",
     "output_type": "stream",
     "text": [
      "\n",
      "      Epoch    GPU_mem   box_loss   cls_loss   dfl_loss  Instances       Size\n"
     ]
    },
    {
     "name": "stderr",
     "output_type": "stream",
     "text": [
      "   193/5000      15.6G     0.4659     0.3138     0.7827        149        640: 100%|██████████| 10/10 [00:10<00:00,  1.00s/it]\n",
      "                 Class     Images  Instances      Box(P          R      mAP50  mAP50-95): 100%|██████████| 1/1 [00:00<00:00,  1.12it/s]"
     ]
    },
    {
     "name": "stdout",
     "output_type": "stream",
     "text": [
      "                   all        111        179      0.544      0.525      0.554      0.452\n"
     ]
    },
    {
     "name": "stderr",
     "output_type": "stream",
     "text": [
      "\n"
     ]
    },
    {
     "name": "stdout",
     "output_type": "stream",
     "text": [
      "\n",
      "      Epoch    GPU_mem   box_loss   cls_loss   dfl_loss  Instances       Size\n"
     ]
    },
    {
     "name": "stderr",
     "output_type": "stream",
     "text": [
      "   194/5000      14.9G     0.4611     0.3236     0.7855        138        640: 100%|██████████| 10/10 [00:09<00:00,  1.00it/s]\n",
      "                 Class     Images  Instances      Box(P          R      mAP50  mAP50-95): 100%|██████████| 1/1 [00:00<00:00,  1.16it/s]"
     ]
    },
    {
     "name": "stdout",
     "output_type": "stream",
     "text": [
      "                   all        111        179      0.482       0.57      0.534      0.428\n"
     ]
    },
    {
     "name": "stderr",
     "output_type": "stream",
     "text": [
      "\n"
     ]
    },
    {
     "name": "stdout",
     "output_type": "stream",
     "text": [
      "\n",
      "      Epoch    GPU_mem   box_loss   cls_loss   dfl_loss  Instances       Size\n"
     ]
    },
    {
     "name": "stderr",
     "output_type": "stream",
     "text": [
      "   195/5000      15.3G     0.4735     0.3322     0.7815        147        640: 100%|██████████| 10/10 [00:10<00:00,  1.02s/it]\n",
      "                 Class     Images  Instances      Box(P          R      mAP50  mAP50-95): 100%|██████████| 1/1 [00:00<00:00,  1.13it/s]"
     ]
    },
    {
     "name": "stdout",
     "output_type": "stream",
     "text": [
      "                   all        111        179      0.526      0.487      0.518      0.419\n"
     ]
    },
    {
     "name": "stderr",
     "output_type": "stream",
     "text": [
      "\n"
     ]
    },
    {
     "name": "stdout",
     "output_type": "stream",
     "text": [
      "\n",
      "      Epoch    GPU_mem   box_loss   cls_loss   dfl_loss  Instances       Size\n"
     ]
    },
    {
     "name": "stderr",
     "output_type": "stream",
     "text": [
      "   196/5000      14.9G     0.4717     0.3243     0.7868        179        640: 100%|██████████| 10/10 [00:09<00:00,  1.00it/s]\n",
      "                 Class     Images  Instances      Box(P          R      mAP50  mAP50-95): 100%|██████████| 1/1 [00:00<00:00,  1.15it/s]"
     ]
    },
    {
     "name": "stdout",
     "output_type": "stream",
     "text": [
      "                   all        111        179      0.515      0.532      0.513       0.41\n"
     ]
    },
    {
     "name": "stderr",
     "output_type": "stream",
     "text": [
      "\n"
     ]
    },
    {
     "name": "stdout",
     "output_type": "stream",
     "text": [
      "\n",
      "      Epoch    GPU_mem   box_loss   cls_loss   dfl_loss  Instances       Size\n"
     ]
    },
    {
     "name": "stderr",
     "output_type": "stream",
     "text": [
      "   197/5000      15.3G     0.4647     0.3246      0.786        141        640: 100%|██████████| 10/10 [00:10<00:00,  1.02s/it]\n",
      "                 Class     Images  Instances      Box(P          R      mAP50  mAP50-95): 100%|██████████| 1/1 [00:00<00:00,  1.12it/s]"
     ]
    },
    {
     "name": "stdout",
     "output_type": "stream",
     "text": [
      "                   all        111        179      0.432      0.531      0.519      0.418\n"
     ]
    },
    {
     "name": "stderr",
     "output_type": "stream",
     "text": [
      "\n"
     ]
    },
    {
     "name": "stdout",
     "output_type": "stream",
     "text": [
      "\n",
      "      Epoch    GPU_mem   box_loss   cls_loss   dfl_loss  Instances       Size\n"
     ]
    },
    {
     "name": "stderr",
     "output_type": "stream",
     "text": [
      "   198/5000      15.3G     0.4572     0.3155     0.7801        158        640: 100%|██████████| 10/10 [00:10<00:00,  1.02s/it]\n",
      "                 Class     Images  Instances      Box(P          R      mAP50  mAP50-95): 100%|██████████| 1/1 [00:00<00:00,  1.17it/s]"
     ]
    },
    {
     "name": "stdout",
     "output_type": "stream",
     "text": [
      "                   all        111        179      0.745      0.375       0.51      0.404\n"
     ]
    },
    {
     "name": "stderr",
     "output_type": "stream",
     "text": [
      "\n"
     ]
    },
    {
     "name": "stdout",
     "output_type": "stream",
     "text": [
      "\n",
      "      Epoch    GPU_mem   box_loss   cls_loss   dfl_loss  Instances       Size\n"
     ]
    },
    {
     "name": "stderr",
     "output_type": "stream",
     "text": [
      "   199/5000      14.9G     0.4745     0.3191     0.7883        163        640: 100%|██████████| 10/10 [00:10<00:00,  1.00s/it]\n",
      "                 Class     Images  Instances      Box(P          R      mAP50  mAP50-95): 100%|██████████| 1/1 [00:00<00:00,  1.16it/s]"
     ]
    },
    {
     "name": "stdout",
     "output_type": "stream",
     "text": [
      "                   all        111        179      0.566      0.521      0.539      0.427\n"
     ]
    },
    {
     "name": "stderr",
     "output_type": "stream",
     "text": [
      "\n"
     ]
    },
    {
     "name": "stdout",
     "output_type": "stream",
     "text": [
      "\n",
      "      Epoch    GPU_mem   box_loss   cls_loss   dfl_loss  Instances       Size\n"
     ]
    },
    {
     "name": "stderr",
     "output_type": "stream",
     "text": [
      "   200/5000      15.5G     0.4887     0.3208     0.7866        132        640: 100%|██████████| 10/10 [00:10<00:00,  1.01s/it]\n",
      "                 Class     Images  Instances      Box(P          R      mAP50  mAP50-95): 100%|██████████| 1/1 [00:00<00:00,  1.13it/s]"
     ]
    },
    {
     "name": "stdout",
     "output_type": "stream",
     "text": [
      "                   all        111        179       0.62      0.455      0.525      0.418\n"
     ]
    },
    {
     "name": "stderr",
     "output_type": "stream",
     "text": [
      "\n"
     ]
    },
    {
     "name": "stdout",
     "output_type": "stream",
     "text": [
      "\n",
      "      Epoch    GPU_mem   box_loss   cls_loss   dfl_loss  Instances       Size\n"
     ]
    },
    {
     "name": "stderr",
     "output_type": "stream",
     "text": [
      "   201/5000      15.5G     0.4581     0.3141     0.7807        150        640: 100%|██████████| 10/10 [00:10<00:00,  1.00s/it]\n",
      "                 Class     Images  Instances      Box(P          R      mAP50  mAP50-95): 100%|██████████| 1/1 [00:00<00:00,  1.17it/s]"
     ]
    },
    {
     "name": "stdout",
     "output_type": "stream",
     "text": [
      "                   all        111        179      0.538      0.477      0.509      0.414\n"
     ]
    },
    {
     "name": "stderr",
     "output_type": "stream",
     "text": [
      "\n"
     ]
    },
    {
     "name": "stdout",
     "output_type": "stream",
     "text": [
      "\n",
      "      Epoch    GPU_mem   box_loss   cls_loss   dfl_loss  Instances       Size\n"
     ]
    },
    {
     "name": "stderr",
     "output_type": "stream",
     "text": [
      "   202/5000        15G      0.463     0.3097      0.786        190        640: 100%|██████████| 10/10 [00:10<00:00,  1.00s/it]\n",
      "                 Class     Images  Instances      Box(P          R      mAP50  mAP50-95): 100%|██████████| 1/1 [00:00<00:00,  1.15it/s]"
     ]
    },
    {
     "name": "stdout",
     "output_type": "stream",
     "text": [
      "                   all        111        179       0.56      0.443      0.481      0.392\n"
     ]
    },
    {
     "name": "stderr",
     "output_type": "stream",
     "text": [
      "\n"
     ]
    },
    {
     "name": "stdout",
     "output_type": "stream",
     "text": [
      "\n",
      "      Epoch    GPU_mem   box_loss   cls_loss   dfl_loss  Instances       Size\n"
     ]
    },
    {
     "name": "stderr",
     "output_type": "stream",
     "text": [
      "   203/5000      14.9G     0.4619     0.3102     0.7831        141        640: 100%|██████████| 10/10 [00:10<00:00,  1.01s/it]\n",
      "                 Class     Images  Instances      Box(P          R      mAP50  mAP50-95): 100%|██████████| 1/1 [00:00<00:00,  1.18it/s]"
     ]
    },
    {
     "name": "stdout",
     "output_type": "stream",
     "text": [
      "                   all        111        179      0.429      0.498      0.506      0.407\n"
     ]
    },
    {
     "name": "stderr",
     "output_type": "stream",
     "text": [
      "\n"
     ]
    },
    {
     "name": "stdout",
     "output_type": "stream",
     "text": [
      "\n",
      "      Epoch    GPU_mem   box_loss   cls_loss   dfl_loss  Instances       Size\n"
     ]
    },
    {
     "name": "stderr",
     "output_type": "stream",
     "text": [
      "   204/5000      15.2G     0.4698     0.3186     0.7758        184        640: 100%|██████████| 10/10 [00:10<00:00,  1.02s/it]\n",
      "                 Class     Images  Instances      Box(P          R      mAP50  mAP50-95): 100%|██████████| 1/1 [00:00<00:00,  1.18it/s]"
     ]
    },
    {
     "name": "stdout",
     "output_type": "stream",
     "text": [
      "                   all        111        179      0.501      0.563      0.544      0.439\n"
     ]
    },
    {
     "name": "stderr",
     "output_type": "stream",
     "text": [
      "\n"
     ]
    },
    {
     "name": "stdout",
     "output_type": "stream",
     "text": [
      "\n",
      "      Epoch    GPU_mem   box_loss   cls_loss   dfl_loss  Instances       Size\n"
     ]
    },
    {
     "name": "stderr",
     "output_type": "stream",
     "text": [
      "   205/5000      15.5G     0.4662     0.3216     0.7898        163        640: 100%|██████████| 10/10 [00:10<00:00,  1.01s/it]\n",
      "                 Class     Images  Instances      Box(P          R      mAP50  mAP50-95): 100%|██████████| 1/1 [00:00<00:00,  1.15it/s]"
     ]
    },
    {
     "name": "stdout",
     "output_type": "stream",
     "text": [
      "                   all        111        179      0.555      0.511      0.563      0.457\n"
     ]
    },
    {
     "name": "stderr",
     "output_type": "stream",
     "text": [
      "\n"
     ]
    },
    {
     "name": "stdout",
     "output_type": "stream",
     "text": [
      "\n",
      "      Epoch    GPU_mem   box_loss   cls_loss   dfl_loss  Instances       Size\n"
     ]
    },
    {
     "name": "stderr",
     "output_type": "stream",
     "text": [
      "   206/5000      15.3G     0.4586     0.3138     0.7888        146        640: 100%|██████████| 10/10 [00:10<00:00,  1.02s/it]\n",
      "                 Class     Images  Instances      Box(P          R      mAP50  mAP50-95): 100%|██████████| 1/1 [00:00<00:00,  1.16it/s]"
     ]
    },
    {
     "name": "stdout",
     "output_type": "stream",
     "text": [
      "                   all        111        179      0.517      0.539      0.523      0.429\n"
     ]
    },
    {
     "name": "stderr",
     "output_type": "stream",
     "text": [
      "\n"
     ]
    },
    {
     "name": "stdout",
     "output_type": "stream",
     "text": [
      "\n",
      "      Epoch    GPU_mem   box_loss   cls_loss   dfl_loss  Instances       Size\n"
     ]
    },
    {
     "name": "stderr",
     "output_type": "stream",
     "text": [
      "   207/5000      15.3G     0.4704      0.319     0.7824        135        640: 100%|██████████| 10/10 [00:10<00:00,  1.02s/it]\n",
      "                 Class     Images  Instances      Box(P          R      mAP50  mAP50-95): 100%|██████████| 1/1 [00:00<00:00,  1.17it/s]"
     ]
    },
    {
     "name": "stdout",
     "output_type": "stream",
     "text": [
      "                   all        111        179      0.644      0.453      0.518      0.411\n"
     ]
    },
    {
     "name": "stderr",
     "output_type": "stream",
     "text": [
      "\n"
     ]
    },
    {
     "name": "stdout",
     "output_type": "stream",
     "text": [
      "\n",
      "      Epoch    GPU_mem   box_loss   cls_loss   dfl_loss  Instances       Size\n"
     ]
    },
    {
     "name": "stderr",
     "output_type": "stream",
     "text": [
      "   208/5000      15.3G     0.4655     0.3202     0.7818        151        640: 100%|██████████| 10/10 [00:10<00:00,  1.02s/it]\n",
      "                 Class     Images  Instances      Box(P          R      mAP50  mAP50-95): 100%|██████████| 1/1 [00:00<00:00,  1.13it/s]"
     ]
    },
    {
     "name": "stdout",
     "output_type": "stream",
     "text": [
      "                   all        111        179       0.51      0.542      0.525       0.42\n"
     ]
    },
    {
     "name": "stderr",
     "output_type": "stream",
     "text": [
      "\n"
     ]
    },
    {
     "name": "stdout",
     "output_type": "stream",
     "text": [
      "\n",
      "      Epoch    GPU_mem   box_loss   cls_loss   dfl_loss  Instances       Size\n"
     ]
    },
    {
     "name": "stderr",
     "output_type": "stream",
     "text": [
      "   209/5000      15.3G     0.4675     0.3162     0.7852        167        640: 100%|██████████| 10/10 [00:10<00:00,  1.02s/it]\n",
      "                 Class     Images  Instances      Box(P          R      mAP50  mAP50-95): 100%|██████████| 1/1 [00:00<00:00,  1.17it/s]"
     ]
    },
    {
     "name": "stdout",
     "output_type": "stream",
     "text": [
      "                   all        111        179      0.483      0.596      0.527      0.417\n"
     ]
    },
    {
     "name": "stderr",
     "output_type": "stream",
     "text": [
      "\n"
     ]
    },
    {
     "name": "stdout",
     "output_type": "stream",
     "text": [
      "\n",
      "      Epoch    GPU_mem   box_loss   cls_loss   dfl_loss  Instances       Size\n"
     ]
    },
    {
     "name": "stderr",
     "output_type": "stream",
     "text": [
      "   210/5000      14.9G     0.4647     0.3186     0.7907        140        640: 100%|██████████| 10/10 [00:10<00:00,  1.01s/it]\n",
      "                 Class     Images  Instances      Box(P          R      mAP50  mAP50-95): 100%|██████████| 1/1 [00:00<00:00,  1.13it/s]"
     ]
    },
    {
     "name": "stdout",
     "output_type": "stream",
     "text": [
      "                   all        111        179      0.517      0.521      0.504      0.407\n"
     ]
    },
    {
     "name": "stderr",
     "output_type": "stream",
     "text": [
      "\n"
     ]
    },
    {
     "name": "stdout",
     "output_type": "stream",
     "text": [
      "\n",
      "      Epoch    GPU_mem   box_loss   cls_loss   dfl_loss  Instances       Size\n"
     ]
    },
    {
     "name": "stderr",
     "output_type": "stream",
     "text": [
      "   211/5000      14.7G     0.4601     0.3226      0.789        164        640: 100%|██████████| 10/10 [00:10<00:00,  1.01s/it]\n",
      "                 Class     Images  Instances      Box(P          R      mAP50  mAP50-95): 100%|██████████| 1/1 [00:00<00:00,  1.42it/s]"
     ]
    },
    {
     "name": "stdout",
     "output_type": "stream",
     "text": [
      "                   all        111        179      0.465      0.593      0.519      0.423\n"
     ]
    },
    {
     "name": "stderr",
     "output_type": "stream",
     "text": [
      "\n"
     ]
    },
    {
     "name": "stdout",
     "output_type": "stream",
     "text": [
      "\n",
      "      Epoch    GPU_mem   box_loss   cls_loss   dfl_loss  Instances       Size\n"
     ]
    },
    {
     "name": "stderr",
     "output_type": "stream",
     "text": [
      "   212/5000        15G     0.4657     0.3219     0.7799        134        640: 100%|██████████| 10/10 [00:10<00:00,  1.01s/it]\n",
      "                 Class     Images  Instances      Box(P          R      mAP50  mAP50-95): 100%|██████████| 1/1 [00:00<00:00,  1.02it/s]"
     ]
    },
    {
     "name": "stdout",
     "output_type": "stream",
     "text": [
      "                   all        111        179      0.621      0.455      0.505      0.411\n"
     ]
    },
    {
     "name": "stderr",
     "output_type": "stream",
     "text": [
      "\n"
     ]
    },
    {
     "name": "stdout",
     "output_type": "stream",
     "text": [
      "\n",
      "      Epoch    GPU_mem   box_loss   cls_loss   dfl_loss  Instances       Size\n"
     ]
    },
    {
     "name": "stderr",
     "output_type": "stream",
     "text": [
      "   213/5000      14.9G     0.4621     0.3101     0.7862        150        640: 100%|██████████| 10/10 [00:10<00:00,  1.01s/it]\n",
      "                 Class     Images  Instances      Box(P          R      mAP50  mAP50-95): 100%|██████████| 1/1 [00:00<00:00,  1.15it/s]"
     ]
    },
    {
     "name": "stdout",
     "output_type": "stream",
     "text": [
      "                   all        111        179      0.563      0.469      0.486      0.391\n"
     ]
    },
    {
     "name": "stderr",
     "output_type": "stream",
     "text": [
      "\n"
     ]
    },
    {
     "name": "stdout",
     "output_type": "stream",
     "text": [
      "\n",
      "      Epoch    GPU_mem   box_loss   cls_loss   dfl_loss  Instances       Size\n"
     ]
    },
    {
     "name": "stderr",
     "output_type": "stream",
     "text": [
      "   214/5000      15.2G      0.473     0.3199     0.7816        173        640: 100%|██████████| 10/10 [00:10<00:00,  1.02s/it]\n",
      "                 Class     Images  Instances      Box(P          R      mAP50  mAP50-95): 100%|██████████| 1/1 [00:00<00:00,  1.16it/s]"
     ]
    },
    {
     "name": "stdout",
     "output_type": "stream",
     "text": [
      "                   all        111        179      0.585      0.482      0.529      0.425\n"
     ]
    },
    {
     "name": "stderr",
     "output_type": "stream",
     "text": [
      "\n"
     ]
    },
    {
     "name": "stdout",
     "output_type": "stream",
     "text": [
      "\n",
      "      Epoch    GPU_mem   box_loss   cls_loss   dfl_loss  Instances       Size\n"
     ]
    },
    {
     "name": "stderr",
     "output_type": "stream",
     "text": [
      "   215/5000      14.9G     0.4732     0.3271     0.7892        136        640: 100%|██████████| 10/10 [00:10<00:00,  1.00s/it]\n",
      "                 Class     Images  Instances      Box(P          R      mAP50  mAP50-95): 100%|██████████| 1/1 [00:00<00:00,  1.17it/s]"
     ]
    },
    {
     "name": "stdout",
     "output_type": "stream",
     "text": [
      "                   all        111        179      0.504      0.544      0.547      0.436\n"
     ]
    },
    {
     "name": "stderr",
     "output_type": "stream",
     "text": [
      "\n"
     ]
    },
    {
     "name": "stdout",
     "output_type": "stream",
     "text": [
      "\n",
      "      Epoch    GPU_mem   box_loss   cls_loss   dfl_loss  Instances       Size\n"
     ]
    },
    {
     "name": "stderr",
     "output_type": "stream",
     "text": [
      "   216/5000      15.3G     0.4481       0.32     0.7897        155        640: 100%|██████████| 10/10 [00:10<00:00,  1.03s/it]\n",
      "                 Class     Images  Instances      Box(P          R      mAP50  mAP50-95): 100%|██████████| 1/1 [00:00<00:00,  1.16it/s]"
     ]
    },
    {
     "name": "stdout",
     "output_type": "stream",
     "text": [
      "                   all        111        179      0.658      0.457      0.549      0.446\n"
     ]
    },
    {
     "name": "stderr",
     "output_type": "stream",
     "text": [
      "\n"
     ]
    },
    {
     "name": "stdout",
     "output_type": "stream",
     "text": [
      "\n",
      "      Epoch    GPU_mem   box_loss   cls_loss   dfl_loss  Instances       Size\n"
     ]
    },
    {
     "name": "stderr",
     "output_type": "stream",
     "text": [
      "   217/5000      15.2G     0.4488     0.3031     0.7879        171        640: 100%|██████████| 10/10 [00:10<00:00,  1.02s/it]\n",
      "                 Class     Images  Instances      Box(P          R      mAP50  mAP50-95): 100%|██████████| 1/1 [00:00<00:00,  1.17it/s]"
     ]
    },
    {
     "name": "stdout",
     "output_type": "stream",
     "text": [
      "                   all        111        179      0.661      0.437      0.512      0.418\n"
     ]
    },
    {
     "name": "stderr",
     "output_type": "stream",
     "text": [
      "\n"
     ]
    },
    {
     "name": "stdout",
     "output_type": "stream",
     "text": [
      "\n",
      "      Epoch    GPU_mem   box_loss   cls_loss   dfl_loss  Instances       Size\n"
     ]
    },
    {
     "name": "stderr",
     "output_type": "stream",
     "text": [
      "   218/5000      14.9G     0.4494     0.3162     0.7845        154        640: 100%|██████████| 10/10 [00:10<00:00,  1.01s/it]\n",
      "                 Class     Images  Instances      Box(P          R      mAP50  mAP50-95): 100%|██████████| 1/1 [00:00<00:00,  1.16it/s]"
     ]
    },
    {
     "name": "stdout",
     "output_type": "stream",
     "text": [
      "                   all        111        179      0.653      0.436      0.544      0.447\n"
     ]
    },
    {
     "name": "stderr",
     "output_type": "stream",
     "text": [
      "\n"
     ]
    },
    {
     "name": "stdout",
     "output_type": "stream",
     "text": [
      "\n",
      "      Epoch    GPU_mem   box_loss   cls_loss   dfl_loss  Instances       Size\n"
     ]
    },
    {
     "name": "stderr",
     "output_type": "stream",
     "text": [
      "   219/5000        15G     0.4567     0.3137     0.7875        161        640: 100%|██████████| 10/10 [00:10<00:00,  1.01s/it]\n",
      "                 Class     Images  Instances      Box(P          R      mAP50  mAP50-95): 100%|██████████| 1/1 [00:00<00:00,  1.14it/s]"
     ]
    },
    {
     "name": "stdout",
     "output_type": "stream",
     "text": [
      "                   all        111        179      0.512       0.59      0.545      0.446\n"
     ]
    },
    {
     "name": "stderr",
     "output_type": "stream",
     "text": [
      "\n"
     ]
    },
    {
     "name": "stdout",
     "output_type": "stream",
     "text": [
      "\n",
      "      Epoch    GPU_mem   box_loss   cls_loss   dfl_loss  Instances       Size\n"
     ]
    },
    {
     "name": "stderr",
     "output_type": "stream",
     "text": [
      "   220/5000      14.9G     0.4387     0.3091      0.779        158        640: 100%|██████████| 10/10 [00:10<00:00,  1.01s/it]\n",
      "                 Class     Images  Instances      Box(P          R      mAP50  mAP50-95): 100%|██████████| 1/1 [00:00<00:00,  1.18it/s]"
     ]
    },
    {
     "name": "stdout",
     "output_type": "stream",
     "text": [
      "                   all        111        179      0.538      0.498      0.538      0.439\n"
     ]
    },
    {
     "name": "stderr",
     "output_type": "stream",
     "text": [
      "\n"
     ]
    },
    {
     "name": "stdout",
     "output_type": "stream",
     "text": [
      "\n",
      "      Epoch    GPU_mem   box_loss   cls_loss   dfl_loss  Instances       Size\n"
     ]
    },
    {
     "name": "stderr",
     "output_type": "stream",
     "text": [
      "   221/5000      15.6G     0.4622     0.3136     0.7832        161        640: 100%|██████████| 10/10 [00:10<00:00,  1.01s/it]\n",
      "                 Class     Images  Instances      Box(P          R      mAP50  mAP50-95): 100%|██████████| 1/1 [00:00<00:00,  1.08it/s]"
     ]
    },
    {
     "name": "stdout",
     "output_type": "stream",
     "text": [
      "                   all        111        179      0.507      0.583      0.537      0.436\n"
     ]
    },
    {
     "name": "stderr",
     "output_type": "stream",
     "text": [
      "\n"
     ]
    },
    {
     "name": "stdout",
     "output_type": "stream",
     "text": [
      "\n",
      "      Epoch    GPU_mem   box_loss   cls_loss   dfl_loss  Instances       Size\n"
     ]
    },
    {
     "name": "stderr",
     "output_type": "stream",
     "text": [
      "   222/5000      15.6G     0.4643     0.3145     0.7872        160        640: 100%|██████████| 10/10 [00:10<00:00,  1.00s/it]\n",
      "                 Class     Images  Instances      Box(P          R      mAP50  mAP50-95): 100%|██████████| 1/1 [00:00<00:00,  1.12it/s]"
     ]
    },
    {
     "name": "stdout",
     "output_type": "stream",
     "text": [
      "                   all        111        179      0.644      0.502      0.552      0.449\n"
     ]
    },
    {
     "name": "stderr",
     "output_type": "stream",
     "text": [
      "\n"
     ]
    },
    {
     "name": "stdout",
     "output_type": "stream",
     "text": [
      "\n",
      "      Epoch    GPU_mem   box_loss   cls_loss   dfl_loss  Instances       Size\n"
     ]
    },
    {
     "name": "stderr",
     "output_type": "stream",
     "text": [
      "   223/5000        15G     0.4523     0.3075       0.79        143        640: 100%|██████████| 10/10 [00:10<00:00,  1.00s/it]\n",
      "                 Class     Images  Instances      Box(P          R      mAP50  mAP50-95): 100%|██████████| 1/1 [00:00<00:00,  1.13it/s]"
     ]
    },
    {
     "name": "stdout",
     "output_type": "stream",
     "text": [
      "                   all        111        179      0.579      0.553      0.556      0.452\n"
     ]
    },
    {
     "name": "stderr",
     "output_type": "stream",
     "text": [
      "\n"
     ]
    },
    {
     "name": "stdout",
     "output_type": "stream",
     "text": [
      "\n",
      "      Epoch    GPU_mem   box_loss   cls_loss   dfl_loss  Instances       Size\n"
     ]
    },
    {
     "name": "stderr",
     "output_type": "stream",
     "text": [
      "   224/5000      15.3G     0.4459     0.2952     0.7812        174        640: 100%|██████████| 10/10 [00:10<00:00,  1.02s/it]\n",
      "                 Class     Images  Instances      Box(P          R      mAP50  mAP50-95): 100%|██████████| 1/1 [00:00<00:00,  1.14it/s]"
     ]
    },
    {
     "name": "stdout",
     "output_type": "stream",
     "text": [
      "                   all        111        179      0.535      0.576      0.547      0.445\n"
     ]
    },
    {
     "name": "stderr",
     "output_type": "stream",
     "text": [
      "\n"
     ]
    },
    {
     "name": "stdout",
     "output_type": "stream",
     "text": [
      "\n",
      "      Epoch    GPU_mem   box_loss   cls_loss   dfl_loss  Instances       Size\n"
     ]
    },
    {
     "name": "stderr",
     "output_type": "stream",
     "text": [
      "   225/5000      15.3G      0.456     0.3135     0.7813        152        640: 100%|██████████| 10/10 [00:10<00:00,  1.03s/it]\n",
      "                 Class     Images  Instances      Box(P          R      mAP50  mAP50-95): 100%|██████████| 1/1 [00:00<00:00,  1.12it/s]"
     ]
    },
    {
     "name": "stdout",
     "output_type": "stream",
     "text": [
      "                   all        111        179      0.593      0.549       0.55      0.448\n"
     ]
    },
    {
     "name": "stderr",
     "output_type": "stream",
     "text": [
      "\n"
     ]
    },
    {
     "name": "stdout",
     "output_type": "stream",
     "text": [
      "\n",
      "      Epoch    GPU_mem   box_loss   cls_loss   dfl_loss  Instances       Size\n"
     ]
    },
    {
     "name": "stderr",
     "output_type": "stream",
     "text": [
      "   226/5000      15.3G     0.4582     0.3069     0.7894        168        640: 100%|██████████| 10/10 [00:10<00:00,  1.02s/it]\n",
      "                 Class     Images  Instances      Box(P          R      mAP50  mAP50-95): 100%|██████████| 1/1 [00:00<00:00,  1.08it/s]"
     ]
    },
    {
     "name": "stdout",
     "output_type": "stream",
     "text": [
      "                   all        111        179      0.631      0.475      0.534      0.437\n"
     ]
    },
    {
     "name": "stderr",
     "output_type": "stream",
     "text": [
      "\n"
     ]
    },
    {
     "name": "stdout",
     "output_type": "stream",
     "text": [
      "\n",
      "      Epoch    GPU_mem   box_loss   cls_loss   dfl_loss  Instances       Size\n"
     ]
    },
    {
     "name": "stderr",
     "output_type": "stream",
     "text": [
      "   227/5000      15.3G     0.4384     0.3014     0.7801        142        640: 100%|██████████| 10/10 [00:10<00:00,  1.02s/it]\n",
      "                 Class     Images  Instances      Box(P          R      mAP50  mAP50-95): 100%|██████████| 1/1 [00:00<00:00,  1.18it/s]"
     ]
    },
    {
     "name": "stdout",
     "output_type": "stream",
     "text": [
      "                   all        111        179      0.552      0.521      0.497      0.405\n"
     ]
    },
    {
     "name": "stderr",
     "output_type": "stream",
     "text": [
      "\n"
     ]
    },
    {
     "name": "stdout",
     "output_type": "stream",
     "text": [
      "\n",
      "      Epoch    GPU_mem   box_loss   cls_loss   dfl_loss  Instances       Size\n"
     ]
    },
    {
     "name": "stderr",
     "output_type": "stream",
     "text": [
      "   228/5000        15G     0.4476     0.3066      0.787        144        640: 100%|██████████| 10/10 [00:10<00:00,  1.00s/it]\n",
      "                 Class     Images  Instances      Box(P          R      mAP50  mAP50-95): 100%|██████████| 1/1 [00:00<00:00,  1.14it/s]"
     ]
    },
    {
     "name": "stdout",
     "output_type": "stream",
     "text": [
      "                   all        111        179       0.65      0.439      0.524      0.421\n"
     ]
    },
    {
     "name": "stderr",
     "output_type": "stream",
     "text": [
      "\n"
     ]
    },
    {
     "name": "stdout",
     "output_type": "stream",
     "text": [
      "\n",
      "      Epoch    GPU_mem   box_loss   cls_loss   dfl_loss  Instances       Size\n"
     ]
    },
    {
     "name": "stderr",
     "output_type": "stream",
     "text": [
      "   229/5000      15.6G     0.4592     0.3044     0.7916        158        640: 100%|██████████| 10/10 [00:10<00:00,  1.01s/it]\n",
      "                 Class     Images  Instances      Box(P          R      mAP50  mAP50-95): 100%|██████████| 1/1 [00:00<00:00,  1.15it/s]"
     ]
    },
    {
     "name": "stdout",
     "output_type": "stream",
     "text": [
      "                   all        111        179      0.481      0.509      0.511      0.412\n"
     ]
    },
    {
     "name": "stderr",
     "output_type": "stream",
     "text": [
      "\n"
     ]
    },
    {
     "name": "stdout",
     "output_type": "stream",
     "text": [
      "\n",
      "      Epoch    GPU_mem   box_loss   cls_loss   dfl_loss  Instances       Size\n"
     ]
    },
    {
     "name": "stderr",
     "output_type": "stream",
     "text": [
      "   230/5000      14.9G      0.468     0.3086      0.786        153        640: 100%|██████████| 10/10 [00:10<00:00,  1.01s/it]\n",
      "                 Class     Images  Instances      Box(P          R      mAP50  mAP50-95): 100%|██████████| 1/1 [00:00<00:00,  1.18it/s]"
     ]
    },
    {
     "name": "stdout",
     "output_type": "stream",
     "text": [
      "                   all        111        179      0.612      0.454      0.491      0.396\n"
     ]
    },
    {
     "name": "stderr",
     "output_type": "stream",
     "text": [
      "\n"
     ]
    },
    {
     "name": "stdout",
     "output_type": "stream",
     "text": [
      "\n",
      "      Epoch    GPU_mem   box_loss   cls_loss   dfl_loss  Instances       Size\n"
     ]
    },
    {
     "name": "stderr",
     "output_type": "stream",
     "text": [
      "   231/5000        15G     0.4516     0.3099     0.7812        134        640: 100%|██████████| 10/10 [00:10<00:00,  1.01s/it]\n",
      "                 Class     Images  Instances      Box(P          R      mAP50  mAP50-95): 100%|██████████| 1/1 [00:00<00:00,  1.17it/s]"
     ]
    },
    {
     "name": "stdout",
     "output_type": "stream",
     "text": [
      "                   all        111        179      0.533      0.532       0.49      0.405\n"
     ]
    },
    {
     "name": "stderr",
     "output_type": "stream",
     "text": [
      "\n"
     ]
    },
    {
     "name": "stdout",
     "output_type": "stream",
     "text": [
      "\n",
      "      Epoch    GPU_mem   box_loss   cls_loss   dfl_loss  Instances       Size\n"
     ]
    },
    {
     "name": "stderr",
     "output_type": "stream",
     "text": [
      "   232/5000      15.5G      0.456     0.3078      0.783        147        640: 100%|██████████| 10/10 [00:10<00:00,  1.01s/it]\n",
      "                 Class     Images  Instances      Box(P          R      mAP50  mAP50-95): 100%|██████████| 1/1 [00:00<00:00,  1.16it/s]"
     ]
    },
    {
     "name": "stdout",
     "output_type": "stream",
     "text": [
      "                   all        111        179      0.487      0.541      0.497      0.407\n"
     ]
    },
    {
     "name": "stderr",
     "output_type": "stream",
     "text": [
      "\n"
     ]
    },
    {
     "name": "stdout",
     "output_type": "stream",
     "text": [
      "\n",
      "      Epoch    GPU_mem   box_loss   cls_loss   dfl_loss  Instances       Size\n"
     ]
    },
    {
     "name": "stderr",
     "output_type": "stream",
     "text": [
      "   233/5000      15.2G     0.4569     0.2974     0.7854        155        640: 100%|██████████| 10/10 [00:10<00:00,  1.02s/it]\n",
      "                 Class     Images  Instances      Box(P          R      mAP50  mAP50-95): 100%|██████████| 1/1 [00:00<00:00,  1.16it/s]"
     ]
    },
    {
     "name": "stdout",
     "output_type": "stream",
     "text": [
      "                   all        111        179      0.655      0.455      0.508      0.412\n",
      "\u001b[34m\u001b[1mEarlyStopping: \u001b[0mTraining stopped early as no improvement observed in last 100 epochs. Best results observed at epoch 133, best model saved as best.pt.\n",
      "To update EarlyStopping(patience=100) pass a new patience value, i.e. `patience=300` or use `patience=0` to disable EarlyStopping.\n"
     ]
    },
    {
     "name": "stderr",
     "output_type": "stream",
     "text": [
      "\n"
     ]
    },
    {
     "name": "stdout",
     "output_type": "stream",
     "text": [
      "\n",
      "233 epochs completed in 0.774 hours.\n",
      "Optimizer stripped from runs/detect/train/weights/last.pt, 22.6MB\n",
      "Optimizer stripped from runs/detect/train/weights/best.pt, 22.5MB\n",
      "\n",
      "Validating runs/detect/train/weights/best.pt...\n",
      "Ultralytics YOLOv8.2.33 🚀 Python-3.10.13 torch-2.1.2 CUDA:0 (Tesla T4, 15102MiB)\n",
      "Model summary (fused): 168 layers, 11142225 parameters, 0 gradients, 28.5 GFLOPs\n"
     ]
    },
    {
     "name": "stderr",
     "output_type": "stream",
     "text": [
      "                 Class     Images  Instances      Box(P          R      mAP50  mAP50-95): 100%|██████████| 1/1 [00:00<00:00,  1.21it/s]\n"
     ]
    },
    {
     "name": "stdout",
     "output_type": "stream",
     "text": [
      "                   all        111        179       0.63      0.574      0.593      0.486\n",
      "                class0          2          2          1          0          0          0\n",
      "                class1         15         15      0.642      0.933      0.675      0.521\n",
      "                class2         10         10      0.491        0.7      0.731      0.609\n",
      "                class3          4          6      0.527      0.667      0.566      0.466\n",
      "                class4          3          3      0.304      0.333      0.385      0.343\n",
      "                class5          3          5      0.157        0.2      0.279      0.192\n",
      "                class6          2          4       0.51          1      0.787      0.556\n",
      "                class7          3          5      0.438          1       0.75      0.665\n",
      "                class8          5          8      0.427       0.75      0.725      0.572\n",
      "                class9          1          1      0.552          1      0.995      0.895\n",
      "               class10          9         15      0.927      0.853      0.934       0.68\n",
      "               class11          3          4      0.291          1      0.788       0.61\n",
      "               class12         11         11      0.923          1      0.995      0.823\n",
      "               class13         11         14      0.969      0.857       0.89      0.626\n",
      "               class14          2          2      0.706          1      0.995      0.947\n",
      "               class16          1          1      0.347          1      0.995      0.697\n",
      "               class17          5          8      0.732      0.625      0.811      0.582\n",
      "               class18          3          3      0.251          1      0.789      0.698\n",
      "               class19          1          1          1          0          0          0\n",
      "               class20          1          2          1          0          0          0\n",
      "               class21          1          1          1          0     0.0829     0.0829\n",
      "               class22          3          3       0.24      0.333      0.204      0.181\n",
      "               class23          3          4      0.443       0.75      0.711      0.626\n",
      "               class25          7          9      0.639      0.667      0.799      0.709\n",
      "               class26          1          1      0.157          1      0.995      0.895\n",
      "               class28          3          3          0          0      0.241      0.201\n",
      "               class29          2          2      0.552          1      0.663      0.543\n",
      "               class30          1          2      0.132        0.5      0.606      0.545\n",
      "               class31          1          1          1          0          0          0\n",
      "               class32          2          4      0.774       0.75      0.836      0.655\n",
      "               class34          2          2          1          0      0.199     0.0794\n",
      "               class35          2          2      0.571        0.5      0.513      0.462\n",
      "               class38         17         17      0.777      0.824      0.862      0.659\n",
      "               class39          1          1      0.839          1      0.995      0.895\n",
      "               class40          1          1          1          0          0          0\n",
      "               class41          2          3          1          0      0.376      0.339\n",
      "               class42          2          3          1          0      0.764      0.628\n",
      "Speed: 0.1ms preprocess, 3.2ms inference, 0.0ms loss, 0.7ms postprocess per image\n",
      "Results saved to \u001b[1mruns/detect/train\u001b[0m\n"
     ]
    },
    {
     "data": {
      "text/plain": [
       "ultralytics.utils.metrics.DetMetrics object with attributes:\n",
       "\n",
       "ap_class_index: array([ 0,  1,  2,  3,  4,  5,  6,  7,  8,  9, 10, 11, 12, 13, 14, 16, 17, 18, 19, 20, 21, 22, 23, 25, 26, 28, 29, 30, 31, 32, 34, 35, 38, 39, 40, 41, 42])\n",
       "box: ultralytics.utils.metrics.Metric object\n",
       "confusion_matrix: <ultralytics.utils.metrics.ConfusionMatrix object at 0x78bf082ea6b0>\n",
       "curves: ['Precision-Recall(B)', 'F1-Confidence(B)', 'Precision-Confidence(B)', 'Recall-Confidence(B)']\n",
       "curves_results: [[array([          0,    0.001001,    0.002002,    0.003003,    0.004004,    0.005005,    0.006006,    0.007007,    0.008008,    0.009009,     0.01001,    0.011011,    0.012012,    0.013013,    0.014014,    0.015015,    0.016016,    0.017017,    0.018018,    0.019019,     0.02002,    0.021021,    0.022022,    0.023023,\n",
       "          0.024024,    0.025025,    0.026026,    0.027027,    0.028028,    0.029029,     0.03003,    0.031031,    0.032032,    0.033033,    0.034034,    0.035035,    0.036036,    0.037037,    0.038038,    0.039039,     0.04004,    0.041041,    0.042042,    0.043043,    0.044044,    0.045045,    0.046046,    0.047047,\n",
       "          0.048048,    0.049049,     0.05005,    0.051051,    0.052052,    0.053053,    0.054054,    0.055055,    0.056056,    0.057057,    0.058058,    0.059059,     0.06006,    0.061061,    0.062062,    0.063063,    0.064064,    0.065065,    0.066066,    0.067067,    0.068068,    0.069069,     0.07007,    0.071071,\n",
       "          0.072072,    0.073073,    0.074074,    0.075075,    0.076076,    0.077077,    0.078078,    0.079079,     0.08008,    0.081081,    0.082082,    0.083083,    0.084084,    0.085085,    0.086086,    0.087087,    0.088088,    0.089089,     0.09009,    0.091091,    0.092092,    0.093093,    0.094094,    0.095095,\n",
       "          0.096096,    0.097097,    0.098098,    0.099099,      0.1001,      0.1011,      0.1021,      0.1031,      0.1041,     0.10511,     0.10611,     0.10711,     0.10811,     0.10911,     0.11011,     0.11111,     0.11211,     0.11311,     0.11411,     0.11512,     0.11612,     0.11712,     0.11812,     0.11912,\n",
       "           0.12012,     0.12112,     0.12212,     0.12312,     0.12412,     0.12513,     0.12613,     0.12713,     0.12813,     0.12913,     0.13013,     0.13113,     0.13213,     0.13313,     0.13413,     0.13514,     0.13614,     0.13714,     0.13814,     0.13914,     0.14014,     0.14114,     0.14214,     0.14314,\n",
       "           0.14414,     0.14515,     0.14615,     0.14715,     0.14815,     0.14915,     0.15015,     0.15115,     0.15215,     0.15315,     0.15415,     0.15516,     0.15616,     0.15716,     0.15816,     0.15916,     0.16016,     0.16116,     0.16216,     0.16316,     0.16416,     0.16517,     0.16617,     0.16717,\n",
       "           0.16817,     0.16917,     0.17017,     0.17117,     0.17217,     0.17317,     0.17417,     0.17518,     0.17618,     0.17718,     0.17818,     0.17918,     0.18018,     0.18118,     0.18218,     0.18318,     0.18418,     0.18519,     0.18619,     0.18719,     0.18819,     0.18919,     0.19019,     0.19119,\n",
       "           0.19219,     0.19319,     0.19419,      0.1952,      0.1962,      0.1972,      0.1982,      0.1992,      0.2002,      0.2012,      0.2022,      0.2032,      0.2042,     0.20521,     0.20621,     0.20721,     0.20821,     0.20921,     0.21021,     0.21121,     0.21221,     0.21321,     0.21421,     0.21522,\n",
       "           0.21622,     0.21722,     0.21822,     0.21922,     0.22022,     0.22122,     0.22222,     0.22322,     0.22422,     0.22523,     0.22623,     0.22723,     0.22823,     0.22923,     0.23023,     0.23123,     0.23223,     0.23323,     0.23423,     0.23524,     0.23624,     0.23724,     0.23824,     0.23924,\n",
       "           0.24024,     0.24124,     0.24224,     0.24324,     0.24424,     0.24525,     0.24625,     0.24725,     0.24825,     0.24925,     0.25025,     0.25125,     0.25225,     0.25325,     0.25425,     0.25526,     0.25626,     0.25726,     0.25826,     0.25926,     0.26026,     0.26126,     0.26226,     0.26326,\n",
       "           0.26426,     0.26527,     0.26627,     0.26727,     0.26827,     0.26927,     0.27027,     0.27127,     0.27227,     0.27327,     0.27427,     0.27528,     0.27628,     0.27728,     0.27828,     0.27928,     0.28028,     0.28128,     0.28228,     0.28328,     0.28428,     0.28529,     0.28629,     0.28729,\n",
       "           0.28829,     0.28929,     0.29029,     0.29129,     0.29229,     0.29329,     0.29429,      0.2953,      0.2963,      0.2973,      0.2983,      0.2993,      0.3003,      0.3013,      0.3023,      0.3033,      0.3043,     0.30531,     0.30631,     0.30731,     0.30831,     0.30931,     0.31031,     0.31131,\n",
       "           0.31231,     0.31331,     0.31431,     0.31532,     0.31632,     0.31732,     0.31832,     0.31932,     0.32032,     0.32132,     0.32232,     0.32332,     0.32432,     0.32533,     0.32633,     0.32733,     0.32833,     0.32933,     0.33033,     0.33133,     0.33233,     0.33333,     0.33433,     0.33534,\n",
       "           0.33634,     0.33734,     0.33834,     0.33934,     0.34034,     0.34134,     0.34234,     0.34334,     0.34434,     0.34535,     0.34635,     0.34735,     0.34835,     0.34935,     0.35035,     0.35135,     0.35235,     0.35335,     0.35435,     0.35536,     0.35636,     0.35736,     0.35836,     0.35936,\n",
       "           0.36036,     0.36136,     0.36236,     0.36336,     0.36436,     0.36537,     0.36637,     0.36737,     0.36837,     0.36937,     0.37037,     0.37137,     0.37237,     0.37337,     0.37437,     0.37538,     0.37638,     0.37738,     0.37838,     0.37938,     0.38038,     0.38138,     0.38238,     0.38338,\n",
       "           0.38438,     0.38539,     0.38639,     0.38739,     0.38839,     0.38939,     0.39039,     0.39139,     0.39239,     0.39339,     0.39439,      0.3954,      0.3964,      0.3974,      0.3984,      0.3994,      0.4004,      0.4014,      0.4024,      0.4034,      0.4044,     0.40541,     0.40641,     0.40741,\n",
       "           0.40841,     0.40941,     0.41041,     0.41141,     0.41241,     0.41341,     0.41441,     0.41542,     0.41642,     0.41742,     0.41842,     0.41942,     0.42042,     0.42142,     0.42242,     0.42342,     0.42442,     0.42543,     0.42643,     0.42743,     0.42843,     0.42943,     0.43043,     0.43143,\n",
       "           0.43243,     0.43343,     0.43443,     0.43544,     0.43644,     0.43744,     0.43844,     0.43944,     0.44044,     0.44144,     0.44244,     0.44344,     0.44444,     0.44545,     0.44645,     0.44745,     0.44845,     0.44945,     0.45045,     0.45145,     0.45245,     0.45345,     0.45445,     0.45546,\n",
       "           0.45646,     0.45746,     0.45846,     0.45946,     0.46046,     0.46146,     0.46246,     0.46346,     0.46446,     0.46547,     0.46647,     0.46747,     0.46847,     0.46947,     0.47047,     0.47147,     0.47247,     0.47347,     0.47447,     0.47548,     0.47648,     0.47748,     0.47848,     0.47948,\n",
       "           0.48048,     0.48148,     0.48248,     0.48348,     0.48448,     0.48549,     0.48649,     0.48749,     0.48849,     0.48949,     0.49049,     0.49149,     0.49249,     0.49349,     0.49449,      0.4955,      0.4965,      0.4975,      0.4985,      0.4995,      0.5005,      0.5015,      0.5025,      0.5035,\n",
       "            0.5045,     0.50551,     0.50651,     0.50751,     0.50851,     0.50951,     0.51051,     0.51151,     0.51251,     0.51351,     0.51451,     0.51552,     0.51652,     0.51752,     0.51852,     0.51952,     0.52052,     0.52152,     0.52252,     0.52352,     0.52452,     0.52553,     0.52653,     0.52753,\n",
       "           0.52853,     0.52953,     0.53053,     0.53153,     0.53253,     0.53353,     0.53453,     0.53554,     0.53654,     0.53754,     0.53854,     0.53954,     0.54054,     0.54154,     0.54254,     0.54354,     0.54454,     0.54555,     0.54655,     0.54755,     0.54855,     0.54955,     0.55055,     0.55155,\n",
       "           0.55255,     0.55355,     0.55455,     0.55556,     0.55656,     0.55756,     0.55856,     0.55956,     0.56056,     0.56156,     0.56256,     0.56356,     0.56456,     0.56557,     0.56657,     0.56757,     0.56857,     0.56957,     0.57057,     0.57157,     0.57257,     0.57357,     0.57457,     0.57558,\n",
       "           0.57658,     0.57758,     0.57858,     0.57958,     0.58058,     0.58158,     0.58258,     0.58358,     0.58458,     0.58559,     0.58659,     0.58759,     0.58859,     0.58959,     0.59059,     0.59159,     0.59259,     0.59359,     0.59459,      0.5956,      0.5966,      0.5976,      0.5986,      0.5996,\n",
       "            0.6006,      0.6016,      0.6026,      0.6036,      0.6046,     0.60561,     0.60661,     0.60761,     0.60861,     0.60961,     0.61061,     0.61161,     0.61261,     0.61361,     0.61461,     0.61562,     0.61662,     0.61762,     0.61862,     0.61962,     0.62062,     0.62162,     0.62262,     0.62362,\n",
       "           0.62462,     0.62563,     0.62663,     0.62763,     0.62863,     0.62963,     0.63063,     0.63163,     0.63263,     0.63363,     0.63463,     0.63564,     0.63664,     0.63764,     0.63864,     0.63964,     0.64064,     0.64164,     0.64264,     0.64364,     0.64464,     0.64565,     0.64665,     0.64765,\n",
       "           0.64865,     0.64965,     0.65065,     0.65165,     0.65265,     0.65365,     0.65465,     0.65566,     0.65666,     0.65766,     0.65866,     0.65966,     0.66066,     0.66166,     0.66266,     0.66366,     0.66466,     0.66567,     0.66667,     0.66767,     0.66867,     0.66967,     0.67067,     0.67167,\n",
       "           0.67267,     0.67367,     0.67467,     0.67568,     0.67668,     0.67768,     0.67868,     0.67968,     0.68068,     0.68168,     0.68268,     0.68368,     0.68468,     0.68569,     0.68669,     0.68769,     0.68869,     0.68969,     0.69069,     0.69169,     0.69269,     0.69369,     0.69469,      0.6957,\n",
       "            0.6967,      0.6977,      0.6987,      0.6997,      0.7007,      0.7017,      0.7027,      0.7037,      0.7047,     0.70571,     0.70671,     0.70771,     0.70871,     0.70971,     0.71071,     0.71171,     0.71271,     0.71371,     0.71471,     0.71572,     0.71672,     0.71772,     0.71872,     0.71972,\n",
       "           0.72072,     0.72172,     0.72272,     0.72372,     0.72472,     0.72573,     0.72673,     0.72773,     0.72873,     0.72973,     0.73073,     0.73173,     0.73273,     0.73373,     0.73473,     0.73574,     0.73674,     0.73774,     0.73874,     0.73974,     0.74074,     0.74174,     0.74274,     0.74374,\n",
       "           0.74474,     0.74575,     0.74675,     0.74775,     0.74875,     0.74975,     0.75075,     0.75175,     0.75275,     0.75375,     0.75475,     0.75576,     0.75676,     0.75776,     0.75876,     0.75976,     0.76076,     0.76176,     0.76276,     0.76376,     0.76476,     0.76577,     0.76677,     0.76777,\n",
       "           0.76877,     0.76977,     0.77077,     0.77177,     0.77277,     0.77377,     0.77477,     0.77578,     0.77678,     0.77778,     0.77878,     0.77978,     0.78078,     0.78178,     0.78278,     0.78378,     0.78478,     0.78579,     0.78679,     0.78779,     0.78879,     0.78979,     0.79079,     0.79179,\n",
       "           0.79279,     0.79379,     0.79479,      0.7958,      0.7968,      0.7978,      0.7988,      0.7998,      0.8008,      0.8018,      0.8028,      0.8038,      0.8048,     0.80581,     0.80681,     0.80781,     0.80881,     0.80981,     0.81081,     0.81181,     0.81281,     0.81381,     0.81481,     0.81582,\n",
       "           0.81682,     0.81782,     0.81882,     0.81982,     0.82082,     0.82182,     0.82282,     0.82382,     0.82482,     0.82583,     0.82683,     0.82783,     0.82883,     0.82983,     0.83083,     0.83183,     0.83283,     0.83383,     0.83483,     0.83584,     0.83684,     0.83784,     0.83884,     0.83984,\n",
       "           0.84084,     0.84184,     0.84284,     0.84384,     0.84484,     0.84585,     0.84685,     0.84785,     0.84885,     0.84985,     0.85085,     0.85185,     0.85285,     0.85385,     0.85485,     0.85586,     0.85686,     0.85786,     0.85886,     0.85986,     0.86086,     0.86186,     0.86286,     0.86386,\n",
       "           0.86486,     0.86587,     0.86687,     0.86787,     0.86887,     0.86987,     0.87087,     0.87187,     0.87287,     0.87387,     0.87487,     0.87588,     0.87688,     0.87788,     0.87888,     0.87988,     0.88088,     0.88188,     0.88288,     0.88388,     0.88488,     0.88589,     0.88689,     0.88789,\n",
       "           0.88889,     0.88989,     0.89089,     0.89189,     0.89289,     0.89389,     0.89489,      0.8959,      0.8969,      0.8979,      0.8989,      0.8999,      0.9009,      0.9019,      0.9029,      0.9039,      0.9049,     0.90591,     0.90691,     0.90791,     0.90891,     0.90991,     0.91091,     0.91191,\n",
       "           0.91291,     0.91391,     0.91491,     0.91592,     0.91692,     0.91792,     0.91892,     0.91992,     0.92092,     0.92192,     0.92292,     0.92392,     0.92492,     0.92593,     0.92693,     0.92793,     0.92893,     0.92993,     0.93093,     0.93193,     0.93293,     0.93393,     0.93493,     0.93594,\n",
       "           0.93694,     0.93794,     0.93894,     0.93994,     0.94094,     0.94194,     0.94294,     0.94394,     0.94494,     0.94595,     0.94695,     0.94795,     0.94895,     0.94995,     0.95095,     0.95195,     0.95295,     0.95395,     0.95495,     0.95596,     0.95696,     0.95796,     0.95896,     0.95996,\n",
       "           0.96096,     0.96196,     0.96296,     0.96396,     0.96496,     0.96597,     0.96697,     0.96797,     0.96897,     0.96997,     0.97097,     0.97197,     0.97297,     0.97397,     0.97497,     0.97598,     0.97698,     0.97798,     0.97898,     0.97998,     0.98098,     0.98198,     0.98298,     0.98398,\n",
       "           0.98498,     0.98599,     0.98699,     0.98799,     0.98899,     0.98999,     0.99099,     0.99199,     0.99299,     0.99399,     0.99499,       0.996,       0.997,       0.998,       0.999,           1]), array([[          0,           0,           0, ...,           0,           0,           0],\n",
       "       [        0.7,         0.7,         0.7, ...,     0.34884,     0.34884,           0],\n",
       "       [          1,           1,           1, ...,    0.003276,    0.001638,           0],\n",
       "       ...,\n",
       "       [          0,           0,           0, ...,           0,           0,           0],\n",
       "       [          1,           1,           1, ...,  0.00037538,  0.00018769,           0],\n",
       "       [          1,           1,           1, ...,         0.3,         0.3,           0]]), 'Recall', 'Precision'], [array([          0,    0.001001,    0.002002,    0.003003,    0.004004,    0.005005,    0.006006,    0.007007,    0.008008,    0.009009,     0.01001,    0.011011,    0.012012,    0.013013,    0.014014,    0.015015,    0.016016,    0.017017,    0.018018,    0.019019,     0.02002,    0.021021,    0.022022,    0.023023,\n",
       "          0.024024,    0.025025,    0.026026,    0.027027,    0.028028,    0.029029,     0.03003,    0.031031,    0.032032,    0.033033,    0.034034,    0.035035,    0.036036,    0.037037,    0.038038,    0.039039,     0.04004,    0.041041,    0.042042,    0.043043,    0.044044,    0.045045,    0.046046,    0.047047,\n",
       "          0.048048,    0.049049,     0.05005,    0.051051,    0.052052,    0.053053,    0.054054,    0.055055,    0.056056,    0.057057,    0.058058,    0.059059,     0.06006,    0.061061,    0.062062,    0.063063,    0.064064,    0.065065,    0.066066,    0.067067,    0.068068,    0.069069,     0.07007,    0.071071,\n",
       "          0.072072,    0.073073,    0.074074,    0.075075,    0.076076,    0.077077,    0.078078,    0.079079,     0.08008,    0.081081,    0.082082,    0.083083,    0.084084,    0.085085,    0.086086,    0.087087,    0.088088,    0.089089,     0.09009,    0.091091,    0.092092,    0.093093,    0.094094,    0.095095,\n",
       "          0.096096,    0.097097,    0.098098,    0.099099,      0.1001,      0.1011,      0.1021,      0.1031,      0.1041,     0.10511,     0.10611,     0.10711,     0.10811,     0.10911,     0.11011,     0.11111,     0.11211,     0.11311,     0.11411,     0.11512,     0.11612,     0.11712,     0.11812,     0.11912,\n",
       "           0.12012,     0.12112,     0.12212,     0.12312,     0.12412,     0.12513,     0.12613,     0.12713,     0.12813,     0.12913,     0.13013,     0.13113,     0.13213,     0.13313,     0.13413,     0.13514,     0.13614,     0.13714,     0.13814,     0.13914,     0.14014,     0.14114,     0.14214,     0.14314,\n",
       "           0.14414,     0.14515,     0.14615,     0.14715,     0.14815,     0.14915,     0.15015,     0.15115,     0.15215,     0.15315,     0.15415,     0.15516,     0.15616,     0.15716,     0.15816,     0.15916,     0.16016,     0.16116,     0.16216,     0.16316,     0.16416,     0.16517,     0.16617,     0.16717,\n",
       "           0.16817,     0.16917,     0.17017,     0.17117,     0.17217,     0.17317,     0.17417,     0.17518,     0.17618,     0.17718,     0.17818,     0.17918,     0.18018,     0.18118,     0.18218,     0.18318,     0.18418,     0.18519,     0.18619,     0.18719,     0.18819,     0.18919,     0.19019,     0.19119,\n",
       "           0.19219,     0.19319,     0.19419,      0.1952,      0.1962,      0.1972,      0.1982,      0.1992,      0.2002,      0.2012,      0.2022,      0.2032,      0.2042,     0.20521,     0.20621,     0.20721,     0.20821,     0.20921,     0.21021,     0.21121,     0.21221,     0.21321,     0.21421,     0.21522,\n",
       "           0.21622,     0.21722,     0.21822,     0.21922,     0.22022,     0.22122,     0.22222,     0.22322,     0.22422,     0.22523,     0.22623,     0.22723,     0.22823,     0.22923,     0.23023,     0.23123,     0.23223,     0.23323,     0.23423,     0.23524,     0.23624,     0.23724,     0.23824,     0.23924,\n",
       "           0.24024,     0.24124,     0.24224,     0.24324,     0.24424,     0.24525,     0.24625,     0.24725,     0.24825,     0.24925,     0.25025,     0.25125,     0.25225,     0.25325,     0.25425,     0.25526,     0.25626,     0.25726,     0.25826,     0.25926,     0.26026,     0.26126,     0.26226,     0.26326,\n",
       "           0.26426,     0.26527,     0.26627,     0.26727,     0.26827,     0.26927,     0.27027,     0.27127,     0.27227,     0.27327,     0.27427,     0.27528,     0.27628,     0.27728,     0.27828,     0.27928,     0.28028,     0.28128,     0.28228,     0.28328,     0.28428,     0.28529,     0.28629,     0.28729,\n",
       "           0.28829,     0.28929,     0.29029,     0.29129,     0.29229,     0.29329,     0.29429,      0.2953,      0.2963,      0.2973,      0.2983,      0.2993,      0.3003,      0.3013,      0.3023,      0.3033,      0.3043,     0.30531,     0.30631,     0.30731,     0.30831,     0.30931,     0.31031,     0.31131,\n",
       "           0.31231,     0.31331,     0.31431,     0.31532,     0.31632,     0.31732,     0.31832,     0.31932,     0.32032,     0.32132,     0.32232,     0.32332,     0.32432,     0.32533,     0.32633,     0.32733,     0.32833,     0.32933,     0.33033,     0.33133,     0.33233,     0.33333,     0.33433,     0.33534,\n",
       "           0.33634,     0.33734,     0.33834,     0.33934,     0.34034,     0.34134,     0.34234,     0.34334,     0.34434,     0.34535,     0.34635,     0.34735,     0.34835,     0.34935,     0.35035,     0.35135,     0.35235,     0.35335,     0.35435,     0.35536,     0.35636,     0.35736,     0.35836,     0.35936,\n",
       "           0.36036,     0.36136,     0.36236,     0.36336,     0.36436,     0.36537,     0.36637,     0.36737,     0.36837,     0.36937,     0.37037,     0.37137,     0.37237,     0.37337,     0.37437,     0.37538,     0.37638,     0.37738,     0.37838,     0.37938,     0.38038,     0.38138,     0.38238,     0.38338,\n",
       "           0.38438,     0.38539,     0.38639,     0.38739,     0.38839,     0.38939,     0.39039,     0.39139,     0.39239,     0.39339,     0.39439,      0.3954,      0.3964,      0.3974,      0.3984,      0.3994,      0.4004,      0.4014,      0.4024,      0.4034,      0.4044,     0.40541,     0.40641,     0.40741,\n",
       "           0.40841,     0.40941,     0.41041,     0.41141,     0.41241,     0.41341,     0.41441,     0.41542,     0.41642,     0.41742,     0.41842,     0.41942,     0.42042,     0.42142,     0.42242,     0.42342,     0.42442,     0.42543,     0.42643,     0.42743,     0.42843,     0.42943,     0.43043,     0.43143,\n",
       "           0.43243,     0.43343,     0.43443,     0.43544,     0.43644,     0.43744,     0.43844,     0.43944,     0.44044,     0.44144,     0.44244,     0.44344,     0.44444,     0.44545,     0.44645,     0.44745,     0.44845,     0.44945,     0.45045,     0.45145,     0.45245,     0.45345,     0.45445,     0.45546,\n",
       "           0.45646,     0.45746,     0.45846,     0.45946,     0.46046,     0.46146,     0.46246,     0.46346,     0.46446,     0.46547,     0.46647,     0.46747,     0.46847,     0.46947,     0.47047,     0.47147,     0.47247,     0.47347,     0.47447,     0.47548,     0.47648,     0.47748,     0.47848,     0.47948,\n",
       "           0.48048,     0.48148,     0.48248,     0.48348,     0.48448,     0.48549,     0.48649,     0.48749,     0.48849,     0.48949,     0.49049,     0.49149,     0.49249,     0.49349,     0.49449,      0.4955,      0.4965,      0.4975,      0.4985,      0.4995,      0.5005,      0.5015,      0.5025,      0.5035,\n",
       "            0.5045,     0.50551,     0.50651,     0.50751,     0.50851,     0.50951,     0.51051,     0.51151,     0.51251,     0.51351,     0.51451,     0.51552,     0.51652,     0.51752,     0.51852,     0.51952,     0.52052,     0.52152,     0.52252,     0.52352,     0.52452,     0.52553,     0.52653,     0.52753,\n",
       "           0.52853,     0.52953,     0.53053,     0.53153,     0.53253,     0.53353,     0.53453,     0.53554,     0.53654,     0.53754,     0.53854,     0.53954,     0.54054,     0.54154,     0.54254,     0.54354,     0.54454,     0.54555,     0.54655,     0.54755,     0.54855,     0.54955,     0.55055,     0.55155,\n",
       "           0.55255,     0.55355,     0.55455,     0.55556,     0.55656,     0.55756,     0.55856,     0.55956,     0.56056,     0.56156,     0.56256,     0.56356,     0.56456,     0.56557,     0.56657,     0.56757,     0.56857,     0.56957,     0.57057,     0.57157,     0.57257,     0.57357,     0.57457,     0.57558,\n",
       "           0.57658,     0.57758,     0.57858,     0.57958,     0.58058,     0.58158,     0.58258,     0.58358,     0.58458,     0.58559,     0.58659,     0.58759,     0.58859,     0.58959,     0.59059,     0.59159,     0.59259,     0.59359,     0.59459,      0.5956,      0.5966,      0.5976,      0.5986,      0.5996,\n",
       "            0.6006,      0.6016,      0.6026,      0.6036,      0.6046,     0.60561,     0.60661,     0.60761,     0.60861,     0.60961,     0.61061,     0.61161,     0.61261,     0.61361,     0.61461,     0.61562,     0.61662,     0.61762,     0.61862,     0.61962,     0.62062,     0.62162,     0.62262,     0.62362,\n",
       "           0.62462,     0.62563,     0.62663,     0.62763,     0.62863,     0.62963,     0.63063,     0.63163,     0.63263,     0.63363,     0.63463,     0.63564,     0.63664,     0.63764,     0.63864,     0.63964,     0.64064,     0.64164,     0.64264,     0.64364,     0.64464,     0.64565,     0.64665,     0.64765,\n",
       "           0.64865,     0.64965,     0.65065,     0.65165,     0.65265,     0.65365,     0.65465,     0.65566,     0.65666,     0.65766,     0.65866,     0.65966,     0.66066,     0.66166,     0.66266,     0.66366,     0.66466,     0.66567,     0.66667,     0.66767,     0.66867,     0.66967,     0.67067,     0.67167,\n",
       "           0.67267,     0.67367,     0.67467,     0.67568,     0.67668,     0.67768,     0.67868,     0.67968,     0.68068,     0.68168,     0.68268,     0.68368,     0.68468,     0.68569,     0.68669,     0.68769,     0.68869,     0.68969,     0.69069,     0.69169,     0.69269,     0.69369,     0.69469,      0.6957,\n",
       "            0.6967,      0.6977,      0.6987,      0.6997,      0.7007,      0.7017,      0.7027,      0.7037,      0.7047,     0.70571,     0.70671,     0.70771,     0.70871,     0.70971,     0.71071,     0.71171,     0.71271,     0.71371,     0.71471,     0.71572,     0.71672,     0.71772,     0.71872,     0.71972,\n",
       "           0.72072,     0.72172,     0.72272,     0.72372,     0.72472,     0.72573,     0.72673,     0.72773,     0.72873,     0.72973,     0.73073,     0.73173,     0.73273,     0.73373,     0.73473,     0.73574,     0.73674,     0.73774,     0.73874,     0.73974,     0.74074,     0.74174,     0.74274,     0.74374,\n",
       "           0.74474,     0.74575,     0.74675,     0.74775,     0.74875,     0.74975,     0.75075,     0.75175,     0.75275,     0.75375,     0.75475,     0.75576,     0.75676,     0.75776,     0.75876,     0.75976,     0.76076,     0.76176,     0.76276,     0.76376,     0.76476,     0.76577,     0.76677,     0.76777,\n",
       "           0.76877,     0.76977,     0.77077,     0.77177,     0.77277,     0.77377,     0.77477,     0.77578,     0.77678,     0.77778,     0.77878,     0.77978,     0.78078,     0.78178,     0.78278,     0.78378,     0.78478,     0.78579,     0.78679,     0.78779,     0.78879,     0.78979,     0.79079,     0.79179,\n",
       "           0.79279,     0.79379,     0.79479,      0.7958,      0.7968,      0.7978,      0.7988,      0.7998,      0.8008,      0.8018,      0.8028,      0.8038,      0.8048,     0.80581,     0.80681,     0.80781,     0.80881,     0.80981,     0.81081,     0.81181,     0.81281,     0.81381,     0.81481,     0.81582,\n",
       "           0.81682,     0.81782,     0.81882,     0.81982,     0.82082,     0.82182,     0.82282,     0.82382,     0.82482,     0.82583,     0.82683,     0.82783,     0.82883,     0.82983,     0.83083,     0.83183,     0.83283,     0.83383,     0.83483,     0.83584,     0.83684,     0.83784,     0.83884,     0.83984,\n",
       "           0.84084,     0.84184,     0.84284,     0.84384,     0.84484,     0.84585,     0.84685,     0.84785,     0.84885,     0.84985,     0.85085,     0.85185,     0.85285,     0.85385,     0.85485,     0.85586,     0.85686,     0.85786,     0.85886,     0.85986,     0.86086,     0.86186,     0.86286,     0.86386,\n",
       "           0.86486,     0.86587,     0.86687,     0.86787,     0.86887,     0.86987,     0.87087,     0.87187,     0.87287,     0.87387,     0.87487,     0.87588,     0.87688,     0.87788,     0.87888,     0.87988,     0.88088,     0.88188,     0.88288,     0.88388,     0.88488,     0.88589,     0.88689,     0.88789,\n",
       "           0.88889,     0.88989,     0.89089,     0.89189,     0.89289,     0.89389,     0.89489,      0.8959,      0.8969,      0.8979,      0.8989,      0.8999,      0.9009,      0.9019,      0.9029,      0.9039,      0.9049,     0.90591,     0.90691,     0.90791,     0.90891,     0.90991,     0.91091,     0.91191,\n",
       "           0.91291,     0.91391,     0.91491,     0.91592,     0.91692,     0.91792,     0.91892,     0.91992,     0.92092,     0.92192,     0.92292,     0.92392,     0.92492,     0.92593,     0.92693,     0.92793,     0.92893,     0.92993,     0.93093,     0.93193,     0.93293,     0.93393,     0.93493,     0.93594,\n",
       "           0.93694,     0.93794,     0.93894,     0.93994,     0.94094,     0.94194,     0.94294,     0.94394,     0.94494,     0.94595,     0.94695,     0.94795,     0.94895,     0.94995,     0.95095,     0.95195,     0.95295,     0.95395,     0.95495,     0.95596,     0.95696,     0.95796,     0.95896,     0.95996,\n",
       "           0.96096,     0.96196,     0.96296,     0.96396,     0.96496,     0.96597,     0.96697,     0.96797,     0.96897,     0.96997,     0.97097,     0.97197,     0.97297,     0.97397,     0.97497,     0.97598,     0.97698,     0.97798,     0.97898,     0.97998,     0.98098,     0.98198,     0.98298,     0.98398,\n",
       "           0.98498,     0.98599,     0.98699,     0.98799,     0.98899,     0.98999,     0.99099,     0.99199,     0.99299,     0.99399,     0.99499,       0.996,       0.997,       0.998,       0.999,           1]), array([[          0,           0,           0, ...,           0,           0,           0],\n",
       "       [    0.39474,     0.39474,     0.46256, ...,           0,           0,           0],\n",
       "       [    0.27692,     0.27692,     0.32804, ...,           0,           0,           0],\n",
       "       ...,\n",
       "       [          0,           0,           0, ...,           0,           0,           0],\n",
       "       [    0.18182,     0.18182,     0.23156, ...,           0,           0,           0],\n",
       "       [    0.46154,     0.46154,     0.33874, ...,           0,           0,           0]]), 'Confidence', 'F1'], [array([          0,    0.001001,    0.002002,    0.003003,    0.004004,    0.005005,    0.006006,    0.007007,    0.008008,    0.009009,     0.01001,    0.011011,    0.012012,    0.013013,    0.014014,    0.015015,    0.016016,    0.017017,    0.018018,    0.019019,     0.02002,    0.021021,    0.022022,    0.023023,\n",
       "          0.024024,    0.025025,    0.026026,    0.027027,    0.028028,    0.029029,     0.03003,    0.031031,    0.032032,    0.033033,    0.034034,    0.035035,    0.036036,    0.037037,    0.038038,    0.039039,     0.04004,    0.041041,    0.042042,    0.043043,    0.044044,    0.045045,    0.046046,    0.047047,\n",
       "          0.048048,    0.049049,     0.05005,    0.051051,    0.052052,    0.053053,    0.054054,    0.055055,    0.056056,    0.057057,    0.058058,    0.059059,     0.06006,    0.061061,    0.062062,    0.063063,    0.064064,    0.065065,    0.066066,    0.067067,    0.068068,    0.069069,     0.07007,    0.071071,\n",
       "          0.072072,    0.073073,    0.074074,    0.075075,    0.076076,    0.077077,    0.078078,    0.079079,     0.08008,    0.081081,    0.082082,    0.083083,    0.084084,    0.085085,    0.086086,    0.087087,    0.088088,    0.089089,     0.09009,    0.091091,    0.092092,    0.093093,    0.094094,    0.095095,\n",
       "          0.096096,    0.097097,    0.098098,    0.099099,      0.1001,      0.1011,      0.1021,      0.1031,      0.1041,     0.10511,     0.10611,     0.10711,     0.10811,     0.10911,     0.11011,     0.11111,     0.11211,     0.11311,     0.11411,     0.11512,     0.11612,     0.11712,     0.11812,     0.11912,\n",
       "           0.12012,     0.12112,     0.12212,     0.12312,     0.12412,     0.12513,     0.12613,     0.12713,     0.12813,     0.12913,     0.13013,     0.13113,     0.13213,     0.13313,     0.13413,     0.13514,     0.13614,     0.13714,     0.13814,     0.13914,     0.14014,     0.14114,     0.14214,     0.14314,\n",
       "           0.14414,     0.14515,     0.14615,     0.14715,     0.14815,     0.14915,     0.15015,     0.15115,     0.15215,     0.15315,     0.15415,     0.15516,     0.15616,     0.15716,     0.15816,     0.15916,     0.16016,     0.16116,     0.16216,     0.16316,     0.16416,     0.16517,     0.16617,     0.16717,\n",
       "           0.16817,     0.16917,     0.17017,     0.17117,     0.17217,     0.17317,     0.17417,     0.17518,     0.17618,     0.17718,     0.17818,     0.17918,     0.18018,     0.18118,     0.18218,     0.18318,     0.18418,     0.18519,     0.18619,     0.18719,     0.18819,     0.18919,     0.19019,     0.19119,\n",
       "           0.19219,     0.19319,     0.19419,      0.1952,      0.1962,      0.1972,      0.1982,      0.1992,      0.2002,      0.2012,      0.2022,      0.2032,      0.2042,     0.20521,     0.20621,     0.20721,     0.20821,     0.20921,     0.21021,     0.21121,     0.21221,     0.21321,     0.21421,     0.21522,\n",
       "           0.21622,     0.21722,     0.21822,     0.21922,     0.22022,     0.22122,     0.22222,     0.22322,     0.22422,     0.22523,     0.22623,     0.22723,     0.22823,     0.22923,     0.23023,     0.23123,     0.23223,     0.23323,     0.23423,     0.23524,     0.23624,     0.23724,     0.23824,     0.23924,\n",
       "           0.24024,     0.24124,     0.24224,     0.24324,     0.24424,     0.24525,     0.24625,     0.24725,     0.24825,     0.24925,     0.25025,     0.25125,     0.25225,     0.25325,     0.25425,     0.25526,     0.25626,     0.25726,     0.25826,     0.25926,     0.26026,     0.26126,     0.26226,     0.26326,\n",
       "           0.26426,     0.26527,     0.26627,     0.26727,     0.26827,     0.26927,     0.27027,     0.27127,     0.27227,     0.27327,     0.27427,     0.27528,     0.27628,     0.27728,     0.27828,     0.27928,     0.28028,     0.28128,     0.28228,     0.28328,     0.28428,     0.28529,     0.28629,     0.28729,\n",
       "           0.28829,     0.28929,     0.29029,     0.29129,     0.29229,     0.29329,     0.29429,      0.2953,      0.2963,      0.2973,      0.2983,      0.2993,      0.3003,      0.3013,      0.3023,      0.3033,      0.3043,     0.30531,     0.30631,     0.30731,     0.30831,     0.30931,     0.31031,     0.31131,\n",
       "           0.31231,     0.31331,     0.31431,     0.31532,     0.31632,     0.31732,     0.31832,     0.31932,     0.32032,     0.32132,     0.32232,     0.32332,     0.32432,     0.32533,     0.32633,     0.32733,     0.32833,     0.32933,     0.33033,     0.33133,     0.33233,     0.33333,     0.33433,     0.33534,\n",
       "           0.33634,     0.33734,     0.33834,     0.33934,     0.34034,     0.34134,     0.34234,     0.34334,     0.34434,     0.34535,     0.34635,     0.34735,     0.34835,     0.34935,     0.35035,     0.35135,     0.35235,     0.35335,     0.35435,     0.35536,     0.35636,     0.35736,     0.35836,     0.35936,\n",
       "           0.36036,     0.36136,     0.36236,     0.36336,     0.36436,     0.36537,     0.36637,     0.36737,     0.36837,     0.36937,     0.37037,     0.37137,     0.37237,     0.37337,     0.37437,     0.37538,     0.37638,     0.37738,     0.37838,     0.37938,     0.38038,     0.38138,     0.38238,     0.38338,\n",
       "           0.38438,     0.38539,     0.38639,     0.38739,     0.38839,     0.38939,     0.39039,     0.39139,     0.39239,     0.39339,     0.39439,      0.3954,      0.3964,      0.3974,      0.3984,      0.3994,      0.4004,      0.4014,      0.4024,      0.4034,      0.4044,     0.40541,     0.40641,     0.40741,\n",
       "           0.40841,     0.40941,     0.41041,     0.41141,     0.41241,     0.41341,     0.41441,     0.41542,     0.41642,     0.41742,     0.41842,     0.41942,     0.42042,     0.42142,     0.42242,     0.42342,     0.42442,     0.42543,     0.42643,     0.42743,     0.42843,     0.42943,     0.43043,     0.43143,\n",
       "           0.43243,     0.43343,     0.43443,     0.43544,     0.43644,     0.43744,     0.43844,     0.43944,     0.44044,     0.44144,     0.44244,     0.44344,     0.44444,     0.44545,     0.44645,     0.44745,     0.44845,     0.44945,     0.45045,     0.45145,     0.45245,     0.45345,     0.45445,     0.45546,\n",
       "           0.45646,     0.45746,     0.45846,     0.45946,     0.46046,     0.46146,     0.46246,     0.46346,     0.46446,     0.46547,     0.46647,     0.46747,     0.46847,     0.46947,     0.47047,     0.47147,     0.47247,     0.47347,     0.47447,     0.47548,     0.47648,     0.47748,     0.47848,     0.47948,\n",
       "           0.48048,     0.48148,     0.48248,     0.48348,     0.48448,     0.48549,     0.48649,     0.48749,     0.48849,     0.48949,     0.49049,     0.49149,     0.49249,     0.49349,     0.49449,      0.4955,      0.4965,      0.4975,      0.4985,      0.4995,      0.5005,      0.5015,      0.5025,      0.5035,\n",
       "            0.5045,     0.50551,     0.50651,     0.50751,     0.50851,     0.50951,     0.51051,     0.51151,     0.51251,     0.51351,     0.51451,     0.51552,     0.51652,     0.51752,     0.51852,     0.51952,     0.52052,     0.52152,     0.52252,     0.52352,     0.52452,     0.52553,     0.52653,     0.52753,\n",
       "           0.52853,     0.52953,     0.53053,     0.53153,     0.53253,     0.53353,     0.53453,     0.53554,     0.53654,     0.53754,     0.53854,     0.53954,     0.54054,     0.54154,     0.54254,     0.54354,     0.54454,     0.54555,     0.54655,     0.54755,     0.54855,     0.54955,     0.55055,     0.55155,\n",
       "           0.55255,     0.55355,     0.55455,     0.55556,     0.55656,     0.55756,     0.55856,     0.55956,     0.56056,     0.56156,     0.56256,     0.56356,     0.56456,     0.56557,     0.56657,     0.56757,     0.56857,     0.56957,     0.57057,     0.57157,     0.57257,     0.57357,     0.57457,     0.57558,\n",
       "           0.57658,     0.57758,     0.57858,     0.57958,     0.58058,     0.58158,     0.58258,     0.58358,     0.58458,     0.58559,     0.58659,     0.58759,     0.58859,     0.58959,     0.59059,     0.59159,     0.59259,     0.59359,     0.59459,      0.5956,      0.5966,      0.5976,      0.5986,      0.5996,\n",
       "            0.6006,      0.6016,      0.6026,      0.6036,      0.6046,     0.60561,     0.60661,     0.60761,     0.60861,     0.60961,     0.61061,     0.61161,     0.61261,     0.61361,     0.61461,     0.61562,     0.61662,     0.61762,     0.61862,     0.61962,     0.62062,     0.62162,     0.62262,     0.62362,\n",
       "           0.62462,     0.62563,     0.62663,     0.62763,     0.62863,     0.62963,     0.63063,     0.63163,     0.63263,     0.63363,     0.63463,     0.63564,     0.63664,     0.63764,     0.63864,     0.63964,     0.64064,     0.64164,     0.64264,     0.64364,     0.64464,     0.64565,     0.64665,     0.64765,\n",
       "           0.64865,     0.64965,     0.65065,     0.65165,     0.65265,     0.65365,     0.65465,     0.65566,     0.65666,     0.65766,     0.65866,     0.65966,     0.66066,     0.66166,     0.66266,     0.66366,     0.66466,     0.66567,     0.66667,     0.66767,     0.66867,     0.66967,     0.67067,     0.67167,\n",
       "           0.67267,     0.67367,     0.67467,     0.67568,     0.67668,     0.67768,     0.67868,     0.67968,     0.68068,     0.68168,     0.68268,     0.68368,     0.68468,     0.68569,     0.68669,     0.68769,     0.68869,     0.68969,     0.69069,     0.69169,     0.69269,     0.69369,     0.69469,      0.6957,\n",
       "            0.6967,      0.6977,      0.6987,      0.6997,      0.7007,      0.7017,      0.7027,      0.7037,      0.7047,     0.70571,     0.70671,     0.70771,     0.70871,     0.70971,     0.71071,     0.71171,     0.71271,     0.71371,     0.71471,     0.71572,     0.71672,     0.71772,     0.71872,     0.71972,\n",
       "           0.72072,     0.72172,     0.72272,     0.72372,     0.72472,     0.72573,     0.72673,     0.72773,     0.72873,     0.72973,     0.73073,     0.73173,     0.73273,     0.73373,     0.73473,     0.73574,     0.73674,     0.73774,     0.73874,     0.73974,     0.74074,     0.74174,     0.74274,     0.74374,\n",
       "           0.74474,     0.74575,     0.74675,     0.74775,     0.74875,     0.74975,     0.75075,     0.75175,     0.75275,     0.75375,     0.75475,     0.75576,     0.75676,     0.75776,     0.75876,     0.75976,     0.76076,     0.76176,     0.76276,     0.76376,     0.76476,     0.76577,     0.76677,     0.76777,\n",
       "           0.76877,     0.76977,     0.77077,     0.77177,     0.77277,     0.77377,     0.77477,     0.77578,     0.77678,     0.77778,     0.77878,     0.77978,     0.78078,     0.78178,     0.78278,     0.78378,     0.78478,     0.78579,     0.78679,     0.78779,     0.78879,     0.78979,     0.79079,     0.79179,\n",
       "           0.79279,     0.79379,     0.79479,      0.7958,      0.7968,      0.7978,      0.7988,      0.7998,      0.8008,      0.8018,      0.8028,      0.8038,      0.8048,     0.80581,     0.80681,     0.80781,     0.80881,     0.80981,     0.81081,     0.81181,     0.81281,     0.81381,     0.81481,     0.81582,\n",
       "           0.81682,     0.81782,     0.81882,     0.81982,     0.82082,     0.82182,     0.82282,     0.82382,     0.82482,     0.82583,     0.82683,     0.82783,     0.82883,     0.82983,     0.83083,     0.83183,     0.83283,     0.83383,     0.83483,     0.83584,     0.83684,     0.83784,     0.83884,     0.83984,\n",
       "           0.84084,     0.84184,     0.84284,     0.84384,     0.84484,     0.84585,     0.84685,     0.84785,     0.84885,     0.84985,     0.85085,     0.85185,     0.85285,     0.85385,     0.85485,     0.85586,     0.85686,     0.85786,     0.85886,     0.85986,     0.86086,     0.86186,     0.86286,     0.86386,\n",
       "           0.86486,     0.86587,     0.86687,     0.86787,     0.86887,     0.86987,     0.87087,     0.87187,     0.87287,     0.87387,     0.87487,     0.87588,     0.87688,     0.87788,     0.87888,     0.87988,     0.88088,     0.88188,     0.88288,     0.88388,     0.88488,     0.88589,     0.88689,     0.88789,\n",
       "           0.88889,     0.88989,     0.89089,     0.89189,     0.89289,     0.89389,     0.89489,      0.8959,      0.8969,      0.8979,      0.8989,      0.8999,      0.9009,      0.9019,      0.9029,      0.9039,      0.9049,     0.90591,     0.90691,     0.90791,     0.90891,     0.90991,     0.91091,     0.91191,\n",
       "           0.91291,     0.91391,     0.91491,     0.91592,     0.91692,     0.91792,     0.91892,     0.91992,     0.92092,     0.92192,     0.92292,     0.92392,     0.92492,     0.92593,     0.92693,     0.92793,     0.92893,     0.92993,     0.93093,     0.93193,     0.93293,     0.93393,     0.93493,     0.93594,\n",
       "           0.93694,     0.93794,     0.93894,     0.93994,     0.94094,     0.94194,     0.94294,     0.94394,     0.94494,     0.94595,     0.94695,     0.94795,     0.94895,     0.94995,     0.95095,     0.95195,     0.95295,     0.95395,     0.95495,     0.95596,     0.95696,     0.95796,     0.95896,     0.95996,\n",
       "           0.96096,     0.96196,     0.96296,     0.96396,     0.96496,     0.96597,     0.96697,     0.96797,     0.96897,     0.96997,     0.97097,     0.97197,     0.97297,     0.97397,     0.97497,     0.97598,     0.97698,     0.97798,     0.97898,     0.97998,     0.98098,     0.98198,     0.98298,     0.98398,\n",
       "           0.98498,     0.98599,     0.98699,     0.98799,     0.98899,     0.98999,     0.99099,     0.99199,     0.99299,     0.99399,     0.99499,       0.996,       0.997,       0.998,       0.999,           1]), array([[          0,           0,           0, ...,           1,           1,           1],\n",
       "       [     0.2459,      0.2459,     0.30086, ...,           1,           1,           1],\n",
       "       [    0.16364,     0.16364,     0.20058, ...,           1,           1,           1],\n",
       "       ...,\n",
       "       [          0,           0,           0, ...,           1,           1,           1],\n",
       "       [      0.125,       0.125,      0.1774, ...,           1,           1,           1],\n",
       "       [        0.3,         0.3,     0.22705, ...,           1,           1,           1]]), 'Confidence', 'Precision'], [array([          0,    0.001001,    0.002002,    0.003003,    0.004004,    0.005005,    0.006006,    0.007007,    0.008008,    0.009009,     0.01001,    0.011011,    0.012012,    0.013013,    0.014014,    0.015015,    0.016016,    0.017017,    0.018018,    0.019019,     0.02002,    0.021021,    0.022022,    0.023023,\n",
       "          0.024024,    0.025025,    0.026026,    0.027027,    0.028028,    0.029029,     0.03003,    0.031031,    0.032032,    0.033033,    0.034034,    0.035035,    0.036036,    0.037037,    0.038038,    0.039039,     0.04004,    0.041041,    0.042042,    0.043043,    0.044044,    0.045045,    0.046046,    0.047047,\n",
       "          0.048048,    0.049049,     0.05005,    0.051051,    0.052052,    0.053053,    0.054054,    0.055055,    0.056056,    0.057057,    0.058058,    0.059059,     0.06006,    0.061061,    0.062062,    0.063063,    0.064064,    0.065065,    0.066066,    0.067067,    0.068068,    0.069069,     0.07007,    0.071071,\n",
       "          0.072072,    0.073073,    0.074074,    0.075075,    0.076076,    0.077077,    0.078078,    0.079079,     0.08008,    0.081081,    0.082082,    0.083083,    0.084084,    0.085085,    0.086086,    0.087087,    0.088088,    0.089089,     0.09009,    0.091091,    0.092092,    0.093093,    0.094094,    0.095095,\n",
       "          0.096096,    0.097097,    0.098098,    0.099099,      0.1001,      0.1011,      0.1021,      0.1031,      0.1041,     0.10511,     0.10611,     0.10711,     0.10811,     0.10911,     0.11011,     0.11111,     0.11211,     0.11311,     0.11411,     0.11512,     0.11612,     0.11712,     0.11812,     0.11912,\n",
       "           0.12012,     0.12112,     0.12212,     0.12312,     0.12412,     0.12513,     0.12613,     0.12713,     0.12813,     0.12913,     0.13013,     0.13113,     0.13213,     0.13313,     0.13413,     0.13514,     0.13614,     0.13714,     0.13814,     0.13914,     0.14014,     0.14114,     0.14214,     0.14314,\n",
       "           0.14414,     0.14515,     0.14615,     0.14715,     0.14815,     0.14915,     0.15015,     0.15115,     0.15215,     0.15315,     0.15415,     0.15516,     0.15616,     0.15716,     0.15816,     0.15916,     0.16016,     0.16116,     0.16216,     0.16316,     0.16416,     0.16517,     0.16617,     0.16717,\n",
       "           0.16817,     0.16917,     0.17017,     0.17117,     0.17217,     0.17317,     0.17417,     0.17518,     0.17618,     0.17718,     0.17818,     0.17918,     0.18018,     0.18118,     0.18218,     0.18318,     0.18418,     0.18519,     0.18619,     0.18719,     0.18819,     0.18919,     0.19019,     0.19119,\n",
       "           0.19219,     0.19319,     0.19419,      0.1952,      0.1962,      0.1972,      0.1982,      0.1992,      0.2002,      0.2012,      0.2022,      0.2032,      0.2042,     0.20521,     0.20621,     0.20721,     0.20821,     0.20921,     0.21021,     0.21121,     0.21221,     0.21321,     0.21421,     0.21522,\n",
       "           0.21622,     0.21722,     0.21822,     0.21922,     0.22022,     0.22122,     0.22222,     0.22322,     0.22422,     0.22523,     0.22623,     0.22723,     0.22823,     0.22923,     0.23023,     0.23123,     0.23223,     0.23323,     0.23423,     0.23524,     0.23624,     0.23724,     0.23824,     0.23924,\n",
       "           0.24024,     0.24124,     0.24224,     0.24324,     0.24424,     0.24525,     0.24625,     0.24725,     0.24825,     0.24925,     0.25025,     0.25125,     0.25225,     0.25325,     0.25425,     0.25526,     0.25626,     0.25726,     0.25826,     0.25926,     0.26026,     0.26126,     0.26226,     0.26326,\n",
       "           0.26426,     0.26527,     0.26627,     0.26727,     0.26827,     0.26927,     0.27027,     0.27127,     0.27227,     0.27327,     0.27427,     0.27528,     0.27628,     0.27728,     0.27828,     0.27928,     0.28028,     0.28128,     0.28228,     0.28328,     0.28428,     0.28529,     0.28629,     0.28729,\n",
       "           0.28829,     0.28929,     0.29029,     0.29129,     0.29229,     0.29329,     0.29429,      0.2953,      0.2963,      0.2973,      0.2983,      0.2993,      0.3003,      0.3013,      0.3023,      0.3033,      0.3043,     0.30531,     0.30631,     0.30731,     0.30831,     0.30931,     0.31031,     0.31131,\n",
       "           0.31231,     0.31331,     0.31431,     0.31532,     0.31632,     0.31732,     0.31832,     0.31932,     0.32032,     0.32132,     0.32232,     0.32332,     0.32432,     0.32533,     0.32633,     0.32733,     0.32833,     0.32933,     0.33033,     0.33133,     0.33233,     0.33333,     0.33433,     0.33534,\n",
       "           0.33634,     0.33734,     0.33834,     0.33934,     0.34034,     0.34134,     0.34234,     0.34334,     0.34434,     0.34535,     0.34635,     0.34735,     0.34835,     0.34935,     0.35035,     0.35135,     0.35235,     0.35335,     0.35435,     0.35536,     0.35636,     0.35736,     0.35836,     0.35936,\n",
       "           0.36036,     0.36136,     0.36236,     0.36336,     0.36436,     0.36537,     0.36637,     0.36737,     0.36837,     0.36937,     0.37037,     0.37137,     0.37237,     0.37337,     0.37437,     0.37538,     0.37638,     0.37738,     0.37838,     0.37938,     0.38038,     0.38138,     0.38238,     0.38338,\n",
       "           0.38438,     0.38539,     0.38639,     0.38739,     0.38839,     0.38939,     0.39039,     0.39139,     0.39239,     0.39339,     0.39439,      0.3954,      0.3964,      0.3974,      0.3984,      0.3994,      0.4004,      0.4014,      0.4024,      0.4034,      0.4044,     0.40541,     0.40641,     0.40741,\n",
       "           0.40841,     0.40941,     0.41041,     0.41141,     0.41241,     0.41341,     0.41441,     0.41542,     0.41642,     0.41742,     0.41842,     0.41942,     0.42042,     0.42142,     0.42242,     0.42342,     0.42442,     0.42543,     0.42643,     0.42743,     0.42843,     0.42943,     0.43043,     0.43143,\n",
       "           0.43243,     0.43343,     0.43443,     0.43544,     0.43644,     0.43744,     0.43844,     0.43944,     0.44044,     0.44144,     0.44244,     0.44344,     0.44444,     0.44545,     0.44645,     0.44745,     0.44845,     0.44945,     0.45045,     0.45145,     0.45245,     0.45345,     0.45445,     0.45546,\n",
       "           0.45646,     0.45746,     0.45846,     0.45946,     0.46046,     0.46146,     0.46246,     0.46346,     0.46446,     0.46547,     0.46647,     0.46747,     0.46847,     0.46947,     0.47047,     0.47147,     0.47247,     0.47347,     0.47447,     0.47548,     0.47648,     0.47748,     0.47848,     0.47948,\n",
       "           0.48048,     0.48148,     0.48248,     0.48348,     0.48448,     0.48549,     0.48649,     0.48749,     0.48849,     0.48949,     0.49049,     0.49149,     0.49249,     0.49349,     0.49449,      0.4955,      0.4965,      0.4975,      0.4985,      0.4995,      0.5005,      0.5015,      0.5025,      0.5035,\n",
       "            0.5045,     0.50551,     0.50651,     0.50751,     0.50851,     0.50951,     0.51051,     0.51151,     0.51251,     0.51351,     0.51451,     0.51552,     0.51652,     0.51752,     0.51852,     0.51952,     0.52052,     0.52152,     0.52252,     0.52352,     0.52452,     0.52553,     0.52653,     0.52753,\n",
       "           0.52853,     0.52953,     0.53053,     0.53153,     0.53253,     0.53353,     0.53453,     0.53554,     0.53654,     0.53754,     0.53854,     0.53954,     0.54054,     0.54154,     0.54254,     0.54354,     0.54454,     0.54555,     0.54655,     0.54755,     0.54855,     0.54955,     0.55055,     0.55155,\n",
       "           0.55255,     0.55355,     0.55455,     0.55556,     0.55656,     0.55756,     0.55856,     0.55956,     0.56056,     0.56156,     0.56256,     0.56356,     0.56456,     0.56557,     0.56657,     0.56757,     0.56857,     0.56957,     0.57057,     0.57157,     0.57257,     0.57357,     0.57457,     0.57558,\n",
       "           0.57658,     0.57758,     0.57858,     0.57958,     0.58058,     0.58158,     0.58258,     0.58358,     0.58458,     0.58559,     0.58659,     0.58759,     0.58859,     0.58959,     0.59059,     0.59159,     0.59259,     0.59359,     0.59459,      0.5956,      0.5966,      0.5976,      0.5986,      0.5996,\n",
       "            0.6006,      0.6016,      0.6026,      0.6036,      0.6046,     0.60561,     0.60661,     0.60761,     0.60861,     0.60961,     0.61061,     0.61161,     0.61261,     0.61361,     0.61461,     0.61562,     0.61662,     0.61762,     0.61862,     0.61962,     0.62062,     0.62162,     0.62262,     0.62362,\n",
       "           0.62462,     0.62563,     0.62663,     0.62763,     0.62863,     0.62963,     0.63063,     0.63163,     0.63263,     0.63363,     0.63463,     0.63564,     0.63664,     0.63764,     0.63864,     0.63964,     0.64064,     0.64164,     0.64264,     0.64364,     0.64464,     0.64565,     0.64665,     0.64765,\n",
       "           0.64865,     0.64965,     0.65065,     0.65165,     0.65265,     0.65365,     0.65465,     0.65566,     0.65666,     0.65766,     0.65866,     0.65966,     0.66066,     0.66166,     0.66266,     0.66366,     0.66466,     0.66567,     0.66667,     0.66767,     0.66867,     0.66967,     0.67067,     0.67167,\n",
       "           0.67267,     0.67367,     0.67467,     0.67568,     0.67668,     0.67768,     0.67868,     0.67968,     0.68068,     0.68168,     0.68268,     0.68368,     0.68468,     0.68569,     0.68669,     0.68769,     0.68869,     0.68969,     0.69069,     0.69169,     0.69269,     0.69369,     0.69469,      0.6957,\n",
       "            0.6967,      0.6977,      0.6987,      0.6997,      0.7007,      0.7017,      0.7027,      0.7037,      0.7047,     0.70571,     0.70671,     0.70771,     0.70871,     0.70971,     0.71071,     0.71171,     0.71271,     0.71371,     0.71471,     0.71572,     0.71672,     0.71772,     0.71872,     0.71972,\n",
       "           0.72072,     0.72172,     0.72272,     0.72372,     0.72472,     0.72573,     0.72673,     0.72773,     0.72873,     0.72973,     0.73073,     0.73173,     0.73273,     0.73373,     0.73473,     0.73574,     0.73674,     0.73774,     0.73874,     0.73974,     0.74074,     0.74174,     0.74274,     0.74374,\n",
       "           0.74474,     0.74575,     0.74675,     0.74775,     0.74875,     0.74975,     0.75075,     0.75175,     0.75275,     0.75375,     0.75475,     0.75576,     0.75676,     0.75776,     0.75876,     0.75976,     0.76076,     0.76176,     0.76276,     0.76376,     0.76476,     0.76577,     0.76677,     0.76777,\n",
       "           0.76877,     0.76977,     0.77077,     0.77177,     0.77277,     0.77377,     0.77477,     0.77578,     0.77678,     0.77778,     0.77878,     0.77978,     0.78078,     0.78178,     0.78278,     0.78378,     0.78478,     0.78579,     0.78679,     0.78779,     0.78879,     0.78979,     0.79079,     0.79179,\n",
       "           0.79279,     0.79379,     0.79479,      0.7958,      0.7968,      0.7978,      0.7988,      0.7998,      0.8008,      0.8018,      0.8028,      0.8038,      0.8048,     0.80581,     0.80681,     0.80781,     0.80881,     0.80981,     0.81081,     0.81181,     0.81281,     0.81381,     0.81481,     0.81582,\n",
       "           0.81682,     0.81782,     0.81882,     0.81982,     0.82082,     0.82182,     0.82282,     0.82382,     0.82482,     0.82583,     0.82683,     0.82783,     0.82883,     0.82983,     0.83083,     0.83183,     0.83283,     0.83383,     0.83483,     0.83584,     0.83684,     0.83784,     0.83884,     0.83984,\n",
       "           0.84084,     0.84184,     0.84284,     0.84384,     0.84484,     0.84585,     0.84685,     0.84785,     0.84885,     0.84985,     0.85085,     0.85185,     0.85285,     0.85385,     0.85485,     0.85586,     0.85686,     0.85786,     0.85886,     0.85986,     0.86086,     0.86186,     0.86286,     0.86386,\n",
       "           0.86486,     0.86587,     0.86687,     0.86787,     0.86887,     0.86987,     0.87087,     0.87187,     0.87287,     0.87387,     0.87487,     0.87588,     0.87688,     0.87788,     0.87888,     0.87988,     0.88088,     0.88188,     0.88288,     0.88388,     0.88488,     0.88589,     0.88689,     0.88789,\n",
       "           0.88889,     0.88989,     0.89089,     0.89189,     0.89289,     0.89389,     0.89489,      0.8959,      0.8969,      0.8979,      0.8989,      0.8999,      0.9009,      0.9019,      0.9029,      0.9039,      0.9049,     0.90591,     0.90691,     0.90791,     0.90891,     0.90991,     0.91091,     0.91191,\n",
       "           0.91291,     0.91391,     0.91491,     0.91592,     0.91692,     0.91792,     0.91892,     0.91992,     0.92092,     0.92192,     0.92292,     0.92392,     0.92492,     0.92593,     0.92693,     0.92793,     0.92893,     0.92993,     0.93093,     0.93193,     0.93293,     0.93393,     0.93493,     0.93594,\n",
       "           0.93694,     0.93794,     0.93894,     0.93994,     0.94094,     0.94194,     0.94294,     0.94394,     0.94494,     0.94595,     0.94695,     0.94795,     0.94895,     0.94995,     0.95095,     0.95195,     0.95295,     0.95395,     0.95495,     0.95596,     0.95696,     0.95796,     0.95896,     0.95996,\n",
       "           0.96096,     0.96196,     0.96296,     0.96396,     0.96496,     0.96597,     0.96697,     0.96797,     0.96897,     0.96997,     0.97097,     0.97197,     0.97297,     0.97397,     0.97497,     0.97598,     0.97698,     0.97798,     0.97898,     0.97998,     0.98098,     0.98198,     0.98298,     0.98398,\n",
       "           0.98498,     0.98599,     0.98699,     0.98799,     0.98899,     0.98999,     0.99099,     0.99199,     0.99299,     0.99399,     0.99499,       0.996,       0.997,       0.998,       0.999,           1]), array([[          0,           0,           0, ...,           0,           0,           0],\n",
       "       [          1,           1,           1, ...,           0,           0,           0],\n",
       "       [        0.9,         0.9,         0.9, ...,           0,           0,           0],\n",
       "       ...,\n",
       "       [          0,           0,           0, ...,           0,           0,           0],\n",
       "       [    0.33333,     0.33333,     0.33333, ...,           0,           0,           0],\n",
       "       [          1,           1,     0.66667, ...,           0,           0,           0]]), 'Confidence', 'Recall']]\n",
       "fitness: 0.4967508616205874\n",
       "keys: ['metrics/precision(B)', 'metrics/recall(B)', 'metrics/mAP50(B)', 'metrics/mAP50-95(B)']\n",
       "maps: array([          0,     0.52063,     0.60948,     0.46574,     0.34299,     0.19228,     0.55563,     0.66542,     0.57182,      0.8955,     0.68046,     0.60997,     0.82257,      0.6264,     0.94682,     0.48606,      0.6965,     0.58198,      0.6983,           0,           0,    0.082917,     0.18071,      0.6263,\n",
       "           0.48606,     0.70862,      0.8955,     0.48606,     0.20071,     0.54283,      0.5455,           0,     0.65513,     0.48606,     0.07944,     0.46189,     0.48606,     0.48606,     0.65949,      0.8955,           0,     0.33881,     0.62841])\n",
       "names: {0: 'class0', 1: 'class1', 2: 'class2', 3: 'class3', 4: 'class4', 5: 'class5', 6: 'class6', 7: 'class7', 8: 'class8', 9: 'class9', 10: 'class10', 11: 'class11', 12: 'class12', 13: 'class13', 14: 'class14', 15: 'class15', 16: 'class16', 17: 'class17', 18: 'class18', 19: 'class19', 20: 'class20', 21: 'class21', 22: 'class22', 23: 'class23', 24: 'class24', 25: 'class25', 26: 'class26', 27: 'class27', 28: 'class28', 29: 'class29', 30: 'class30', 31: 'class31', 32: 'class32', 33: 'class33', 34: 'class34', 35: 'class35', 36: 'class36', 37: 'class37', 38: 'class38', 39: 'class39', 40: 'class40', 41: 'class41', 42: 'class42'}\n",
       "plot: True\n",
       "results_dict: {'metrics/precision(B)': 0.6302872129884085, 'metrics/recall(B)': 0.5741093624696565, 'metrics/mAP50(B)': 0.5929562590922356, 'metrics/mAP50-95(B)': 0.4860613730126265, 'fitness': 0.4967508616205874}\n",
       "save_dir: PosixPath('runs/detect/train')\n",
       "speed: {'preprocess': 0.12292947855081643, 'inference': 3.1964821858449026, 'loss': 0.00012028324711430179, 'postprocess': 0.7364513637783291}\n",
       "task: 'detect'"
      ]
     },
     "execution_count": 10,
     "metadata": {},
     "output_type": "execute_result"
    }
   ],
   "source": [
    "import os\n",
    "from ultralytics import YOLO\n",
    "\n",
    "data_path = '/kaggle/working/dataset2/dataset.yaml'\n",
    "model_path = 'yolov8s.pt'\n",
    "\n",
    "model = YOLO(model_path)\n",
    "\n",
    "model.train(\n",
    "    data=data_path,\n",
    "    epochs=5000,\n",
    "    imgsz=640,\n",
    "    batch=64,\n",
    "    fliplr=0.0,    # Hindari flipping horizontal (mirroring)\n",
    "    flipud=0.0,    # Hindari flipping vertikal (mirroring)\n",
    "    degrees=0.0,   # Hindari rotasi\n",
    ")\n"
   ]
  }
 ],
 "metadata": {
  "kaggle": {
   "accelerator": "nvidiaTeslaT4",
   "dataSources": [
    {
     "datasetId": 82373,
     "sourceId": 191501,
     "sourceType": "datasetVersion"
    },
    {
     "datasetId": 5184504,
     "sourceId": 8654568,
     "sourceType": "datasetVersion"
    },
    {
     "datasetId": 513560,
     "sourceId": 1057373,
     "sourceType": "datasetVersion"
    },
    {
     "isSourceIdPinned": true,
     "modelInstanceId": 55104,
     "sourceId": 66071,
     "sourceType": "modelInstanceVersion"
    }
   ],
   "dockerImageVersionId": 30733,
   "isGpuEnabled": true,
   "isInternetEnabled": true,
   "language": "python",
   "sourceType": "notebook"
  },
  "kernelspec": {
   "display_name": "Python 3",
   "language": "python",
   "name": "python3"
  },
  "language_info": {
   "codemirror_mode": {
    "name": "ipython",
    "version": 3
   },
   "file_extension": ".py",
   "mimetype": "text/x-python",
   "name": "python",
   "nbconvert_exporter": "python",
   "pygments_lexer": "ipython3",
   "version": "3.10.13"
  },
  "papermill": {
   "default_parameters": {},
   "duration": 2925.431949,
   "end_time": "2024-06-16T21:42:43.370842",
   "environment_variables": {},
   "exception": null,
   "input_path": "__notebook__.ipynb",
   "output_path": "__notebook__.ipynb",
   "parameters": {},
   "start_time": "2024-06-16T20:53:57.938893",
   "version": "2.5.0"
  }
 },
 "nbformat": 4,
 "nbformat_minor": 5
}
